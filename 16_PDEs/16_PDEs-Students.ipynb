{
 "cells": [
  {
   "cell_type": "markdown",
   "metadata": {},
   "source": [
    "# 16 PDEs: Solution with Time Stepping (Students)\n",
    "\n",
    "## Heat Equation\n",
    "The **heat equation** can be derived from Fourier's law and energy conservation (see the [lecture notes on the heat equation (PDF)](https://github.com/ASU-CompMethodsPhysics-PHY494/PHY494-resources/blob/master/16_PDEs/16_PDEs_LectureNotes_HeatEquation.pdf))\n",
    "\n",
    "$$\n",
    "\\frac{\\partial T(\\mathbf{x}, t)}{\\partial t} = \\frac{K}{C\\rho} \\nabla^2 T(\\mathbf{x}, t),\n",
    "$$"
   ]
  },
  {
   "cell_type": "markdown",
   "metadata": {},
   "source": [
    "## Problem: insulated metal bar (1D heat equation)\n",
    "A metal bar of length $L$ is insulated along it lengths and held at 0ºC at its ends. Initially, the whole bar is at 100ºC. Calculate $T(x, t)$ for $t>0$."
   ]
  },
  {
   "cell_type": "markdown",
   "metadata": {},
   "source": [
    "### Analytic solution\n",
    "Solve by separation of variables and power series: The general solution that obeys the boundary conditions $T(0, t) = T(L, t) = 0$ is\n",
    "\n",
    "$$\n",
    "T(x, t) = \\sum_{n=1}^{+\\infty} A_n \\sin(k_n x)\\, \\exp\\left(-\\frac{k_n^2 K t}{C\\rho}\\right), \\quad k_n = \\frac{n\\pi}{L}\n",
    "$$"
   ]
  },
  {
   "cell_type": "markdown",
   "metadata": {},
   "source": [
    "The specific solution that satisfies $T(x, 0) = T_0 = 100^\\circ\\text{C}$ leads to $A_n = 4 T_0/n\\pi$ for $n$ odd:\n",
    "\n",
    "$$\n",
    "T(x, t) = \\sum_{n=1,3,5,\\dots}^{+\\infty} \\frac{4 T_0}{n \\pi} \\sin(k_n x)\\, \\exp\\left(-\\frac{k_n^2 K t}{C\\rho}\\right)\n",
    "$$"
   ]
  },
  {
   "cell_type": "code",
   "execution_count": null,
   "metadata": {
    "collapsed": true
   },
   "outputs": [],
   "source": [
    "import numpy as np\n",
    "import matplotlib.pyplot as plt\n",
    "%matplotlib inline\n",
    "plt.style.use('ggplot')"
   ]
  },
  {
   "cell_type": "code",
   "execution_count": null,
   "metadata": {
    "collapsed": true
   },
   "outputs": [],
   "source": [
    "def T_bar(x, t, T0, L, K=237, C=900, rho=2700, nmax=1000):\n",
    "    T = np.zeros_like(x)\n",
    "    eta = K / (C*rho)\n",
    "    for n in range(1, nmax, 2):\n",
    "        kn = n*np.pi/L\n",
    "        T += 4*T0/(np.pi * n) * np.sin(kn*x) * np.exp(-kn*kn * eta * t)\n",
    "    return T"
   ]
  },
  {
   "cell_type": "code",
   "execution_count": null,
   "metadata": {
    "collapsed": true
   },
   "outputs": [],
   "source": [
    "T0 = 100.\n",
    "L = 1.0\n",
    "X = np.linspace(0, L, 100)\n",
    "for t in np.linspace(0, 3000, 50):\n",
    "    plt.plot(X, T_bar(X, t, T0, L))\n",
    "plt.xlabel(r\"$x$ (m)\")\n",
    "plt.ylabel(r\"$T$ ($^\\circ$C)\");"
   ]
  },
  {
   "cell_type": "markdown",
   "metadata": {},
   "source": [
    "### Numerical solution: Leap frog\n",
    "Discretize (finite difference):\n",
    "\n",
    "For the time domain we only have the initial values so we use a simple forward difference for the time derivative:\n",
    "\n",
    "$$\n",
    "\\frac{\\partial T(x,t)}{\\partial t} \\approx \\frac{T(x, t+\\Delta t) - T(x, t)}{\\Delta t}\n",
    "$$"
   ]
  },
  {
   "cell_type": "markdown",
   "metadata": {},
   "source": [
    "For the spatial derivative we have initially all values so we can use the more accurate central difference approximation:\n",
    "\n",
    "$$\n",
    "\\frac{\\partial^2 T(x, t)}{\\partial x^2} \\approx \\frac{T(x+\\Delta x, t) + T(x-\\Delta x, t) - 2 T(x, t)}{\\Delta x^2}\n",
    "$$"
   ]
  },
  {
   "cell_type": "markdown",
   "metadata": {},
   "source": [
    "Thus, the heat equation can be written as the finite difference equation\n",
    "\n",
    "$$\n",
    "\\frac{T(x, t+\\Delta t) - T(x, t)}{\\Delta t} = \\frac{K}{C\\rho} \\frac{T(x+\\Delta x, t) + T(x-\\Delta x, t) - 2 T(x, t)}{\\Delta x^2}\n",
    "$$"
   ]
  },
  {
   "cell_type": "markdown",
   "metadata": {},
   "source": [
    "which can be reordered so that the RHS contains only known terms and the LHS future terms. Index $i$ is the spatial index, and $j$ the time index: $x = x_0 + i \\Delta x$, $t = t_0 + j \\Delta t$.\n",
    "\n",
    "$$\n",
    "T_{i, j+1} = (1 - 2\\eta) T_{i,j} + \\eta(T_{i+1,j} + T_{i-1, j}), \\quad \\eta := \\frac{K \\Delta t}{C \\rho \\Delta x^2}\n",
    "$$\n",
    "\n",
    "Thus we can step forward in time (\"leap frog\"), using only known values."
   ]
  },
  {
   "cell_type": "markdown",
   "metadata": {},
   "source": [
    "### Activity: Solve the 1D heat equation numerically for an iron bar\n",
    "* $K = 237$ W/mK\n",
    "* $C = 900$ J/K\n",
    "* $\\rho = 2700$ kg/m<sup>3</sup>\n",
    "* $L = 1$ m\n",
    "* $T_0 = 373$ K and $T_b = 273$ K\n",
    "* $T(x, 0) = T_0$ and $T(0, t) = T(L, t) = T_b$\n",
    "\n",
    "Implement the Leapfrog time-stepping algorithm and visualize the results."
   ]
  },
  {
   "cell_type": "code",
   "execution_count": null,
   "metadata": {
    "collapsed": true
   },
   "outputs": [],
   "source": [
    "import numpy as np\n",
    "\n",
    "import matplotlib.pyplot as plt\n",
    "from mpl_toolkits.mplot3d import Axes3D\n",
    "%matplotlib notebook"
   ]
  },
  {
   "cell_type": "code",
   "execution_count": null,
   "metadata": {
    "collapsed": false
   },
   "outputs": [],
   "source": [
    "L_rod = 1.    # m\n",
    "t_max = 3000. # s\n",
    "\n",
    "Dx = 0.02   # m\n",
    "Dt = 2    # s\n",
    "\n",
    "Nx = int(L_rod // Dx)\n",
    "Nt = int(t_max // Dt)\n",
    "\n",
    "Kappa = 237 # W/(m K)\n",
    "CHeat = 900 # J/K\n",
    "rho = 2700  # kg/m^3\n",
    "\n",
    "T0 = 373 # K\n",
    "Tb = 273 # K\n",
    "\n",
    "raise NotImplementedError\n",
    "# eta = \n",
    "\n",
    "\n",
    "step = 20  # plot solution every n steps\n",
    "\n",
    "print(\"Nx = {0}, Nt = {1}\".format(Nx, Nt))\n",
    "print(\"eta = {0}\".format(eta))\n",
    "\n",
    "T = np.zeros(Nx)\n",
    "T_new = np.zeros_like(T)\n",
    "T_plot = np.zeros((Nt//step + 1, Nx))\n",
    "\n",
    "raise NotImplementedError\n",
    "# initial conditions\n",
    "# ...\n",
    "\n",
    "# boundary conditions\n",
    "# ...\n",
    "\n",
    "t_index = 0\n",
    "T_plot[t_index, :] = T\n",
    "for jt in range(1, Nt):\n",
    "    \n",
    "    raise NotImplementedError\n",
    "    \n",
    "    if jt % step == 0 or jt == Nt-1:\n",
    "        t_index += 1\n",
    "        # save the new solution for later plotting\n",
    "        # T_plot[t_index, :] = \n",
    "        print(\"Iteration {0:5d}\".format(jt), end=\"\\r\")\n",
    "else:\n",
    "    print(\"Completed {0:5d} iterations: t={1} s\".format(jt, jt*Dt))"
   ]
  },
  {
   "cell_type": "markdown",
   "metadata": {},
   "source": [
    "#### Visualization\n",
    "Visualize (you can use the code as is). \n",
    "\n",
    "Note how we are making the plot use proper units by mutiplying with `Dt * step` and `Dx`."
   ]
  },
  {
   "cell_type": "code",
   "execution_count": null,
   "metadata": {
    "collapsed": false
   },
   "outputs": [],
   "source": [
    "X, Y = np.meshgrid(range(T_plot.shape[0]), range(T_plot.shape[1]))\n",
    "Z = T_plot[X, Y]\n",
    "fig = plt.figure()\n",
    "ax = fig.add_subplot(111, projection=\"3d\")\n",
    "ax.plot_wireframe(X*Dt*step, Y*Dx, Z)\n",
    "ax.set_xlabel(r\"time $t$ (s)\")\n",
    "ax.set_ylabel(r\"position $x$ (m)\")\n",
    "ax.set_zlabel(r\"temperature $T$ (K)\")\n",
    "fig.tight_layout()"
   ]
  },
  {
   "cell_type": "markdown",
   "metadata": {},
   "source": [
    "## Stability of the solution\n",
    "\n",
    "### Empirical investigation of the stability\n",
    "Investigate the solution for different values of `Dt` and `Dx`. Can you discern patters for stable/unstable solutions?\n",
    "\n",
    "Report `Dt`, `Dx`, and `eta`\n",
    "* for 3 stable solutions \n",
    "* for 3 unstable solutions\n"
   ]
  },
  {
   "cell_type": "markdown",
   "metadata": {},
   "source": [
    "Wrap your heat diffusion solver in a function so that it becomes easier to run it:"
   ]
  },
  {
   "cell_type": "code",
   "execution_count": null,
   "metadata": {
    "collapsed": true
   },
   "outputs": [],
   "source": [
    "def calculate_T(L_rod=1, t_max=3000, Dx=0.02, Dt=2, T0=373, Tb=273,\n",
    "               step=20):\n",
    "    Nx = int(L_rod // Dx)\n",
    "    Nt = int(t_max // Dt)\n",
    "\n",
    "    Kappa = 237 # W/(m K)\n",
    "    CHeat = 900 # J/K\n",
    "    rho = 2700  # kg/m^3\n",
    "\n",
    "    raise NotImplementedError\n",
    "    \n",
    "    return T_plot\n",
    "\n",
    "def plot_T(T_plot, Dx, Dt, step):\n",
    "    X, Y = np.meshgrid(range(T_plot.shape[0]), range(T_plot.shape[1]))\n",
    "    Z = T_plot[X, Y]\n",
    "    fig = plt.figure()\n",
    "    ax = fig.add_subplot(111, projection=\"3d\")\n",
    "    ax.plot_wireframe(X*Dt*step, Y*Dx, Z)\n",
    "    ax.set_xlabel(r\"time $t$ (s)\")\n",
    "    ax.set_ylabel(r\"position $x$ (m)\")\n",
    "    ax.set_zlabel(r\"temperature $T$ (K)\")\n",
    "    fig.tight_layout()\n",
    "    return ax"
   ]
  },
  {
   "cell_type": "code",
   "execution_count": null,
   "metadata": {
    "collapsed": false
   },
   "outputs": [],
   "source": [
    "T_plot = calculate_T(Dx=0.02, Dt=2, step=20)\n",
    "plot_T(T_plot, 0.02, 2, 20)"
   ]
  },
  {
   "cell_type": "markdown",
   "metadata": {},
   "source": [
    "For which values of $\\Delta t$ and $\\Delta x$ does the solution become unstable?"
   ]
  },
  {
   "cell_type": "markdown",
   "metadata": {},
   "source": [
    "### Von Neumann stability analysis "
   ]
  },
  {
   "cell_type": "markdown",
   "metadata": {},
   "source": [
    "If the difference equation solution diverges then we *know* that we have a bad approximation to the original PDE. "
   ]
  },
  {
   "cell_type": "markdown",
   "metadata": {},
   "source": [
    "Von Neumann stability analysis starts from the assumption that *eigenmodes* of the difference equation can be written as\n",
    "\n",
    "$$\n",
    "T_{m,j} = \\xi(k)^j e^{ikm\\Delta x}, \\quad t=j\\Delta t,\\ x=m\\Delta x \n",
    "$$\n",
    "\n",
    "with the unknown wave vectors $k=2\\pi/\\lambda$ and unknown complex functions $\\xi(k)$."
   ]
  },
  {
   "cell_type": "markdown",
   "metadata": {},
   "source": [
    "Solutions of the difference equation can be written as linear superpositions of these basis functions. But they are only stable if the eigenmodes are stable, i.e., will not grow in time (with $j$). This is the case when \n",
    "$$\n",
    "|\\xi(k)| < 1\n",
    "$$\n",
    "for all $k$."
   ]
  },
  {
   "cell_type": "markdown",
   "metadata": {},
   "source": [
    "Insert the eigenmodes into the finite difference equation\n",
    "\n",
    "$$\n",
    "T_{m, j+1} = (1 - 2\\eta) T_{m,j} + \\eta(T_{m+1,j} + T_{m-1, j})\n",
    "$$\n",
    "\n",
    "to obtain \n",
    "\n",
    "\\begin{align}\n",
    "\\xi(k)^{j+1} e^{ikm\\Delta x} &= (1 - 2\\eta) \\xi(k)^{j} e^{ikm\\Delta x} \n",
    "    + \\eta(\\xi(k)^{j} e^{ik(m+1)\\Delta x} + \\xi(k)^{j} e^{ik(m-1)\\Delta x})\\\\\n",
    "\\xi(k) &= (1 - 2\\eta) + \\eta(e^{ik\\Delta x} + e^{-ik\\Delta x})\\\\\n",
    "\\xi(k) &= 1 - 2\\eta + 2\\eta \\cos k\\Delta x\\\\\n",
    "\\xi(k) &= 1 + 2\\eta\\big(\\cos k\\Delta x - 1\\big)\n",
    "\\end{align}"
   ]
  },
  {
   "cell_type": "markdown",
   "metadata": {},
   "source": [
    "For $|\\xi(k)| < 1$ (and all possible $k$):\n",
    "\n",
    "\\begin{align}\n",
    "|\\xi(k)| < 1 \\quad &\\Leftrightarrow \\quad \\xi^2(k) < 1\\\\\n",
    "(1 + 2y)^2 = 1 + 4y + 4y^2 &< 1 \\quad \\text{with}\\ \\  y = \\eta(\\cos k\\Delta x - 1)\\\\\n",
    "y(1 + y) &< 0 \\quad \\Leftrightarrow \\quad -1 < y < 0\\\\\n",
    "\\eta(\\cos k\\Delta x - 1) &\\leq 0 \\quad \\forall k \\quad (\\eta > 0, -1 \\leq \\cos x \\leq 1)\\\\\n",
    "\\eta(\\cos k\\Delta x - 1) &> -1\\\\\n",
    "\\eta &< \\frac{1}{1 - \\cos k\\Delta x}\\\\\n",
    "\\eta &= \\frac{K \\Delta t}{C \\rho \\Delta x^2} < \\frac{1}{2}\n",
    "\\end{align}"
   ]
  },
  {
   "cell_type": "markdown",
   "metadata": {},
   "source": [
    "Thus, solutions are only stable for $\\eta < 1/2$. In particular, decreasing $\\Delta t$ will always improve stability, But decreasing $\\Delta x$ requires an quadratic *increase* in $\\Delta t$!"
   ]
  },
  {
   "cell_type": "markdown",
   "metadata": {},
   "source": [
    "Note\n",
    "* Perform von Neumann stability analysis when possible (depends on PDE and the specific discretization).\n",
    "* Test different combinations of $\\Delta t$ and $\\Delta x$.\n",
    "* Not guarantee that decreasing both will lead to more stable solutions!"
   ]
  },
  {
   "cell_type": "code",
   "execution_count": null,
   "metadata": {
    "collapsed": true
   },
   "outputs": [],
   "source": []
  }
 ],
 "metadata": {
  "anaconda-cloud": {},
  "kernelspec": {
   "display_name": "Python [default]",
   "language": "python",
   "name": "python3"
  },
  "language_info": {
   "codemirror_mode": {
    "name": "ipython",
    "version": 3
   },
   "file_extension": ".py",
   "mimetype": "text/x-python",
   "name": "python",
   "nbconvert_exporter": "python",
   "pygments_lexer": "ipython3",
   "version": "3.5.2"
  }
 },
 "nbformat": 4,
 "nbformat_minor": 0
}
