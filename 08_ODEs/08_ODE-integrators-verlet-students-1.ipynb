{
 "cells": [
  {
   "cell_type": "markdown",
   "metadata": {},
   "source": [
    "# 08 ODE integrators: Verlet (Students)"
   ]
  },
  {
   "cell_type": "code",
   "execution_count": null,
   "metadata": {
    "collapsed": true
   },
   "outputs": [],
   "source": [
    "from importlib import reload\n",
    "\n",
    "import numpy as np\n",
    "import matplotlib\n",
    "import matplotlib.pyplot as plt\n",
    "%matplotlib inline\n",
    "matplotlib.style.use('ggplot')\n",
    "\n",
    "import integrators"
   ]
  },
  {
   "cell_type": "code",
   "execution_count": null,
   "metadata": {
    "collapsed": false,
    "scrolled": true
   },
   "outputs": [],
   "source": [
    "reload(integrators)"
   ]
  },
  {
   "cell_type": "markdown",
   "metadata": {},
   "source": [
    "## Velocity Verlet"
   ]
  },
  {
   "cell_type": "markdown",
   "metadata": {},
   "source": [
    "Use expansion *forward* and *backward* (!) in time (Hamiltons (i.e. Newton without friction) equations are time symmetric)"
   ]
  },
  {
   "cell_type": "markdown",
   "metadata": {},
   "source": [
    "\\begin{align}\n",
    "r(t + \\Delta r) &\\approx r(t) + \\Delta t\\, v(t) + \\frac{1}{2m} \\Delta t^2 F(t)\\\\\n",
    "r(t) &\\approx r(t + \\Delta t) - \\Delta t\\, v(t + \\Delta t) + \\frac{1}{2m} \\Delta t^2 F(t+\\Delta t)\n",
    "\\end{align}"
   ]
  },
  {
   "cell_type": "markdown",
   "metadata": {},
   "source": [
    "Solve for $v$:\n",
    "\\begin{align}\n",
    "v(t+\\Delta t) &\\approx v(t) + \\frac{1}{2m} \\Delta t \\big(F(t) + F(t+\\Delta t)\\big)\n",
    "\\end{align}"
   ]
  },
  {
   "cell_type": "markdown",
   "metadata": {},
   "source": [
    "Complete **Velocity Verlet** integrator consists of the first and third equation."
   ]
  },
  {
   "cell_type": "markdown",
   "metadata": {},
   "source": [
    "In practice, split into three steps (calculate the velocity at the half time step):\n",
    "\\begin{align}\n",
    "v(t+\\frac{\\Delta t}{2}) &= v(t) + \\frac{\\Delta t}{2} \\frac{F(t)}{m} \\\\\n",
    "r(t + \\Delta r) &= r(t) + \\Delta t\\, v(t+\\frac{\\Delta t}{2})\\\\\n",
    "v(t+\\Delta t) &= v(t+\\frac{\\Delta t}{2}) + \\frac{\\Delta t}{2} \\frac{F(t+\\Delta t)}{m}\n",
    "\\end{align}"
   ]
  },
  {
   "cell_type": "markdown",
   "metadata": {},
   "source": [
    "When writing production-level code, remember to re-use $F(t+\\Delta t)$ als the \"new\" starting $F(t)$ in the next iteration (and don't recompute)."
   ]
  },
  {
   "cell_type": "markdown",
   "metadata": {},
   "source": [
    "### Integration of planetary motion \n",
    "\\begin{align}\n",
    "\\mathbf{F} &= -\\frac{G m M}{r^2} \\hat{\\mathbf{r}}\\\\\n",
    "\\hat{\\mathbf{r}} &= \\frac{1}{\\sqrt{x^2 + y^2}} \\left(\\begin{array}{c} x \\\\ y \\end{array}\\right)\n",
    "\\end{align}\n",
    "Set $$GM = 1$$ and try initial conditions\n",
    "$$\n",
    "x(0) = 0.5, \\quad y(0)=0, \\quad v_x(0)=0, \\quad v_y(0)=1.63\n",
    "$$"
   ]
  },
  {
   "cell_type": "code",
   "execution_count": null,
   "metadata": {
    "collapsed": true
   },
   "outputs": [],
   "source": [
    "def F_gravity(r, m=1, G=1, M=1):\n",
    "    # implement"
   ]
  },
  {
   "cell_type": "code",
   "execution_count": null,
   "metadata": {
    "collapsed": false
   },
   "outputs": [],
   "source": [
    "# 2D planetary motion with velocity verlet\n",
    "dim = 2\n",
    "\n",
    "r0 = np.array([0.5, 0])\n",
    "v0 = np.array([0, 1.63])\n",
    "mass = 1\n",
    "\n",
    "dt = 0.01\n",
    "t_max = 100\n",
    "nsteps = int(t_max/dt)\n",
    "\n",
    "# implement"
   ]
  },
  {
   "cell_type": "code",
   "execution_count": null,
   "metadata": {
    "collapsed": false
   },
   "outputs": [],
   "source": [
    "rx, ry = r.T\n",
    "plt.plot(rx, ry)"
   ]
  },
  {
   "cell_type": "markdown",
   "metadata": {},
   "source": [
    "### Velocity Verlet toy systems"
   ]
  },
  {
   "cell_type": "code",
   "execution_count": null,
   "metadata": {
    "collapsed": true
   },
   "outputs": [],
   "source": [
    "t, y = integrators.integrate_newton(0, 1, 2000, h=0.01, \n",
    "                             force=integrators.F_harmonic,\n",
    "                             integrator=integrators.velocity_verlet)"
   ]
  },
  {
   "cell_type": "code",
   "execution_count": null,
   "metadata": {
    "collapsed": false
   },
   "outputs": [],
   "source": [
    "ax = plt.subplot(1,1,1)\n",
    "ax.plot(t, y[:,0])\n",
    "ax.set_xlim(1000, 1020)"
   ]
  },
  {
   "cell_type": "code",
   "execution_count": null,
   "metadata": {
    "collapsed": false
   },
   "outputs": [],
   "source": [
    "x, v = y.T\n",
    "plt.plot(x, v)"
   ]
  },
  {
   "cell_type": "code",
   "execution_count": null,
   "metadata": {
    "collapsed": false,
    "scrolled": false
   },
   "outputs": [],
   "source": [
    "integrators.analyze_energies(t, y, integrators.U_harmonic, step=100)"
   ]
  },
  {
   "cell_type": "code",
   "execution_count": null,
   "metadata": {
    "collapsed": false
   },
   "outputs": [],
   "source": [
    "integrators.energy_conservation(t, y, integrators.U_harmonic)"
   ]
  },
  {
   "cell_type": "code",
   "execution_count": null,
   "metadata": {
    "collapsed": true
   },
   "outputs": [],
   "source": [
    "t_long, y_long = integrators.integrate_newton(0, 1, 50000, h=0.01, \n",
    "                             force=integrators.F_harmonic,\n",
    "                            integrator=integrators.velocity_verlet)"
   ]
  },
  {
   "cell_type": "code",
   "execution_count": null,
   "metadata": {
    "collapsed": false
   },
   "outputs": [],
   "source": [
    "integrators.energy_conservation(t_long, y_long, integrators.U_harmonic)"
   ]
  },
  {
   "cell_type": "code",
   "execution_count": null,
   "metadata": {
    "collapsed": false
   },
   "outputs": [],
   "source": [
    "%%timeit \n",
    "t, y = integrators.integrate_newton(0, 1, 200, h=0.01, \n",
    "                             force=integrators.F_harmonic,\n",
    "                            integrator=integrators.velocity_verlet)"
   ]
  },
  {
   "cell_type": "markdown",
   "metadata": {},
   "source": [
    "## RK4 "
   ]
  },
  {
   "cell_type": "code",
   "execution_count": null,
   "metadata": {
    "collapsed": true
   },
   "outputs": [],
   "source": [
    "t4, y4 = integrators.integrate_newton(0, 1, 2000, h=0.01, \n",
    "                             force=integrators.F_harmonic,\n",
    "                            integrator=integrators.rk4)"
   ]
  },
  {
   "cell_type": "code",
   "execution_count": null,
   "metadata": {
    "collapsed": false
   },
   "outputs": [],
   "source": [
    "integrators.analyze_energies(t4, y4, integrators.U_harmonic, step=100)"
   ]
  },
  {
   "cell_type": "code",
   "execution_count": null,
   "metadata": {
    "collapsed": false
   },
   "outputs": [],
   "source": [
    "integrators.energy_conservation(t4, y4, integrators.U_harmonic)"
   ]
  },
  {
   "cell_type": "code",
   "execution_count": null,
   "metadata": {
    "collapsed": false
   },
   "outputs": [],
   "source": [
    "%%timeit\n",
    "t4, y4 = integrators.integrate_newton(0, 1, 200, h=0.01, \n",
    "                             force=integrators.F_harmonic,\n",
    "                            integrator=integrators.rk4)"
   ]
  },
  {
   "cell_type": "code",
   "execution_count": null,
   "metadata": {
    "collapsed": true
   },
   "outputs": [],
   "source": [
    "t4_long, y4_long = integrators.integrate_newton(0, 1, 50000, h=0.01, \n",
    "                             force=integrators.F_harmonic,\n",
    "                            integrator=integrators.rk4)"
   ]
  },
  {
   "cell_type": "code",
   "execution_count": null,
   "metadata": {
    "collapsed": false
   },
   "outputs": [],
   "source": [
    "integrators.energy_conservation(t4_long, y4_long, integrators.U_harmonic)"
   ]
  },
  {
   "cell_type": "markdown",
   "metadata": {},
   "source": [
    "# Gravitational orbits\n",
    "\n",
    "\\begin{align}\n",
    "\\mathbf{F} &= -\\frac{G m M}{r^2} \\hat{\\mathbf{r}}\\\\\n",
    "\\hat{\\mathbf{r}} &= \\frac{1}{\\sqrt{x^2 + y^2}} \\left(\\begin{array}{c} x \\\\ y \\end{array}\\right)\n",
    "\\end{align}\n",
    "Set $$GM = 1$$ and try initial conditions\n",
    "$$\n",
    "x(0) = 0.5, \\quad y(0)=0, \\quad v_x(0)=0, \\quad v_y(0)=1.63\n",
    "$$"
   ]
  },
  {
   "cell_type": "code",
   "execution_count": null,
   "metadata": {
    "collapsed": true
   },
   "outputs": [],
   "source": [
    "def F_gravity(r, m=1, G=1, M=1):\n",
    "    rr = np.sum(r*r)\n",
    "    rhat = r/np.sqrt(rr)\n",
    "    return - G*m*M/rr * rhat"
   ]
  },
  {
   "cell_type": "code",
   "execution_count": null,
   "metadata": {
    "collapsed": true
   },
   "outputs": [],
   "source": [
    "r0 = np.array([0.5, 0])\n",
    "v0 = np.array([0, 1.63])"
   ]
  },
  {
   "cell_type": "code",
   "execution_count": null,
   "metadata": {
    "collapsed": false
   },
   "outputs": [],
   "source": [
    "F_gravity(r0)"
   ]
  },
  {
   "cell_type": "markdown",
   "metadata": {},
   "source": [
    "Use the new function `integrators.integrate_newton_2d()` to integrate 2d coordinates."
   ]
  },
  {
   "cell_type": "code",
   "execution_count": null,
   "metadata": {
    "collapsed": false
   },
   "outputs": [],
   "source": [
    "t, y = integrators.integrate_newton_2d(x0=r0, v0=v0, t_max=10, mass=1,\n",
    "                            force=F_gravity, \n",
    "                            integrator=integrators.rk4)"
   ]
  },
  {
   "cell_type": "code",
   "execution_count": null,
   "metadata": {
    "collapsed": false
   },
   "outputs": [],
   "source": [
    "rx, ry = y[:, 0].T"
   ]
  },
  {
   "cell_type": "code",
   "execution_count": null,
   "metadata": {
    "collapsed": false
   },
   "outputs": [],
   "source": [
    "plt.plot(rx, ry)"
   ]
  },
  {
   "cell_type": "code",
   "execution_count": null,
   "metadata": {
    "collapsed": true
   },
   "outputs": [],
   "source": [
    "te, ye = integrators.integrate_newton_2d(x0=r0, v0=v0, t_max=10, mass=1,\n",
    "                            force=F_gravity, \n",
    "                            integrator=integrators.euler)\n",
    "rex, rey = ye[:, 0].T"
   ]
  },
  {
   "cell_type": "code",
   "execution_count": null,
   "metadata": {
    "collapsed": false
   },
   "outputs": [],
   "source": [
    "ax = plt.subplot(1,1,1)\n",
    "ax.plot(rx, ry, label=\"RK4\")\n",
    "ax.plot(rex, rey, label=\"Euler\")\n",
    "ax.legend(loc=\"best\")"
   ]
  },
  {
   "cell_type": "code",
   "execution_count": null,
   "metadata": {
    "collapsed": true
   },
   "outputs": [],
   "source": []
  }
 ],
 "metadata": {
  "kernelspec": {
   "display_name": "Python 3",
   "language": "python",
   "name": "python3"
  },
  "language_info": {
   "codemirror_mode": {
    "name": "ipython",
    "version": 3
   },
   "file_extension": ".py",
   "mimetype": "text/x-python",
   "name": "python",
   "nbconvert_exporter": "python",
   "pygments_lexer": "ipython3",
   "version": "3.5.1"
  }
 },
 "nbformat": 4,
 "nbformat_minor": 0
}
