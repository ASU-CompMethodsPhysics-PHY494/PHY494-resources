{
 "cells": [
  {
   "cell_type": "markdown",
   "metadata": {},
   "source": [
    "# 14 Linear Algebra: Singular Value Decomposition (Students)"
   ]
  },
  {
   "cell_type": "markdown",
   "metadata": {},
   "source": [
    "One can always decompose a matrix $\\mathsf{A}$ \n",
    "\n",
    "\\begin{gather}\n",
    "\\mathsf{A} = \\mathsf{U}\\,\\text{diag}(w_j)\\,\\mathsf{V}^{T}\\\\\n",
    "\\mathsf{U}^T \\mathsf{U} = \\mathsf{U} \\mathsf{U}^T = 1\\\\\n",
    "\\mathsf{V}^T \\mathsf{V} = \\mathsf{V} \\mathsf{V}^T = 1\n",
    "\\end{gather}\n",
    "\n",
    "where $\\mathsf{U}$ and $\\mathsf{V}$ are orthogonal matrices and the $w_j$ are the _singular values_ that are assembled into a diagonal matrix $\\mathsf{W}$.\n",
    "\n",
    "$$\n",
    "\\mathsf{W} = \\text{diag}(w_j)\n",
    "$$"
   ]
  },
  {
   "cell_type": "markdown",
   "metadata": {},
   "source": [
    "The inverse (if it exists) can be directly calculated from the SVD:\n",
    "\n",
    "$$\n",
    "\\mathsf{A}^{-1} = \\mathsf{V} \\text{diag}(1/w_j) \\mathsf{U}^T\n",
    "$$"
   ]
  },
  {
   "cell_type": "markdown",
   "metadata": {},
   "source": [
    "## Solving ill-conditioned coupled linear equations "
   ]
  },
  {
   "cell_type": "code",
   "execution_count": null,
   "metadata": {
    "collapsed": true
   },
   "outputs": [],
   "source": [
    "import numpy as np"
   ]
  },
  {
   "cell_type": "markdown",
   "metadata": {},
   "source": [
    "### Non-singular matrix \n",
    "Solve the linear system of equations\n",
    "\n",
    "$$\n",
    "\\mathsf{A}\\mathbf{x} = \\mathbf{b}\n",
    "$$"
   ]
  },
  {
   "cell_type": "markdown",
   "metadata": {},
   "source": [
    "Using the standard linear solver in numpy:"
   ]
  },
  {
   "cell_type": "code",
   "execution_count": null,
   "metadata": {
    "collapsed": true
   },
   "outputs": [],
   "source": [
    "A = np.array([\n",
    "        [1, 2, 3],\n",
    "        [3, 2, 1],\n",
    "        [-1, -2, -6],\n",
    "    ])\n",
    "b = np.array([0, 1, -1])"
   ]
  },
  {
   "cell_type": "code",
   "execution_count": null,
   "metadata": {
    "collapsed": false
   },
   "outputs": [],
   "source": []
  },
  {
   "cell_type": "markdown",
   "metadata": {},
   "source": [
    "Using the inverse from SVD:\n",
    "\n",
    "$$\n",
    "\\mathbf{x} = \\mathsf{A}^{-1} \\mathbf{b}\n",
    "$$"
   ]
  },
  {
   "cell_type": "code",
   "execution_count": null,
   "metadata": {
    "collapsed": false
   },
   "outputs": [],
   "source": []
  },
  {
   "cell_type": "markdown",
   "metadata": {},
   "source": [
    "First check that the SVD really factors $\\mathsf{A} = \\mathsf{U}\\,\\text{diag}(w_j)\\,\\mathsf{V}^{T}$:"
   ]
  },
  {
   "cell_type": "code",
   "execution_count": null,
   "metadata": {
    "collapsed": false
   },
   "outputs": [],
   "source": []
  },
  {
   "cell_type": "markdown",
   "metadata": {},
   "source": [
    "Now calculate the matrix inverse $\\mathsf{A}^{-1} = \\mathsf{V} \\text{diag}(1/w_j) \\mathsf{U}^T$:"
   ]
  },
  {
   "cell_type": "code",
   "execution_count": null,
   "metadata": {
    "collapsed": false
   },
   "outputs": [],
   "source": []
  },
  {
   "cell_type": "markdown",
   "metadata": {},
   "source": [
    "Check that this is the same that we get from `numpy.linalg.inv()`:"
   ]
  },
  {
   "cell_type": "code",
   "execution_count": null,
   "metadata": {
    "collapsed": false
   },
   "outputs": [],
   "source": []
  },
  {
   "cell_type": "markdown",
   "metadata": {},
   "source": [
    "Now, *finally* solve (and check against `numpy.linalg.solve()`):"
   ]
  },
  {
   "cell_type": "code",
   "execution_count": null,
   "metadata": {
    "collapsed": false
   },
   "outputs": [],
   "source": []
  },
  {
   "cell_type": "markdown",
   "metadata": {},
   "source": [
    "### Singular matrix"
   ]
  },
  {
   "cell_type": "markdown",
   "metadata": {},
   "source": [
    "If the matrix $\\mathsf{A}$ is *singular* (i.e., its rank (linearly independent rows or columns) is less than its dimension and hence the linear system of equation does not have a unique solution):"
   ]
  },
  {
   "cell_type": "markdown",
   "metadata": {},
   "source": [
    "For example, the following matrix has the same row twice:"
   ]
  },
  {
   "cell_type": "code",
   "execution_count": null,
   "metadata": {
    "collapsed": false
   },
   "outputs": [],
   "source": [
    "C = np.array([\n",
    "     [ 0.87119148,  0.9330127,  -0.9330127],\n",
    "     [ 1.1160254,   0.04736717, -0.04736717],\n",
    "     [ 1.1160254,   0.04736717, -0.04736717],\n",
    "    ])\n",
    "b1 = np.array([ 2.3674474,  -0.24813392, -0.24813392])\n",
    "b2 = np.array([0, 1, 1])"
   ]
  },
  {
   "cell_type": "markdown",
   "metadata": {},
   "source": [
    "NOTE: failure is not always that obvious: numerically, a matrix can be *almost* singular"
   ]
  },
  {
   "cell_type": "code",
   "execution_count": null,
   "metadata": {
    "collapsed": false
   },
   "outputs": [],
   "source": [
    "D = C.copy()\n",
    "D[2, :] = C[0] - 3*C[1]\n",
    "D"
   ]
  },
  {
   "cell_type": "markdown",
   "metadata": {},
   "source": [
    "Note that some of the values are huge, and suspiciously like the inverse of machine precision? Sign of a nearly singular matrix."
   ]
  },
  {
   "cell_type": "markdown",
   "metadata": {},
   "source": [
    "Now back to the example with $\\mathsf{C}$:"
   ]
  },
  {
   "cell_type": "markdown",
   "metadata": {},
   "source": [
    "#### SVD for singular matrices\n",
    "If a matrix is *singular* or *near singular* then one can *still* apply SVD. \n",
    "\n",
    "One can then compute the *pseudo inverse*\n",
    "\n",
    "\\begin{align}\n",
    "\\mathsf{A}^{-1} &= \\mathsf{V} \\text{diag}(\\alpha_j) \\mathsf{U}^T \\\\\n",
    "\\alpha_j &= \\begin{cases}\n",
    " \\frac{1}{w_j}, &\\quad\\text{if}\\ w_j \\neq 0\\\\\n",
    " 0, &\\quad\\text{if}\\ w_j = 0\n",
    " \\end{cases}\n",
    "\\end{align}\n",
    "\n",
    "i.e., any singular $w_j = 0$ is being \"augmented\" by setting\n",
    "\n",
    "$$\n",
    "\\frac{1}{w_j} \\rightarrow 0 \\quad\\text{if}\\quad w_j = 0\n",
    "$$\n",
    "\n",
    "in $\\text{diag}(1/w_j)$."
   ]
  },
  {
   "cell_type": "markdown",
   "metadata": {},
   "source": [
    "Perform the SVD for the singular matrix $\\mathsf{C}$:"
   ]
  },
  {
   "cell_type": "code",
   "execution_count": null,
   "metadata": {
    "collapsed": false
   },
   "outputs": [],
   "source": []
  },
  {
   "cell_type": "markdown",
   "metadata": {},
   "source": [
    "Note the third value $w_2 \\approx 0$: sign of a singular matrix."
   ]
  },
  {
   "cell_type": "markdown",
   "metadata": {},
   "source": [
    "Test that the SVD really decomposes $\\mathsf{A} = \\mathsf{U}\\,\\text{diag}(w_j)\\,\\mathsf{V}^{T}$:"
   ]
  },
  {
   "cell_type": "code",
   "execution_count": null,
   "metadata": {
    "collapsed": false
   },
   "outputs": [],
   "source": []
  },
  {
   "cell_type": "markdown",
   "metadata": {},
   "source": [
    "There are the **singular values**:"
   ]
  },
  {
   "cell_type": "code",
   "execution_count": null,
   "metadata": {
    "collapsed": false
   },
   "outputs": [],
   "source": []
  },
  {
   "cell_type": "markdown",
   "metadata": {},
   "source": [
    "#### Pseudo-inverse\n",
    "\n",
    "Calculate the **pseudo-inverse** from the SVD\n",
    "\n",
    "\\begin{align}\n",
    "\\mathsf{A}^{-1} &= \\mathsf{V} \\text{diag}(\\alpha_j) \\mathsf{U}^T \\\\\n",
    "\\alpha_j &= \\begin{cases}\n",
    " \\frac{1}{w_j}, &\\quad\\text{if}\\ w_j \\neq 0\\\\\n",
    " 0, &\\quad\\text{if}\\ w_j = 0\n",
    " \\end{cases}\n",
    "\\end{align}\n"
   ]
  },
  {
   "cell_type": "markdown",
   "metadata": {},
   "source": [
    "Augment:"
   ]
  },
  {
   "cell_type": "code",
   "execution_count": null,
   "metadata": {
    "collapsed": false
   },
   "outputs": [],
   "source": []
  },
  {
   "cell_type": "markdown",
   "metadata": {},
   "source": [
    "Now solve the linear problem with SVD:"
   ]
  },
  {
   "cell_type": "code",
   "execution_count": null,
   "metadata": {
    "collapsed": false
   },
   "outputs": [],
   "source": []
  },
  {
   "cell_type": "markdown",
   "metadata": {},
   "source": [
    "Thus, using the pseudo-inverse $\\mathsf{C}^{-1}$ we can obtain solutions to the equation\n",
    "\n",
    "$$\n",
    "\\mathsf{C} \\mathbf{x}_1 = \\mathbf{b}_1\n",
    "$$"
   ]
  },
  {
   "cell_type": "markdown",
   "metadata": {},
   "source": [
    "However, $\\mathbf{x}_1$ is not the only solution: there's a whole line of solutions that are formed the special solution and a combination of the basis vectors in the *null space* of the matrix:"
   ]
  },
  {
   "cell_type": "markdown",
   "metadata": {},
   "source": [
    "The (right) *kernel* or *null space* contains all vectors $\\mathbf{x^0}$ for which\n",
    "\n",
    "$$\n",
    "\\mathsf{C} \\mathbf{x^0} = 0\n",
    "$$\n",
    "\n",
    "(The dimension of the null space corresponds to the number of singular values.) You can find a basis that spans the null space. Any linear combination of null space basis vectors will also end up in the null space when $\\mathbf{A}$ is applied to it.\n"
   ]
  },
  {
   "cell_type": "markdown",
   "metadata": {},
   "source": [
    "Specifically, if $\\mathbf{x}_1$ is a special solution and $\\lambda_1 \\mathbf{x}^0_1 + \\lambda_2 \\mathbf{x}^0_2 + \\dots$ is a vector in the null space then\n",
    "\n",
    "$$\n",
    "\\mathbf{x} = \\mathbf{x}_1 + ( \\lambda_1 \\mathbf{x}^0_1 + \\lambda_2 \\mathbf{x}^0_2 + \\dots )\n",
    "$$\n",
    "\n",
    "is **also a solution** because\n",
    "\n",
    "$$\n",
    "\\mathsf{C} \\mathbf{x} = \\mathsf{C} \\mathbf{x^0} + \\mathsf{C} ( \\lambda_1 \\mathbf{x}^0_1 + \\lambda_2 \\mathbf{x}^0_2 + \\dots ) = \\mathsf{C} \\mathbf{x^0} + 0 = \\mathbf{b}_1 + 0 = \\mathbf{b}_1\n",
    "$$\n",
    "\n",
    "The $\\lambda_i$ are arbitrary real numbers and hence there is an infinite number of solutions."
   ]
  },
  {
   "cell_type": "markdown",
   "metadata": {},
   "source": [
    "In SVD:"
   ]
  },
  {
   "cell_type": "markdown",
   "metadata": {},
   "source": [
    "* The columns $U_{\\cdot, i}$ of $\\mathsf{U}$ (i.e. `U.T[i]` or `U[:, i]`) corresponding to non-zero $w_i$, i.e. $\\{i : w_i \\neq 0\\}$, form the basis for the _range_ of the matrix $\\mathsf{A}$.\n",
    "* The columns $V_{\\cdot, i}$ of $\\mathsf{V}$ (i.e. `V.T[i]` or `V[:, i]`) corresponding to zero $w_i$, i.e. $\\{i : w_i = 0\\}$, form the basis for the _null space_ of the matrix $\\mathsf{A}$.\n",
    "\n",
    "Note that `x1` can be written as a linear combination of `U.T[0]` and `U.T[1]`:"
   ]
  },
  {
   "cell_type": "code",
   "execution_count": null,
   "metadata": {
    "collapsed": false
   },
   "outputs": [],
   "source": []
  },
  {
   "cell_type": "markdown",
   "metadata": {},
   "source": [
    "Thus, **all** solutions are\n",
    "```\n",
    "x1 + lambda * VT[2]\n",
    "```\n"
   ]
  },
  {
   "cell_type": "markdown",
   "metadata": {},
   "source": [
    "The solution vector $x_2$ is in the null space: "
   ]
  },
  {
   "cell_type": "code",
   "execution_count": null,
   "metadata": {
    "collapsed": false
   },
   "outputs": [],
   "source": []
  },
  {
   "cell_type": "markdown",
   "metadata": {},
   "source": [
    "## SVD for fewer equations than unknowns\n",
    "$M$ equations for $N$ unknowns with $M < N$:\n",
    "\n",
    "* no unique solutions (underdetermined)\n",
    "* $N-M$ dimensional family of solutions\n",
    "* SVD: at least $N-M$ zero or negligible $w_j$: columns of $\\mathsf{V}$ corresponding to singular $w_j$ span the solution space when added to a particular solution."
   ]
  },
  {
   "cell_type": "markdown",
   "metadata": {},
   "source": [
    "Same as the above **Solving ill-conditioned coupled linear equations**."
   ]
  },
  {
   "cell_type": "markdown",
   "metadata": {},
   "source": [
    "## SVD for more equations than unknowns\n",
    "$M$ equations for $N$ unknowns with $M > N$:\n",
    "\n",
    "* no exact solutions in general (overdetermined)\n",
    "* but: SVD can provide best solution in the least-square sense\n",
    "  $$\n",
    "  \\mathbf{x} = \\mathsf{V}\\, \\text{diag}(1/w_j)\\, \\mathsf{U}^{T}\\, \\mathbf{b}\n",
    "  $$\n",
    "  where \n",
    "\n",
    "  * $\\mathbf{x}$ is a $N$-dimensional vector of the unknowns,\n",
    "  * $\\mathsf{V}$ is a $N \\times M$ matrix\n",
    "  * the $w_j$ form a square $M \\times M$ matrix,\n",
    "  * $\\mathsf{U}$ is a $N \\times M$ matrix (and $\\mathsf{U}^T$ is a $M \\times N$ matrix), and\n",
    "  * $\\mathbf{b}$ is the $M$-dimensional vector of the given values\n",
    "  \n",
    "It provides the $\\mathbf{x}$ that minimizes the residual\n",
    "\n",
    "$$\n",
    "\\mathbf{r} := |\\mathsf{A}\\mathbf{x} - \\mathbf{b}|.\n",
    "$$\n"
   ]
  },
  {
   "cell_type": "markdown",
   "metadata": {},
   "source": [
    "### Linear least-squares fitting "
   ]
  },
  {
   "cell_type": "markdown",
   "metadata": {},
   "source": [
    "This is the *liner least-squares fitting problem*: Given data points $(x_i, y_i)$, fit to a linear model $y(x)$, which can be any linear combination of functions of $x$.\n",
    "\n",
    "For example: \n",
    "$$\n",
    "y(x) = a_1 + a_2 x + a_3 x^2 + \\dots + a_M x^{M-1}\n",
    "$$\n",
    "or in general\n",
    "$$\n",
    "y(x) = \\sum_{k=1}^M a_k X_k(x)\n",
    "$$\n",
    "\n",
    "The goal is to determine the coefficients $a_k$."
   ]
  },
  {
   "cell_type": "markdown",
   "metadata": {},
   "source": [
    "Define the **merit function**\n",
    "$$\n",
    "\\chi^2 = \\sum_{i=1}^N \\left[ \\frac{y_i - \\sum_{k=1}^M a_k X_k(x_i)}{\\sigma_i}\\right]^2\n",
    "$$\n",
    "(sum of squared deviations, weighted with standard deviations $\\sigma_i$ on the $y_i$)."
   ]
  },
  {
   "cell_type": "markdown",
   "metadata": {},
   "source": [
    "Best parameters $a_k$ are the ones that *minimize $\\chi^2$*."
   ]
  },
  {
   "cell_type": "markdown",
   "metadata": {},
   "source": [
    "*Design matrix* $\\mathsf{A}$ ($N \\times M$, $N \\geq M$), vector of measurements $\\mathbf{b}$ ($N$-dim) and parameter vector $\\mathbf{a}$ ($M$-dim):\n",
    "\n",
    "\\begin{align}\n",
    "A_{ij} &= \\frac{X_j(x_i)}{\\sigma_i}\\\\\n",
    "b_i &= \\frac{y_i}{\\sigma_i}\\\\\n",
    "\\mathbf{a} &= (a_1, a_2, \\dots, a_M)\n",
    "\\end{align}\n"
   ]
  },
  {
   "cell_type": "markdown",
   "metadata": {},
   "source": [
    "Minimum occurs when the derivative vanishes:\n",
    "$$\n",
    "0 = \\frac{\\partial\\chi^2}{\\partial a_k} = \\sum_{i=1}^N {\\sigma_i}^{-2} \\left[ y_i - \\sum_{k=1}^M a_k X_k(x_i) \\right] X_k(x_i), \\quad 1 \\leq k \\leq M\n",
    "$$\n",
    "($M$ coupled equations)\n",
    "\\begin{align}\n",
    "\\sum_{j=1}^{M} \\alpha_{kj} a_j &= \\beta_k\\\\\n",
    "\\mathsf{\\alpha}\\mathbf{a} = \\mathsf{\\beta}\n",
    "\\end{align}\n",
    "with the $M \\times M$ matrix\n",
    "\\begin{align}\n",
    "\\alpha_{kj} &= \\sum_{i=1}^N \\frac{X_j(x_i) X_k(x_i)}{\\sigma_i^2}\\\\\n",
    "\\mathsf{\\alpha} &= \\mathsf{A}^T \\mathsf{A}\n",
    "\\end{align}\n",
    "and the vector of length $M$\n",
    "\\begin{align}\n",
    "\\beta_{k} &= \\sum_{i=1}^N \\frac{y_i X_k(x_i)}{\\sigma_i^2}\\\\\n",
    "\\mathsf{\\beta} &= \\mathsf{A}^T \\mathbf{b}\n",
    "\\end{align}\n",
    "\n",
    "The inverse of $\\mathsf{\\alpha}$ is related to the uncertainties in the parameters:\n",
    "$$\n",
    "\\mathsf{C} := \\mathsf{\\alpha}^{-1}\n",
    "$$\n",
    "in particular\n",
    "$$\n",
    "\\sigma(a_i) = C_{ii}\n",
    "$$\n",
    "(and the $C_{ij}$ are the co-variances)."
   ]
  },
  {
   "cell_type": "markdown",
   "metadata": {},
   "source": [
    "#### Solution of the linear least-squares fitting problem with SVD\n",
    "We need to solve the overdetermined system of $M$ coupled equations\n",
    "\\begin{align}\n",
    "\\sum_{j=1}^{M} \\alpha_{kj} a_j &= \\beta_k\\\\\n",
    "\\mathsf{\\alpha}\\mathbf{a} = \\mathsf{\\beta}\n",
    "\\end{align}\n",
    "\n",
    "SVD finds $\\mathbf{a}$ that minimizes\n",
    "$$\n",
    "\\chi^2 = |\\mathsf{A}\\mathbf{a} - \\mathbf{b}|\n",
    "$$"
   ]
  },
  {
   "cell_type": "markdown",
   "metadata": {},
   "source": [
    "The errors are\n",
    "$$\n",
    "\\sigma^2(a_j) = \\sum_{i=1}^{M} \\left(\\frac{V_{ji}}{w_i}\\right)^2\n",
    "$$"
   ]
  },
  {
   "cell_type": "markdown",
   "metadata": {},
   "source": [
    "#### Example\n",
    "Synthetic data \n",
    "\n",
    "$$\n",
    "y(x) = 3\\sin x - 2\\sin 3x + \\sin 4x\n",
    "$$\n",
    "\n",
    "with noise $r$ added (uniform in range $-5 < r < 5$)."
   ]
  },
  {
   "cell_type": "code",
   "execution_count": null,
   "metadata": {
    "collapsed": true
   },
   "outputs": [],
   "source": [
    "import matplotlib\n",
    "import matplotlib.pyplot as plt\n",
    "%matplotlib inline\n",
    "matplotlib.style.use('ggplot')\n",
    "\n",
    "import numpy as np"
   ]
  },
  {
   "cell_type": "code",
   "execution_count": null,
   "metadata": {
    "collapsed": true
   },
   "outputs": [],
   "source": [
    "def signal(x, noise=0):\n",
    "    r = np.random.uniform(-noise, noise, len(x))\n",
    "    return 3*np.sin(x) - 2*np.sin(3*x) + np.sin(4*x) + r"
   ]
  },
  {
   "cell_type": "code",
   "execution_count": null,
   "metadata": {
    "collapsed": false
   },
   "outputs": [],
   "source": [
    "X = np.linspace(-10, 10, 500)\n",
    "Y = signal(X, noise=5)"
   ]
  },
  {
   "cell_type": "code",
   "execution_count": null,
   "metadata": {
    "collapsed": false
   },
   "outputs": [],
   "source": [
    "plt.plot(X, Y, 'r-', X, signal(X, noise=0), 'k--')"
   ]
  },
  {
   "cell_type": "code",
   "execution_count": null,
   "metadata": {
    "collapsed": true
   },
   "outputs": [],
   "source": [
    "def fitfunc(x, a):\n",
    "    return a[0]*np.cos(x) + a[1]*np.sin(x) + \\\n",
    "           a[2]*np.cos(2*x) + a[3]*np.sin(2*x) + \\\n",
    "           a[4]*np.cos(3*x) + a[5]*np.sin(3*x) + \\\n",
    "           a[6]*np.cos(4*x) + a[7]*np.sin(4*x)\n",
    "\n",
    "def basisfuncs(x):\n",
    "    return np.array([np.cos(x), np.sin(x), \n",
    "                     np.cos(2*x), np.sin(2*x), \n",
    "                     np.cos(3*x), np.sin(3*x), \n",
    "                     np.cos(4*x), np.sin(4*x)])"
   ]
  },
  {
   "cell_type": "code",
   "execution_count": null,
   "metadata": {
    "collapsed": true
   },
   "outputs": [],
   "source": [
    "M = 8\n",
    "sigma = 1.\n",
    "alpha = np.zeros((M, M))\n",
    "beta = np.zeros(M)\n",
    "for x in X:\n",
    "    Xk = basisfuncs(x)\n",
    "    for k in range(M):\n",
    "        for j in range(M):\n",
    "            alpha[k, j] += Xk[k]*Xk[j]\n",
    "for x, y in zip(X, Y):\n",
    "    beta += y * basisfuncs(x)/sigma"
   ]
  },
  {
   "cell_type": "markdown",
   "metadata": {},
   "source": [
    "Now use SVD!"
   ]
  },
  {
   "cell_type": "code",
   "execution_count": null,
   "metadata": {
    "collapsed": true
   },
   "outputs": [],
   "source": []
  },
  {
   "cell_type": "markdown",
   "metadata": {},
   "source": [
    "In this case, the singular values do not immediately show if any basis functions are superfluous (this would be the case for values close to 0)."
   ]
  },
  {
   "cell_type": "code",
   "execution_count": null,
   "metadata": {
    "collapsed": false
   },
   "outputs": [],
   "source": [
    "w"
   ]
  },
  {
   "cell_type": "markdown",
   "metadata": {},
   "source": [
    "... nevertheless, remember to routinely mask any singular values or close to singular values:"
   ]
  },
  {
   "cell_type": "code",
   "execution_count": null,
   "metadata": {
    "collapsed": false
   },
   "outputs": [],
   "source": []
  },
  {
   "cell_type": "markdown",
   "metadata": {},
   "source": [
    "Compare the fitted values to the original parameters $a_j = 0, +3, 0, 0, 0, -2, 0, +1$."
   ]
  },
  {
   "cell_type": "code",
   "execution_count": null,
   "metadata": {
    "collapsed": false
   },
   "outputs": [],
   "source": []
  },
  {
   "cell_type": "code",
   "execution_count": null,
   "metadata": {
    "collapsed": false
   },
   "outputs": [],
   "source": [
    "plt.plot(X, fitfunc(X, a_values), 'b-', label=\"fit\")\n",
    "plt.plot(X, signal(X, noise=0), 'k--', label=\"signal\")\n",
    "plt.legend(loc=\"best\", fontsize=\"small\")"
   ]
  },
  {
   "cell_type": "code",
   "execution_count": null,
   "metadata": {
    "collapsed": true
   },
   "outputs": [],
   "source": []
  }
 ],
 "metadata": {
  "anaconda-cloud": {},
  "kernelspec": {
   "display_name": "Python [default]",
   "language": "python",
   "name": "python3"
  },
  "language_info": {
   "codemirror_mode": {
    "name": "ipython",
    "version": 3
   },
   "file_extension": ".py",
   "mimetype": "text/x-python",
   "name": "python",
   "nbconvert_exporter": "python",
   "pygments_lexer": "ipython3",
   "version": "3.5.2"
  }
 },
 "nbformat": 4,
 "nbformat_minor": 0
}
