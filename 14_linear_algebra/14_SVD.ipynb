{
 "cells": [
  {
   "cell_type": "markdown",
   "metadata": {},
   "source": [
    "# 14 Linear Algebra: Singular Value Decomposition"
   ]
  },
  {
   "cell_type": "markdown",
   "metadata": {},
   "source": [
    "One can always decompose a matrix $\\mathsf{A}$ \n",
    "\n",
    "\\begin{gather}\n",
    "\\mathsf{A} = \\mathsf{U}\\,\\text{diag}(w_j)\\,\\mathsf{V}^{T}\\\\\n",
    "\\mathsf{U}^T \\mathsf{U} = \\mathsf{U} \\mathsf{U}^T = 1\\\\\n",
    "\\mathsf{V}^T \\mathsf{V} = \\mathsf{V} \\mathsf{V}^T = 1\n",
    "\\end{gather}\n",
    "\n",
    "where $\\mathsf{U}$ and $\\mathsf{V}$ are orthogonal matrices and the $w_j$ are the _singular values_ that are assembled into a diagonal matrix $\\mathsf{W}$.\n",
    "\n",
    "$$\n",
    "\\mathsf{W} = \\text{diag}(w_j)\n",
    "$$"
   ]
  },
  {
   "cell_type": "markdown",
   "metadata": {},
   "source": [
    "The inverse (if it exists) can be directly calculated from the SVD:\n",
    "\n",
    "$$\n",
    "\\mathsf{A}^{-1} = \\mathsf{V} \\text{diag}(1/w_j) \\mathsf{U}^T\n",
    "$$"
   ]
  },
  {
   "cell_type": "markdown",
   "metadata": {},
   "source": [
    "## Solving ill-conditioned coupled linear equations "
   ]
  },
  {
   "cell_type": "code",
   "execution_count": 1,
   "metadata": {},
   "outputs": [],
   "source": [
    "import numpy as np"
   ]
  },
  {
   "cell_type": "markdown",
   "metadata": {},
   "source": [
    "### Non-singular matrix \n",
    "Solve the linear system of equations\n",
    "\n",
    "$$\n",
    "\\mathsf{A}\\mathbf{x} = \\mathbf{b}\n",
    "$$"
   ]
  },
  {
   "cell_type": "markdown",
   "metadata": {},
   "source": [
    "Using the standard linear solver in numpy:"
   ]
  },
  {
   "cell_type": "code",
   "execution_count": 2,
   "metadata": {},
   "outputs": [],
   "source": [
    "A = np.array([\n",
    "        [1, 2, 3],\n",
    "        [3, 2, 1],\n",
    "        [-1, -2, -6],\n",
    "    ])\n",
    "b = np.array([0, 1, -1])"
   ]
  },
  {
   "cell_type": "code",
   "execution_count": 3,
   "metadata": {},
   "outputs": [
    {
     "data": {
      "text/plain": [
       "array([ 0.83333333, -0.91666667,  0.33333333])"
      ]
     },
     "execution_count": 3,
     "metadata": {},
     "output_type": "execute_result"
    }
   ],
   "source": [
    "np.linalg.solve(A, b)"
   ]
  },
  {
   "cell_type": "markdown",
   "metadata": {},
   "source": [
    "Using the inverse from SVD:\n",
    "\n",
    "$$\n",
    "\\mathbf{x} = \\mathsf{A}^{-1} \\mathbf{b}\n",
    "$$"
   ]
  },
  {
   "cell_type": "code",
   "execution_count": 4,
   "metadata": {},
   "outputs": [
    {
     "name": "stdout",
     "output_type": "stream",
     "text": [
      "[7.74140616 2.96605874 0.52261473]\n"
     ]
    }
   ],
   "source": [
    "U, w, VT = np.linalg.svd(A)\n",
    "print(w)"
   ]
  },
  {
   "cell_type": "markdown",
   "metadata": {},
   "source": [
    "First check that the SVD really factors $\\mathsf{A} = \\mathsf{U}\\,\\text{diag}(w_j)\\,\\mathsf{V}^{T}$:"
   ]
  },
  {
   "cell_type": "code",
   "execution_count": 5,
   "metadata": {},
   "outputs": [
    {
     "data": {
      "text/plain": [
       "array([[ 1.,  2.,  3.],\n",
       "       [ 3.,  2.,  1.],\n",
       "       [-1., -2., -6.]])"
      ]
     },
     "execution_count": 5,
     "metadata": {},
     "output_type": "execute_result"
    }
   ],
   "source": [
    "U.dot(np.diag(w).dot(VT))"
   ]
  },
  {
   "cell_type": "code",
   "execution_count": 6,
   "metadata": {},
   "outputs": [
    {
     "data": {
      "text/plain": [
       "True"
      ]
     },
     "execution_count": 6,
     "metadata": {},
     "output_type": "execute_result"
    }
   ],
   "source": [
    "np.allclose(A, U.dot(np.diag(w).dot(VT)))"
   ]
  },
  {
   "cell_type": "markdown",
   "metadata": {},
   "source": [
    "Now calculate the matrix inverse $\\mathsf{A}^{-1} = \\mathsf{V} \\text{diag}(1/w_j) \\mathsf{U}^T$:"
   ]
  },
  {
   "cell_type": "code",
   "execution_count": 7,
   "metadata": {},
   "outputs": [
    {
     "name": "stdout",
     "output_type": "stream",
     "text": [
      "[0.1291755  0.33714774 1.91345545]\n"
     ]
    }
   ],
   "source": [
    "inv_w = 1/w\n",
    "print(inv_w)"
   ]
  },
  {
   "cell_type": "code",
   "execution_count": 8,
   "metadata": {
    "scrolled": true
   },
   "outputs": [
    {
     "name": "stdout",
     "output_type": "stream",
     "text": [
      "[[-8.33333333e-01  5.00000000e-01 -3.33333333e-01]\n",
      " [ 1.41666667e+00 -2.50000000e-01  6.66666667e-01]\n",
      " [-3.33333333e-01 -1.08335035e-16 -3.33333333e-01]]\n"
     ]
    }
   ],
   "source": [
    "A_inv = VT.T.dot(np.diag(inv_w)).dot(U.T)\n",
    "print(A_inv)"
   ]
  },
  {
   "cell_type": "markdown",
   "metadata": {},
   "source": [
    "Check that this is the same that we get from `numpy.linalg.inv()`:"
   ]
  },
  {
   "cell_type": "code",
   "execution_count": 9,
   "metadata": {},
   "outputs": [
    {
     "data": {
      "text/plain": [
       "True"
      ]
     },
     "execution_count": 9,
     "metadata": {},
     "output_type": "execute_result"
    }
   ],
   "source": [
    "np.allclose(A_inv, np.linalg.inv(A))"
   ]
  },
  {
   "cell_type": "markdown",
   "metadata": {},
   "source": [
    "Now, *finally* solve (and check against `numpy.linalg.solve()`):"
   ]
  },
  {
   "cell_type": "code",
   "execution_count": 10,
   "metadata": {},
   "outputs": [
    {
     "name": "stdout",
     "output_type": "stream",
     "text": [
      "[ 0.83333333 -0.91666667  0.33333333]\n"
     ]
    },
    {
     "data": {
      "text/plain": [
       "True"
      ]
     },
     "execution_count": 10,
     "metadata": {},
     "output_type": "execute_result"
    }
   ],
   "source": [
    "x = A_inv.dot(b)\n",
    "print(x)\n",
    "np.allclose(x, np.linalg.solve(A, b))"
   ]
  },
  {
   "cell_type": "code",
   "execution_count": 11,
   "metadata": {},
   "outputs": [
    {
     "data": {
      "text/plain": [
       "array([-7.77156117e-16,  1.00000000e+00, -1.00000000e+00])"
      ]
     },
     "execution_count": 11,
     "metadata": {},
     "output_type": "execute_result"
    }
   ],
   "source": [
    "A.dot(x)"
   ]
  },
  {
   "cell_type": "code",
   "execution_count": 12,
   "metadata": {},
   "outputs": [
    {
     "data": {
      "text/plain": [
       "True"
      ]
     },
     "execution_count": 12,
     "metadata": {},
     "output_type": "execute_result"
    }
   ],
   "source": [
    "np.allclose(A.dot(x), b)"
   ]
  },
  {
   "cell_type": "markdown",
   "metadata": {},
   "source": [
    "### Singular matrix"
   ]
  },
  {
   "cell_type": "markdown",
   "metadata": {},
   "source": [
    "If the matrix $\\mathsf{A}$ is *singular* (i.e., its rank (linearly independent rows or columns) is less than its dimension and hence the linear system of equation does not have a unique solution):"
   ]
  },
  {
   "cell_type": "markdown",
   "metadata": {},
   "source": [
    "For example, the following matrix has the same row twice:"
   ]
  },
  {
   "cell_type": "code",
   "execution_count": 13,
   "metadata": {},
   "outputs": [],
   "source": [
    "C = np.array([\n",
    "     [ 0.87119148,  0.9330127,  -0.9330127],\n",
    "     [ 1.1160254,   0.04736717, -0.04736717],\n",
    "     [ 1.1160254,   0.04736717, -0.04736717],\n",
    "    ])\n",
    "b1 = np.array([ 2.3674474,  -0.24813392, -0.24813392])\n",
    "b2 = np.array([0, 1, 1])"
   ]
  },
  {
   "cell_type": "code",
   "execution_count": 14,
   "metadata": {},
   "outputs": [
    {
     "ename": "LinAlgError",
     "evalue": "Singular matrix",
     "output_type": "error",
     "traceback": [
      "\u001b[0;31m---------------------------------------------------------------------------\u001b[0m",
      "\u001b[0;31mLinAlgError\u001b[0m                               Traceback (most recent call last)",
      "\u001b[0;32m<ipython-input-14-8be5ef6ba3bc>\u001b[0m in \u001b[0;36m<module>\u001b[0;34m\u001b[0m\n\u001b[0;32m----> 1\u001b[0;31m \u001b[0mnp\u001b[0m\u001b[0;34m.\u001b[0m\u001b[0mlinalg\u001b[0m\u001b[0;34m.\u001b[0m\u001b[0msolve\u001b[0m\u001b[0;34m(\u001b[0m\u001b[0mC\u001b[0m\u001b[0;34m,\u001b[0m \u001b[0mb1\u001b[0m\u001b[0;34m)\u001b[0m\u001b[0;34m\u001b[0m\u001b[0;34m\u001b[0m\u001b[0m\n\u001b[0m",
      "\u001b[0;32m~/anaconda3/lib/python3.6/site-packages/numpy/linalg/linalg.py\u001b[0m in \u001b[0;36msolve\u001b[0;34m(a, b)\u001b[0m\n\u001b[1;32m    392\u001b[0m     \u001b[0msignature\u001b[0m \u001b[0;34m=\u001b[0m \u001b[0;34m'DD->D'\u001b[0m \u001b[0;32mif\u001b[0m \u001b[0misComplexType\u001b[0m\u001b[0;34m(\u001b[0m\u001b[0mt\u001b[0m\u001b[0;34m)\u001b[0m \u001b[0;32melse\u001b[0m \u001b[0;34m'dd->d'\u001b[0m\u001b[0;34m\u001b[0m\u001b[0;34m\u001b[0m\u001b[0m\n\u001b[1;32m    393\u001b[0m     \u001b[0mextobj\u001b[0m \u001b[0;34m=\u001b[0m \u001b[0mget_linalg_error_extobj\u001b[0m\u001b[0;34m(\u001b[0m\u001b[0m_raise_linalgerror_singular\u001b[0m\u001b[0;34m)\u001b[0m\u001b[0;34m\u001b[0m\u001b[0;34m\u001b[0m\u001b[0m\n\u001b[0;32m--> 394\u001b[0;31m     \u001b[0mr\u001b[0m \u001b[0;34m=\u001b[0m \u001b[0mgufunc\u001b[0m\u001b[0;34m(\u001b[0m\u001b[0ma\u001b[0m\u001b[0;34m,\u001b[0m \u001b[0mb\u001b[0m\u001b[0;34m,\u001b[0m \u001b[0msignature\u001b[0m\u001b[0;34m=\u001b[0m\u001b[0msignature\u001b[0m\u001b[0;34m,\u001b[0m \u001b[0mextobj\u001b[0m\u001b[0;34m=\u001b[0m\u001b[0mextobj\u001b[0m\u001b[0;34m)\u001b[0m\u001b[0;34m\u001b[0m\u001b[0;34m\u001b[0m\u001b[0m\n\u001b[0m\u001b[1;32m    395\u001b[0m \u001b[0;34m\u001b[0m\u001b[0m\n\u001b[1;32m    396\u001b[0m     \u001b[0;32mreturn\u001b[0m \u001b[0mwrap\u001b[0m\u001b[0;34m(\u001b[0m\u001b[0mr\u001b[0m\u001b[0;34m.\u001b[0m\u001b[0mastype\u001b[0m\u001b[0;34m(\u001b[0m\u001b[0mresult_t\u001b[0m\u001b[0;34m,\u001b[0m \u001b[0mcopy\u001b[0m\u001b[0;34m=\u001b[0m\u001b[0;32mFalse\u001b[0m\u001b[0;34m)\u001b[0m\u001b[0;34m)\u001b[0m\u001b[0;34m\u001b[0m\u001b[0;34m\u001b[0m\u001b[0m\n",
      "\u001b[0;32m~/anaconda3/lib/python3.6/site-packages/numpy/linalg/linalg.py\u001b[0m in \u001b[0;36m_raise_linalgerror_singular\u001b[0;34m(err, flag)\u001b[0m\n\u001b[1;32m     87\u001b[0m \u001b[0;34m\u001b[0m\u001b[0m\n\u001b[1;32m     88\u001b[0m \u001b[0;32mdef\u001b[0m \u001b[0m_raise_linalgerror_singular\u001b[0m\u001b[0;34m(\u001b[0m\u001b[0merr\u001b[0m\u001b[0;34m,\u001b[0m \u001b[0mflag\u001b[0m\u001b[0;34m)\u001b[0m\u001b[0;34m:\u001b[0m\u001b[0;34m\u001b[0m\u001b[0;34m\u001b[0m\u001b[0m\n\u001b[0;32m---> 89\u001b[0;31m     \u001b[0;32mraise\u001b[0m \u001b[0mLinAlgError\u001b[0m\u001b[0;34m(\u001b[0m\u001b[0;34m\"Singular matrix\"\u001b[0m\u001b[0;34m)\u001b[0m\u001b[0;34m\u001b[0m\u001b[0;34m\u001b[0m\u001b[0m\n\u001b[0m\u001b[1;32m     90\u001b[0m \u001b[0;34m\u001b[0m\u001b[0m\n\u001b[1;32m     91\u001b[0m \u001b[0;32mdef\u001b[0m \u001b[0m_raise_linalgerror_nonposdef\u001b[0m\u001b[0;34m(\u001b[0m\u001b[0merr\u001b[0m\u001b[0;34m,\u001b[0m \u001b[0mflag\u001b[0m\u001b[0;34m)\u001b[0m\u001b[0;34m:\u001b[0m\u001b[0;34m\u001b[0m\u001b[0;34m\u001b[0m\u001b[0m\n",
      "\u001b[0;31mLinAlgError\u001b[0m: Singular matrix"
     ]
    }
   ],
   "source": [
    "np.linalg.solve(C, b1)"
   ]
  },
  {
   "cell_type": "markdown",
   "metadata": {},
   "source": [
    "NOTE: failure is not always that obvious: numerically, a matrix can be *almost* singular.\n",
    "\n",
    "Try solving the linear system of equations \n",
    "\n",
    "$$\n",
    "\\mathsf{D}\\mathbf{x} = \\mathbf{b}_1\n",
    "$$\n",
    "with matrix $\\mathsf{D}$ below:"
   ]
  },
  {
   "cell_type": "code",
   "execution_count": 16,
   "metadata": {},
   "outputs": [
    {
     "data": {
      "text/plain": [
       "array([[ 0.87119148,  0.9330127 , -0.9330127 ],\n",
       "       [ 1.1160254 ,  0.04736717, -0.04736717],\n",
       "       [-2.47688472,  0.79091119, -0.79091119]])"
      ]
     },
     "execution_count": 16,
     "metadata": {},
     "output_type": "execute_result"
    }
   ],
   "source": [
    "D = C.copy()\n",
    "D[2, :] = C[0] - 3*C[1]\n",
    "D"
   ]
  },
  {
   "cell_type": "code",
   "execution_count": 17,
   "metadata": {},
   "outputs": [
    {
     "data": {
      "text/plain": [
       "array([1.61493184e+00, 2.01760247e+16, 2.01760247e+16])"
      ]
     },
     "execution_count": 17,
     "metadata": {},
     "output_type": "execute_result"
    }
   ],
   "source": [
    "np.linalg.solve(D, b1)"
   ]
  },
  {
   "cell_type": "markdown",
   "metadata": {},
   "source": [
    "Note that some of the values are huge, and suspiciously like the inverse of machine precision? Sign of a nearly singular matrix."
   ]
  },
  {
   "cell_type": "markdown",
   "metadata": {},
   "source": [
    "**Note**: *Just because a function did not throw an exception it does not mean that the answer is correct.* **Always check your output!**"
   ]
  },
  {
   "cell_type": "markdown",
   "metadata": {},
   "source": [
    "Now back to the example with $\\mathsf{C}$:"
   ]
  },
  {
   "cell_type": "markdown",
   "metadata": {},
   "source": [
    "#### SVD for singular matrices\n",
    "If a matrix is *singular* or *near singular* then one can *still* apply SVD. \n",
    "\n",
    "One can then compute the *pseudo inverse*\n",
    "\n",
    "\\begin{align}\n",
    "\\mathsf{A}^{-1} &= \\mathsf{V} \\text{diag}(\\alpha_j) \\mathsf{U}^T \\\\\n",
    "\\alpha_j &= \\begin{cases}\n",
    " \\frac{1}{w_j}, &\\quad\\text{if}\\ w_j \\neq 0\\\\\n",
    " 0, &\\quad\\text{if}\\ w_j = 0\n",
    " \\end{cases}\n",
    "\\end{align}\n",
    "\n",
    "i.e., any singular $w_j = 0$ is being \"augmented\" by setting\n",
    "\n",
    "$$\n",
    "\\frac{1}{w_j} \\rightarrow 0 \\quad\\text{if}\\quad w_j = 0\n",
    "$$\n",
    "\n",
    "in $\\text{diag}(1/w_j)$."
   ]
  },
  {
   "cell_type": "markdown",
   "metadata": {},
   "source": [
    "Perform the SVD for the singular matrix $\\mathsf{C}$:"
   ]
  },
  {
   "cell_type": "code",
   "execution_count": 18,
   "metadata": {},
   "outputs": [
    {
     "name": "stdout",
     "output_type": "stream",
     "text": [
      "[1.99999999e+00 1.00000000e+00 2.46519033e-32]\n"
     ]
    }
   ],
   "source": [
    "U, w, VT = np.linalg.svd(C)\n",
    "print(w)"
   ]
  },
  {
   "cell_type": "markdown",
   "metadata": {},
   "source": [
    "Note the third value $w_2 \\approx 0$: sign of a singular matrix."
   ]
  },
  {
   "cell_type": "markdown",
   "metadata": {},
   "source": [
    "Test that the SVD really decomposes $\\mathsf{A} = \\mathsf{U}\\,\\text{diag}(w_j)\\,\\mathsf{V}^{T}$:"
   ]
  },
  {
   "cell_type": "code",
   "execution_count": 19,
   "metadata": {},
   "outputs": [
    {
     "data": {
      "text/plain": [
       "array([[ 0.87119148,  0.9330127 , -0.9330127 ],\n",
       "       [ 1.1160254 ,  0.04736717, -0.04736717],\n",
       "       [ 1.1160254 ,  0.04736717, -0.04736717]])"
      ]
     },
     "execution_count": 19,
     "metadata": {},
     "output_type": "execute_result"
    }
   ],
   "source": [
    "U.dot(np.diag(w).dot(VT))"
   ]
  },
  {
   "cell_type": "code",
   "execution_count": 20,
   "metadata": {},
   "outputs": [
    {
     "data": {
      "text/plain": [
       "True"
      ]
     },
     "execution_count": 20,
     "metadata": {},
     "output_type": "execute_result"
    }
   ],
   "source": [
    "np.allclose(C, U.dot(np.diag(w).dot(VT)))"
   ]
  },
  {
   "cell_type": "markdown",
   "metadata": {},
   "source": [
    "There are the **singular values** (let's say, $|w_i| < 10^{-12}$):"
   ]
  },
  {
   "cell_type": "code",
   "execution_count": 21,
   "metadata": {},
   "outputs": [
    {
     "name": "stdout",
     "output_type": "stream",
     "text": [
      "[False False  True]\n"
     ]
    }
   ],
   "source": [
    "singular_values = np.abs(w) < 1e-12\n",
    "print(singular_values)"
   ]
  },
  {
   "cell_type": "markdown",
   "metadata": {},
   "source": [
    "#### Pseudo-inverse\n",
    "\n",
    "Calculate the **pseudo-inverse** from the SVD\n",
    "\n",
    "\\begin{align}\n",
    "\\mathsf{A}^{-1} &= \\mathsf{V} \\text{diag}(\\alpha_j) \\mathsf{U}^T \\\\\n",
    "\\alpha_j &= \\begin{cases}\n",
    " \\frac{1}{w_j}, &\\quad\\text{if}\\ w_j \\neq 0\\\\\n",
    " 0, &\\quad\\text{if}\\ w_j = 0\n",
    " \\end{cases}\n",
    "\\end{align}\n"
   ]
  },
  {
   "cell_type": "markdown",
   "metadata": {},
   "source": [
    "Augment:"
   ]
  },
  {
   "cell_type": "code",
   "execution_count": 22,
   "metadata": {},
   "outputs": [
    {
     "name": "stdout",
     "output_type": "stream",
     "text": [
      "[0.5 1.  0. ]\n"
     ]
    }
   ],
   "source": [
    "inv_w = 1/w\n",
    "inv_w[singular_values] = 0\n",
    "print(inv_w)"
   ]
  },
  {
   "cell_type": "code",
   "execution_count": 23,
   "metadata": {
    "scrolled": true
   },
   "outputs": [
    {
     "name": "stdout",
     "output_type": "stream",
     "text": [
      "[[-0.04736717  0.46650635  0.46650635]\n",
      " [ 0.5580127  -0.21779787 -0.21779787]\n",
      " [-0.5580127   0.21779787  0.21779787]]\n"
     ]
    }
   ],
   "source": [
    "C_inv = VT.T.dot(np.diag(inv_w)).dot(U.T)\n",
    "print(C_inv)"
   ]
  },
  {
   "cell_type": "markdown",
   "metadata": {},
   "source": [
    "#### Solution for $\\mathbf{b}_1$  "
   ]
  },
  {
   "cell_type": "markdown",
   "metadata": {},
   "source": [
    "Now solve the linear problem with SVD:"
   ]
  },
  {
   "cell_type": "code",
   "execution_count": 24,
   "metadata": {},
   "outputs": [
    {
     "name": "stdout",
     "output_type": "stream",
     "text": [
      "[-0.34365138  1.4291518  -1.4291518 ]\n"
     ]
    }
   ],
   "source": [
    "x1 = C_inv.dot(b1)\n",
    "print(x1)"
   ]
  },
  {
   "cell_type": "code",
   "execution_count": 25,
   "metadata": {
    "scrolled": true
   },
   "outputs": [
    {
     "data": {
      "text/plain": [
       "array([ 2.3674474 , -0.24813392, -0.24813392])"
      ]
     },
     "execution_count": 25,
     "metadata": {},
     "output_type": "execute_result"
    }
   ],
   "source": [
    "C.dot(x1) "
   ]
  },
  {
   "cell_type": "code",
   "execution_count": 26,
   "metadata": {},
   "outputs": [
    {
     "data": {
      "text/plain": [
       "True"
      ]
     },
     "execution_count": 26,
     "metadata": {},
     "output_type": "execute_result"
    }
   ],
   "source": [
    "np.allclose(C.dot(x1), b1)"
   ]
  },
  {
   "cell_type": "markdown",
   "metadata": {},
   "source": [
    "Thus, using the pseudo-inverse $\\mathsf{C}^{-1}$ we can obtain solutions to the equation\n",
    "\n",
    "$$\n",
    "\\mathsf{C} \\mathbf{x}_1 = \\mathbf{b}_1\n",
    "$$"
   ]
  },
  {
   "cell_type": "markdown",
   "metadata": {},
   "source": [
    "However, $\\mathbf{x}_1$ is not the only solution: there's a whole line of solutions that are formed by the special solution and a combination of the basis vectors in the *null space* of the matrix:"
   ]
  },
  {
   "cell_type": "markdown",
   "metadata": {},
   "source": [
    "The (right) *kernel* or *null space* contains all vectors $\\mathbf{x^0}$ for which\n",
    "\n",
    "$$\n",
    "\\mathsf{C} \\mathbf{x^0} = 0\n",
    "$$\n",
    "\n",
    "(The dimension of the null space corresponds to the number of singular values.) You can find a basis that spans the null space. Any linear combination of null space basis vectors will also end up in the null space when $\\mathbf{A}$ is applied to it.\n"
   ]
  },
  {
   "cell_type": "markdown",
   "metadata": {},
   "source": [
    "Specifically, if $\\mathbf{x}_1$ is a special solution and $\\lambda_1 \\mathbf{x}^0_1 + \\lambda_2 \\mathbf{x}^0_2 + \\dots$ is a vector in the null space then\n",
    "\n",
    "$$\n",
    "\\mathbf{x} = \\mathbf{x}_1 + ( \\lambda_1 \\mathbf{x}^0_1 + \\lambda_2 \\mathbf{x}^0_2 + \\dots )\n",
    "$$\n",
    "\n",
    "is **also a solution** because\n",
    "\n",
    "$$\n",
    "\\mathsf{C} \\mathbf{x} = \\mathsf{C} \\mathbf{x_1} + \\mathsf{C} ( \\lambda_1 \\mathbf{x}^0_1 + \\lambda_2 \\mathbf{x}^0_2 + \\dots ) = \\mathsf{C} \\mathbf{x_1} + 0 = \\mathbf{b}_1 + 0 = \\mathbf{b}_1\n",
    "$$\n",
    "\n",
    "The $\\lambda_i$ are arbitrary real numbers and hence there is an infinite number of solutions."
   ]
  },
  {
   "cell_type": "markdown",
   "metadata": {},
   "source": [
    "In SVD:"
   ]
  },
  {
   "cell_type": "markdown",
   "metadata": {},
   "source": [
    "* The columns $U_{\\cdot, i}$ of $\\mathsf{U}$ (i.e. `U.T[i]` or `U[:, i]`) corresponding to non-zero $w_i$, i.e. $\\{i : w_i \\neq 0\\}$, form the basis for the _range_ of the matrix $\\mathsf{A}$.\n",
    "* The columns $V_{\\cdot, i}$ of $\\mathsf{V}$ (i.e. `V.T[i]` or `V[:, i]`) corresponding to zero $w_i$, i.e. $\\{i : w_i = 0\\}$, form the basis for the _null space_ of the matrix $\\mathsf{A}$."
   ]
  },
  {
   "cell_type": "code",
   "execution_count": 27,
   "metadata": {},
   "outputs": [
    {
     "data": {
      "text/plain": [
       "array([-0.34365138,  1.4291518 , -1.4291518 ])"
      ]
     },
     "execution_count": 27,
     "metadata": {},
     "output_type": "execute_result"
    }
   ],
   "source": [
    "x1"
   ]
  },
  {
   "cell_type": "markdown",
   "metadata": {},
   "source": [
    "The rank space comes from $\\mathsf{U}^T$:"
   ]
  },
  {
   "cell_type": "code",
   "execution_count": 28,
   "metadata": {
    "scrolled": true
   },
   "outputs": [
    {
     "data": {
      "text/plain": [
       "array([[-7.07106782e-01, -4.99999999e-01, -4.99999999e-01],\n",
       "       [ 7.07106780e-01, -5.00000001e-01, -5.00000001e-01],\n",
       "       [-2.47010760e-16, -7.07106781e-01,  7.07106781e-01]])"
      ]
     },
     "execution_count": 28,
     "metadata": {},
     "output_type": "execute_result"
    }
   ],
   "source": [
    "U.T"
   ]
  },
  {
   "cell_type": "markdown",
   "metadata": {},
   "source": [
    "The basis vectors for the rank space (``~ bool_array`` applies a logical ``NOT`` operation to the entries in the boolean array so that we can pick out \"not singular values\"):"
   ]
  },
  {
   "cell_type": "code",
   "execution_count": 29,
   "metadata": {},
   "outputs": [
    {
     "data": {
      "text/plain": [
       "array([[-0.70710678, -0.5       , -0.5       ],\n",
       "       [ 0.70710678, -0.5       , -0.5       ]])"
      ]
     },
     "execution_count": 29,
     "metadata": {},
     "output_type": "execute_result"
    }
   ],
   "source": [
    "U.T[~singular_values]"
   ]
  },
  {
   "cell_type": "markdown",
   "metadata": {},
   "source": [
    "The null space comes from $\\mathsf{V}^T$:"
   ]
  },
  {
   "cell_type": "code",
   "execution_count": 30,
   "metadata": {},
   "outputs": [
    {
     "data": {
      "text/plain": [
       "array([[-0.8660254 , -0.35355339,  0.35355339],\n",
       "       [-0.5       ,  0.61237244, -0.61237244],\n",
       "       [-0.        , -0.70710678, -0.70710678]])"
      ]
     },
     "execution_count": 30,
     "metadata": {},
     "output_type": "execute_result"
    }
   ],
   "source": [
    "VT"
   ]
  },
  {
   "cell_type": "markdown",
   "metadata": {},
   "source": [
    "The basis vector for the null space:"
   ]
  },
  {
   "cell_type": "code",
   "execution_count": 31,
   "metadata": {},
   "outputs": [
    {
     "data": {
      "text/plain": [
       "array([[-0.        , -0.70710678, -0.70710678]])"
      ]
     },
     "execution_count": 31,
     "metadata": {},
     "output_type": "execute_result"
    }
   ],
   "source": [
    "VT[singular_values]"
   ]
  },
  {
   "cell_type": "markdown",
   "metadata": {},
   "source": [
    "The component of $\\mathbf{x}_1$ along the basis vector of the null space of $\\mathsf{C}$ (here a 1D space) – note that this component is zero, i.e., the special solution lives in the rank space:"
   ]
  },
  {
   "cell_type": "code",
   "execution_count": 32,
   "metadata": {},
   "outputs": [
    {
     "data": {
      "text/plain": [
       "2.220446049250313e-16"
      ]
     },
     "execution_count": 32,
     "metadata": {},
     "output_type": "execute_result"
    }
   ],
   "source": [
    "x1.dot(VT[singular_values][0])"
   ]
  },
  {
   "cell_type": "markdown",
   "metadata": {},
   "source": [
    "We can create a family of solutions by adding vectors in the null space to the special solution $\\mathbf{x}_1$, e.g. $\\lambda_1 = 2$: "
   ]
  },
  {
   "cell_type": "code",
   "execution_count": 33,
   "metadata": {},
   "outputs": [
    {
     "name": "stdout",
     "output_type": "stream",
     "text": [
      "[-0.34365138  0.01493824 -2.84336536]\n"
     ]
    },
    {
     "data": {
      "text/plain": [
       "True"
      ]
     },
     "execution_count": 33,
     "metadata": {},
     "output_type": "execute_result"
    }
   ],
   "source": [
    "lambda_1 = 2\n",
    "x1_1 = x1 + lambda_1 * VT[2]\n",
    "print(x1_1)\n",
    "\n",
    "np.allclose(C.dot(x1_1), b1)"
   ]
  },
  {
   "cell_type": "markdown",
   "metadata": {},
   "source": [
    "Thus, **all** solutions are\n",
    "```\n",
    "x1 + lambda * VT[2]\n",
    "```\n"
   ]
  },
  {
   "cell_type": "markdown",
   "metadata": {},
   "source": [
    "#### Solution for  $\\mathbf{b}_2$"
   ]
  },
  {
   "cell_type": "markdown",
   "metadata": {},
   "source": [
    "The solution vector $x_2$ solves\n",
    "$$\n",
    "\\mathsf{C}\\mathbf{x}_2 = \\mathbf{b}_2\n",
    "$$"
   ]
  },
  {
   "cell_type": "code",
   "execution_count": 34,
   "metadata": {},
   "outputs": [
    {
     "data": {
      "text/plain": [
       "array([0, 1, 1])"
      ]
     },
     "execution_count": 34,
     "metadata": {},
     "output_type": "execute_result"
    }
   ],
   "source": [
    "b2"
   ]
  },
  {
   "cell_type": "code",
   "execution_count": 35,
   "metadata": {},
   "outputs": [
    {
     "name": "stdout",
     "output_type": "stream",
     "text": [
      "[ 0.9330127  -0.43559574  0.43559574]\n",
      "[-4.4408921e-16  1.0000000e+00  1.0000000e+00]\n"
     ]
    },
    {
     "data": {
      "text/plain": [
       "True"
      ]
     },
     "execution_count": 35,
     "metadata": {},
     "output_type": "execute_result"
    }
   ],
   "source": [
    "x2 = C_inv.dot(b2)\n",
    "print(x2)\n",
    "print(C.dot(x2))\n",
    "np.allclose(C.dot(x2), b2)"
   ]
  },
  {
   "cell_type": "markdown",
   "metadata": {},
   "source": [
    "... and the general solution will again be obtained by adding any multiple of the null space basis vector."
   ]
  },
  {
   "cell_type": "markdown",
   "metadata": {},
   "source": [
    "#### Null space "
   ]
  },
  {
   "cell_type": "markdown",
   "metadata": {},
   "source": [
    "The Null space is spanned by the following basis vectors (just one in this example):"
   ]
  },
  {
   "cell_type": "code",
   "execution_count": 36,
   "metadata": {},
   "outputs": [
    {
     "data": {
      "text/plain": [
       "array([[-0.        , -0.70710678, -0.70710678]])"
      ]
     },
     "execution_count": 36,
     "metadata": {},
     "output_type": "execute_result"
    }
   ],
   "source": [
    "null_basis = VT[singular_values]\n",
    "null_basis"
   ]
  },
  {
   "cell_type": "markdown",
   "metadata": {},
   "source": [
    "Show that \n",
    "$$\n",
    "\\mathsf{C}\\mathbf{x}^0 = 0\n",
    "$$"
   ]
  },
  {
   "cell_type": "code",
   "execution_count": 37,
   "metadata": {
    "scrolled": false
   },
   "outputs": [
    {
     "data": {
      "text/plain": [
       "array([[ 0.0000000e+00],\n",
       "       [-6.9388939e-18],\n",
       "       [-6.9388939e-18]])"
      ]
     },
     "execution_count": 37,
     "metadata": {},
     "output_type": "execute_result"
    }
   ],
   "source": [
    "C.dot(null_basis.T)"
   ]
  },
  {
   "cell_type": "markdown",
   "metadata": {},
   "source": [
    "## SVD for fewer equations than unknowns\n",
    "$N$ equations for $M$ unknowns with $N < M$:\n",
    "\n",
    "* no unique solutions (underdetermined)\n",
    "* $M-N$ dimensional family of solutions\n",
    "* SVD: at least $M-N$ zero or negligible $w_j$: columns of $\\mathsf{V}$ corresponding to singular $w_j$ span the solution space when added to a particular solution."
   ]
  },
  {
   "cell_type": "markdown",
   "metadata": {},
   "source": [
    "Same as the above [**Solving ill-conditioned coupled linear equations**](#Solving-ill-conditioned-coupled-linear-equations)."
   ]
  },
  {
   "cell_type": "markdown",
   "metadata": {},
   "source": [
    "## SVD for more equations than unknowns\n",
    "$N$ equations for $M$ unknowns with $N > M$:\n",
    "\n",
    "* no exact solutions in general (overdetermined)\n",
    "* but: SVD can provide best solution in the least-square sense\n",
    "  $$\n",
    "  \\mathbf{x} = \\mathsf{V}\\, \\text{diag}(1/w_j)\\, \\mathsf{U}^{T}\\, \\mathbf{b}\n",
    "  $$\n",
    "  where \n",
    "\n",
    "  * $\\mathbf{x}$ is a $M$-dimensional vector of the unknowns (parameters of the fit),\n",
    "  * $\\mathsf{V}$ is a $M \\times N$ matrix\n",
    "  * the $w_j$ form a square $M \\times M$ matrix,\n",
    "  * $\\mathsf{U}$ is a $M \\times N$ matrix (and $\\mathsf{U}^T$ is a $N \\times M$ matrix), and\n",
    "  * $\\mathbf{b}$ is the $N$-dimensional vector of the given values (data)\n",
    "  \n",
    "It can be shown that $\\mathbf{x}$ minimizes the residual\n",
    "\n",
    "$$\n",
    "\\mathbf{r} := |\\mathsf{A}\\mathbf{x} - \\mathbf{b}|.\n",
    "$$\n",
    "\n",
    "where the matrix $\\mathsf{A}$ will be described below and will contain the evaluation of the fit function for each data point in $\\mathbf{b}$.\n",
    "\n",
    "(For a $N \\le M$, one can find $\\mathbf{x}$ so that $\\mathbf{r} = 0$ – see above.)"
   ]
  },
  {
   "cell_type": "markdown",
   "metadata": {},
   "source": [
    "(In the following, we will switch notation and denote the vector of $M$ unknown parameters of the model as $\\mathbf{a}$; this $\\mathbf{a}$ corresponds to $\\mathbf{x}$ above. $N$ is the number of observations.)"
   ]
  },
  {
   "cell_type": "markdown",
   "metadata": {},
   "source": [
    "### Linear least-squares fitting "
   ]
  },
  {
   "cell_type": "markdown",
   "metadata": {},
   "source": [
    "This is the *liner least-squares fitting problem*: Given $N$ data points $(x_i, y_i)$ (where $1 \\le i \\le N$), fit to a linear model $y(x)$, which can be any linear combination of $M$ functions of $x$.\n",
    "\n",
    "For example, if we have $N$ functions $x^k$ with parameters $a_k$\n",
    "$$\n",
    "y(x) = a_1 + a_2 x + a_3 x^2 + \\dots + a_M x^{M-1}\n",
    "$$\n",
    "or in general\n",
    "$$\n",
    "y(x) = \\sum_{k=1}^M a_k X_k(x)\n",
    "$$\n",
    "\n",
    "The goal is to determine the $M$ coefficients $a_k$."
   ]
  },
  {
   "cell_type": "markdown",
   "metadata": {},
   "source": [
    "Define the **merit function**\n",
    "$$\n",
    "\\chi^2 = \\sum_{i=1}^N \\left[ \\frac{y_i - \\sum_{k=1}^M a_k X_k(x_i)}{\\sigma_i}\\right]^2\n",
    "$$\n",
    "(sum of squared deviations, weighted with standard deviations $\\sigma_i$ on the $y_i$)."
   ]
  },
  {
   "cell_type": "markdown",
   "metadata": {},
   "source": [
    "Best parameters $a_k$ are the ones that *minimize $\\chi^2$*."
   ]
  },
  {
   "cell_type": "markdown",
   "metadata": {},
   "source": [
    "*Design matrix* $\\mathsf{A}$ ($N \\times M$, $N \\geq M$), vector of measurements $\\mathbf{b}$ ($N$-dim) and parameter vector $\\mathbf{a}$ ($M$-dim):\n",
    "\n",
    "\\begin{align}\n",
    "A_{ij} &= \\frac{X_j(x_i)}{\\sigma_i}\\\\\n",
    "b_i &= \\frac{y_i}{\\sigma_i}\\\\\n",
    "\\mathbf{a} &= (a_1, a_2, \\dots, a_M)\n",
    "\\end{align}\n"
   ]
  },
  {
   "cell_type": "markdown",
   "metadata": {},
   "source": [
    "The design matrix $\\mathsf{A}$ contains the *predicted* values from the basis functions for all values $x_i$ of the independent variable $x$ for which we have measured data $y_i$. "
   ]
  },
  {
   "cell_type": "markdown",
   "metadata": {},
   "source": [
    "Minimum occurs when the derivative vanishes:\n",
    "$$\n",
    "0 = \\frac{\\partial\\chi^2}{\\partial a_k} = \\sum_{i=1}^N {\\sigma_i}^{-2} \\left[ y_i - \\sum_{j=1}^M a_j X_j(x_i) \\right] X_k(x_i), \\quad 1 \\leq k \\leq M\n",
    "$$\n",
    "($M$ coupled equations)\n",
    "\n",
    "To simplify the notation, define the $M \\times M$ matrix\n",
    "\\begin{align}\n",
    "\\alpha_{kj} &= \\sum_{i=1}^N \\frac{X_k(x_i) X_j(x_i)}{\\sigma_i^2}\\\\\n",
    "\\mathsf{\\alpha} &= \\mathsf{A}^T \\mathsf{A}\n",
    "\\end{align}\n",
    "and the vector of length $M$\n",
    "\\begin{align}\n",
    "\\beta_{k} &= \\sum_{i=1}^N \\frac{y_i X_k(x_i)}{\\sigma_i^2}\\\\\n",
    "\\boldsymbol{\\beta} &= \\mathsf{A}^T \\mathbf{b}\n",
    "\\end{align}\n",
    "\n",
    "Then the $M$ coupled equations can be compactly written as \n",
    "\\begin{align}\n",
    "\\sum_{j=1}^{M} \\alpha_{kj} a_j &= \\beta_k\\\\\n",
    "\\mathsf{\\alpha}\\mathbf{a} = \\boldsymbol{\\beta}\n",
    "\\end{align}\n",
    "\n",
    "$\\mathsf{\\alpha}$ and  $\\boldsymbol{\\beta}$ are known, so we have to solve this matrix equation for the vector of the unknown parameters $\\mathbf{a}$.\n"
   ]
  },
  {
   "cell_type": "markdown",
   "metadata": {},
   "source": [
    "#### Error estimates for the parameters\n",
    "\n",
    "The inverse of $\\mathsf{\\alpha}$ is related to the uncertainties in the parameters:\n",
    "$$\n",
    "\\mathsf{C} := \\mathsf{\\alpha}^{-1}\n",
    "$$\n",
    "in particular\n",
    "$$\n",
    "\\sigma(a_i) = C_{ii}\n",
    "$$\n",
    "(and the $C_{ij}$ are the co-variances)."
   ]
  },
  {
   "cell_type": "markdown",
   "metadata": {},
   "source": [
    "#### Solution of the linear least-squares fitting problem with SVD\n",
    "We need to solve the overdetermined system of $M$ coupled equations\n",
    "\\begin{align}\n",
    "\\sum_{j=1}^{M} \\alpha_{kj} a_j &= \\beta_k\\\\\n",
    "\\mathsf{\\alpha}\\mathbf{a} = \\boldsymbol{\\beta}\n",
    "\\end{align}\n",
    "We can solve the above equation with SVD.\n",
    "\n",
    "SVD finds $\\mathbf{a}$ that minimizes\n",
    "$$\n",
    "\\chi^2 = |\\mathsf{A}\\mathbf{a} - \\mathbf{b}|\n",
    "$$\n",
    "(proof in _Numerical Recipes_ Ch 2.) and so SVD is suitable to solve the equation above.\n",
    "\n",
    "We can alternatively use SVD to directly solve the overdetermined system\n",
    "$$\n",
    "\\mathsf{A}\\mathbf{a} = \\mathbf{b}\n",
    "$$\n",
    "and we should get the same answer.\n",
    "\n",
    "The first approach might be preferrable because the matrix $\\mathsf{\\alpha}$ is a relatively small $M \\times M$ matrix, i.e., its size depends on the number of parameters. The design matrix $\\mathsf{A}$ is a $N \\times M$ matrix and can be large (in one dimensions) because its size depends on the possibly large number $N$, the number of data points. \n"
   ]
  },
  {
   "cell_type": "markdown",
   "metadata": {},
   "source": [
    "The errors are\n",
    "$$\n",
    "\\sigma^2(a_j) = \\sum_{i=1}^{M} \\left(\\frac{V_{ji}}{w_i}\\right)^2\n",
    "$$\n",
    "(see also _Numerical Recipes_ Ch. 15) where $V_{ji}$ are elements of $\\mathsf{V}$."
   ]
  },
  {
   "cell_type": "markdown",
   "metadata": {},
   "source": [
    "#### Example\n",
    "Synthetic data \n",
    "\n",
    "$$\n",
    "y(x) = 3\\sin x - 2\\sin 3x + \\sin 4x\n",
    "$$\n",
    "\n",
    "with noise $r$ added (uniform in range $-5 < r < 5$)."
   ]
  },
  {
   "cell_type": "code",
   "execution_count": 38,
   "metadata": {},
   "outputs": [],
   "source": [
    "import matplotlib\n",
    "import matplotlib.pyplot as plt\n",
    "%matplotlib inline\n",
    "matplotlib.style.use('ggplot')\n",
    "\n",
    "import numpy as np"
   ]
  },
  {
   "cell_type": "code",
   "execution_count": 39,
   "metadata": {},
   "outputs": [],
   "source": [
    "def signal(x, noise=0):\n",
    "    r = np.random.uniform(-noise, noise, len(x))\n",
    "    return 3*np.sin(x) - 2*np.sin(3*x) + np.sin(4*x) + r"
   ]
  },
  {
   "cell_type": "code",
   "execution_count": 40,
   "metadata": {},
   "outputs": [],
   "source": [
    "X = np.linspace(-10, 10, 500)\n",
    "Y = signal(X, noise=5)"
   ]
  },
  {
   "cell_type": "code",
   "execution_count": 41,
   "metadata": {},
   "outputs": [
    {
     "data": {
      "text/plain": [
       "[<matplotlib.lines.Line2D at 0x113486d68>,\n",
       " <matplotlib.lines.Line2D at 0x113486f98>]"
      ]
     },
     "execution_count": 41,
     "metadata": {},
     "output_type": "execute_result"
    },
    {
     "data": {
      "image/png": "[encoded data removed]",
      "text/plain": [
       "<Figure size 432x288 with 1 Axes>"
      ]
     },
     "metadata": {
      "needs_background": "light"
     },
     "output_type": "display_data"
    }
   ],
   "source": [
    "plt.plot(X, Y, 'r-', X, signal(X, noise=0), 'k--')"
   ]
  },
  {
   "cell_type": "markdown",
   "metadata": {},
   "source": [
    "Define our fit function (the model) and the basis functions. We need the basis functions for setting up the problem and we will later use the fitfunction together with our parameter estimates to compare our fit to the true underlying function."
   ]
  },
  {
   "cell_type": "code",
   "execution_count": 42,
   "metadata": {},
   "outputs": [],
   "source": [
    "def fitfunc(x, a):\n",
    "    return a[0]*np.cos(x) + a[1]*np.sin(x) + \\\n",
    "           a[2]*np.cos(2*x) + a[3]*np.sin(2*x) + \\\n",
    "           a[4]*np.cos(3*x) + a[5]*np.sin(3*x) + \\\n",
    "           a[6]*np.cos(4*x) + a[7]*np.sin(4*x)\n",
    "\n",
    "def basisfuncs(x):\n",
    "    return np.array([np.cos(x), np.sin(x), \n",
    "                     np.cos(2*x), np.sin(2*x), \n",
    "                     np.cos(3*x), np.sin(3*x), \n",
    "                     np.cos(4*x), np.sin(4*x)])"
   ]
  },
  {
   "cell_type": "markdown",
   "metadata": {},
   "source": [
    "(Note that we could have used the `basisfuncs()` in `fitfunc()` – left as an exercise for the keen reader...)"
   ]
  },
  {
   "cell_type": "markdown",
   "metadata": {},
   "source": [
    "Set up the $\\mathsf{\\alpha}$ matrix and the $\\boldsymbol{\\beta}$ vector (here we assume that all observations have the same error $\\sigma = 1$):"
   ]
  },
  {
   "cell_type": "code",
   "execution_count": 43,
   "metadata": {},
   "outputs": [],
   "source": [
    "M = 8\n",
    "sigma = 1.\n",
    "alpha = np.zeros((M, M))\n",
    "beta = np.zeros(M)\n",
    "for x in X:\n",
    "    Xk = basisfuncs(x)\n",
    "    for k in range(M):\n",
    "        for j in range(M):\n",
    "            alpha[k, j] += Xk[k]*Xk[j]\n",
    "for x, y in zip(X, Y):\n",
    "    beta += y * basisfuncs(x)/sigma"
   ]
  },
  {
   "cell_type": "markdown",
   "metadata": {},
   "source": [
    "Finally, solving the problem follows the same procedure as before:\n",
    "\n",
    "Get the SVD:"
   ]
  },
  {
   "cell_type": "code",
   "execution_count": 44,
   "metadata": {},
   "outputs": [],
   "source": [
    "U, w, VT = np.linalg.svd(alpha)\n",
    "V = VT.T"
   ]
  },
  {
   "cell_type": "markdown",
   "metadata": {},
   "source": [
    "In this case, the singular values do not immediately show if any basis functions are superfluous (this would be the case for values close to 0)."
   ]
  },
  {
   "cell_type": "code",
   "execution_count": 45,
   "metadata": {},
   "outputs": [
    {
     "data": {
      "text/plain": [
       "array([296.92809624, 282.94804954, 243.7895787 , 235.7300808 ,\n",
       "       235.15938555, 235.14838812, 235.14821093, 235.14821013])"
      ]
     },
     "execution_count": 45,
     "metadata": {},
     "output_type": "execute_result"
    }
   ],
   "source": [
    "w"
   ]
  },
  {
   "cell_type": "markdown",
   "metadata": {},
   "source": [
    "... nevertheless, remember to routinely mask any singular values or close to singular values:"
   ]
  },
  {
   "cell_type": "code",
   "execution_count": 46,
   "metadata": {},
   "outputs": [],
   "source": [
    "w_inv = 1/w\n",
    "w_inv[np.abs(w) < 1e-12] = 0\n",
    "alpha_inv = V.dot(np.diag(w_inv)).dot(U.T)"
   ]
  },
  {
   "cell_type": "markdown",
   "metadata": {},
   "source": [
    "Solve the system of equations with the pseudo-inverse:"
   ]
  },
  {
   "cell_type": "code",
   "execution_count": 47,
   "metadata": {},
   "outputs": [
    {
     "name": "stdout",
     "output_type": "stream",
     "text": [
      "[-0.08436957  3.01646     0.30062685  0.03492872 -0.03711539 -1.70048432\n",
      "  0.12217945  1.03404778]\n"
     ]
    }
   ],
   "source": [
    "a_values = alpha_inv.dot(beta)\n",
    "print(a_values)"
   ]
  },
  {
   "cell_type": "markdown",
   "metadata": {},
   "source": [
    "Compare the fitted values to the original parameters $a_j = 0, +3, 0, 0, 0, -2, 0, +1$.\n",
    "\n",
    "The original parameters show up as 3.15, -2.04 and 1.08 but the other parameters also have appreciable values. Given that the noise was sizable, this is not unreasonable.\n",
    "\n",
    "Compare the plot of the underlying true function (\"signal\", dashed line) to the model (\"fit\", solid line):"
   ]
  },
  {
   "cell_type": "code",
   "execution_count": 48,
   "metadata": {},
   "outputs": [
    {
     "data": {
      "text/plain": [
       "<matplotlib.legend.Legend at 0x11366c390>"
      ]
     },
     "execution_count": 48,
     "metadata": {},
     "output_type": "execute_result"
    },
    {
     "data": {
      "image/png": "[encoded data removed]",
      "text/plain": [
       "<Figure size 432x288 with 1 Axes>"
      ]
     },
     "metadata": {
      "needs_background": "light"
     },
     "output_type": "display_data"
    }
   ],
   "source": [
    "plt.plot(X, fitfunc(X, a_values), 'b-', label=\"fit\")\n",
    "plt.plot(X, signal(X, noise=0), 'k--', label=\"signal\")\n",
    "plt.legend(loc=\"best\", fontsize=\"small\")"
   ]
  },
  {
   "cell_type": "markdown",
   "metadata": {
    "collapsed": true
   },
   "source": [
    "We get some spurious oscillations but overall the result looks reasonable."
   ]
  },
  {
   "cell_type": "code",
   "execution_count": null,
   "metadata": {},
   "outputs": [],
   "source": []
  },
  {
   "cell_type": "markdown",
   "metadata": {},
   "source": [
    "#### Direct calculation\n",
    "Instead of solving the compact $M \\times M$ matrix equation $\\mathsf{\\alpha}\\mathbf{a} = \\boldsymbol{\\beta}$, we can try to directly solve the overdetermined $M \\times N$ equation\n",
    "\n",
    "$$\n",
    "\\mathsf{A}\\mathbf{a} = \\mathbf{b}\n",
    "$$\n",
    "\n"
   ]
  },
  {
   "cell_type": "markdown",
   "metadata": {},
   "source": [
    "Creating the design matrix is straight-forward (but because of the way that `basisfuncs()` returns values, we need to transpose the output to get the proper $N \\times M$ matrix $\\mathsf{A}$):"
   ]
  },
  {
   "cell_type": "code",
   "execution_count": 75,
   "metadata": {},
   "outputs": [],
   "source": [
    "A = np.transpose(basisfuncs(X))\n",
    "b = Y"
   ]
  },
  {
   "cell_type": "code",
   "execution_count": 76,
   "metadata": {},
   "outputs": [
    {
     "data": {
      "text/plain": [
       "(500, 8)"
      ]
     },
     "execution_count": 76,
     "metadata": {},
     "output_type": "execute_result"
    }
   ],
   "source": [
    "A.shape"
   ]
  },
  {
   "cell_type": "markdown",
   "metadata": {},
   "source": [
    "Calculate the pseudo-inverse $\\mathsf{A}^{-1}$.\n",
    "\n",
    "Note that we need to explicitly construct the matrix with the inverses of the singular values by filling a $M \\times N$ matrix with $\\text{diag}(w_i)$."
   ]
  },
  {
   "cell_type": "code",
   "execution_count": 81,
   "metadata": {},
   "outputs": [],
   "source": [
    "U, w, VT = np.linalg.svd(A)\n",
    "V = VT.T\n",
    "singular_values = np.abs(w) < 1e-12\n",
    "winv = 1/w\n",
    "winv[singular_values] = 0\n",
    "winvmat = np.zeros((V.shape[0], U.shape[0]))\n",
    "winvmat[:len(winv), :len(winv)] = np.diag(winv)\n",
    "Ainv = V.dot(winvmat).dot(U.T)"
   ]
  },
  {
   "cell_type": "markdown",
   "metadata": {},
   "source": [
    "The singular values are all well behaved:"
   ]
  },
  {
   "cell_type": "code",
   "execution_count": 82,
   "metadata": {},
   "outputs": [
    {
     "data": {
      "text/plain": [
       "array([17.23160167, 16.8210597 , 15.61376248, 15.35350386, 15.33490742,\n",
       "       15.33454884, 15.33454306, 15.33454304])"
      ]
     },
     "execution_count": 82,
     "metadata": {},
     "output_type": "execute_result"
    }
   ],
   "source": [
    "w"
   ]
  },
  {
   "cell_type": "code",
   "execution_count": 83,
   "metadata": {},
   "outputs": [
    {
     "data": {
      "text/plain": [
       "((8, 8), (8, 500), (500, 500))"
      ]
     },
     "execution_count": 83,
     "metadata": {},
     "output_type": "execute_result"
    }
   ],
   "source": [
    "V.shape, winvmat.shape, U.T.shape"
   ]
  },
  {
   "cell_type": "code",
   "execution_count": 84,
   "metadata": {},
   "outputs": [
    {
     "data": {
      "text/plain": [
       "(8, 500)"
      ]
     },
     "execution_count": 84,
     "metadata": {},
     "output_type": "execute_result"
    }
   ],
   "source": [
    "Ainv.shape"
   ]
  },
  {
   "cell_type": "code",
   "execution_count": 85,
   "metadata": {},
   "outputs": [
    {
     "data": {
      "text/plain": [
       "(500, 8)"
      ]
     },
     "execution_count": 85,
     "metadata": {},
     "output_type": "execute_result"
    }
   ],
   "source": [
    "A.shape"
   ]
  },
  {
   "cell_type": "markdown",
   "metadata": {},
   "source": [
    "Now solve directly\n",
    "$$\n",
    "\\mathsf{A}^{-1} \\mathbf{b} = \\mathbf{a}\n",
    "$$"
   ]
  },
  {
   "cell_type": "code",
   "execution_count": 88,
   "metadata": {},
   "outputs": [
    {
     "data": {
      "text/plain": [
       "array([-0.08436957,  3.01646   ,  0.30062685,  0.03492872, -0.03711539,\n",
       "       -1.70048432,  0.12217945,  1.03404778])"
      ]
     },
     "execution_count": 88,
     "metadata": {},
     "output_type": "execute_result"
    }
   ],
   "source": [
    "a = Ainv.dot(b)\n",
    "a"
   ]
  },
  {
   "cell_type": "markdown",
   "metadata": {},
   "source": [
    "The parameter estimates are the same as above."
   ]
  },
  {
   "cell_type": "code",
   "execution_count": 90,
   "metadata": {},
   "outputs": [
    {
     "data": {
      "text/plain": [
       "array([-6.80011603e-16,  5.32907052e-15, -1.11022302e-16, -2.74780199e-15,\n",
       "       -1.03389519e-15, -4.44089210e-16,  5.55111512e-17,  2.22044605e-15])"
      ]
     },
     "execution_count": 90,
     "metadata": {},
     "output_type": "execute_result"
    }
   ],
   "source": [
    "a_values - a"
   ]
  },
  {
   "cell_type": "markdown",
   "metadata": {},
   "source": [
    "and hence the plot looks the same:"
   ]
  },
  {
   "cell_type": "code",
   "execution_count": 89,
   "metadata": {},
   "outputs": [
    {
     "data": {
      "text/plain": [
       "<matplotlib.legend.Legend at 0x113f1cc18>"
      ]
     },
     "execution_count": 89,
     "metadata": {},
     "output_type": "execute_result"
    },
    {
     "data": {
      "image/png": "[encoded data removed]",
      "text/plain": [
       "<Figure size 432x288 with 1 Axes>"
      ]
     },
     "metadata": {
      "needs_background": "light"
     },
     "output_type": "display_data"
    }
   ],
   "source": [
    "plt.plot(X, fitfunc(X, a_values), 'b-', label=\"fit\")\n",
    "plt.plot(X, signal(X, noise=0), 'k--', label=\"signal\")\n",
    "plt.legend(loc=\"best\", fontsize=\"small\")"
   ]
  },
  {
   "cell_type": "code",
   "execution_count": null,
   "metadata": {},
   "outputs": [],
   "source": []
  }
 ],
 "metadata": {
  "anaconda-cloud": {},
  "kernelspec": {
   "display_name": "Python 3",
   "language": "python",
   "name": "python3"
  },
  "language_info": {
   "codemirror_mode": {
    "name": "ipython",
    "version": 3
   },
   "file_extension": ".py",
   "mimetype": "text/x-python",
   "name": "python",
   "nbconvert_exporter": "python",
   "pygments_lexer": "ipython3",
   "version": "3.6.7"
  }
 },
 "nbformat": 4,
 "nbformat_minor": 1
}
