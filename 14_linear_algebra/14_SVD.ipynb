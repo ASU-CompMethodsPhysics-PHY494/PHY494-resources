{
 "cells": [
  {
   "cell_type": "markdown",
   "metadata": {},
   "source": [
    "# 14 Linear Algebra: Singular Value Decomposition"
   ]
  },
  {
   "cell_type": "markdown",
   "metadata": {},
   "source": [
    "One can always decompose a matrix $\\mathsf{A}$ \n",
    "\\begin{gather}\n",
    "\\mathsf{A} = \\mathsf{U}\\,\\text{diag}(w_j)\\,\\mathsf{V}^{T}\\\\\n",
    "\\mathsf{U}^T \\mathsf{U} = \\mathsf{U} \\mathsf{U}^T = 1\\\\\n",
    "\\mathsf{V}^T \\mathsf{V} = \\mathsf{V} \\mathsf{V}^T = 1\n",
    "\\end{gather}\n",
    "where the $w_j$ are the _singular values_."
   ]
  },
  {
   "cell_type": "markdown",
   "metadata": {},
   "source": [
    "The inverse (if it exists) can be directly calculated from the SVD:\n",
    "$$\n",
    "\\mathsf{A}^{-1} = \\mathsf{V} \\text{diag}(1/w_j) \\mathsf{U}^T\n",
    "$$"
   ]
  },
  {
   "cell_type": "markdown",
   "metadata": {},
   "source": [
    "## Solving ill-conditioned coupled linear equations "
   ]
  },
  {
   "cell_type": "code",
   "execution_count": null,
   "metadata": {
    "collapsed": true
   },
   "outputs": [],
   "source": [
    "import numpy as np"
   ]
  },
  {
   "cell_type": "markdown",
   "metadata": {},
   "source": [
    "### Non-singular matrix "
   ]
  },
  {
   "cell_type": "code",
   "execution_count": 111,
   "metadata": {
    "collapsed": true
   },
   "outputs": [],
   "source": [
    "A = np.array([\n",
    "        [1, 2, 3],\n",
    "        [3, 2, 1],\n",
    "        [-1, -2, -6],\n",
    "    ])\n",
    "b = np.array([0, 1, -1])"
   ]
  },
  {
   "cell_type": "code",
   "execution_count": 112,
   "metadata": {
    "collapsed": false
   },
   "outputs": [
    {
     "data": {
      "text/plain": [
       "array([ 0.83333333, -0.91666667,  0.33333333])"
      ]
     },
     "execution_count": 112,
     "metadata": {},
     "output_type": "execute_result"
    }
   ],
   "source": [
    "np.linalg.solve(A, b)"
   ]
  },
  {
   "cell_type": "code",
   "execution_count": 113,
   "metadata": {
    "collapsed": false
   },
   "outputs": [
    {
     "name": "stdout",
     "output_type": "stream",
     "text": [
      "[ 7.74140616  2.96605874  0.52261473]\n"
     ]
    }
   ],
   "source": [
    "U, w, VT = np.linalg.svd(A)\n",
    "print(w)"
   ]
  },
  {
   "cell_type": "code",
   "execution_count": 114,
   "metadata": {
    "collapsed": false
   },
   "outputs": [
    {
     "data": {
      "text/plain": [
       "array([[ 1.,  2.,  3.],\n",
       "       [ 3.,  2.,  1.],\n",
       "       [-1., -2., -6.]])"
      ]
     },
     "execution_count": 114,
     "metadata": {},
     "output_type": "execute_result"
    }
   ],
   "source": [
    "U.dot(np.diag(w).dot(VT))"
   ]
  },
  {
   "cell_type": "code",
   "execution_count": 115,
   "metadata": {
    "collapsed": false
   },
   "outputs": [
    {
     "data": {
      "text/plain": [
       "True"
      ]
     },
     "execution_count": 115,
     "metadata": {},
     "output_type": "execute_result"
    }
   ],
   "source": [
    "np.allclose(A, U.dot(np.diag(w).dot(VT)))"
   ]
  },
  {
   "cell_type": "code",
   "execution_count": 116,
   "metadata": {
    "collapsed": false
   },
   "outputs": [
    {
     "name": "stdout",
     "output_type": "stream",
     "text": [
      "[ 0.1291755   0.33714774  1.91345545]\n"
     ]
    }
   ],
   "source": [
    "inv_w = 1/w\n",
    "print(inv_w)"
   ]
  },
  {
   "cell_type": "code",
   "execution_count": 117,
   "metadata": {
    "collapsed": false
   },
   "outputs": [
    {
     "name": "stdout",
     "output_type": "stream",
     "text": [
      "[[ -8.33333333e-01   5.00000000e-01  -3.33333333e-01]\n",
      " [  1.41666667e+00  -2.50000000e-01   6.66666667e-01]\n",
      " [ -3.33333333e-01  -1.11022302e-16  -3.33333333e-01]]\n"
     ]
    }
   ],
   "source": [
    "A_inv = VT.T.dot(np.diag(inv_w)).dot(U.T)\n",
    "print(A_inv)"
   ]
  },
  {
   "cell_type": "code",
   "execution_count": 118,
   "metadata": {
    "collapsed": false
   },
   "outputs": [
    {
     "data": {
      "text/plain": [
       "True"
      ]
     },
     "execution_count": 118,
     "metadata": {},
     "output_type": "execute_result"
    }
   ],
   "source": [
    "np.allclose(A_inv, np.linalg.inv(A))"
   ]
  },
  {
   "cell_type": "code",
   "execution_count": 119,
   "metadata": {
    "collapsed": false
   },
   "outputs": [
    {
     "name": "stdout",
     "output_type": "stream",
     "text": [
      "[ 0.83333333 -0.91666667  0.33333333]\n"
     ]
    },
    {
     "data": {
      "text/plain": [
       "True"
      ]
     },
     "execution_count": 119,
     "metadata": {},
     "output_type": "execute_result"
    }
   ],
   "source": [
    "x = A_inv.dot(b)\n",
    "print(x)\n",
    "np.allclose(x, np.linalg.solve(A, b))"
   ]
  },
  {
   "cell_type": "code",
   "execution_count": 120,
   "metadata": {
    "collapsed": false
   },
   "outputs": [
    {
     "data": {
      "text/plain": [
       "array([ -6.66133815e-16,   1.00000000e+00,  -1.00000000e+00])"
      ]
     },
     "execution_count": 120,
     "metadata": {},
     "output_type": "execute_result"
    }
   ],
   "source": [
    "A.dot(x)"
   ]
  },
  {
   "cell_type": "code",
   "execution_count": 121,
   "metadata": {
    "collapsed": false
   },
   "outputs": [
    {
     "data": {
      "text/plain": [
       "True"
      ]
     },
     "execution_count": 121,
     "metadata": {},
     "output_type": "execute_result"
    }
   ],
   "source": [
    "np.allclose(A.dot(x), b)"
   ]
  },
  {
   "cell_type": "markdown",
   "metadata": {},
   "source": [
    "### Singular matrix"
   ]
  },
  {
   "cell_type": "code",
   "execution_count": 376,
   "metadata": {
    "collapsed": false
   },
   "outputs": [],
   "source": [
    "C = np.array([\n",
    "     [ 0.87119148,  0.9330127,  -0.9330127],\n",
    "     [ 1.1160254,   0.04736717, -0.04736717],\n",
    "     [ 1.1160254,   0.04736717, -0.04736717],\n",
    "    ])\n",
    "b1 = np.array([ 2.3674474,  -0.24813392, -0.24813392])\n",
    "b2 = np.array([0, 1, 1])"
   ]
  },
  {
   "cell_type": "code",
   "execution_count": 310,
   "metadata": {
    "collapsed": true
   },
   "outputs": [
    {
     "ename": "LinAlgError",
     "evalue": "Singular matrix",
     "output_type": "error",
     "traceback": [
      "\u001b[0;31m---------------------------------------------------------------------------\u001b[0m",
      "\u001b[0;31mLinAlgError\u001b[0m                               Traceback (most recent call last)",
      "\u001b[0;32m<ipython-input-310-d689ff5cc60e>\u001b[0m in \u001b[0;36m<module>\u001b[0;34m()\u001b[0m\n\u001b[0;32m----> 1\u001b[0;31m \u001b[0mnp\u001b[0m\u001b[0;34m.\u001b[0m\u001b[0mlinalg\u001b[0m\u001b[0;34m.\u001b[0m\u001b[0msolve\u001b[0m\u001b[0;34m(\u001b[0m\u001b[0mC\u001b[0m\u001b[0;34m,\u001b[0m \u001b[0mb\u001b[0m\u001b[0;34m)\u001b[0m\u001b[0;34m\u001b[0m\u001b[0m\n\u001b[0m",
      "\u001b[0;32m/opt/local/Library/Frameworks/Python.framework/Versions/3.5/lib/python3.5/site-packages/numpy/linalg/linalg.py\u001b[0m in \u001b[0;36msolve\u001b[0;34m(a, b)\u001b[0m\n\u001b[1;32m    382\u001b[0m     \u001b[0msignature\u001b[0m \u001b[0;34m=\u001b[0m \u001b[0;34m'DD->D'\u001b[0m \u001b[0;32mif\u001b[0m \u001b[0misComplexType\u001b[0m\u001b[0;34m(\u001b[0m\u001b[0mt\u001b[0m\u001b[0;34m)\u001b[0m \u001b[0;32melse\u001b[0m \u001b[0;34m'dd->d'\u001b[0m\u001b[0;34m\u001b[0m\u001b[0m\n\u001b[1;32m    383\u001b[0m     \u001b[0mextobj\u001b[0m \u001b[0;34m=\u001b[0m \u001b[0mget_linalg_error_extobj\u001b[0m\u001b[0;34m(\u001b[0m\u001b[0m_raise_linalgerror_singular\u001b[0m\u001b[0;34m)\u001b[0m\u001b[0;34m\u001b[0m\u001b[0m\n\u001b[0;32m--> 384\u001b[0;31m     \u001b[0mr\u001b[0m \u001b[0;34m=\u001b[0m \u001b[0mgufunc\u001b[0m\u001b[0;34m(\u001b[0m\u001b[0ma\u001b[0m\u001b[0;34m,\u001b[0m \u001b[0mb\u001b[0m\u001b[0;34m,\u001b[0m \u001b[0msignature\u001b[0m\u001b[0;34m=\u001b[0m\u001b[0msignature\u001b[0m\u001b[0;34m,\u001b[0m \u001b[0mextobj\u001b[0m\u001b[0;34m=\u001b[0m\u001b[0mextobj\u001b[0m\u001b[0;34m)\u001b[0m\u001b[0;34m\u001b[0m\u001b[0m\n\u001b[0m\u001b[1;32m    385\u001b[0m \u001b[0;34m\u001b[0m\u001b[0m\n\u001b[1;32m    386\u001b[0m     \u001b[0;32mreturn\u001b[0m \u001b[0mwrap\u001b[0m\u001b[0;34m(\u001b[0m\u001b[0mr\u001b[0m\u001b[0;34m.\u001b[0m\u001b[0mastype\u001b[0m\u001b[0;34m(\u001b[0m\u001b[0mresult_t\u001b[0m\u001b[0;34m,\u001b[0m \u001b[0mcopy\u001b[0m\u001b[0;34m=\u001b[0m\u001b[0;32mFalse\u001b[0m\u001b[0;34m)\u001b[0m\u001b[0;34m)\u001b[0m\u001b[0;34m\u001b[0m\u001b[0m\n",
      "\u001b[0;32m/opt/local/Library/Frameworks/Python.framework/Versions/3.5/lib/python3.5/site-packages/numpy/linalg/linalg.py\u001b[0m in \u001b[0;36m_raise_linalgerror_singular\u001b[0;34m(err, flag)\u001b[0m\n\u001b[1;32m     88\u001b[0m \u001b[0;34m\u001b[0m\u001b[0m\n\u001b[1;32m     89\u001b[0m \u001b[0;32mdef\u001b[0m \u001b[0m_raise_linalgerror_singular\u001b[0m\u001b[0;34m(\u001b[0m\u001b[0merr\u001b[0m\u001b[0;34m,\u001b[0m \u001b[0mflag\u001b[0m\u001b[0;34m)\u001b[0m\u001b[0;34m:\u001b[0m\u001b[0;34m\u001b[0m\u001b[0m\n\u001b[0;32m---> 90\u001b[0;31m     \u001b[0;32mraise\u001b[0m \u001b[0mLinAlgError\u001b[0m\u001b[0;34m(\u001b[0m\u001b[0;34m\"Singular matrix\"\u001b[0m\u001b[0;34m)\u001b[0m\u001b[0;34m\u001b[0m\u001b[0m\n\u001b[0m\u001b[1;32m     91\u001b[0m \u001b[0;34m\u001b[0m\u001b[0m\n\u001b[1;32m     92\u001b[0m \u001b[0;32mdef\u001b[0m \u001b[0m_raise_linalgerror_nonposdef\u001b[0m\u001b[0;34m(\u001b[0m\u001b[0merr\u001b[0m\u001b[0;34m,\u001b[0m \u001b[0mflag\u001b[0m\u001b[0;34m)\u001b[0m\u001b[0;34m:\u001b[0m\u001b[0;34m\u001b[0m\u001b[0m\n",
      "\u001b[0;31mLinAlgError\u001b[0m: Singular matrix"
     ]
    }
   ],
   "source": [
    "np.linalg.solve(C, b1)"
   ]
  },
  {
   "cell_type": "code",
   "execution_count": 377,
   "metadata": {
    "collapsed": false
   },
   "outputs": [
    {
     "name": "stdout",
     "output_type": "stream",
     "text": [
      "[  1.99999999e+00   1.00000000e+00   2.46519033e-32]\n"
     ]
    }
   ],
   "source": [
    "U, w, VT = np.linalg.svd(C)\n",
    "print(w)"
   ]
  },
  {
   "cell_type": "code",
   "execution_count": 378,
   "metadata": {
    "collapsed": false
   },
   "outputs": [
    {
     "data": {
      "text/plain": [
       "array([[ 0.87119148,  0.9330127 , -0.9330127 ],\n",
       "       [ 1.1160254 ,  0.04736717, -0.04736717],\n",
       "       [ 1.1160254 ,  0.04736717, -0.04736717]])"
      ]
     },
     "execution_count": 378,
     "metadata": {},
     "output_type": "execute_result"
    }
   ],
   "source": [
    "U.dot(np.diag(w).dot(VT))"
   ]
  },
  {
   "cell_type": "code",
   "execution_count": 379,
   "metadata": {
    "collapsed": false
   },
   "outputs": [
    {
     "data": {
      "text/plain": [
       "True"
      ]
     },
     "execution_count": 379,
     "metadata": {},
     "output_type": "execute_result"
    }
   ],
   "source": [
    "np.allclose(C, U.dot(np.diag(w).dot(VT)))"
   ]
  },
  {
   "cell_type": "code",
   "execution_count": 380,
   "metadata": {
    "collapsed": false
   },
   "outputs": [
    {
     "name": "stdout",
     "output_type": "stream",
     "text": [
      "[False False  True]\n"
     ]
    }
   ],
   "source": [
    "singular_values = np.abs(w) < 1e-12\n",
    "print(singular_values)"
   ]
  },
  {
   "cell_type": "code",
   "execution_count": 381,
   "metadata": {
    "collapsed": false
   },
   "outputs": [
    {
     "name": "stdout",
     "output_type": "stream",
     "text": [
      "[ 0.5  1.   0. ]\n"
     ]
    }
   ],
   "source": [
    "inv_w = 1/w\n",
    "inv_w[singular_values] = 0\n",
    "print(inv_w)"
   ]
  },
  {
   "cell_type": "code",
   "execution_count": 382,
   "metadata": {
    "collapsed": false
   },
   "outputs": [
    {
     "name": "stdout",
     "output_type": "stream",
     "text": [
      "[[-0.04736717  0.46650635  0.46650635]\n",
      " [ 0.5580127  -0.21779787 -0.21779787]\n",
      " [-0.5580127   0.21779787  0.21779787]]\n"
     ]
    }
   ],
   "source": [
    "C_inv = VT.T.dot(np.diag(inv_w)).dot(U.T)\n",
    "print(C_inv)"
   ]
  },
  {
   "cell_type": "code",
   "execution_count": 383,
   "metadata": {
    "collapsed": false
   },
   "outputs": [
    {
     "name": "stdout",
     "output_type": "stream",
     "text": [
      "[-0.34365138  1.4291518  -1.4291518 ]\n"
     ]
    }
   ],
   "source": [
    "x1 = C_inv.dot(b1)\n",
    "print(x1)"
   ]
  },
  {
   "cell_type": "code",
   "execution_count": 384,
   "metadata": {
    "collapsed": false,
    "scrolled": true
   },
   "outputs": [
    {
     "data": {
      "text/plain": [
       "array([ 2.3674474 , -0.24813392, -0.24813392])"
      ]
     },
     "execution_count": 384,
     "metadata": {},
     "output_type": "execute_result"
    }
   ],
   "source": [
    "C.dot(x1) "
   ]
  },
  {
   "cell_type": "code",
   "execution_count": 385,
   "metadata": {
    "collapsed": false
   },
   "outputs": [
    {
     "data": {
      "text/plain": [
       "array([ -4.44089210e-16,   4.99600361e-16,   4.99600361e-16])"
      ]
     },
     "execution_count": 385,
     "metadata": {},
     "output_type": "execute_result"
    }
   ],
   "source": [
    "C.dot(x1) - b1"
   ]
  },
  {
   "cell_type": "markdown",
   "metadata": {},
   "source": [
    "* The columns $U_{\\cdot, i}$ of $\\mathsf{U}$ (i.e. `U.T[i]` or `U[:, i]`) corresponding to non-zero $w_i$, i.e. $\\{i : w_i \\neq 0\\}$, form the basis for the _range_ of the matrix $\\mathsf{A}$.\n",
    "* The columns $V_{\\cdot, i}$ of $\\mathsf{V}$ (i.e. `V.T[i]` or `V[:, i]`) corresponding to zero $w_i$, i.e. $\\{i : w_i = 0\\}$, form the basis for the _null space_ of the matrix $\\mathsf{A}$.\n",
    "\n",
    "Note that `x1` can be written as a linear combination of `U.T[0]` and `U.T[1]`:"
   ]
  },
  {
   "cell_type": "code",
   "execution_count": 408,
   "metadata": {
    "collapsed": false
   },
   "outputs": [
    {
     "data": {
      "text/plain": [
       "array([-0.34365138,  1.4291518 , -1.4291518 ])"
      ]
     },
     "execution_count": 408,
     "metadata": {},
     "output_type": "execute_result"
    }
   ],
   "source": [
    "x1"
   ]
  },
  {
   "cell_type": "code",
   "execution_count": 402,
   "metadata": {
    "collapsed": false,
    "scrolled": true
   },
   "outputs": [
    {
     "data": {
      "text/plain": [
       "array([[ -7.07106782e-01,  -4.99999999e-01,  -4.99999999e-01],\n",
       "       [  7.07106780e-01,  -5.00000001e-01,  -5.00000001e-01],\n",
       "       [ -2.47010760e-16,  -7.07106781e-01,   7.07106781e-01]])"
      ]
     },
     "execution_count": 402,
     "metadata": {},
     "output_type": "execute_result"
    }
   ],
   "source": [
    "U.T"
   ]
  },
  {
   "cell_type": "code",
   "execution_count": 410,
   "metadata": {
    "collapsed": false
   },
   "outputs": [
    {
     "data": {
      "text/plain": [
       "array([[-0.8660254 , -0.35355339,  0.35355339],\n",
       "       [-0.5       ,  0.61237244, -0.61237244],\n",
       "       [-0.        , -0.70710678, -0.70710678]])"
      ]
     },
     "execution_count": 410,
     "metadata": {},
     "output_type": "execute_result"
    }
   ],
   "source": [
    "VT"
   ]
  },
  {
   "cell_type": "code",
   "execution_count": 411,
   "metadata": {
    "collapsed": false
   },
   "outputs": [
    {
     "data": {
      "text/plain": [
       "(0.24299822382783731, -0.24299822305983199)"
      ]
     },
     "execution_count": 411,
     "metadata": {},
     "output_type": "execute_result"
    }
   ],
   "source": [
    "U.T[0].dot(x1), U.T[1].dot(x1)"
   ]
  },
  {
   "cell_type": "code",
   "execution_count": 412,
   "metadata": {
    "collapsed": false
   },
   "outputs": [
    {
     "data": {
      "text/plain": [
       "2.2204460492503131e-16"
      ]
     },
     "execution_count": 412,
     "metadata": {},
     "output_type": "execute_result"
    }
   ],
   "source": [
    "VT[2].dot(x1)"
   ]
  },
  {
   "cell_type": "code",
   "execution_count": 413,
   "metadata": {
    "collapsed": false
   },
   "outputs": [
    {
     "data": {
      "text/plain": [
       "array([-0.34365138, -1.41421356, -1.41421356])"
      ]
     },
     "execution_count": 413,
     "metadata": {},
     "output_type": "execute_result"
    }
   ],
   "source": [
    "U.T[0].dot(x1) * U.T[0] + U.T[1].dot(x1) * U.T[1] + 2 * VT[2]"
   ]
  },
  {
   "cell_type": "markdown",
   "metadata": {},
   "source": [
    "The solution vector $x_2$ is in the null space: "
   ]
  },
  {
   "cell_type": "code",
   "execution_count": 349,
   "metadata": {
    "collapsed": false
   },
   "outputs": [
    {
     "name": "stdout",
     "output_type": "stream",
     "text": [
      "[ 0.9330127  -0.43559574  0.43559574]\n",
      "[ -3.33066907e-16   1.00000000e+00   1.00000000e+00]\n",
      "[ -3.33066907e-16  -3.33066907e-16  -3.33066907e-16]\n"
     ]
    }
   ],
   "source": [
    "x2 = C_inv.dot(b2)\n",
    "print(x2)\n",
    "print(C.dot(x2))\n",
    "print(C.dot(x2) - b2)"
   ]
  },
  {
   "cell_type": "code",
   "execution_count": 352,
   "metadata": {
    "collapsed": false
   },
   "outputs": [
    {
     "data": {
      "text/plain": [
       "array([ -3.55271368e-15,   1.00000000e+01,   1.00000000e+01])"
      ]
     },
     "execution_count": 352,
     "metadata": {},
     "output_type": "execute_result"
    }
   ],
   "source": [
    "C.dot(10*x2)"
   ]
  },
  {
   "cell_type": "code",
   "execution_count": 350,
   "metadata": {
    "collapsed": false
   },
   "outputs": [
    {
     "data": {
      "text/plain": [
       "array([  0.00000000e+00,  -6.93889390e-18,  -6.93889390e-18])"
      ]
     },
     "execution_count": 350,
     "metadata": {},
     "output_type": "execute_result"
    }
   ],
   "source": [
    "C.dot(VT[2])"
   ]
  },
  {
   "cell_type": "code",
   "execution_count": 351,
   "metadata": {
    "collapsed": false,
    "scrolled": true
   },
   "outputs": [
    {
     "data": {
      "text/plain": [
       "array([-0.        , -0.70710678, -0.70710678])"
      ]
     },
     "execution_count": 351,
     "metadata": {},
     "output_type": "execute_result"
    }
   ],
   "source": [
    "VT[2]"
   ]
  },
  {
   "cell_type": "code",
   "execution_count": 138,
   "metadata": {
    "collapsed": false
   },
   "outputs": [],
   "source": [
    "null_basis = VT[singular_values]"
   ]
  },
  {
   "cell_type": "code",
   "execution_count": 140,
   "metadata": {
    "collapsed": false,
    "scrolled": false
   },
   "outputs": [
    {
     "data": {
      "text/plain": [
       "array([[  0.00000000e+00],\n",
       "       [  4.44089210e-16],\n",
       "       [  0.00000000e+00]])"
      ]
     },
     "execution_count": 140,
     "metadata": {},
     "output_type": "execute_result"
    }
   ],
   "source": [
    "C.dot(null_basis.T)"
   ]
  },
  {
   "cell_type": "markdown",
   "metadata": {},
   "source": [
    "## SVD for fewer equations than unknowns\n",
    "$M$ equations for $N$ unknowns with $M < N$:\n",
    "\n",
    "* no unique solutions (underdetermined)\n",
    "* $N-M$ dimensional family of solutions\n",
    "* SVD: at least $N-M$ zero or negligible $w_j$: columns of $\\mathsf{V}$ corresponding to singular $w_j$ span the solution space when added to a particular solution."
   ]
  },
  {
   "cell_type": "markdown",
   "metadata": {},
   "source": [
    "## SVD for more equations than unknowns\n",
    "$M$ equations for $N$ unknowns with $M > N$:\n",
    "\n",
    "* no exact solutions in general (overdetermined)\n",
    "* but: SVD can provide best solution in the least-square sense\n",
    "  $$\n",
    "  \\mathbf{x} = \\mathsf{V}\\, \\text{diag}(1/w_j)\\, \\mathsf{U}^{T}\\, \\mathbf{b}\n",
    "  $$\n",
    "  where \n",
    "\n",
    "  * $\\mathbf{x}$ is a $N$-dimensional vector of the unknowns,\n",
    "  * $\\mathsf{V}$ is a $N \\times M$ matrix\n",
    "  * the $w_j$ form a square $M \\times M$ matrix,\n",
    "  * $\\mathsf{U}$ is a $N \\times M$ matrix (and $\\mathsf{U}^T$ is a $M \\times N$ matrix), and\n",
    "  * $\\mathbf{b}$ is the $M$-dimensional vector of the given values\n",
    "  \n",
    "It provides the $\\mathbf{x}$ that minimizes the residual\n",
    "\n",
    "$$\n",
    "\\mathbf{r} := |\\mathsf{A}\\mathbf{x} - \\mathbf{b}|.\n",
    "$$\n"
   ]
  },
  {
   "cell_type": "markdown",
   "metadata": {},
   "source": [
    "### Linear least-squares fitting "
   ]
  },
  {
   "cell_type": "markdown",
   "metadata": {},
   "source": [
    "This is the *liner least-squares fitting problem*: Given data points $(x_i, y_i)$, fit to a linear model $y(x)$, which can be any linear combination of functions of $x$.\n",
    "\n",
    "For example: \n",
    "$$\n",
    "y(x) = a_1 + a_2 x + a_3 x^2 + \\dots + a_M x^{M-1}\n",
    "$$\n",
    "or in general\n",
    "$$\n",
    "y(x) = \\sum_{k=1}^M a_k X_k(x)\n",
    "$$\n",
    "\n",
    "The goal is to determine the coefficients $a_k$."
   ]
  },
  {
   "cell_type": "markdown",
   "metadata": {},
   "source": [
    "Define the **merit function**\n",
    "$$\n",
    "\\chi^2 = \\sum_{i=1}^N \\left[ \\frac{y_i - \\sum_{k=1}^M a_k X_k(x_i)}{\\sigma_i}\\right]^2\n",
    "$$\n",
    "(sum of squared deviations, weighted with standard deviations $\\sigma_i$ on the $y_i$)."
   ]
  },
  {
   "cell_type": "markdown",
   "metadata": {},
   "source": [
    "Best parameters $a_k$ are the ones that *minimize $\\chi^2$*."
   ]
  },
  {
   "cell_type": "markdown",
   "metadata": {},
   "source": [
    "*Design matrix* $\\mathsf{A}$ ($N \\times M$, $N \\geq M$), vector of measurements $\\mathbf{b}$ ($N$-dim) and parameter vector $\\mathbf{a}$ ($M$-dim):\n",
    "\n",
    "\\begin{align}\n",
    "A_{ij} &= \\frac{X_j(x_i)}{\\sigma_i}\\\\\n",
    "b_i &= \\frac{y_i}{\\sigma_i}\\\\\n",
    "\\mathbf{a} &= (a_1, a_2, \\dots, a_M)\n",
    "\\end{align}\n"
   ]
  },
  {
   "cell_type": "markdown",
   "metadata": {},
   "source": [
    "Minimum occurs when the derivative vanishes:\n",
    "$$\n",
    "0 = \\frac{\\partial\\chi^2}{\\partial a_k} = \\sum_{i=1}^N {\\sigma_i}^{-2} \\left[ y_i - \\sum_{k=1}^M a_k X_k(x_i) \\right] X_k(x_i), \\quad 1 \\leq k \\leq M\n",
    "$$\n",
    "($M$ coupled equations)\n",
    "\\begin{align}\n",
    "\\sum_{j=1}^{M} \\alpha_{kj} a_j &= \\beta_k\\\\\n",
    "\\mathsf{\\alpha}\\mathbf{a} = \\mathsf{\\beta}\n",
    "\\end{align}\n",
    "with the $M \\times M$ matrix\n",
    "\\begin{align}\n",
    "\\alpha_{kj} &= \\sum_{i=1}^N \\frac{X_j(x_i) X_k(x_i)}{\\sigma_i^2}\\\\\n",
    "\\mathsf{\\alpha} &= \\mathsf{A}^T \\mathsf{A}\n",
    "\\end{align}\n",
    "and the vector of length $M$\n",
    "\\begin{align}\n",
    "\\beta_{k} &= \\sum_{i=1}^N \\frac{y_i X_k(x_i)}{\\sigma_i^2}\\\\\n",
    "\\mathsf{\\beta} &= \\mathsf{A}^T \\mathbf{b}\n",
    "\\end{align}\n",
    "\n",
    "The inverse of $\\mathsf{\\alpha}$ is related to the uncertainties in the parameters:\n",
    "$$\n",
    "\\mathsf{C} := \\mathsf{\\alpha}^{-1}\n",
    "$$\n",
    "in particular\n",
    "$$\n",
    "\\sigma(a_i) = C_ii\n",
    "$$\n",
    "(and the $C_{ij}$ are the co-variances)."
   ]
  },
  {
   "cell_type": "markdown",
   "metadata": {},
   "source": [
    "#### Solution of the linear least-squares fitting problem with SVD\n",
    "We need to solve the overdetermined system of $M$ coupled equations\n",
    "\\begin{align}\n",
    "\\sum_{j=1}^{M} \\alpha_{kj} a_j &= \\beta_k\\\\\n",
    "\\mathsf{\\alpha}\\mathbf{a} = \\mathsf{\\beta}\n",
    "\\end{align}\n",
    "\n",
    "SVD finds $\\mathbf{a}$ that minimizes\n",
    "$$\n",
    "\\chi^2 = |\\mathsf{A}\\mathbf{a} - \\mathbf{b}|\n",
    "$$"
   ]
  },
  {
   "cell_type": "markdown",
   "metadata": {},
   "source": [
    "The errors are\n",
    "$$\n",
    "\\sigma^2(a_j) = \\sum_{i=1}^{M} \\left(\\frac{V_{ji}}{w_i}\\right)^2\n",
    "$$"
   ]
  },
  {
   "cell_type": "markdown",
   "metadata": {},
   "source": [
    "#### Example\n",
    "Synthetic data \n",
    "\n",
    "$$\n",
    "y(x) = 3\\sin x - 2\\sin 3x + \\sin 4x\n",
    "$$\n",
    "\n",
    "with noise $r$ added (uniform in range $-5 < r < 5$)."
   ]
  },
  {
   "cell_type": "code",
   "execution_count": 2,
   "metadata": {
    "collapsed": true
   },
   "outputs": [],
   "source": [
    "import matplotlib\n",
    "import matplotlib.pyplot as plt\n",
    "%matplotlib inline\n",
    "matplotlib.style.use('ggplot')\n",
    "\n",
    "import numpy as np"
   ]
  },
  {
   "cell_type": "code",
   "execution_count": 3,
   "metadata": {
    "collapsed": true
   },
   "outputs": [],
   "source": [
    "def signal(x, noise=0):\n",
    "    r = np.random.uniform(-noise, noise, len(x))\n",
    "    return 3*np.sin(x) - 2*np.sin(3*x) + np.sin(4*x) + r"
   ]
  },
  {
   "cell_type": "code",
   "execution_count": 6,
   "metadata": {
    "collapsed": false
   },
   "outputs": [],
   "source": [
    "X = np.linspace(-10, 10, 500)\n",
    "Y = signal(X, noise=5)"
   ]
  },
  {
   "cell_type": "code",
   "execution_count": 7,
   "metadata": {
    "collapsed": false
   },
   "outputs": [
    {
     "data": {
      "text/plain": [
       "[<matplotlib.lines.Line2D at 0x10765da90>,\n",
       " <matplotlib.lines.Line2D at 0x10765dc50>]"
      ]
     },
     "execution_count": 7,
     "metadata": {},
     "output_type": "execute_result"
    },
    {
     "data": {
      "image/png": "[encoded data removed]",
      "text/plain": [
       "<matplotlib.figure.Figure at 0x105f426a0>"
      ]
     },
     "metadata": {},
     "output_type": "display_data"
    }
   ],
   "source": [
    "plt.plot(X, Y, 'r-', X, signal(X, noise=0), 'k--')"
   ]
  },
  {
   "cell_type": "code",
   "execution_count": 8,
   "metadata": {
    "collapsed": true
   },
   "outputs": [],
   "source": [
    "def fitfunc(x, a):\n",
    "    return a[0]*np.cos(x) + a[1]*np.sin(x) + \\\n",
    "           a[2]*np.cos(2*x) + a[3]*np.sin(2*x) + \\\n",
    "           a[4]*np.cos(3*x) + a[5]*np.sin(3*x) + \\\n",
    "           a[6]*np.cos(4*x) + a[7]*np.sin(4*x)\n",
    "\n",
    "def basisfuncs(x):\n",
    "    return np.array([np.cos(x), np.sin(x), \n",
    "                     np.cos(2*x), np.sin(2*x), \n",
    "                     np.cos(3*x), np.sin(3*x), \n",
    "                     np.cos(4*x), np.sin(4*x)])"
   ]
  },
  {
   "cell_type": "code",
   "execution_count": 9,
   "metadata": {
    "collapsed": true
   },
   "outputs": [],
   "source": [
    "M = 8\n",
    "sigma = 1.\n",
    "alpha = np.zeros((M, M))\n",
    "beta = np.zeros(M)\n",
    "for x in X:\n",
    "    Xk = basisfuncs(x)\n",
    "    for k in range(M):\n",
    "        for j in range(M):\n",
    "            alpha[k, j] += Xk[k]*Xk[j]\n",
    "for x, y in zip(X, Y):\n",
    "    beta += y * basisfuncs(x)/sigma"
   ]
  },
  {
   "cell_type": "code",
   "execution_count": 10,
   "metadata": {
    "collapsed": true
   },
   "outputs": [],
   "source": [
    "U, w, VT = np.linalg.svd(alpha)\n",
    "V = VT.T"
   ]
  },
  {
   "cell_type": "markdown",
   "metadata": {},
   "source": [
    "In this case, the singular values do not immediately show if any basis functions are superfluous (this would be the case for values close to 0)."
   ]
  },
  {
   "cell_type": "code",
   "execution_count": 11,
   "metadata": {
    "collapsed": false
   },
   "outputs": [
    {
     "data": {
      "text/plain": [
       "array([ 296.92809624,  282.94804954,  243.7895787 ,  235.7300808 ,\n",
       "        235.15938555,  235.14838812,  235.14821093,  235.14821013])"
      ]
     },
     "execution_count": 11,
     "metadata": {},
     "output_type": "execute_result"
    }
   ],
   "source": [
    "w"
   ]
  },
  {
   "cell_type": "markdown",
   "metadata": {},
   "source": [
    "... nevertheless, remember to routinely mask any singular values or close to singular values:"
   ]
  },
  {
   "cell_type": "code",
   "execution_count": 12,
   "metadata": {
    "collapsed": false
   },
   "outputs": [],
   "source": [
    "w_inv = 1/w\n",
    "w_inv[np.abs(w) < 1e-12] = 0\n",
    "alpha_inv = V.dot(np.diag(w_inv)).dot(U.T)"
   ]
  },
  {
   "cell_type": "markdown",
   "metadata": {},
   "source": [
    "Compare the fitted values to the original parameters $a_j = 0, +3, 0, 0, 0, -2, 0, +1$."
   ]
  },
  {
   "cell_type": "code",
   "execution_count": 15,
   "metadata": {
    "collapsed": false
   },
   "outputs": [
    {
     "name": "stdout",
     "output_type": "stream",
     "text": [
      "[-0.01571487  3.15536126  0.14649695  0.27795436  0.04792114 -2.17431709\n",
      " -0.38617743  0.72017528]\n"
     ]
    }
   ],
   "source": [
    "a_values = alpha_inv.dot(beta)\n",
    "print(a_values)"
   ]
  },
  {
   "cell_type": "code",
   "execution_count": 14,
   "metadata": {
    "collapsed": false
   },
   "outputs": [
    {
     "data": {
      "text/plain": [
       "[<matplotlib.lines.Line2D at 0x1075cbba8>]"
      ]
     },
     "execution_count": 14,
     "metadata": {},
     "output_type": "execute_result"
    },
    {
     "data": {
      "image/png": "[encoded data removed]",
      "text/plain": [
       "<matplotlib.figure.Figure at 0x1075cbbe0>"
      ]
     },
     "metadata": {},
     "output_type": "display_data"
    }
   ],
   "source": [
    "plt.plot(X, fitfunc(X, a_values), 'b-')\n",
    "plt.plot(X, signal(X, noise=0), 'k--')"
   ]
  },
  {
   "cell_type": "code",
   "execution_count": null,
   "metadata": {
    "collapsed": true
   },
   "outputs": [],
   "source": []
  }
 ],
 "metadata": {
  "anaconda-cloud": {},
  "kernelspec": {
   "display_name": "Python [default]",
   "language": "python",
   "name": "python3"
  },
  "language_info": {
   "codemirror_mode": {
    "name": "ipython",
    "version": 3
   },
   "file_extension": ".py",
   "mimetype": "text/x-python",
   "name": "python",
   "nbconvert_exporter": "python",
   "pygments_lexer": "ipython3",
   "version": "3.5.2"
  }
 },
 "nbformat": 4,
 "nbformat_minor": 0
}
