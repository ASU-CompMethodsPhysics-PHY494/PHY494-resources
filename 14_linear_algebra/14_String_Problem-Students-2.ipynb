{
 "cells": [
  {
   "cell_type": "markdown",
   "metadata": {},
   "source": [
    "# 14 Linear Algebra: String Problem — Students (2)\n",
    "## Motivating problem: Two masses on three strings\n",
    "Two masses $M_1$ and $M_2$ are hung from a horizontal rod with length $L$ in such a way that a rope of length $L_1$ connects the left end of the rod to $M_1$, a rope of length $L_2$ connects $M_1$ and $M_2$, and a rope of length $L_3$ connects $M_2$ to the right end of the rod. The system is at rest (in equilibrium under gravity).\n",
    "\n",
    "![Schematic of the 1 rod/2 masses/3 strings problem.](1rod2masses3strings.svg)\n",
    "\n",
    "Find the angles that the ropes make with the rod and the tension forces in the ropes."
   ]
  },
  {
   "cell_type": "markdown",
   "metadata": {},
   "source": [
    "## Theoretical background\n",
    "Treat $\\sin\\theta_i$ and $\\cos\\theta_i$ together with $T_i$, $1\\leq i \\leq 3$, as unknowns that have to simultaneously fulfill the nine equations\n",
    "\\begin{align}\n",
    "-T_1 \\cos\\theta_1 + T_2\\cos\\theta_2 &= 0\\\\\n",
    " T_1 \\sin\\theta_1 - T_2\\sin\\theta_2 - W_1 &= 0\\\\\n",
    "                   -T_2\\cos\\theta_2 + T_3\\cos\\theta_3 &= 0\\\\\n",
    "                    T_2\\sin\\theta_2 + T_3\\sin\\theta_3 - W_2 &= 0\\\\\n",
    " L_1\\cos\\theta_1 + L_2\\cos\\theta_2 + L_3\\cos\\theta_3 - L &= 0\\\\\n",
    "-L_1\\sin\\theta_1 -L_2\\sin\\theta_2 + L_3\\sin\\theta_3  &= 0\\\\\n",
    "\\sin^2\\theta_1 + \\cos^2\\theta_1 - 1 &= 0\\\\\n",
    "\\sin^2\\theta_2 + \\cos^2\\theta_2 - 1 &= 0\\\\\n",
    "\\sin^2\\theta_3 + \\cos^2\\theta_3 - 1 &= 0\n",
    "\\end{align}\n",
    "\n",
    "Consider the nine equations a vector function $\\mathbf{f}$ that takes a 9-vector $\\mathbf{x}$ of the unknowns as argument:\n",
    "\\begin{align}\n",
    "\\mathbf{f}(\\mathbf{x}) &= 0\\\\\n",
    "\\mathbf{x} &= \\left(\\begin{array}{c}\n",
    "x_0 \\\\ x_1 \\\\ x_2 \\\\ \n",
    "x_3 \\\\ x_4 \\\\ x_5 \\\\ \n",
    "x_6 \\\\ x_7 \\\\ x_8\n",
    "\\end{array}\\right) \n",
    " =\n",
    "\\left(\\begin{array}{c}\n",
    "\\sin\\theta_1 \\\\ \\sin\\theta_2 \\\\ \\sin\\theta_3 \\\\\n",
    "\\cos\\theta_1 \\\\ \\cos\\theta_2 \\\\ \\cos\\theta_3 \\\\\n",
    "T_1 \\\\ T_2 \\\\ T_3\n",
    "\\end{array}\\right) \\\\\n",
    "\\mathbf{L} &= \\left(\\begin{array}{c}\n",
    "L \\\\ L_1 \\\\ L_2 \\\\ L_3\n",
    "\\end{array}\\right), \\quad\n",
    "\\mathbf{W} = \\left(\\begin{array}{c}\n",
    "W_1 \\\\ W_2\n",
    "\\end{array}\\right)\n",
    "\\end{align}"
   ]
  },
  {
   "cell_type": "markdown",
   "metadata": {},
   "source": [
    "Solve with generalized Newton-Raphson:\n",
    "$$\n",
    "\\mathsf{J}(\\mathbf{x}) \\Delta\\mathbf{x} = -\\mathbf{f}(\\mathbf{x})\n",
    "$$\n",
    "and \n",
    "$$\n",
    "\\mathbf{x} \\leftarrow \\mathbf{x} + \\Delta\\mathbf{x}.\n",
    "$$"
   ]
  },
  {
   "cell_type": "markdown",
   "metadata": {},
   "source": [
    "## Problem setup\n",
    "Set the problem parameters and the objective function $\\mathbf{f}(\\mathbf{x})$"
   ]
  },
  {
   "cell_type": "code",
   "execution_count": 1,
   "metadata": {
    "collapsed": true
   },
   "outputs": [],
   "source": [
    "import numpy as np\n",
    "\n",
    "# problem parameters\n",
    "W = np.array([10, 20])\n",
    "L = np.array([8, 3, 4, 4])\n",
    "\n",
    "def f_2masses(x, L, W):\n",
    "    return np.array([\n",
    "            -x[6]*x[3] + x[7]*x[4],\n",
    "             x[6]*x[0] - x[7]*x[1] - W[0],\n",
    "            -x[7]*x[4] + x[8]*x[5],\n",
    "             x[7]*x[1] + x[8]*x[2] - W[1],\n",
    "             L[1]*x[3] + L[2]*x[4] + L[3]*x[5] - L[0],\n",
    "            -L[1]*x[0] - L[2]*x[1] + L[3]*x[2],\n",
    "            x[0]**2 + x[3]**2 - 1,\n",
    "            x[1]**2 + x[4]**2 - 1,\n",
    "            x[2]**2 + x[5]**2 - 1,\n",
    "        ])\n",
    "\n",
    "def fLW(x):\n",
    "    return f_2masses(x, L, W)"
   ]
  },
  {
   "cell_type": "markdown",
   "metadata": {},
   "source": [
    "### Initial values\n",
    "Guess some initial values (they don't have to fullfil the equations!):"
   ]
  },
  {
   "cell_type": "code",
   "execution_count": 2,
   "metadata": {
    "collapsed": true
   },
   "outputs": [],
   "source": [
    "# initial parameters\n",
    "theta0 = np.deg2rad([45, 45, 90])\n",
    "T0 = np.array([1, 1, 2])\n",
    "x0 = np.concatenate([np.sin(theta0), np.cos(theta0), T0])"
   ]
  },
  {
   "cell_type": "code",
   "execution_count": 3,
   "metadata": {
    "collapsed": false
   },
   "outputs": [
    {
     "data": {
      "text/plain": [
       "array([  7.07106781e-01,   7.07106781e-01,   1.00000000e+00,\n",
       "         7.07106781e-01,   7.07106781e-01,   6.12323400e-17,\n",
       "         1.00000000e+00,   1.00000000e+00,   2.00000000e+00])"
      ]
     },
     "execution_count": 3,
     "metadata": {},
     "output_type": "execute_result"
    }
   ],
   "source": [
    "x0"
   ]
  },
  {
   "cell_type": "code",
   "execution_count": 4,
   "metadata": {
    "collapsed": false
   },
   "outputs": [
    {
     "data": {
      "text/plain": [
       "array([  0.        , -10.        ,  -0.70710678, -17.29289322,\n",
       "        -3.05025253,  -0.94974747,   0.        ,   0.        ,   0.        ])"
      ]
     },
     "execution_count": 4,
     "metadata": {},
     "output_type": "execute_result"
    }
   ],
   "source": [
    "f_2masses(x0, L, W)"
   ]
  },
  {
   "cell_type": "markdown",
   "metadata": {},
   "source": [
    "### Visualization\n",
    "Plot the positions of the 2 masses and the 3 strings for any solution vector $\\mathbf{x}$:"
   ]
  },
  {
   "cell_type": "code",
   "execution_count": 5,
   "metadata": {
    "collapsed": false
   },
   "outputs": [],
   "source": [
    "import matplotlib\n",
    "import matplotlib.pyplot as plt\n",
    "%matplotlib inline"
   ]
  },
  {
   "cell_type": "code",
   "execution_count": 6,
   "metadata": {
    "collapsed": false
   },
   "outputs": [],
   "source": [
    "def plot_2masses(x, L, W, **kwargs):\n",
    "    \"\"\"Plot 2 mass/3 string problem for parameter vector x and parameters L and W\"\"\"\n",
    "    \n",
    "    kwargs.setdefault('linestyle', '-')\n",
    "    kwargs.setdefault('marker', 'o')\n",
    "    kwargs.setdefault('linewidth', 1)\n",
    "    \n",
    "    r0 = np.array([0, 0])\n",
    "    r1 = r0 + np.array([L[0], 0])\n",
    "    rod = np.transpose([r0, r1])\n",
    "    \n",
    "    L1 = r0 + np.array([L[1]*x[3], -L[1]*x[0]])\n",
    "    L2 = L1 + np.array([L[2]*x[4], -L[2]*x[1]])\n",
    "    L3 = L2 + np.array([L[3]*x[5], L[3]*x[2]])\n",
    "    strings = np.transpose([r0, L1, L2, L3])\n",
    "    \n",
    "    ax = plt.subplot(111)\n",
    "    ax.plot(rod[0], rod[1], color=\"black\", marker=\"d\", linewidth=4)\n",
    "    ax.plot(strings[0], strings[1], **kwargs)\n",
    "    ax.set_aspect(1)\n",
    "    return ax"
   ]
  },
  {
   "cell_type": "markdown",
   "metadata": {},
   "source": [
    "What does the initial guess look like?"
   ]
  },
  {
   "cell_type": "code",
   "execution_count": 7,
   "metadata": {
    "collapsed": false
   },
   "outputs": [
    {
     "data": {
      "text/plain": [
       "<matplotlib.axes._subplots.AxesSubplot at 0x106a70518>"
      ]
     },
     "execution_count": 7,
     "metadata": {},
     "output_type": "execute_result"
    },
    {
     "data": {
      "image/png": "[encoded data removed]",
      "text/plain": [
       "<matplotlib.figure.Figure at 0x106a706a0>"
      ]
     },
     "metadata": {},
     "output_type": "display_data"
    }
   ],
   "source": [
    "plot_2masses(x0, L, W)"
   ]
  },
  {
   "cell_type": "markdown",
   "metadata": {},
   "source": [
    "## Jacobian \n",
    "Write a function `Jacobian(f, x, h=1e-5)` that computes the Jacobian matrix numerically (use the central difference algorithm)."
   ]
  },
  {
   "cell_type": "code",
   "execution_count": 8,
   "metadata": {
    "collapsed": false
   },
   "outputs": [],
   "source": [
    "def Jacobian(f, x, h=1e-5):\n",
    "    \"\"\"df_i/dx_j with central difference (f(x+h/2)-f(x-h/2))/h\"\"\"\n",
    "    J = np.zeros((len(f(x)), len(x)), dtype=np.float64)\n",
    "    hvec = np.zeros_like(x, dtype=np.float64)\n",
    "    for j in range(len(x)):\n",
    "        hvec *= 0\n",
    "        hvec[j] = 0.5*h\n",
    "        J[:, j] = (f(x + hvec) - f(x - hvec))/h\n",
    "    return J"
   ]
  },
  {
   "cell_type": "markdown",
   "metadata": {},
   "source": [
    "Test Jacobian on \n",
    "$$\n",
    "\\mathbf{f}(\\mathbf{x}) = \\left( \\begin{array}{c}\n",
    "  x_0^2 - x_1 \\\\ x_0\n",
    "  \\end{array}\\right)\n",
    "$$\n",
    "with analytical result\n",
    "$$\n",
    "\\mathsf{J} = \\frac{\\partial f_i}{\\partial x_j} =\n",
    "\\left( \\begin{array}{cc}\n",
    "  2 x_0 & -1\\\\\n",
    "  1 & 0\n",
    "\\end{array}\\right)\n",
    "$$"
   ]
  },
  {
   "cell_type": "code",
   "execution_count": 9,
   "metadata": {
    "collapsed": false
   },
   "outputs": [
    {
     "name": "stdout",
     "output_type": "stream",
     "text": [
      "[[ 2. -1.]\n",
      " [ 1.  0.]]\n"
     ]
    }
   ],
   "source": [
    "def ftest(x):\n",
    "    return np.array([\n",
    "            x[0]**2 - x[1],\n",
    "            x[0]\n",
    "        ])\n",
    "x0test = np.array([1, 0])\n",
    "J = Jacobian(ftest, x0test)\n",
    "print(J)"
   ]
  },
  {
   "cell_type": "markdown",
   "metadata": {},
   "source": [
    "Test that it also works for our starting vector:"
   ]
  },
  {
   "cell_type": "code",
   "execution_count": 10,
   "metadata": {
    "collapsed": false
   },
   "outputs": [
    {
     "data": {
      "text/plain": [
       "array([[ 0.        ,  0.        ,  0.        , -1.        ,  1.        ,\n",
       "         0.        , -0.70710678,  0.70710678,  0.        ],\n",
       "       [ 1.        , -1.        ,  0.        ,  0.        ,  0.        ,\n",
       "         0.        ,  0.70710678, -0.70710678,  0.        ],\n",
       "       [ 0.        ,  0.        ,  0.        ,  0.        , -1.        ,\n",
       "         2.        ,  0.        , -0.70710678,  0.        ],\n",
       "       [ 0.        ,  1.        ,  2.        ,  0.        ,  0.        ,\n",
       "         0.        ,  0.        ,  0.70710678,  1.        ],\n",
       "       [ 0.        ,  0.        ,  0.        ,  3.        ,  4.        ,\n",
       "         4.        ,  0.        ,  0.        ,  0.        ],\n",
       "       [-3.        , -4.        ,  4.        ,  0.        ,  0.        ,\n",
       "         0.        ,  0.        ,  0.        ,  0.        ],\n",
       "       [ 1.41421356,  0.        ,  0.        ,  1.41421356,  0.        ,\n",
       "         0.        ,  0.        ,  0.        ,  0.        ],\n",
       "       [ 0.        ,  1.41421356,  0.        ,  0.        ,  1.41421356,\n",
       "         0.        ,  0.        ,  0.        ,  0.        ],\n",
       "       [ 0.        ,  0.        ,  2.        ,  0.        ,  0.        ,\n",
       "         0.        ,  0.        ,  0.        ,  0.        ]])"
      ]
     },
     "execution_count": 10,
     "metadata": {},
     "output_type": "execute_result"
    }
   ],
   "source": [
    "Jacobian(fLW, x0)"
   ]
  },
  {
   "cell_type": "markdown",
   "metadata": {},
   "source": [
    "## n-D Newton-Raphson Root Finding \n",
    "Write a function `newton_raphson(f, x, Nmax=100, tol=1e-8, h=1e-5)` to find a root for a vector function `f(x)=0`. (See also [11 Root-finding by trial-and-error](http://asu-compmethodsphysics-phy494.github.io/ASU-PHY494//2016/03/17/11_Root_finding/) and the _1D Newton-Raphson algorithm_ in [11_Root_finding.ipynb](https://github.com/ASU-CompMethodsPhysics-PHY494/PHY494-resources/blob/master/11_rootfinding/11_Root_finding.ipynb).) As a convergence criterion we demand that the length of the vector `f(x)` (the norm --- see `np.linalg.norm`) be less than the tolerance."
   ]
  },
  {
   "cell_type": "code",
   "execution_count": null,
   "metadata": {
    "collapsed": true
   },
   "outputs": [],
   "source": [
    "def newton_raphson(f, x, Nmax=100, tol=1e-8, h=1e-5):\n",
    "    \"\"\"n-D Newton-Raphson: solves f(x) = 0.\n",
    "    \n",
    "    Iterate until |f(x)| < tol or nmax steps.\n",
    "    \"\"\"\n",
    "    x = x.copy()\n",
    "    \n",
    "    raise NotImplementedError\n",
    "    \n",
    "    else:\n",
    "        print(\"Newton-Raphson: no root found after {0} iterations (eps={1}); \"\n",
    "            \"best guess is {2} with error {3}\".format(Nmax, tol, x, fx))\n",
    "    return x"
   ]
  },
  {
   "cell_type": "markdown",
   "metadata": {},
   "source": [
    "### Solve 2 masses/3 strings string problem "
   ]
  },
  {
   "cell_type": "markdown",
   "metadata": {},
   "source": [
    "#### Solution "
   ]
  },
  {
   "cell_type": "code",
   "execution_count": null,
   "metadata": {
    "collapsed": false
   },
   "outputs": [],
   "source": []
  },
  {
   "cell_type": "markdown",
   "metadata": {},
   "source": [
    "Plot the starting configuration and the solution:"
   ]
  },
  {
   "cell_type": "code",
   "execution_count": null,
   "metadata": {
    "collapsed": false
   },
   "outputs": [],
   "source": [
    "plot_2masses(x0, L, W)\n",
    "plot_2masses(x, L, W)"
   ]
  },
  {
   "cell_type": "markdown",
   "metadata": {},
   "source": [
    "Pretty-print the solution (angles in degrees):"
   ]
  },
  {
   "cell_type": "code",
   "execution_count": null,
   "metadata": {
    "collapsed": true
   },
   "outputs": [],
   "source": [
    "def pretty_print(x):\n",
    "    theta = np.rad2deg(np.arcsin(x[0:3]))\n",
    "    tensions = x[6:]\n",
    "    print(\"theta1 = {0[0]:.1f} \\t theta2 = {0[1]:.1f} \\t theta3 = {0[2]:.1f}\".format(theta))\n",
    "    print(\"T1     = {0[0]:.1f} \\t T2     = {0[1]:.1f} \\t T3     = {0[2]:.1f}\".format(tensions))"
   ]
  },
  {
   "cell_type": "code",
   "execution_count": null,
   "metadata": {
    "collapsed": false
   },
   "outputs": [],
   "source": [
    "print(\"Starting values\")\n",
    "pretty_print(x0)\n",
    "print()\n",
    "print(\"Solution\")\n",
    "pretty_print(x)"
   ]
  },
  {
   "cell_type": "markdown",
   "metadata": {},
   "source": [
    "#### Show intermediate steps\n",
    "Create a new function `newton_raphson_intermediates()` based on `newton_raphson()` that returns *all* trial `x` values including the last one."
   ]
  },
  {
   "cell_type": "code",
   "execution_count": null,
   "metadata": {
    "collapsed": true
   },
   "outputs": [],
   "source": [
    "def newton_raphson_intermediates(f, x, Nmax=100, tol=1e-8, h=1e-5):\n",
    "    \"\"\"n-D Newton-Raphson: solves f(x) = 0.\n",
    "    \n",
    "    Iterate until |f(x)| < tol or nmax steps.\n",
    "    \n",
    "    Returns all intermediates.\n",
    "    \"\"\"\n",
    "    intermediates = []\n",
    "    x = x.copy()\n",
    "    \n",
    "    raise NotImplementedError\n",
    "    \n",
    "    else:\n",
    "        print(\"Newton-Raphson: no root found after {0} iterations (eps={1}); \"\n",
    "            \"best guess is {2} with error {3}\".format(Nmax, tol, x, fx))\n",
    "    return np.array(intermediates)"
   ]
  },
  {
   "cell_type": "markdown",
   "metadata": {},
   "source": [
    "Visualize the intermediate configurations:"
   ]
  },
  {
   "cell_type": "code",
   "execution_count": null,
   "metadata": {
    "collapsed": true
   },
   "outputs": [],
   "source": [
    "x_series = newton_raphson_intermediates(fLW, x0)"
   ]
  },
  {
   "cell_type": "code",
   "execution_count": null,
   "metadata": {
    "collapsed": false,
    "scrolled": false
   },
   "outputs": [],
   "source": [
    "ax = plt.subplot(111)\n",
    "ax.set_prop_cycle(\"color\", [plt.cm.viridis_r(i) for i in np.linspace(0, 1, len(x_series))])\n",
    "for x in x_series:\n",
    "    plot_2masses(x, L, W)"
   ]
  },
  {
   "cell_type": "markdown",
   "metadata": {},
   "source": [
    "It's convenient to turn the above plotting code into a function that we can reuse:"
   ]
  },
  {
   "cell_type": "code",
   "execution_count": null,
   "metadata": {
    "collapsed": true
   },
   "outputs": [],
   "source": [
    "def plot_series(x_series, L, W):\n",
    "    \"\"\"Plot all N masses/strings solution vectors in x_series (N, 9) array\"\"\"\n",
    "    ax = plt.subplot(111)\n",
    "    ax.set_prop_cycle(\"color\", [plt.cm.viridis_r(i) for i in np.linspace(0, 1, len(x_series))])\n",
    "    for x in x_series:\n",
    "        plot_2masses(x, L, W)\n",
    "    return ax"
   ]
  },
  {
   "cell_type": "markdown",
   "metadata": {},
   "source": [
    "## Additional work\n",
    "Try different masses, e.g. M1 = M2 = 10, or M1= 0 , M2 = 10."
   ]
  },
  {
   "cell_type": "markdown",
   "metadata": {},
   "source": [
    "### M1 = M2 = 10 "
   ]
  },
  {
   "cell_type": "code",
   "execution_count": null,
   "metadata": {
    "collapsed": true
   },
   "outputs": [],
   "source": [
    "W_2 = np.array([10, 10])\n",
    "def fLW_2(x):\n",
    "    return f_2masses(x, L, W_2)"
   ]
  },
  {
   "cell_type": "code",
   "execution_count": null,
   "metadata": {
    "collapsed": false
   },
   "outputs": [],
   "source": [
    "x_series_2 = newton_raphson_intermediates(fLW_2, x0)\n",
    "pretty_print(x_series_2[-1])"
   ]
  },
  {
   "cell_type": "code",
   "execution_count": null,
   "metadata": {
    "collapsed": false
   },
   "outputs": [],
   "source": [
    "plot_series(x_series_2, L, W_2)"
   ]
  },
  {
   "cell_type": "markdown",
   "metadata": {},
   "source": [
    "### M1 = 0, M2 = 10 \n",
    "What do you expect to see?"
   ]
  },
  {
   "cell_type": "code",
   "execution_count": null,
   "metadata": {
    "collapsed": true
   },
   "outputs": [],
   "source": []
  },
  {
   "cell_type": "markdown",
   "metadata": {},
   "source": [
    "### Vary lengths...\n",
    "Try to predict what the geometry will look like for different lengths and masses and then do the numerical calculation."
   ]
  },
  {
   "cell_type": "code",
   "execution_count": null,
   "metadata": {
    "collapsed": true
   },
   "outputs": [],
   "source": []
  }
 ],
 "metadata": {
  "anaconda-cloud": {},
  "kernelspec": {
   "display_name": "Python [default]",
   "language": "python",
   "name": "python3"
  },
  "language_info": {
   "codemirror_mode": {
    "name": "ipython",
    "version": 3
   },
   "file_extension": ".py",
   "mimetype": "text/x-python",
   "name": "python",
   "nbconvert_exporter": "python",
   "pygments_lexer": "ipython3",
   "version": "3.5.2"
  }
 },
 "nbformat": 4,
 "nbformat_minor": 0
}
