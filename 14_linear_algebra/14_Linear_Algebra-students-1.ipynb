{
 "cells": [
  {
   "cell_type": "markdown",
   "metadata": {},
   "source": [
    "# 14 Linear Algebra – Students (1)\n",
    "## Motivating problem: Two masses on three strings\n",
    "Two masses $M_1$ and $M_2$ are hung from a horizontal rod with length $L$ in such a way that a rope of length $L_1$ connects the left end of the rod to $M_1$, a rope of length $L_2$ connects $M_1$ and $M_2$, and a rope of length $L_3$ connects $M_2$ to the right end of the rod. The system is at rest (in equilibrium under gravity).\n",
    "\n",
    "![Schematic of the 1 rod/2 masses/3 strings problem.](1rod2masses3strings.svg)\n",
    "\n",
    "Find the angles that the ropes make with the rod and the tension forces in the ropes."
   ]
  },
  {
   "cell_type": "markdown",
   "metadata": {},
   "source": [
    "In class we derived the equations that govern this problem – see [14_String_Problem_lecture_notes (PDF)](14_String_Problem_lecture_notes.pdf).\n",
    "\n",
    "We can represent the problem as system of nine coupled non-linear equations:\n",
    "\n",
    "$$\n",
    "\\mathbf{f}(\\mathbf{x}) = 0\n",
    "$$\n"
   ]
  },
  {
   "cell_type": "markdown",
   "metadata": {},
   "source": [
    "### Summary of equations to be solved\n",
    "Treat $\\sin\\theta_i$ and $\\cos\\theta_i$ together with $T_i$, $1\\leq i \\leq 3$, as unknowns that have to simultaneously fulfill the nine equations\n",
    "\\begin{align}\n",
    "-T_1 \\cos\\theta_1 + T_2\\cos\\theta_2 &= 0\\\\\n",
    " T_1 \\sin\\theta_1 - T_2\\sin\\theta_2 - W_1 &= 0\\\\\n",
    "                   -T_2\\cos\\theta_2 + T_3\\cos\\theta_3 &= 0\\\\\n",
    "                    T_2\\sin\\theta_2 + T_3\\sin\\theta_3 - W_2 &= 0\\\\\n",
    " L_1\\cos\\theta_1 + L_2\\cos\\theta_2 + L_3\\cos\\theta_3 - L &= 0\\\\\n",
    "-L_1\\sin\\theta_1 - L_2\\sin\\theta_2 + L_3\\sin\\theta_3  &= 0\\\\\n",
    "\\sin^2\\theta_1 + \\cos^2\\theta_1 - 1 &= 0\\\\\n",
    "\\sin^2\\theta_2 + \\cos^2\\theta_2 - 1 &= 0\\\\\n",
    "\\sin^2\\theta_3 + \\cos^2\\theta_3 - 1 &= 0\n",
    "\\end{align}\n",
    "\n",
    "Consider the nine equations a vector function $\\mathbf{f}$ that takes a 9-vector $\\mathbf{x}$ of the unknowns as argument:\n",
    "\\begin{align}\n",
    "\\mathbf{f}(\\mathbf{x}) &= 0\\\\\n",
    "\\mathbf{x} &= \\left(\\begin{array}{c}\n",
    "x_0 \\\\ x_1 \\\\ x_2 \\\\ \n",
    "x_3 \\\\ x_4 \\\\ x_5 \\\\ \n",
    "x_6 \\\\ x_7 \\\\ x_8\n",
    "\\end{array}\\right) \n",
    " =\n",
    "\\left(\\begin{array}{c}\n",
    "\\sin\\theta_1 \\\\ \\sin\\theta_2 \\\\ \\sin\\theta_3 \\\\\n",
    "\\cos\\theta_1 \\\\ \\cos\\theta_2 \\\\ \\cos\\theta_3 \\\\\n",
    "T_1 \\\\ T_2 \\\\ T_3\n",
    "\\end{array}\\right) \\\\\n",
    "\\mathbf{L} &= \\left(\\begin{array}{c}\n",
    "L \\\\ L_1 \\\\ L_2 \\\\ L_3\n",
    "\\end{array}\\right), \\quad\n",
    "\\mathbf{W} = \\left(\\begin{array}{c}\n",
    "W_1 \\\\ W_2\n",
    "\\end{array}\\right)\n",
    "\\end{align}"
   ]
  },
  {
   "cell_type": "markdown",
   "metadata": {},
   "source": [
    "In more detail:\n",
    "\n",
    "\\begin{align}\n",
    "f_1(\\mathbf{x}) &= -x_6 x_3 + x_7 x_4 &= 0\\\\\n",
    "f_2(\\mathbf{x}) &= x_6 x_0 - x_7 x_1 - W_1 & = 0\\\\\n",
    "\\dots\\\\\n",
    "f_8(\\mathbf{x}) &= x_2^2 + x_5^2 - 1 &=0\n",
    "\\end{align}\n"
   ]
  },
  {
   "cell_type": "markdown",
   "metadata": {},
   "source": [
    "We generalize the *Newton-Raphson algorithm* from the [last lecture](http://asu-compmethodsphysics-phy494.github.io/ASU-PHY494//2017/03/16/13_Root_finding/) to $n$ dimensions:"
   ]
  },
  {
   "cell_type": "markdown",
   "metadata": {},
   "source": [
    "## General Newton-Raphson algorithm\n",
    "Given a trial vector $\\mathbf{x}$, the correction $\\Delta\\mathbf{x}$ can be derived from the Taylor expansion\n",
    "$$\n",
    "f_i(\\mathbf{x} + \\Delta\\mathbf{x}) = f_i(\\mathbf{x}) + \\sum_{j=1}^{n} \\left.\\frac{\\partial f_i}{\\partial x_j}\\right|_{\\mathbf{x}} \\, \\Delta x_j + \\dots\n",
    "$$\n",
    "or in full vector notation\n",
    "\\begin{align}\n",
    "\\mathbf{f}(\\mathbf{x} + \\Delta\\mathbf{x}) &= \\mathbf{f}(\\mathbf{x}) + \\left.\\frac{d\\mathbf{f}}{d\\mathbf{x}}\\right|_{\\mathbf{x}} \\Delta\\mathbf{x} + \\dots\\\\\n",
    "  &= \\mathbf{f}(\\mathbf{x}) + \\mathsf{J}(\\mathbf{x}) \\Delta\\mathbf{x} + \\dots\n",
    "\\end{align}\n",
    "where $\\mathsf{J}(\\mathbf{x})$ is the *[Jacobian](http://mathworld.wolfram.com/Jacobian.html)* matrix of $\\mathbf{f}$ at $\\mathbf{x}$, the generalization of the derivative to multivariate vector functions.\n"
   ]
  },
  {
   "cell_type": "markdown",
   "metadata": {},
   "source": [
    "Solve\n",
    "$$\n",
    "\\mathbf{f}(\\mathbf{x} + \\Delta\\mathbf{x}) = 0\n",
    "$$\n",
    "i.e.,\n",
    "$$\n",
    "\\mathsf{J}(\\mathbf{x}) \\Delta\\mathbf{x} = -\\mathbf{f}(\\mathbf{x})\n",
    "$$\n",
    "for the correction $\\Delta x$\n",
    "$$\n",
    "\\Delta\\mathbf{x} = -\\mathsf{J}(\\mathbf{x})^{-1} \\mathbf{f}(\\mathbf{x})\n",
    "$$\n",
    "which has the same form as the 1D Newton-Raphson correction $\\Delta x = -f'(x)^{-1} f(x)$.\n",
    "\n",
    "These are *matrix equations* (we linearized the problem). One can either explicitly solve for the unknown vector $\\Delta\\mathbf{x}$ with the inverse matrix of the Jacobian or use other methods to solve the coupled system of linear equations of the general form\n",
    "$$\n",
    "\\mathsf{A} \\mathbf{x} = \\mathbf{b}.\n",
    "$$\n",
    "\n"
   ]
  },
  {
   "cell_type": "markdown",
   "metadata": {},
   "source": [
    "## Linear algebra with `numpy.linalg` "
   ]
  },
  {
   "cell_type": "code",
   "execution_count": 1,
   "metadata": {
    "collapsed": false
   },
   "outputs": [],
   "source": [
    "import numpy as np"
   ]
  },
  {
   "cell_type": "code",
   "execution_count": 2,
   "metadata": {
    "collapsed": true
   },
   "outputs": [],
   "source": [
    "np.linalg?"
   ]
  },
  {
   "cell_type": "markdown",
   "metadata": {},
   "source": [
    "### System of coupled linear equations\n",
    "Solve the coupled system of linear equations of the general form\n",
    "$$\n",
    "\\mathsf{A} \\mathbf{x} = \\mathbf{b}.\n",
    "$$"
   ]
  },
  {
   "cell_type": "code",
   "execution_count": 3,
   "metadata": {
    "collapsed": true
   },
   "outputs": [],
   "source": [
    "A = np.array([\n",
    "        [1, 0, 0],\n",
    "        [0, 1, 0],\n",
    "        [0, 0, 2]\n",
    "    ])\n",
    "b = np.array([1, 0, 1])"
   ]
  },
  {
   "cell_type": "markdown",
   "metadata": {},
   "source": [
    "What does this system of equations look like?"
   ]
  },
  {
   "cell_type": "code",
   "execution_count": 4,
   "metadata": {
    "collapsed": false
   },
   "outputs": [
    {
     "name": "stdout",
     "output_type": "stream",
     "text": [
      "1 x[0] + 0 x[0] + 0 x[0] = 1\n",
      "0 x[1] + 1 x[1] + 0 x[1] = 0\n",
      "0 x[2] + 0 x[2] + 2 x[2] = 1\n"
     ]
    }
   ],
   "source": [
    "for i in range(A.shape[0]):\n",
    "    terms = []\n",
    "    for j in range(A.shape[1]):\n",
    "        terms.append(\"{1} x[{0}]\".format(i, A[i, j]))\n",
    "    print(\" + \".join(terms), \"=\", b[i])"
   ]
  },
  {
   "cell_type": "markdown",
   "metadata": {},
   "source": [
    "Now solve it with `numpy.linalg.solve`:"
   ]
  },
  {
   "cell_type": "code",
   "execution_count": null,
   "metadata": {
    "collapsed": true
   },
   "outputs": [],
   "source": []
  },
  {
   "cell_type": "markdown",
   "metadata": {},
   "source": [
    "Test that it satisfies the original equation:\n",
    "$$\n",
    "\\mathsf{A} \\mathbf{x} - \\mathbf{b} = 0\n",
    "$$"
   ]
  },
  {
   "cell_type": "code",
   "execution_count": null,
   "metadata": {
    "collapsed": true
   },
   "outputs": [],
   "source": []
  },
  {
   "cell_type": "markdown",
   "metadata": {},
   "source": [
    "#### Activity: Solving matrix equations\n",
    "With\n",
    "$$\n",
    "\\mathsf{A}_1 = \\left(\\begin{array}{ccc}\n",
    "   +4 & -2 & +1\\\\\n",
    "   +3 & +6 & -4\\\\\n",
    "   +2 & +1 & +8\n",
    "   \\end{array}\\right)\n",
    "$$\n",
    "and \n",
    "$$\n",
    "\\mathbf{b}_1 = \\left(\\begin{array}{c}\n",
    "   +12 \\\\ -25 \\\\ +32\n",
    "   \\end{array}\\right), \\quad\n",
    "\\mathbf{b}_2 = \\left(\\begin{array}{c}\n",
    "   +4 \\\\ -1 \\\\ +36\n",
    "   \\end{array}\\right), \\quad\n",
    "$$\n",
    "solve for $\\mathbf{x}_i$\n",
    "$$\n",
    "\\mathsf{A}_1 \\mathbf{x}_i = \\mathbf{b}_i\n",
    "$$\n",
    "and *check the correctness of your answer*."
   ]
  },
  {
   "cell_type": "code",
   "execution_count": 7,
   "metadata": {
    "collapsed": true
   },
   "outputs": [],
   "source": []
  },
  {
   "cell_type": "markdown",
   "metadata": {},
   "source": [
    "### Matrix inverse\n",
    "In order to solve directly we need the inverse of $\\mathsf{A}$:\n",
    "$$\n",
    "\\mathsf{A}\\mathsf{A}^{-1} = \\mathsf{A}^{-1}\\mathsf{A} = \\mathsf{1}\n",
    "$$\n",
    "Then\n",
    "$$\n",
    "\\mathbf{x} = \\mathsf{A}^{-1} \\mathbf{b}\n",
    "$$"
   ]
  },
  {
   "cell_type": "markdown",
   "metadata": {},
   "source": [
    "If the inverse exists, `numpy.linalg.inv()` can calculate it:"
   ]
  },
  {
   "cell_type": "code",
   "execution_count": null,
   "metadata": {
    "collapsed": true
   },
   "outputs": [],
   "source": []
  },
  {
   "cell_type": "markdown",
   "metadata": {},
   "source": [
    "Check that it behaves like an inverse:"
   ]
  },
  {
   "cell_type": "code",
   "execution_count": null,
   "metadata": {
    "collapsed": true
   },
   "outputs": [],
   "source": []
  },
  {
   "cell_type": "markdown",
   "metadata": {},
   "source": [
    "Now solve the coupled equations directly:"
   ]
  },
  {
   "cell_type": "code",
   "execution_count": null,
   "metadata": {
    "collapsed": true
   },
   "outputs": [],
   "source": []
  },
  {
   "cell_type": "markdown",
   "metadata": {},
   "source": [
    "#### Activity: Solving coupled equations with the inverse matrix \n",
    "1. Compute the inverse of $\\mathsf{A}_1$ and *check the correctness*.\n",
    "2. Compute $\\mathbf{x}_1$ and $\\mathbf{x}_2$ with $\\mathsf{A}_1^{-1}$ and check the correctness of your answers."
   ]
  },
  {
   "cell_type": "code",
   "execution_count": null,
   "metadata": {
    "collapsed": true
   },
   "outputs": [],
   "source": []
  },
  {
   "cell_type": "markdown",
   "metadata": {},
   "source": [
    "### Eigenvalue problems\n",
    "The equation\n",
    "\\begin{gather}\n",
    "\\mathsf{A} \\mathbf{x}_i = \\lambda_i \\mathbf{x}_i\n",
    "\\end{gather}\n",
    "is the **eigenvalue problem** and a solution provides the eigenvalues $\\lambda_i$ and corresponding eigenvectors $x_i$ that satisfy the equation."
   ]
  },
  {
   "cell_type": "markdown",
   "metadata": {},
   "source": [
    "#### Example 1: Principal axes of a square\n",
    "The principle axes of the [moment of inertia tensor](https://en.wikipedia.org/wiki/Moment_of_inertia#The_inertia_tensor) are defined through the eigenvalue problem\n",
    "$$\n",
    "\\mathsf{I} \\mathbf{\\omega}_i = \\lambda_i \\mathbf{\\omega}_i\n",
    "$$\n",
    "The principal axes are the $\\mathbf{\\omega}_i$."
   ]
  },
  {
   "cell_type": "code",
   "execution_count": 20,
   "metadata": {
    "collapsed": true
   },
   "outputs": [],
   "source": [
    "Isquare = np.array([[2/3, -1/4], [-1/4, 2/3]])"
   ]
  },
  {
   "cell_type": "code",
   "execution_count": null,
   "metadata": {
    "collapsed": true
   },
   "outputs": [],
   "source": []
  },
  {
   "cell_type": "markdown",
   "metadata": {},
   "source": [
    "Note that the eigenvectors are `omegas[:, i]`! You can transpose so that axis 0 is the eigenvector index:"
   ]
  },
  {
   "cell_type": "code",
   "execution_count": null,
   "metadata": {
    "collapsed": true
   },
   "outputs": [],
   "source": []
  },
  {
   "cell_type": "markdown",
   "metadata": {},
   "source": [
    "Test:\n",
    "$$\n",
    "(\\mathsf{I} - \\lambda_i \\mathsf{1}) \\mathbf{\\omega}_i = 0\n",
    "$$"
   ]
  },
  {
   "cell_type": "code",
   "execution_count": null,
   "metadata": {
    "collapsed": true
   },
   "outputs": [],
   "source": []
  },
  {
   "cell_type": "markdown",
   "metadata": {},
   "source": [
    "#### Example 2: Spin in a magnetic field\n",
    "In quantum mechanics, a spin 1/2 particle is represented by a spinor $\\chi$, a 2-component vector. The Hamiltonian operator for a stationary spin 1/2 particle in a homogenous magnetic field $B_y$ is \n",
    "$$\n",
    "\\mathsf{H} = -\\gamma \\mathsf{S}_y B_y = -\\gamma B_y \\frac{\\hbar}{2} \\mathsf{\\sigma_y} \n",
    "   = \\hbar \\omega \\left( \\begin{array}{cc} 0 & -i \\\\ i & 0 \\end{array}\\right)\n",
    "$$"
   ]
  },
  {
   "cell_type": "markdown",
   "metadata": {},
   "source": [
    "Determine the *eigenvalues* and *eigenstates*\n",
    "$$\n",
    "\\mathsf{H} \\mathbf{\\chi} = E \\mathbf{\\chi}\n",
    "$$\n",
    "of the spin 1/2 particle.\n",
    "\n",
    "(To make this a purely numerical problem, divide through by $\\hbar\\omega$, i.e. calculate $E/\\hbar\\omega$.)"
   ]
  },
  {
   "cell_type": "code",
   "execution_count": null,
   "metadata": {
    "collapsed": true
   },
   "outputs": [],
   "source": []
  },
  {
   "cell_type": "markdown",
   "metadata": {},
   "source": [
    "Normalize the eigenvectors:\n",
    "$$\n",
    "\\hat\\chi = \\frac{1}{\\sqrt{\\chi^\\dagger \\cdot \\chi}} \\chi\n",
    "$$"
   ]
  },
  {
   "cell_type": "code",
   "execution_count": null,
   "metadata": {
    "collapsed": true
   },
   "outputs": [],
   "source": []
  },
  {
   "cell_type": "markdown",
   "metadata": {},
   "source": [
    "#### Activity: eigenvalues\n",
    "Find the eigenvalues and eigenvectors of\n",
    "$$\n",
    "\\mathsf{A}_2 = \\left(\\begin{array}{ccc}\n",
    "   -2 & +2 & -3\\\\\n",
    "   +2 & +1 & -6\\\\\n",
    "   -1 & -2 & +0\n",
    "   \\end{array}\\right)\n",
    "$$\n",
    "\n",
    "Are the eigenvectors normalized?\n",
    "\n",
    "Check your results."
   ]
  },
  {
   "cell_type": "code",
   "execution_count": null,
   "metadata": {
    "collapsed": true
   },
   "outputs": [],
   "source": []
  }
 ],
 "metadata": {
  "anaconda-cloud": {},
  "kernelspec": {
   "display_name": "Python [default]",
   "language": "python",
   "name": "python3"
  },
  "language_info": {
   "codemirror_mode": {
    "name": "ipython",
    "version": 3
   },
   "file_extension": ".py",
   "mimetype": "text/x-python",
   "name": "python",
   "nbconvert_exporter": "python",
   "pygments_lexer": "ipython3",
   "version": "3.5.2"
  }
 },
 "nbformat": 4,
 "nbformat_minor": 0
}
