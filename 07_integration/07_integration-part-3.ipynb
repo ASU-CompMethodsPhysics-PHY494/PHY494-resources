{
 "cells": [
  {
   "cell_type": "markdown",
   "metadata": {
    "slideshow": {
     "slide_type": "slide"
    }
   },
   "source": [
    "# 07 Integration (Part 3)\n",
    "See *Computational Physics* (Landau, Páez, Bordeianu), Chapter 5.7 - 5.22\n",
    "\n",
    "These slides include material from  *Computational Physics. eTextBook Python 3rd Edition.* Copyright © 2012 Landau, Rubin, Páez. Used under the Creative-Commons Attribution-NonCommerical-ShareAlike 3.0 Unported License.\n"
   ]
  },
  {
   "cell_type": "markdown",
   "metadata": {
    "slideshow": {
     "slide_type": "slide"
    }
   },
   "source": [
    "# Trapezoid rule \n",
    "Approximate the area by the sum of the trapezoid areas under the curve.... \n",
    "![Trapezoid integration](images/CompPhys2012_trapezoid.png)"
   ]
  },
  {
   "cell_type": "markdown",
   "metadata": {
    "slideshow": {
     "slide_type": "fragment"
    }
   },
   "source": [
    "... which is what our `integrate_simple()` function already does!\n"
   ]
  },
  {
   "cell_type": "code",
   "execution_count": null,
   "metadata": {
    "collapsed": true
   },
   "outputs": [],
   "source": [
    "trapezoid = integrate_simple"
   ]
  },
  {
   "cell_type": "markdown",
   "metadata": {
    "slideshow": {
     "slide_type": "subslide"
    }
   },
   "source": [
    "Formally, the *trapezoid rule* consists of the sum\n",
    "\n",
    "\\begin{gather}\n",
    "\\begin{split}\n",
    "I = h\\left[ \\frac{f(a) + f(x_1)}{2} + \\frac{f(x_1) + f(x_2)}{2} + \\frac{f(x_2) + f(x_3)}{2} + \\\\\n",
    "    + \\cdots + \\frac{f(x_{N-1}) + f(b)}{2} \\right]\n",
    "\\end{split}\\\\\n",
    "  = h\\left[ \\frac{f(a)}{2} + f(x_1) + f(x_2) + \\cdots + f(x_{N-1}) + \\frac{f(b)}{2} \\right]\n",
    "\\end{gather}"
   ]
  },
  {
   "cell_type": "markdown",
   "metadata": {
    "slideshow": {
     "slide_type": "slide"
    }
   },
   "source": [
    "## General form of an integration algorithm\n",
    "\n",
    "$$\n",
    "\\int_a^b \\!f(x)\\, dx \\approx \\sum_{i=1}^N w_i\\ f(x_i)\n",
    "$$\n",
    "\n",
    "with weights $w_i$ and integration points $x_i$ that depend on the integration algorithm.\n",
    "\n",
    "For the *trapezoid rule*, the weights are simply $\\{\\frac{1}{2}, \\frac{1}{2}\\} \\times h$ for two adjacent points and for the whole interval with $N$ points $\\{\\frac{1}{2}, 1, 1, \\dots, 1, \\frac{1}{2}\\} \\times h$."
   ]
  },
  {
   "cell_type": "markdown",
   "metadata": {
    "collapsed": true,
    "slideshow": {
     "slide_type": "slide"
    }
   },
   "source": [
    "## Simpson's rule\n",
    "Interpolate parabolas:\n",
    "\n",
    "![Simpson's rule](./images/CompPhys2012_Simpson.png)"
   ]
  },
  {
   "cell_type": "markdown",
   "metadata": {
    "slideshow": {
     "slide_type": "subslide"
    }
   },
   "source": [
    "For each interval $i$, approximate $f(x)$ as\n",
    "\n",
    "$$\n",
    "f(x) \\approx \\alpha_i x^2 + \\beta_i x + \\gamma_i\n",
    "$$\n",
    "\n",
    "and the area under each parabola (equally spaced intervals of width $h$) is\n",
    "\n",
    "$$\n",
    "\\int_{x_i}^{x_i + h} (\\alpha_i x^2 + \\beta_i x + \\gamma_i) dx = \\left[\\frac{\\alpha_i x^3}{3} + \\frac{\\beta_i x^2}{2} + \\gamma_i x\\right]_{x_i}^{x_i + h}\n",
    "$$\n",
    "\n",
    "What should the coefficients $\\alpha_i$, $\\beta_i$, $\\gamma_i$ be? Express them through function values."
   ]
  },
  {
   "cell_type": "markdown",
   "metadata": {
    "slideshow": {
     "slide_type": "subslide"
    }
   },
   "source": [
    "For example for the interval $[-1, 1]$:\n",
    "\n",
    "$$\n",
    "\\int_{-1}^{1} (\\alpha x^2 + \\beta x + \\gamma) dx = \\frac{2\\alpha}{3} + 2\\gamma\n",
    "$$\n",
    "\n",
    "and select function values at $-1, 0, 1$:\n",
    "\n",
    "$$\n",
    "f(-1) = \\alpha - \\beta + \\gamma; \\quad f(0) = \\gamma; \\quad f(1) = \\alpha + \\beta + \\gamma\n",
    "$$\n",
    "\n",
    "(exact because we can use three points to determine a parabola!)"
   ]
  },
  {
   "cell_type": "markdown",
   "metadata": {
    "slideshow": {
     "slide_type": "fragment"
    }
   },
   "source": [
    "Thus\n",
    "$$\n",
    "\\alpha = \\frac{f(1) + f(-1)}{2} - f(0); \\quad \\beta = \\frac{f(1) - f(-1)}{2};\\quad \\gamma = f(0)\n",
    "$$"
   ]
  },
  {
   "cell_type": "markdown",
   "metadata": {
    "slideshow": {
     "slide_type": "fragment"
    }
   },
   "source": [
    "and the integral is\n",
    "$$\n",
    "\\int_{-1}^{1} (\\alpha x^2 + \\beta x + \\gamma) dx = \\frac{1}{3}f(-1) + \\frac{4}{3} f(0) + \\frac{1}{3} f(1)\n",
    "$$\n",
    "(weights $\\{\\frac{1}{3}, \\frac{4}{3}, \\frac{1}{3}\\} \\times 1$ for three adjacent points)"
   ]
  },
  {
   "cell_type": "markdown",
   "metadata": {
    "slideshow": {
     "slide_type": "subslide"
    }
   },
   "source": [
    "Generalize to 3 points $x_i - h$, $x_i$, and $x_i + h$:\n",
    "\n",
    "\\begin{gather}\n",
    "\\begin{split}\n",
    "\\int_{x_i - h}^{x_i + h} f(x) \\,dx = \\int_{x_i - h}^{x_i} f(x) \\,dx + \\int_{x_i}^{x_i + h} f(x) \\,dx = \\dots \\approx \\\\\n",
    "\\approx \\frac{h}{3} f_{i-1} + \\frac{4h}{3} f_i + \\frac{h}{3} f_{i+1}\n",
    "\\end{split}\n",
    "\\end{gather}\n",
    "\n",
    "Simpson's rule: integrate over *pairs of intervals* so we need an *even number of intervals*, i.e., $N$ to be *odd*.\n"
   ]
  },
  {
   "cell_type": "markdown",
   "metadata": {
    "slideshow": {
     "slide_type": "subslide"
    }
   },
   "source": [
    "Sum over all intervals, count every interval point twice except the very first and last end point:\n",
    "\n",
    "\\begin{gather}\n",
    "\\begin{split}\n",
    "\\int_a^b f(x) \\,dx \\approx \\frac{h}{3} f_1 + \\frac{4h}{3} f_2 + \\frac{2h}{3} f_3 + \\frac{4h}{3} f_4 + \\\\\n",
    " + \\dots + \\frac{4h}{3}f_{N-1} +  \\frac{h}{3} f_N\n",
    "\\end{split}\n",
    "\\end{gather}\n",
    "\n",
    "so the weights are for the full interval with $N$ points $\\{\\frac{1}{3}, \\frac{4}{3}, \\frac{2}{3}, \\frac{4}{3}, \\dots, \\frac{4}{3}, \\frac{1}{3}\\} \\times h \\equiv \\{1, 4, 2, 4, 2, \\dots, 4, 1\\} \\times \\frac{1}{3} \\times h$.\n",
    "\n"
   ]
  },
  {
   "cell_type": "markdown",
   "metadata": {
    "slideshow": {
     "slide_type": "subslide"
    }
   },
   "source": [
    "The sum of weights has to be\n",
    "$$\n",
    "\\sum_{i=1}^N w_i = N - 1\n",
    "$$\n",
    "\n",
    "(Note that one often makes $h$ part of the weights and then the sum should equal $(N-1)h$.)"
   ]
  },
  {
   "cell_type": "markdown",
   "metadata": {
    "slideshow": {
     "slide_type": "subslide"
    }
   },
   "source": [
    "### Implement Simpson's rule in a Python function "
   ]
  },
  {
   "cell_type": "code",
   "execution_count": null,
   "metadata": {
    "collapsed": true,
    "slideshow": {
     "slide_type": "-"
    }
   },
   "outputs": [],
   "source": [
    "def simpson(f, a, b, N):\n",
    "    if N % 2 == 0:\n",
    "        raise ValueError(\"N must be odd\")\n",
    "    h = (b - a)/(N - 1)\n",
    "    Ih = -f(a) + f(b)        # sum 2, 4; 2, 4, pairs: need to make first contrib 1\n",
    "    for i in range(0, N-1, 2):\n",
    "        xi = a + i*h\n",
    "        Ih += 2*f(xi) + 4*f(xi + h)\n",
    "    Ih *= h/3\n",
    "    return Ih"
   ]
  },
  {
   "cell_type": "code",
   "execution_count": null,
   "metadata": {
    "collapsed": false,
    "slideshow": {
     "slide_type": "fragment"
    }
   },
   "outputs": [],
   "source": [
    "simpson(np.cos, -np.pi/2, np.pi/2, 11)"
   ]
  },
  {
   "cell_type": "code",
   "execution_count": null,
   "metadata": {
    "collapsed": false,
    "slideshow": {
     "slide_type": "subslide"
    }
   },
   "outputs": [],
   "source": [
    "%timeit simpson(np.cos, -np.pi/2, np.pi/2, 101)"
   ]
  },
  {
   "cell_type": "markdown",
   "metadata": {},
   "source": [
    "$$\n",
    "\\int_{-10\\pi}^{\\pi/2} \\cos x\\, dx = 1\n",
    "$$"
   ]
  },
  {
   "cell_type": "code",
   "execution_count": null,
   "metadata": {
    "collapsed": false
   },
   "outputs": [],
   "source": [
    "simpson(np.cos, -10*np.pi, np.pi/2, 11)"
   ]
  },
  {
   "cell_type": "code",
   "execution_count": null,
   "metadata": {
    "collapsed": false
   },
   "outputs": [],
   "source": [
    "simpson(np.cos, -10*np.pi, np.pi/2, 101)"
   ]
  },
  {
   "cell_type": "markdown",
   "metadata": {
    "slideshow": {
     "slide_type": "subslide"
    }
   },
   "source": [
    "#### Simpson's rule without loops (ALL HAIL NUMPY!) "
   ]
  },
  {
   "cell_type": "code",
   "execution_count": null,
   "metadata": {
    "collapsed": false
   },
   "outputs": [],
   "source": [
    "from IPython.display import YouTubeVideo\n",
    "YouTubeVideo(\"8AOfbnGkuGc\", autoplay=1)"
   ]
  },
  {
   "cell_type": "markdown",
   "metadata": {},
   "source": [
    "(Copyright © Twentieth Century Fox)"
   ]
  },
  {
   "cell_type": "markdown",
   "metadata": {
    "slideshow": {
     "slide_type": "subslide"
    }
   },
   "source": [
    "As numpy-based function: basic idea: calculate\n",
    "```python\n",
    "sum(weights * functionvalues)\n",
    "```\n",
    "\n",
    "Main problem: get the weights right. Develop the algorithm step-by-step interactively:\n",
    "* test `N = 11`\n",
    "* weights `1, 4, 2, 4, 2, ..., 2, 4, 1` (`N` weights in total)\n",
    "* divide by 3 and multiply with `h` at the end"
   ]
  },
  {
   "cell_type": "markdown",
   "metadata": {
    "slideshow": {
     "slide_type": "subslide"
    }
   },
   "source": [
    "Use *assigning to numpy slices* for an efficient algorithm (to get `1, 4, 2, 4, 2, ..., 2, 4, 1`):"
   ]
  },
  {
   "cell_type": "code",
   "execution_count": null,
   "metadata": {
    "collapsed": true
   },
   "outputs": [],
   "source": [
    "import numpy as np"
   ]
  },
  {
   "cell_type": "markdown",
   "metadata": {},
   "source": [
    "Now use these weights to program `simpson_np(f, a, b, N)`, which uses `sum(weights * functionvalues)`:"
   ]
  },
  {
   "cell_type": "code",
   "execution_count": null,
   "metadata": {
    "collapsed": true,
    "slideshow": {
     "slide_type": "subslide"
    }
   },
   "outputs": [],
   "source": [
    "import numpy as np\n",
    "\n",
    "def simpson_np(f, a, b, N):\n",
    "    if N % 2 == 0:\n",
    "        raise ValueError(\"N must be odd\")\n",
    "    # implement ..."
   ]
  },
  {
   "cell_type": "code",
   "execution_count": null,
   "metadata": {
    "collapsed": false
   },
   "outputs": [],
   "source": [
    "%timeit simpson_np(np.cos, -np.pi/2, np.pi/2, 101)"
   ]
  },
  {
   "cell_type": "markdown",
   "metadata": {
    "slideshow": {
     "slide_type": "slide"
    }
   },
   "source": [
    "## Uniform step integration rules\n",
    "\n",
    "\n",
    "| Name          |     Degree    |  Elementary weights                                  |\n",
    "|---------------|:-------------:|------------------------------------------------------|\n",
    "| Trapezoid     | 1             | $\\{1, 1\\}\\times \\frac{1}{2} \\times h$                |\n",
    "| Simpson's     | 2             | $\\{1, 4, 1\\}\\times \\frac{1}{3} \\times h$             |\n",
    "| $\\frac{3}{8}$ | 3             | $\\{1, 3, 3, 1\\}\\times \\frac{3}{8} \\times h$          |\n",
    "| Milne         | 4             | $\\{14, 64, 24, 64, 14\\}\\times \\frac{1}{45} \\times h$ |\n",
    "\n",
    "In order to derive the *weights* for $N$ points one needs to overlap the elementary weights so that the sub-interval end points are counted twice *except* the very first ($a$) and the very last $(b$) points."
   ]
  },
  {
   "cell_type": "markdown",
   "metadata": {
    "slideshow": {
     "slide_type": "slide"
    }
   },
   "source": [
    "## Using scipy.integrate\n",
    "In general, make use of library routines. [scipy](http://scipy.org) is a collection of numpy-based scientific algorithms."
   ]
  },
  {
   "cell_type": "code",
   "execution_count": null,
   "metadata": {
    "collapsed": true
   },
   "outputs": [],
   "source": [
    "import scipy.integrate"
   ]
  },
  {
   "cell_type": "code",
   "execution_count": null,
   "metadata": {
    "collapsed": false
   },
   "outputs": [],
   "source": [
    "X = np.linspace(-np.pi/2, np.pi/2, 10*4 + 1)\n",
    "scipy.integrate.simps(np.cos(X), X)"
   ]
  },
  {
   "cell_type": "code",
   "execution_count": null,
   "metadata": {
    "collapsed": false,
    "slideshow": {
     "slide_type": "subslide"
    }
   },
   "outputs": [],
   "source": [
    "%timeit scipy.integrate.simps(np.cos(X), X)"
   ]
  },
  {
   "cell_type": "code",
   "execution_count": null,
   "metadata": {
    "collapsed": false,
    "slideshow": {
     "slide_type": "fragment"
    }
   },
   "outputs": [],
   "source": [
    "%timeit simpson_np(np.cos, X[0], X[-1], len(X))"
   ]
  },
  {
   "cell_type": "code",
   "execution_count": null,
   "metadata": {
    "collapsed": false,
    "slideshow": {
     "slide_type": "fragment"
    }
   },
   "outputs": [],
   "source": [
    "scipy.integrate.simps(np.cos(X), X) - simpson_np(np.cos, X[0], X[-1], len(X))"
   ]
  },
  {
   "cell_type": "code",
   "execution_count": null,
   "metadata": {
    "collapsed": true,
    "slideshow": {
     "slide_type": "subslide"
    }
   },
   "outputs": [],
   "source": [
    "scipy.integrate.simps?"
   ]
  },
  {
   "cell_type": "markdown",
   "metadata": {
    "slideshow": {
     "slide_type": "slide"
    }
   },
   "source": [
    "# Your \"calculus\" module – build your own libraries\n",
    "\n",
    "Aim: Collect your calculus functions in a python **module** for re-use."
   ]
  },
  {
   "cell_type": "markdown",
   "metadata": {
    "slideshow": {
     "slide_type": "fragment"
    }
   },
   "source": [
    "* just a file *calculus.py* containing the code (create it with your editor)\n",
    "* can be imported with `import calculus` (file must be in same directory)\n",
    "* only add *functions*, *constants* (and *class* definitions) – avoid code that is immediately executed\n",
    "* add comment doc string at top summarizing the module"
   ]
  },
  {
   "cell_type": "markdown",
   "metadata": {
    "slideshow": {
     "slide_type": "subslide"
    }
   },
   "source": [
    "## Problem: create the `calculus` module\n",
    "Should contain\n",
    "* integration functions `trapezoid` and `simpson` (numpy versions preferred)\n",
    "* differentiation functions `D_fd` and `D_cd`\n",
    "\n",
    "Testing:"
   ]
  },
  {
   "cell_type": "code",
   "execution_count": null,
   "metadata": {
    "collapsed": true
   },
   "outputs": [],
   "source": [
    "import calculus\n",
    "print(np.allclose(calculus.simpson(np.cos, -10*np.pi, np.pi/2, 101), 1))\n",
    "print(np.allclose(calculus.D_cd(np.cos, np.pi/2, 1e-6)), -1)"
   ]
  },
  {
   "cell_type": "code",
   "execution_count": null,
   "metadata": {
    "collapsed": true
   },
   "outputs": [],
   "source": []
  }
 ],
 "metadata": {
  "kernelspec": {
   "display_name": "Python 3",
   "language": "python",
   "name": "python3"
  },
  "language_info": {
   "codemirror_mode": {
    "name": "ipython",
    "version": 3
   },
   "file_extension": ".py",
   "mimetype": "text/x-python",
   "name": "python",
   "nbconvert_exporter": "python",
   "pygments_lexer": "ipython3",
   "version": "3.5.1"
  }
 },
 "nbformat": 4,
 "nbformat_minor": 0
}
