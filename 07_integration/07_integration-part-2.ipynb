{
 "cells": [
  {
   "cell_type": "markdown",
   "metadata": {
    "slideshow": {
     "slide_type": "slide"
    }
   },
   "source": [
    "# 07 Integration (Parts 1 and 2)\n",
    "See *Computational Physics* (Landau, Páez, Bordeianu), Chapter 5.7 - 5.22\n",
    "\n",
    "These slides include material from  *Computational Physics. eTextBook Python 3rd Edition.* Copyright © 2012 Landau, Rubin, Páez. Used under the Creative-Commons Attribution-NonCommerical-ShareAlike 3.0 Unported License.\n"
   ]
  },
  {
   "cell_type": "markdown",
   "metadata": {
    "slideshow": {
     "slide_type": "slide"
    }
   },
   "source": [
    "## Integral as a Riemann sum\n",
    "Numerical integration (also called *quadrature*) is based on the [Riemann definition of an integral](http://mathworld.wolfram.com/RiemannIntegral.html)\n",
    "\n",
    "$$\n",
    "\\int_a^b \\!\\!\\!f(x)\\, dx :=\n",
    "   \\lim_{h\\rightarrow 0} \\left( h \\sum_{i=1}^{(b-a)/h} f(x_i) \\right)\n",
    "$$\n",
    "\n",
    "![Riemann sum. (Based on a figure © 2012 Landau, Páez, Bordeianu, used under CC-BY-NC-SA 3.0 license and licensed under the same](./images/CompPhys2012_Riemann.png)"
   ]
  },
  {
   "cell_type": "markdown",
   "metadata": {
    "slideshow": {
     "slide_type": "subslide"
    }
   },
   "source": [
    "## Basic integration algorithm\n",
    "\n",
    "$$\n",
    "I_h = h \\sum_{i=1}^{(b-a)/h} f(x_i) \\approx \\int_a^b f(x)\\, dx\n",
    "$$\n",
    "\n",
    "* sum rectangles of width $h$ and height $f(x_i)$\n",
    "* more advanced methods just refine this approach (except Monte Carlo... see later)\n",
    "* *remove singularities* before numerical integration!"
   ]
  },
  {
   "cell_type": "markdown",
   "metadata": {
    "slideshow": {
     "slide_type": "subslide"
    }
   },
   "source": [
    "##  Thinking about errors\n",
    "\n",
    "What factors will influence the total error?"
   ]
  },
  {
   "cell_type": "markdown",
   "metadata": {
    "slideshow": {
     "slide_type": "fragment"
    }
   },
   "source": [
    "* width $h$ of intervals determines number $N = (b - a)/h$ of summation steps\n",
    "* smaller $h$ will increase accuracy\n",
    "* larger $N$ will increase round-off error"
   ]
  },
  {
   "cell_type": "markdown",
   "metadata": {
    "slideshow": {
     "slide_type": "slide"
    }
   },
   "source": [
    "## Problem: Integrate $\\cos x$ over $-\\pi/2 \\leq x \\leq \\pi/2$\n",
    "\n",
    "**Write a function** `integrate_simple(f, a, b, N)` that computes the integral $\\int_a^b f(x) dx$ using the simple Riemann sum \n",
    "\n",
    "$$\n",
    "I_h = h \\sum_{i=1}^{(b-a)/h} f(x_i) \\quad\\text{with}\\quad h = \\frac{b-a}{N-1}.\n",
    "$$\n",
    "\n",
    "with $N$ points across the integration region $[a, b]$. Note: Each endpoint should only enter the sum with half its weight.\n",
    "\n",
    "**Apply your function** to $\\int_{-\\pi/2}^{\\pi/2} \\cos x dx$.\n",
    "\n",
    "**Compare to your analytical solution** for a range of $N$ values."
   ]
  },
  {
   "cell_type": "code",
   "execution_count": 3,
   "metadata": {
    "collapsed": false,
    "slideshow": {
     "slide_type": "subslide"
    }
   },
   "outputs": [],
   "source": [
    "import numpy as np\n",
    "\n",
    "def integrate_simple(f, a, b, N):\n",
    "    \"\"\"Integrate function `f` from `a` to `b` with `N` points.\"\"\"\n",
    "    # implement\n",
    "    \n",
    "# test: answer should be close to the analytical value ___\n",
    "integrate_simple(np.cos, -np.pi/2, np.pi/2, 100)"
   ]
  },
  {
   "cell_type": "markdown",
   "metadata": {
    "slideshow": {
     "slide_type": "fragment"
    }
   },
   "source": [
    "#### Additional Challenges\n",
    "1. Numerically calculate the integral $\\int_0^x \\cos t\\, dt$ and plot for $-2\\pi \\leq x \\leq 2\\pi$.\n",
    "2. Write the integration function without a single `for` loop but **only use numpy array operations**.\n",
    "3. Benchmark your implementations (pure Python vs numpy using `%timeit` in the notebook). Which one is faster for $N = {10, 100, 10^6}$?\n",
    "4. Error analysis for $1 < N \\leq 10^7$."
   ]
  },
  {
   "cell_type": "markdown",
   "metadata": {
    "slideshow": {
     "slide_type": "subslide"
    }
   },
   "source": [
    "### Pair Programming \n",
    "\n",
    "We will try a software engineering technique called [pair programming](http://guide.agilealliance.org/guide/pairing.html) (borrowed from agile/[extreme programming](http://www.extremeprogramming.org/))\n",
    "1. Split into teams of 2. (Be nice. Introduce yourselves.) \n",
    "2. Sit next to each other at one desk.\n",
    "3. Decide whose laptop you are going to use.\n",
    "4. [Flip a coin](https://www.random.org/coins/?num=1&cur=60-usd.0100c-washington) to decide who will start out as the *navigator* and who will be the *driver*.\n",
    "5. Roles:\n",
    "   - *driver*: keyboard & types\n",
    "   - *navigator* reads code, provides directions, catches bugs\n",
    "   - *Both* constantly talk to each other: comment on what you're typing, comment on what is being typed\n",
    "6. Switch roles every ~5 minutes"
   ]
  },
  {
   "cell_type": "markdown",
   "metadata": {
    "slideshow": {
     "slide_type": "subslide"
    }
   },
   "source": [
    "### Solution "
   ]
  },
  {
   "cell_type": "code",
   "execution_count": 131,
   "metadata": {
    "collapsed": true
   },
   "outputs": [],
   "source": [
    "import numpy as np\n",
    "import matplotlib\n",
    "import matplotlib.pyplot as plt\n",
    "%matplotlib inline\n",
    "matplotlib.style.use(\"ggplot\")"
   ]
  },
  {
   "cell_type": "code",
   "execution_count": 132,
   "metadata": {
    "collapsed": true
   },
   "outputs": [],
   "source": [
    "def integrate_simple(f, a, b, N):\n",
    "    \"\"\"Integrate function `f` from `a` to `b` with `N` points.\"\"\"\n",
    "    h = (b - a)/(N-1)\n",
    "    Ih = (f(a) + f(b))/2    # include endpoints with weight 1/2\n",
    "    for i in range(1, N-1):  # points inside interval\n",
    "        Ih += f(a + i*h)\n",
    "    Ih *= h\n",
    "    return Ih"
   ]
  },
  {
   "cell_type": "code",
   "execution_count": 133,
   "metadata": {
    "collapsed": false,
    "slideshow": {
     "slide_type": "fragment"
    }
   },
   "outputs": [
    {
     "data": {
      "text/plain": [
       "1.9998321638939927"
      ]
     },
     "execution_count": 133,
     "metadata": {},
     "output_type": "execute_result"
    }
   ],
   "source": [
    "integrate_simple(np.cos, -np.pi/2, np.pi/2, 100)"
   ]
  },
  {
   "cell_type": "markdown",
   "metadata": {
    "slideshow": {
     "slide_type": "subslide"
    }
   },
   "source": [
    "This is close to the exact result of 2:"
   ]
  },
  {
   "cell_type": "code",
   "execution_count": 69,
   "metadata": {
    "collapsed": false
   },
   "outputs": [
    {
     "name": "stdout",
     "output_type": "stream",
     "text": [
      "     2            2             1\n",
      "    10    0.0203492     0.0101746\n",
      "   100   0.000167836    8.39181e-05\n",
      "  1000   1.64823e-06    8.24115e-07\n",
      " 10000   1.64526e-08    8.22631e-09\n",
      " 1e+06   1.57985e-12    7.89924e-13\n",
      " 1e+07   1.7053e-13    8.52651e-14\n"
     ]
    }
   ],
   "source": [
    "def print_integration_error(N):\n",
    "    exact = 2\n",
    "    abserror = exact - integrate_simple(np.cos, -np.pi/2, np.pi/2, N)\n",
    "    print(\"{0:6g}   {1:10g}    {2:10g}\".format(N, abserror, abserror/exact))\n",
    "\n",
    "for N in (2, 10, 100, 1000, 10**4, 10**6, 10**7):\n",
    "    print_integration_error(N)"
   ]
  },
  {
   "cell_type": "markdown",
   "metadata": {
    "slideshow": {
     "slide_type": "subslide"
    }
   },
   "source": [
    "#### Plot the integral function\n",
    "\n",
    "$$\n",
    "I(x) = \\int_0^x \\cos t dt\n",
    "$$\n",
    "\n",
    "\n",
    "* Compute the integral analytically\n",
    "* Plot the numerical and the analytical solution together"
   ]
  },
  {
   "cell_type": "code",
   "execution_count": 134,
   "metadata": {
    "collapsed": false
   },
   "outputs": [],
   "source": [
    "X = np.pi*np.linspace(-2, 2, 100)\n",
    "Ix = integrate_simple(np.cos, 0, X, 1000)\n",
    "abs_err = Ix - np.sin(X)\n",
    "rel_err = np.abs(abs_err/np.sin(X))"
   ]
  },
  {
   "cell_type": "code",
   "execution_count": 135,
   "metadata": {
    "collapsed": false,
    "slideshow": {
     "slide_type": "fragment"
    }
   },
   "outputs": [
    {
     "data": {
      "text/plain": [
       "[<matplotlib.lines.Line2D at 0x1191ab400>]"
      ]
     },
     "execution_count": 135,
     "metadata": {},
     "output_type": "execute_result"
    },
    {
     "data": {
      "image/png": "[encoded data removed]",
      "text/plain": [
       "<matplotlib.figure.Figure at 0x1191ab3c8>"
      ]
     },
     "metadata": {},
     "output_type": "display_data"
    }
   ],
   "source": [
    "plt.plot(X, Ix, 'r-', label=\"integrate_simple()\")\n",
    "plt.plot(X, np.sin(X), 'k--', label=r\"$\\sin x\")"
   ]
  },
  {
   "cell_type": "markdown",
   "metadata": {
    "slideshow": {
     "slide_type": "subslide"
    }
   },
   "source": [
    "##### Relative error of the integral function "
   ]
  },
  {
   "cell_type": "code",
   "execution_count": 136,
   "metadata": {
    "collapsed": false,
    "scrolled": true,
    "slideshow": {
     "slide_type": "-"
    }
   },
   "outputs": [
    {
     "data": {
      "text/plain": [
       "[<matplotlib.lines.Line2D at 0x11a4eab70>]"
      ]
     },
     "execution_count": 136,
     "metadata": {},
     "output_type": "execute_result"
    },
    {
     "data": {
      "image/png": "[encoded data removed]",
      "text/plain": [
       "<matplotlib.figure.Figure at 0x1191ab438>"
      ]
     },
     "metadata": {},
     "output_type": "display_data"
    }
   ],
   "source": [
    "plt.semilogy(X, rel_err, 'b-')"
   ]
  },
  {
   "cell_type": "markdown",
   "metadata": {
    "slideshow": {
     "slide_type": "fragment"
    }
   },
   "source": [
    "What happens near/at $\\pm2\\pi$? "
   ]
  },
  {
   "cell_type": "code",
   "execution_count": 143,
   "metadata": {
    "collapsed": false
   },
   "outputs": [
    {
     "data": {
      "text/plain": [
       "-7.150304988910588e-16"
      ]
     },
     "execution_count": 143,
     "metadata": {},
     "output_type": "execute_result"
    }
   ],
   "source": [
    "integrate_simple_np(np.cos, 0, 2*np.pi, 10**3)"
   ]
  },
  {
   "cell_type": "markdown",
   "metadata": {
    "slideshow": {
     "slide_type": "subslide"
    }
   },
   "source": [
    "(1) We don't get exact $2\\pi$ for our last $x$ (limited precision!) and thus the exact result is not exactly zero and (2) the relative error is two tiny numbers divided by each other and thus becomes large:"
   ]
  },
  {
   "cell_type": "code",
   "execution_count": 146,
   "metadata": {
    "collapsed": false
   },
   "outputs": [
    {
     "name": "stdout",
     "output_type": "stream",
     "text": [
      "last x =  6.28318530718\n",
      "exact integral  -2.44929359829e-16\n",
      "numerical integral -7.15030498891e-16\n",
      "relative error 0.364246696397\n"
     ]
    }
   ],
   "source": [
    "print(\"last x = \", X[-1])\n",
    "print(\"exact integral \", np.sin(X[-1]))\n",
    "print(\"numerical integral\", integrate_simple_np(np.cos, 0, 2*np.pi, 10**3))\n",
    "print(\"relative error\", rel_err[-1])"
   ]
  },
  {
   "cell_type": "markdown",
   "metadata": {
    "slideshow": {
     "slide_type": "subslide"
    }
   },
   "source": [
    "#### Solution using numpy\n",
    "Note that the loop is replaced by a function evaluation over all intervals, followed by adjustment of the endpoints, and a final numpy sum:"
   ]
  },
  {
   "cell_type": "code",
   "execution_count": 137,
   "metadata": {
    "collapsed": true,
    "slideshow": {
     "slide_type": "-"
    }
   },
   "outputs": [],
   "source": [
    "import numpy as np\n",
    "\n",
    "def integrate_simple_np(f, a, b, N):\n",
    "    \"\"\"Integrate function `f` from `a` to `b` with `N` points.\"\"\"\n",
    "    h = (b - a)/(N-1)\n",
    "    xi = np.linspace(a, b, N)    # all interval points\n",
    "    fi = f(xi)                   # all function evaluations\n",
    "    fi[[0, -1]] /= 2    # include endpoints with weight 1/2\n",
    "    return h * fi.sum()"
   ]
  },
  {
   "cell_type": "code",
   "execution_count": 138,
   "metadata": {
    "collapsed": false,
    "slideshow": {
     "slide_type": "fragment"
    }
   },
   "outputs": [
    {
     "data": {
      "text/plain": [
       "1.9998321638939927"
      ]
     },
     "execution_count": 138,
     "metadata": {},
     "output_type": "execute_result"
    }
   ],
   "source": [
    "integrate_simple_np(np.cos, -np.pi/2, np.pi/2, 100)"
   ]
  },
  {
   "cell_type": "code",
   "execution_count": 139,
   "metadata": {
    "collapsed": false
   },
   "outputs": [
    {
     "data": {
      "text/plain": [
       "2.0000000000000009"
      ]
     },
     "execution_count": 139,
     "metadata": {},
     "output_type": "execute_result"
    }
   ],
   "source": [
    "integrate_simple_np(np.cos, -np.pi/2, np.pi/2, 10**8)"
   ]
  },
  {
   "cell_type": "markdown",
   "metadata": {
    "slideshow": {
     "slide_type": "fragment"
    }
   },
   "source": [
    "Both solutions give identical answers:"
   ]
  },
  {
   "cell_type": "code",
   "execution_count": 154,
   "metadata": {
    "collapsed": false
   },
   "outputs": [
    {
     "data": {
      "text/plain": [
       "0.0"
      ]
     },
     "execution_count": 154,
     "metadata": {},
     "output_type": "execute_result"
    }
   ],
   "source": [
    "integrate_simple_np(np.cos, -np.pi/2, np.pi/2, 100) - integrate_simple(np.cos, -np.pi/2, np.pi/2, 100)"
   ]
  },
  {
   "cell_type": "markdown",
   "metadata": {
    "slideshow": {
     "slide_type": "subslide"
    }
   },
   "source": [
    "##### Relative error of the numpy solution\n",
    "The numpy solution is much faster (see below) so we can use more intervals!"
   ]
  },
  {
   "cell_type": "code",
   "execution_count": 140,
   "metadata": {
    "collapsed": false,
    "slideshow": {
     "slide_type": "-"
    }
   },
   "outputs": [],
   "source": [
    "X = np.pi * np.linspace(-2, 2, 100)\n",
    "Ix_np = np.array([integrate_simple_np(np.cos, 0, x, 10**6) for x in X])\n",
    "abs_err_np = Ix_np - np.sin(X)\n",
    "rel_err_np = np.abs(abs_err_np/np.sin(X))"
   ]
  },
  {
   "cell_type": "code",
   "execution_count": 141,
   "metadata": {
    "collapsed": false,
    "scrolled": true
   },
   "outputs": [
    {
     "data": {
      "text/plain": [
       "[<matplotlib.lines.Line2D at 0x103d17550>]"
      ]
     },
     "execution_count": 141,
     "metadata": {},
     "output_type": "execute_result"
    },
    {
     "data": {
      "image/png": "[encoded data removed]",
      "text/plain": [
       "<matplotlib.figure.Figure at 0x11873d588>"
      ]
     },
     "metadata": {},
     "output_type": "display_data"
    }
   ],
   "source": [
    "plt.semilogy(X, rel_err_np, 'b-')"
   ]
  },
  {
   "cell_type": "code",
   "execution_count": 142,
   "metadata": {
    "collapsed": false
   },
   "outputs": [
    {
     "data": {
      "text/plain": [
       "-8.2789245575897814e-16"
      ]
     },
     "execution_count": 142,
     "metadata": {},
     "output_type": "execute_result"
    }
   ],
   "source": [
    "integrate_simple_np(np.cos, 0, 2*np.pi, 10**6)"
   ]
  },
  {
   "cell_type": "markdown",
   "metadata": {
    "slideshow": {
     "slide_type": "subslide"
    }
   },
   "source": [
    "#### Benchmarking\n",
    "Which solution is faster? Try both the Python loop and the NumPy version for\n",
    "* $N = 10$\n",
    "* $N = 100$\n",
    "* $N = 10^6$"
   ]
  },
  {
   "cell_type": "markdown",
   "metadata": {
    "slideshow": {
     "slide_type": "subslide"
    }
   },
   "source": [
    "##### N = 10"
   ]
  },
  {
   "cell_type": "code",
   "execution_count": 58,
   "metadata": {
    "collapsed": false,
    "slideshow": {
     "slide_type": "-"
    }
   },
   "outputs": [
    {
     "name": "stdout",
     "output_type": "stream",
     "text": [
      "10000 loops, best of 3: 28 µs per loop\n"
     ]
    }
   ],
   "source": [
    "%timeit integrate_simple(np.cos, -np.pi/2, np.pi/2, 10)"
   ]
  },
  {
   "cell_type": "code",
   "execution_count": 59,
   "metadata": {
    "collapsed": false,
    "scrolled": true
   },
   "outputs": [
    {
     "name": "stdout",
     "output_type": "stream",
     "text": [
      "10000 loops, best of 3: 49 µs per loop\n"
     ]
    }
   ],
   "source": [
    "%timeit integrate_simple_np(np.cos, -np.pi/2, np.pi/2, 10)"
   ]
  },
  {
   "cell_type": "markdown",
   "metadata": {},
   "source": [
    "For $N=10$ points, the naive Python implementation is almost twice as fast."
   ]
  },
  {
   "cell_type": "markdown",
   "metadata": {
    "slideshow": {
     "slide_type": "subslide"
    }
   },
   "source": [
    "##### N = 100 "
   ]
  },
  {
   "cell_type": "code",
   "execution_count": 60,
   "metadata": {
    "collapsed": false,
    "slideshow": {
     "slide_type": "-"
    }
   },
   "outputs": [
    {
     "name": "stdout",
     "output_type": "stream",
     "text": [
      "1000 loops, best of 3: 251 µs per loop\n"
     ]
    }
   ],
   "source": [
    "%timeit integrate_simple(np.cos, -np.pi/2, np.pi/2, 100)"
   ]
  },
  {
   "cell_type": "code",
   "execution_count": 62,
   "metadata": {
    "collapsed": false,
    "scrolled": true
   },
   "outputs": [
    {
     "name": "stdout",
     "output_type": "stream",
     "text": [
      "10000 loops, best of 3: 51.6 µs per loop\n"
     ]
    }
   ],
   "source": [
    "%timeit integrate_simple_np(np.cos, -np.pi/2, np.pi/2, 100)"
   ]
  },
  {
   "cell_type": "markdown",
   "metadata": {},
   "source": [
    "For 100 points, the numpy version is about 5 times faster than the Python loop."
   ]
  },
  {
   "cell_type": "markdown",
   "metadata": {
    "slideshow": {
     "slide_type": "subslide"
    }
   },
   "source": [
    "##### N = 10**6"
   ]
  },
  {
   "cell_type": "code",
   "execution_count": 48,
   "metadata": {
    "collapsed": false,
    "slideshow": {
     "slide_type": "-"
    }
   },
   "outputs": [
    {
     "name": "stdout",
     "output_type": "stream",
     "text": [
      "1 loops, best of 3: 2.51 s per loop\n"
     ]
    }
   ],
   "source": [
    "%timeit integrate_simple(np.cos, -np.pi/2, np.pi/2, 10**6)"
   ]
  },
  {
   "cell_type": "code",
   "execution_count": 47,
   "metadata": {
    "collapsed": false,
    "scrolled": true
   },
   "outputs": [
    {
     "name": "stdout",
     "output_type": "stream",
     "text": [
      "10 loops, best of 3: 37.4 ms per loop\n"
     ]
    }
   ],
   "source": [
    "%timeit integrate_simple_np(np.cos, -np.pi/2, np.pi/2, 10**6)"
   ]
  },
  {
   "cell_type": "code",
   "execution_count": 53,
   "metadata": {
    "collapsed": false
   },
   "outputs": [
    {
     "data": {
      "text/plain": [
       "67.11229946524062"
      ]
     },
     "execution_count": 53,
     "metadata": {},
     "output_type": "execute_result"
    }
   ],
   "source": [
    "2.51 / 37.4e-3"
   ]
  },
  {
   "cell_type": "markdown",
   "metadata": {},
   "source": [
    "For 1 Million points, the numpy version is about 67 times faster than the pure-python implementation."
   ]
  },
  {
   "cell_type": "markdown",
   "metadata": {
    "slideshow": {
     "slide_type": "subslide"
    }
   },
   "source": [
    "Lesson: **Replace Python loops with NumPy array operations!**"
   ]
  },
  {
   "cell_type": "markdown",
   "metadata": {
    "slideshow": {
     "slide_type": "subslide"
    }
   },
   "source": [
    "#### Error analysis\n",
    "Exact solution:\n",
    "$$\n",
    "\\int_{-\\pi/2}^{+\\pi/2} \\cos x dx = [\\sin x]_{-\\pi/2}^{+\\pi/2} = 1 - (-1) = 2\n",
    "$$"
   ]
  },
  {
   "cell_type": "code",
   "execution_count": 148,
   "metadata": {
    "collapsed": true
   },
   "outputs": [],
   "source": [
    "def integral_cos(a, b):\n",
    "    \"\"\"Integral cos x from a to b\"\"\"\n",
    "    return np.sin(b) - np.sin(a)\n",
    "    \n",
    "def abs_error(F, a, b, N):\n",
    "    \"\"\"Absolute error for integrating cos x from a to b with algorithm F\"\"\"\n",
    "    return np.abs(F(np.cos, a, b, N) - integral_cos(a, b))\n",
    "\n",
    "def rel_error(F, a, b, N):\n",
    "    \"\"\"relative error for integrating cos x from a to b with algorithm F\"\"\"\n",
    "    exact = integral_cos(a, b)\n",
    "    return np.abs(F(np.cos, -np.pi/2, np.pi/2, N) - exact)/np.abs(exact)  \n",
    "    "
   ]
  },
  {
   "cell_type": "code",
   "execution_count": 149,
   "metadata": {
    "collapsed": false,
    "slideshow": {
     "slide_type": "fragment"
    }
   },
   "outputs": [
    {
     "data": {
      "text/plain": [
       "2.0"
      ]
     },
     "execution_count": 149,
     "metadata": {},
     "output_type": "execute_result"
    }
   ],
   "source": [
    "integral_cos(-np.pi/2, np.pi/2)"
   ]
  },
  {
   "cell_type": "code",
   "execution_count": 150,
   "metadata": {
    "collapsed": false,
    "slideshow": {
     "slide_type": "fragment"
    }
   },
   "outputs": [
    {
     "data": {
      "text/plain": [
       "0.00016783610600734633"
      ]
     },
     "execution_count": 150,
     "metadata": {},
     "output_type": "execute_result"
    }
   ],
   "source": [
    "abs_error(integrate_simple_np, -np.pi/2, np.pi/2, 100)"
   ]
  },
  {
   "cell_type": "code",
   "execution_count": 151,
   "metadata": {
    "collapsed": false
   },
   "outputs": [
    {
     "data": {
      "text/plain": [
       "8.22675261247241e-13"
      ]
     },
     "execution_count": 151,
     "metadata": {},
     "output_type": "execute_result"
    }
   ],
   "source": [
    "rel_error(integrate_simple_np, -np.pi/2, np.pi/2, int(1e6))"
   ]
  },
  {
   "cell_type": "code",
   "execution_count": 152,
   "metadata": {
    "collapsed": false,
    "scrolled": true,
    "slideshow": {
     "slide_type": "subslide"
    }
   },
   "outputs": [
    {
     "data": {
      "text/plain": [
       "[<matplotlib.lines.Line2D at 0x11870d390>]"
      ]
     },
     "execution_count": 152,
     "metadata": {},
     "output_type": "execute_result"
    },
    {
     "data": {
      "image/png": "[encoded data removed]",
      "text/plain": [
       "<matplotlib.figure.Figure at 0x11b400438>"
      ]
     },
     "metadata": {},
     "output_type": "display_data"
    }
   ],
   "source": [
    "N_range = np.logspace(1, 8, 50)  # 10 -> 10**8\n",
    "errors = np.array([rel_error(integrate_simple_np, -np.pi/2, np.pi/2, N) for N in N_range])\n",
    "plt.loglog(N_range, errors)"
   ]
  }
 ],
 "metadata": {
  "celltoolbar": "Slideshow",
  "kernelspec": {
   "display_name": "Python 3",
   "language": "python",
   "name": "python3"
  },
  "language_info": {
   "codemirror_mode": {
    "name": "ipython",
    "version": 3
   },
   "file_extension": ".py",
   "mimetype": "text/x-python",
   "name": "python",
   "nbconvert_exporter": "python",
   "pygments_lexer": "ipython3",
   "version": "3.5.1"
  }
 },
 "nbformat": 4,
 "nbformat_minor": 0
}
