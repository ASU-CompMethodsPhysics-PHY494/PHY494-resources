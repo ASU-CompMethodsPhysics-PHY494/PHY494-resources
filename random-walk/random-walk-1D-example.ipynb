{
 "cells": [
  {
   "cell_type": "markdown",
   "metadata": {},
   "source": [
    "# Random Walk(Brownian motion)\n",
    "ref:\n",
    "\n",
    "https://scipy-lectures.org/intro/numpy/auto_examples/plot_randomwalk.html#sphx-glr-intro-numpy-auto-examples-plot-randomwalk-py\n",
    "   \n",
    "https://scipy-lectures.org/intro/numpy/operations.html#other-reductions"
   ]
  },
  {
   "cell_type": "markdown",
   "metadata": {},
   "source": [
    "## 1D example"
   ]
  },
  {
   "cell_type": "markdown",
   "metadata": {},
   "source": [
    "### Import libs"
   ]
  },
  {
   "cell_type": "code",
   "execution_count": 2,
   "metadata": {},
   "outputs": [],
   "source": [
    "import numpy as np\n",
    "import matplotlib.pyplot as plt\n",
    "from IPython.display import Image"
   ]
  },
  {
   "cell_type": "markdown",
   "metadata": {},
   "source": [
    "Let us consider a simple 1D random walk process: at each time step a walker jumps right or left with equal probability.\n",
    "\n",
    "We are interested in finding the typical distance from the origin of a random walker after t(time) left or right jumps? We are going to simulate many \"walkers\" to find this law, and we are going to do so using array computing tricks."
   ]
  },
  {
   "cell_type": "markdown",
   "metadata": {},
   "source": [
    "![Here is a simple example from: https://scipy-lectures.org/intro/numpy/operations.html#other-reductions ](random_walk.png)"
   ]
  },
  {
   "cell_type": "markdown",
   "metadata": {},
   "source": [
    "![More details](random_walk_schema.png)"
   ]
  },
  {
   "cell_type": "markdown",
   "metadata": {},
   "source": [
    "### Initialize some constants"
   ]
  },
  {
   "cell_type": "code",
   "execution_count": 41,
   "metadata": {},
   "outputs": [],
   "source": [
    "# We create 1000 realizations with 200 steps each\n",
    "n_stories = 1000\n",
    "t_max = 200\n",
    "\n",
    "# Generate time steps\n",
    "t = np.arange(t_max)"
   ]
  },
  {
   "cell_type": "markdown",
   "metadata": {},
   "source": [
    "np.arange doc\n",
    "\n",
    "https://numpy.org/doc/1.18/reference/generated/numpy.arange.html"
   ]
  },
  {
   "cell_type": "code",
   "execution_count": 42,
   "metadata": {},
   "outputs": [
    {
     "name": "stdout",
     "output_type": "stream",
     "text": [
      "[2 3 4]\n",
      "[2. 4. 6. 8.]\n",
      "[-0.1  0.   0.1  0.2  0.3  0.4]\n"
     ]
    }
   ],
   "source": [
    "print(np.arange(2,5))\n",
    "print(np.arange(2,10,2,dtype=float))\n",
    "print(np.arange(-0.1,0.5,0.1))"
   ]
  },
  {
   "cell_type": "markdown",
   "metadata": {},
   "source": [
    "### Generate random steps"
   ]
  },
  {
   "cell_type": "code",
   "execution_count": 43,
   "metadata": {},
   "outputs": [
    {
     "name": "stdout",
     "output_type": "stream",
     "text": [
      "[[ 1  1 -1 ...  1  1 -1]\n",
      " [-1  1  1 ...  1 -1 -1]\n",
      " [-1 -1 -1 ...  1  1  1]\n",
      " ...\n",
      " [-1  1  1 ...  1 -1 -1]\n",
      " [ 1 -1  1 ...  1 -1  1]\n",
      " [-1  1 -1 ...  1  1  1]]\n",
      "(1000, 200)\n"
     ]
    }
   ],
   "source": [
    "# Steps can be -1 or 1 (note that randint excludes the upper limit)\n",
    "steps = 2 * np.random.randint(0, 2, (n_stories, t_max)) - 1\n",
    "\n",
    "print(steps)\n",
    "print(np.shape(steps))"
   ]
  },
  {
   "cell_type": "markdown",
   "metadata": {},
   "source": [
    "np.random.randint doc\n",
    "\n",
    "https://docs.scipy.org/doc/numpy-1.15.1/reference/generated/numpy.random.randint.html"
   ]
  },
  {
   "cell_type": "markdown",
   "metadata": {},
   "source": [
    "### Calculate cumulative sum "
   ]
  },
  {
   "cell_type": "code",
   "execution_count": 44,
   "metadata": {},
   "outputs": [
    {
     "name": "stdout",
     "output_type": "stream",
     "text": [
      "[[  1   2   1 ...  24  25  24]\n",
      " [ -1   0   1 ...  -8  -9 -10]\n",
      " [ -1  -2  -3 ...   0   1   2]\n",
      " ...\n",
      " [ -1   0   1 ...  -2  -3  -4]\n",
      " [  1   0   1 ...   0  -1   0]\n",
      " [ -1   0  -1 ... -16 -15 -14]]\n"
     ]
    }
   ],
   "source": [
    "# The time evolution of the position is obtained by successively\n",
    "# summing up individual steps. This is done for each of the\n",
    "# realizations, i.e. along axis 1.\n",
    "positions = np.cumsum(steps, axis=1)\n",
    "\n",
    "print(positions)"
   ]
  },
  {
   "cell_type": "markdown",
   "metadata": {},
   "source": [
    "np.cumsum doc\n",
    "\n",
    "https://docs.scipy.org/doc/numpy/reference/generated/numpy.cumsum.html"
   ]
  },
  {
   "cell_type": "markdown",
   "metadata": {},
   "source": [
    "### Calculate the mean square distance(MSD)"
   ]
  },
  {
   "cell_type": "code",
   "execution_count": 72,
   "metadata": {},
   "outputs": [
    {
     "name": "stdout",
     "output_type": "stream",
     "text": [
      "[ 1.     1.98   3.072  3.964  4.88   6.14   7.08   8.096  9.12  10.092]\n",
      "(200,)\n"
     ]
    }
   ],
   "source": [
    "# Determine the time evolution of the mean square distance.\n",
    "sq_distance = positions**2\n",
    "mean_sq_distance = np.mean(sq_distance, axis=0)\n",
    "print(mean_sq_distance[:10])\n",
    "print(np.shape(mean_sq_distance))"
   ]
  },
  {
   "cell_type": "markdown",
   "metadata": {},
   "source": [
    "### Plot the data"
   ]
  },
  {
   "cell_type": "code",
   "execution_count": 70,
   "metadata": {},
   "outputs": [
    {
     "data": {
      "image/png": "[encoded data removed]",
      "text/plain": [
       "<Figure size 288x216 with 1 Axes>"
      ]
     },
     "metadata": {
      "needs_background": "light"
     },
     "output_type": "display_data"
    }
   ],
   "source": [
    "# Plot the distance d from the origin as a function of time and\n",
    "# compare with the theoretically expected result.\n",
    "plt.figure(figsize=(4, 3))\n",
    "plt.plot(t, (mean_sq_distance), 'g.')\n",
    "plt.plot(t,t,'y-')\n",
    "plt.xlabel(r\"$t$\")\n",
    "plt.ylabel(r\"$\\langle (\\delta x)^2 \\rangle$\")\n",
    "plt.tight_layout()\n"
   ]
  },
  {
   "cell_type": "markdown",
   "metadata": {},
   "source": [
    "We find a well-known result in physics: the MSD grows linearly as the time!"
   ]
  },
  {
   "cell_type": "markdown",
   "metadata": {},
   "source": [
    "### Linear fit on data"
   ]
  },
  {
   "cell_type": "code",
   "execution_count": 60,
   "metadata": {},
   "outputs": [],
   "source": [
    "# with scipy\n",
    "from scipy import optimize\n",
    "\n",
    "def diff_fit(X, m, b):\n",
    "    return m * X + b"
   ]
  },
  {
   "cell_type": "code",
   "execution_count": 62,
   "metadata": {},
   "outputs": [
    {
     "name": "stdout",
     "output_type": "stream",
     "text": [
      "[0.97509873 0.64509612]\n"
     ]
    }
   ],
   "source": [
    "params, params_covariance = optimize.curve_fit(diff_fit, t, mean_sq_distance, p0=[1, 1])\n",
    "print(params)"
   ]
  },
  {
   "cell_type": "markdown",
   "metadata": {},
   "source": [
    "scipy.optimize.curve_fit doc\n",
    "\n",
    "https://docs.scipy.org/doc/scipy/reference/generated/scipy.optimize.curve_fit.html#scipy.optimize.curve_fit"
   ]
  },
  {
   "cell_type": "code",
   "execution_count": 69,
   "metadata": {},
   "outputs": [
    {
     "data": {
      "text/plain": [
       "<matplotlib.legend.Legend at 0x19d47b9e308>"
      ]
     },
     "execution_count": 69,
     "metadata": {},
     "output_type": "execute_result"
    },
    {
     "data": {
      "image/png": "[encoded data removed]",
      "text/plain": [
       "<Figure size 432x288 with 1 Axes>"
      ]
     },
     "metadata": {
      "needs_background": "light"
     },
     "output_type": "display_data"
    }
   ],
   "source": [
    "plt.plot(t, diff_fit(t, *params), 'r--', label='fit: a={0:f}, b={1:f}'.format(params[0],params[1]))\n",
    "plt.plot(t, (mean_sq_distance), 'g.',label='MSD data')\n",
    "plt.legend()\n"
   ]
  },
  {
   "cell_type": "code",
   "execution_count": null,
   "metadata": {},
   "outputs": [],
   "source": []
  }
 ],
 "metadata": {
  "kernelspec": {
   "display_name": "Python 3",
   "language": "python",
   "name": "python3"
  },
  "language_info": {
   "codemirror_mode": {
    "name": "ipython",
    "version": 3
   },
   "file_extension": ".py",
   "mimetype": "text/x-python",
   "name": "python",
   "nbconvert_exporter": "python",
   "pygments_lexer": "ipython3",
   "version": "3.7.4"
  }
 },
 "nbformat": 4,
 "nbformat_minor": 2
}
