{
 "cells": [
  {
   "cell_type": "markdown",
   "metadata": {},
   "source": [
    "# Random Walk(Brownian motion)"
   ]
  },
  {
   "cell_type": "markdown",
   "metadata": {},
   "source": [
    "## 2D random-walk"
   ]
  },
  {
   "cell_type": "markdown",
   "metadata": {},
   "source": [
    "### Import libs"
   ]
  },
  {
   "cell_type": "code",
   "execution_count": null,
   "metadata": {},
   "outputs": [],
   "source": [
    "# For 2D RW, we need to import numpy, matplotlib and scipy.\n"
   ]
  },
  {
   "cell_type": "markdown",
   "metadata": {},
   "source": [
    "### Initialize some constants"
   ]
  },
  {
   "cell_type": "code",
   "execution_count": null,
   "metadata": {},
   "outputs": [],
   "source": [
    "# We create 2000 realizations with 500 steps each\n",
    "# Variable needed: n_stories, t_max\n",
    "\n",
    "\n",
    "\n",
    "# Generate time steps t using np.arange\n",
    "\n"
   ]
  },
  {
   "cell_type": "markdown",
   "metadata": {},
   "source": [
    "### Generate random steps"
   ]
  },
  {
   "cell_type": "code",
   "execution_count": null,
   "metadata": {},
   "outputs": [],
   "source": [
    "# Steps can be -1 or 1 in either x or y direction\n",
    "\n",
    "# For 1D case, we used:\n",
    "# steps = 2 * np.random.randint(0, 2, (n_stories, t_max)) - 1\n",
    "\n",
    "# For 2D cases, we will generate 2 random matrices with the same size (n_stories, t_max).\n",
    "\n",
    "# We use the first one for steps as the same way we did in 1D example. \n",
    "# This one will determine either the particle goes positive or negtive direction. 1 for positive, -1 for negtive.\n",
    "# Variable name: steps\n",
    "\n",
    "steps = \n",
    "\n",
    "\n",
    "# We use the second one as an indicator to describe either the particle goes x or y direction. We can use 0 for x and 1 for y.\n",
    "# Variable name: x_or_y\n",
    "\n",
    "x_or_y = \n",
    "\n",
    "\n",
    "# Now we should have two matrices steps and x_or_y. \n",
    "print(steps)\n",
    "print(x_or_y)"
   ]
  },
  {
   "cell_type": "markdown",
   "metadata": {},
   "source": [
    "### Calculate the cumulative sum "
   ]
  },
  {
   "cell_type": "code",
   "execution_count": null,
   "metadata": {},
   "outputs": [],
   "source": [
    "# By doing a element-wise multiplication between steps and x_or_y, we should be able to seperate the motion in x and y. \n",
    "\n",
    "# For example:\n",
    "# steps [1,1,-1,-1,1,1,1,-1,1,1]\n",
    "# x_or_y [0,1,1,0,1,1,1,0,0,0]\n",
    "# y_position [0,1,-1,0,1,1,1,0,0,0]\n",
    "\n",
    "# Y motion should be straightfoward, X motion is a bit harder."
   ]
  },
  {
   "cell_type": "code",
   "execution_count": null,
   "metadata": {},
   "outputs": [],
   "source": [
    "# Calculate y_steps and y_positions using np.cumsum\n",
    "y_steps =\n",
    "y_positions = "
   ]
  },
  {
   "cell_type": "code",
   "execution_count": null,
   "metadata": {},
   "outputs": [],
   "source": [
    "# Calculate x_steps and x_positions using np.cumsum\n",
    "x_steps =\n",
    "x_positions = "
   ]
  },
  {
   "cell_type": "markdown",
   "metadata": {},
   "source": [
    "### Plot a 2D trajectory"
   ]
  },
  {
   "cell_type": "code",
   "execution_count": null,
   "metadata": {},
   "outputs": [],
   "source": [
    "# plot the trajectores of the first 3 particle\n"
   ]
  },
  {
   "cell_type": "markdown",
   "metadata": {},
   "source": [
    "### Calculate the mean square distance(MSD)"
   ]
  },
  {
   "cell_type": "code",
   "execution_count": null,
   "metadata": {},
   "outputs": [],
   "source": [
    "# Determine the time evolution of the mean square distance.\n",
    "sq_distance = \n",
    "mean_sq_distance = "
   ]
  },
  {
   "cell_type": "markdown",
   "metadata": {},
   "source": [
    "### Plot the data"
   ]
  },
  {
   "cell_type": "code",
   "execution_count": null,
   "metadata": {},
   "outputs": [],
   "source": [
    "# Plot the distance d from the origin as a function of time and\n",
    "# compare with the theoretically expected result.\n",
    "plt.figure(figsize=(4, 3))\n",
    "plt.plot(t, (mean_sq_distance), 'g.')\n",
    "plt.plot(t,t,'y-')\n",
    "plt.xlabel(r\"$t$\")\n",
    "plt.ylabel(r\"$\\langle (\\delta x)^2 \\rangle$\")\n",
    "plt.tight_layout()\n"
   ]
  },
  {
   "cell_type": "markdown",
   "metadata": {},
   "source": [
    "### Linear fit on data"
   ]
  },
  {
   "cell_type": "code",
   "execution_count": null,
   "metadata": {},
   "outputs": [],
   "source": [
    "# with scipy\n",
    "from scipy import optimize\n",
    "\n",
    "def diff_fit(X, m, b):\n",
    "    return m * X + b"
   ]
  },
  {
   "cell_type": "code",
   "execution_count": null,
   "metadata": {},
   "outputs": [],
   "source": [
    "params, params_covariance = optimize.curve_fit(diff_fit, t, mean_sq_distance, p0=[1, 1])\n",
    "print(params)"
   ]
  },
  {
   "cell_type": "code",
   "execution_count": null,
   "metadata": {},
   "outputs": [],
   "source": [
    "plt.plot(t, diff_fit(t, *params), 'r--', label='fit: m={0:f}, b={1:f}'.format(params[0],params[1]))\n",
    "plt.plot(t, (mean_sq_distance), 'g.',label='MSD data')\n",
    "plt.legend()\n"
   ]
  },
  {
   "cell_type": "markdown",
   "metadata": {},
   "source": [
    "## More fun"
   ]
  },
  {
   "cell_type": "markdown",
   "metadata": {},
   "source": [
    "### Longer trajectory"
   ]
  },
  {
   "cell_type": "code",
   "execution_count": 1,
   "metadata": {},
   "outputs": [],
   "source": [
    "# Simulate longer trajectories with fewer particles\n",
    "n_stories = 3\n",
    "t_max = 1000000"
   ]
  },
  {
   "cell_type": "markdown",
   "metadata": {},
   "source": [
    "### 3D random walk"
   ]
  },
  {
   "cell_type": "code",
   "execution_count": 2,
   "metadata": {},
   "outputs": [],
   "source": [
    "# Run simulation in 3D\n",
    "# Outline:\n",
    "# 1. Generate steps\n",
    "# 2. Generate x_or_y_or_z\n",
    "# 3. Calculate x,y,z, positions"
   ]
  },
  {
   "cell_type": "markdown",
   "metadata": {},
   "source": [
    "### Biased random walk"
   ]
  },
  {
   "cell_type": "code",
   "execution_count": null,
   "metadata": {},
   "outputs": [],
   "source": [
    "# External force or field may change the particle motion from isotropic to anisotropic.\n",
    "# That is, the probability of the particle moving in different direction may differ.\n",
    "# Thus, the correct way to generate the steps is to sample from the probability distribution by using Monte Carlo simulation. \n",
    "\n",
    "# I don't have a immediate solution to this open question yet. To answer it, you may need to explore more details from the literatures."
   ]
  }
 ],
 "metadata": {
  "kernelspec": {
   "display_name": "Python 3",
   "language": "python",
   "name": "python3"
  },
  "language_info": {
   "codemirror_mode": {
    "name": "ipython",
    "version": 3
   },
   "file_extension": ".py",
   "mimetype": "text/x-python",
   "name": "python",
   "nbconvert_exporter": "python",
   "pygments_lexer": "ipython3",
   "version": "3.7.6"
  }
 },
 "nbformat": 4,
 "nbformat_minor": 2
}
