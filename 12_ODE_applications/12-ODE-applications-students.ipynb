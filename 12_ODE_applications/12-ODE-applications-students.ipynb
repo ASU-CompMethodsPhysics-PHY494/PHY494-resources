{
 "cells": [
  {
   "cell_type": "markdown",
   "metadata": {},
   "source": [
    "# 12 ODE Applications (Projectile motion) – Students\n",
    "Let's apply our ODE solvers to some problems involving balls and projectiles.\n",
    "\n",
    "The `integrators.py` file from [Lesson 10](https://asu-compmethodsphysics-phy494.github.io/ASU-PHY494/2019/02/19/10_ODEs/) is used here (and named [`ode.py`](https://github.com/ASU-CompMethodsPhysics-PHY494/PHY494-resources/tree/master/12_ODE_applications/ode.py)).\n",
    "\n",
    "*Note: Incomplete notebook for students to work on*"
   ]
  },
  {
   "cell_type": "code",
   "execution_count": null,
   "metadata": {
    "collapsed": true
   },
   "outputs": [],
   "source": [
    "import numpy as np\n",
    "import ode"
   ]
  },
  {
   "cell_type": "code",
   "execution_count": null,
   "metadata": {
    "collapsed": true
   },
   "outputs": [],
   "source": [
    "%matplotlib inline\n",
    "import matplotlib.pyplot as plt"
   ]
  },
  {
   "cell_type": "markdown",
   "metadata": {},
   "source": [
    "## Projectile with linear air-resistance\n",
    "Linear drag force\n",
    "\n",
    "$$\n",
    "\\mathbf{F}_1 = -b_1 \\mathbf{v}\n",
    "$$\n",
    "\n",
    "Equations of motion with force due to gravity $\\mathbf{g} = -g \\hat{\\mathbf{e}}_y$\n",
    "\n",
    "\\begin{align}\n",
    "\\frac{d\\mathbf{r}}{dt} &= \\mathbf{v}\\\\\n",
    "\\frac{d\\mathbf{v}}{dt} &= - g \\hat{\\mathbf{e}}_y -\\frac{b_1}{m} \\mathbf{v} \n",
    "\\end{align}"
   ]
  },
  {
   "cell_type": "markdown",
   "metadata": {},
   "source": [
    "Bring into standard ODE form for\n",
    "\n",
    "$$\n",
    "\\frac{d\\mathbf{y}}{dt} = \\mathbf{f}(t, \\mathbf{y})\n",
    "$$"
   ]
  },
  {
   "cell_type": "markdown",
   "metadata": {},
   "source": [
    "as\n",
    "\n",
    "$$\n",
    "\\mathbf{y} = \\begin{pmatrix}\n",
    "x\\\\\n",
    "y\\\\\n",
    "v_x\\\\\n",
    "v_y\n",
    "\\end{pmatrix}, \\quad\n",
    "\\mathbf{f} = \\begin{pmatrix}\n",
    "v_x\\\\\n",
    "v_y\\\\\n",
    "-\\frac{b_1}{m} v_x\\\\\n",
    "-g -\\frac{b_1}{m} v_y\n",
    "\\end{pmatrix}\n",
    "$$"
   ]
  },
  {
   "cell_type": "markdown",
   "metadata": {},
   "source": [
    "(Based on Wang 2016, Ch 3.3.1)"
   ]
  },
  {
   "cell_type": "markdown",
   "metadata": {},
   "source": [
    "**Complete the code**\n",
    "- Formulate the function `f()` for the standard ODE form\n",
    "- Set up the integration loop: \n",
    "  - only integrate until the particle hits ground, i.e. while $y ≥ 0$.\n",
    "  - choose an appropriate ODE solver from `ode.py`"
   ]
  },
  {
   "cell_type": "code",
   "execution_count": null,
   "metadata": {
    "collapsed": true
   },
   "outputs": [],
   "source": [
    "def simulate(v0, h=0.01, b1=0.2, g=9.81, m=0.5):\n",
    "    \n",
    "    def f(t, y):\n",
    "        # y = [x, y, vx, vy]\n",
    "        raise NotImplementedError\n",
    "\n",
    "    vx, vy = v0\n",
    "    t = 0\n",
    "    positions = []\n",
    "    y = np.array([0, 0, vx, vy], dtype=np.float64)\n",
    "    \n",
    "    # add integration loop here\n",
    "        \n",
    "    return np.array(positions)\n",
    "\n",
    "def initial_v(v, theta):\n",
    "    x = np.deg2rad(theta)\n",
    "    return v * np.array([np.cos(x), np.sin(x)])"
   ]
  },
  {
   "cell_type": "markdown",
   "metadata": {},
   "source": [
    "Run for an initial velocity of 200 m/s and an angle of $\\theta = 30^\\circ$:"
   ]
  },
  {
   "cell_type": "code",
   "execution_count": null,
   "metadata": {},
   "outputs": [],
   "source": [
    "r = simulate(initial_v(200, 30), h=0.01, b1=1)"
   ]
  },
  {
   "cell_type": "markdown",
   "metadata": {},
   "source": [
    "Plot the motion in the $x$-$y$ plane."
   ]
  },
  {
   "cell_type": "code",
   "execution_count": null,
   "metadata": {
    "scrolled": true
   },
   "outputs": [],
   "source": [
    "# plot"
   ]
  },
  {
   "cell_type": "markdown",
   "metadata": {},
   "source": [
    "Plot for different starting angles:"
   ]
  },
  {
   "cell_type": "code",
   "execution_count": null,
   "metadata": {},
   "outputs": [],
   "source": [
    "for angle in (5, 7.5, 10, 20, 30, 45):\n",
    "    # ... complete"
   ]
  },
  {
   "cell_type": "markdown",
   "metadata": {},
   "source": [
    "## Simple Baseball physics\n",
    "\n",
    "- quadratic air resistance (with velocity-dependent drag coefficient)\n",
    "- Magnus force due to spin\n"
   ]
  },
  {
   "cell_type": "markdown",
   "metadata": {},
   "source": [
    "### Quadratic air resistance\n",
    "Occurs at high Reynolds numbers, i.e., turbulent flow. Only approximate:\n",
    "\n",
    "$$\n",
    "\\mathbf{F}_2 = -b_2 v \\mathbf{v}\n",
    "$$"
   ]
  },
  {
   "cell_type": "markdown",
   "metadata": {},
   "source": [
    "### Magnus effect "
   ]
  },
  {
   "cell_type": "markdown",
   "metadata": {},
   "source": [
    "**Magnus effect**: airflow is changed around a spinning object. The Magnus force is\n",
    "\n",
    "$$\n",
    "\\mathbf{F}_M = \\alpha \\boldsymbol{\\omega} \\times \\mathbf{v}\n",
    "$$\n",
    "\n",
    "where $\\boldsymbol{\\omega}$ is the ball's angular velocity in rad/s (e.g., 200/s for a baseball).\n",
    "\n",
    "For a sphere the proportionality constant $\\alpha$ can be written\n",
    "\n",
    "$$\n",
    "\\mathbf{F}_M = \\frac{1}{2} C_L \\rho A \\frac{v}{\\omega} \\boldsymbol{\\omega} \\times \\mathbf{v}\n",
    "$$\n",
    "\n",
    "where $C_L$ is the lift coefficient, $\\rho$ the air density, $A$ the ball's cross section. (Advantage of defining $C_L$ this way: when spin and velocity are perpendicular, the Magnus force is simply $F_M = \\frac{1}{2} C_L \\rho A v^2$.)"
   ]
  },
  {
   "cell_type": "markdown",
   "metadata": {},
   "source": [
    "$C_L$ is mainly a function of the *spin parameter*\n",
    "\n",
    "$$\n",
    "S = \\frac{r\\omega}{v}\n",
    "$$\n",
    "\n",
    "with the radius $r$ of the ball. In general we write\n",
    "\n",
    "$$\n",
    "\\mathbf{F}_M = \\frac{1}{2} C_L  \\frac{\\rho A r}{S} \\boldsymbol{\\omega} \\times \\mathbf{v}\n",
    "$$"
   ]
  },
  {
   "cell_type": "markdown",
   "metadata": {},
   "source": [
    "For a baseball, experimental data show approximately a power law dependence of $C_L$ on $S$\n",
    "\n",
    "$$\n",
    "C_L = 0.62 \\times S^{0.7}\n",
    "$$"
   ]
  },
  {
   "cell_type": "markdown",
   "metadata": {},
   "source": [
    "All together:\n",
    "\n",
    "\\begin{align}\n",
    "\\mathbf{F}_M &= \\alpha\\ \\boldsymbol{\\omega} \\times \\mathbf{v}\\\\\n",
    "v &= \\sqrt{\\mathbf{v}\\cdot\\mathbf{v}}\\\\\n",
    "S &= \\frac{r\\omega}{v}\\\\\n",
    "C_L &= 0.62 \\times S^{0.7}\\\\\n",
    "\\alpha &= \\frac{1}{2} C_L  \\frac{\\rho A r}{S}\n",
    "\\end{align}\n"
   ]
  },
  {
   "cell_type": "markdown",
   "metadata": {},
   "source": [
    "### Equations of motion\n",
    "\n",
    "\\begin{align}\n",
    "\\frac{d\\mathbf{r}}{dt} &= \\mathbf{v}\\\\\n",
    "\\frac{d\\mathbf{v}}{dt} &= -g \\hat{\\mathbf{e}}_y \\mathbf{v} -\\frac{b_2}{m} v \\mathbf{v} + \\alpha\\ \\boldsymbol{\\omega} \\times \\mathbf{v}\\\\\n",
    "\\end{align}\n",
    "\n",
    "(quadratic drag $-\\frac{b_2}{m} v \\mathbf{v}$ included.)\n"
   ]
  },
  {
   "cell_type": "markdown",
   "metadata": {
    "collapsed": true
   },
   "source": [
    "### Baseball simulation "
   ]
  },
  {
   "cell_type": "markdown",
   "metadata": {},
   "source": [
    "Implement the full baseball equations of motions:\n",
    "- gravity $a_\\text{gravity}$\n",
    "- quadratic drag $a_\\text{drag}$\n",
    "- Magnus effect $a_\\text{Magnus}$\n",
    "\n",
    "For the cross product you can look at [numpy.cross()](https://docs.scipy.org/doc/numpy/reference/generated/numpy.cross.html)."
   ]
  },
  {
   "cell_type": "markdown",
   "metadata": {},
   "source": [
    "#### Simulate throws "
   ]
  },
  {
   "cell_type": "markdown",
   "metadata": {
    "collapsed": true
   },
   "source": [
    "Simulate baseball throw for initial velocity $\\mathbf{v} = (30\\,\\text{m/s}, 0)$.\n",
    "\n",
    "Plot x vs y and x vs z (to see curving).\n",
    "\n",
    "Try out different spins; a good value is $\\boldsymbol{\\omega} = 200\\,\\text{rad/s} \\times (0, 1, 1)$."
   ]
  },
  {
   "cell_type": "markdown",
   "metadata": {
    "collapsed": true
   },
   "source": [
    "Simulate the baseball throw with\n",
    "- almost no spin: $\\omega = 0.01 \\times (0, 0, 1)$\n",
    "- full forward spin: $\\omega = 200 \\times (0, 0, 1)$\n",
    "- sideways spin: $\\omega = 200 \\times (0, 1, 1)$"
   ]
  },
  {
   "cell_type": "markdown",
   "metadata": {},
   "source": [
    "#### Plotting\n",
    "\n",
    "Plot the three scenarios in 2D planes: x-y (side view) and x-z (top view)."
   ]
  },
  {
   "cell_type": "code",
   "execution_count": null,
   "metadata": {
    "collapsed": true
   },
   "outputs": [],
   "source": []
  }
 ],
 "metadata": {
  "anaconda-cloud": {},
  "kernelspec": {
   "display_name": "Python 3",
   "language": "python",
   "name": "python3"
  },
  "language_info": {
   "codemirror_mode": {
    "name": "ipython",
    "version": 3
   },
   "file_extension": ".py",
   "mimetype": "text/x-python",
   "name": "python",
   "nbconvert_exporter": "python",
   "pygments_lexer": "ipython3",
   "version": "3.6.0"
  }
 },
 "nbformat": 4,
 "nbformat_minor": 2
}
