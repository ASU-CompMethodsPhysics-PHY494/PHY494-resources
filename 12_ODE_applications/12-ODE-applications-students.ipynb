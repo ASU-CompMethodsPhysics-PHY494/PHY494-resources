{
 "cells": [
  {
   "cell_type": "markdown",
   "metadata": {},
   "source": [
    "# Projectile motion\n",
    "Let's apply our ODE solvers to some problems involving balls and projectiles.\n",
    "\n",
    "The `integrators.py` file from section 11 is used here (and named `ode.py`)."
   ]
  },
  {
   "cell_type": "code",
   "execution_count": null,
   "metadata": {
    "collapsed": true
   },
   "outputs": [],
   "source": [
    "import numpy as np\n",
    "import ode"
   ]
  },
  {
   "cell_type": "code",
   "execution_count": null,
   "metadata": {
    "collapsed": true
   },
   "outputs": [],
   "source": [
    "%matplotlib inline\n",
    "import matplotlib.pyplot as plt"
   ]
  },
  {
   "cell_type": "markdown",
   "metadata": {},
   "source": [
    "## Projectile with linear air-resistance\n",
    "Linear drag force\n",
    "\n",
    "$$\n",
    "\\mathbf{F}_1 = -b_1 \\mathbf{v}\n",
    "$$\n",
    "\n",
    "Equations of motion with force due to gravity $\\mathbf{g} = -g \\hat{\\mathbf{e}}_y$\n",
    "\n",
    "\\begin{align}\n",
    "\\frac{d\\mathbf{r}}{dt} &= \\mathbf{v}\\\\\n",
    "\\frac{d\\mathbf{v}}{dt} &= - g \\hat{\\mathbf{e}}_y -\\frac{b_1}{m} \\mathbf{v} \n",
    "\\end{align}"
   ]
  },
  {
   "cell_type": "markdown",
   "metadata": {},
   "source": [
    "Bring into standard ODE form for\n",
    "\n",
    "$$\n",
    "\\frac{d\\mathbf{y}}{dt} = \\mathbf{f}(t, \\mathbf{y})\n",
    "$$"
   ]
  },
  {
   "cell_type": "markdown",
   "metadata": {},
   "source": [
    "as\n",
    "\n",
    "$$\n",
    "\\mathbf{y} = \\begin{pmatrix}\n",
    "x\\\\\n",
    "y\\\\\n",
    "v_x\\\\\n",
    "v_y\n",
    "\\end{pmatrix}, \\quad\n",
    "\\mathbf{f} = \\begin{pmatrix}\n",
    "v_x\\\\\n",
    "v_y\\\\\n",
    "-\\frac{b_1}{m} v_x\\\\\n",
    "-g -\\frac{b_1}{m} v_y\n",
    "\\end{pmatrix}\n",
    "$$"
   ]
  },
  {
   "cell_type": "markdown",
   "metadata": {},
   "source": [
    "(Based on Wang 2016, Ch 3.3.1)"
   ]
  },
  {
   "cell_type": "markdown",
   "metadata": {},
   "source": [
    "**Complete the code**\n",
    "- Formulate the function `f()` for the standard ODE form\n",
    "- Set up the integration loop: \n",
    "  - only integrate until the particle hits ground, i.e. while $y ≥ 0$.\n",
    "  - choose an appropriate ODE solver from `ode.py`"
   ]
  },
  {
   "cell_type": "code",
   "execution_count": null,
   "metadata": {
    "collapsed": true
   },
   "outputs": [],
   "source": [
    "def simulate(v0, h=0.01, b1=0.2, g=9.81, m=0.5):\n",
    "    \n",
    "    def f(t, y):\n",
    "        # y = [x, y, vx, vy]\n",
    "        raise NotImplementedError\n",
    "\n",
    "    vx, vy = v0\n",
    "    t = 0\n",
    "    positions = []\n",
    "    y = np.array([0, 0, vx, vy], dtype=np.float64)\n",
    "    \n",
    "    # add integration loop here\n",
    "        \n",
    "    return np.array(positions)\n",
    "\n",
    "def initial_v(v, theta):\n",
    "    x = np.deg2rad(theta)\n",
    "    return v * np.array([np.cos(x), np.sin(x)])"
   ]
  },
  {
   "cell_type": "markdown",
   "metadata": {},
   "source": [
    "Run for an initial velocity of 200 m/s and an angle of $\\theta = 30^\\circ$:"
   ]
  },
  {
   "cell_type": "code",
   "execution_count": null,
   "metadata": {
    "collapsed": false
   },
   "outputs": [],
   "source": [
    "r = simulate(initial_v(200, 30), h=0.01, b1=1)"
   ]
  },
  {
   "cell_type": "markdown",
   "metadata": {},
   "source": [
    "Plot the motion in the $x$-$y$ plane."
   ]
  },
  {
   "cell_type": "code",
   "execution_count": null,
   "metadata": {
    "collapsed": false,
    "scrolled": true
   },
   "outputs": [],
   "source": [
    "# plot"
   ]
  },
  {
   "cell_type": "markdown",
   "metadata": {},
   "source": [
    "Plot for different starting angles:"
   ]
  },
  {
   "cell_type": "code",
   "execution_count": null,
   "metadata": {
    "collapsed": false
   },
   "outputs": [],
   "source": [
    "for angle in (5, 7.5, 10, 20, 30, 45):\n",
    "    # ... complete"
   ]
  },
  {
   "cell_type": "markdown",
   "metadata": {},
   "source": [
    "## Simple Baseball physics\n",
    "\n",
    "- quadratic air resistance (with velocity-dependent drag coefficient)\n",
    "- Magnus force due to spin\n"
   ]
  },
  {
   "cell_type": "markdown",
   "metadata": {},
   "source": [
    "### Quadratic air resistance\n",
    "Occurs at high Reynolds numbers, i.e., turbulent flow. Only approximate:\n",
    "\n",
    "$$\n",
    "\\mathbf{F}_2 = -b_2 v \\mathbf{v}\n",
    "$$"
   ]
  },
  {
   "cell_type": "markdown",
   "metadata": {},
   "source": [
    "### Magnus effect "
   ]
  },
  {
   "cell_type": "markdown",
   "metadata": {},
   "source": [
    "**Magnus effect**: airflow is changed around a spinning object. The Magnus force is\n",
    "\n",
    "$$\n",
    "\\mathbf{F}_M = \\alpha \\boldsymbol{\\omega} \\times \\mathbf{v}\n",
    "$$\n",
    "\n",
    "where $\\boldsymbol{\\omega}$ is the ball's angular velocity in rad/s (e.g., 200/s for a baseball).\n",
    "\n",
    "For a sphere the proportionality constant $\\alpha$ can be written\n",
    "\n",
    "$$\n",
    "\\mathbf{F}_M = \\frac{1}{2} C_L \\rho A \\frac{v}{\\omega} \\boldsymbol{\\omega} \\times \\mathbf{v}\n",
    "$$\n",
    "\n",
    "where $C_L$ is the lift coefficient, $\\rho$ the air density, $A$ the ball's cross section. (Advantage of defining $C_L$ this way: when spin and velocity are perpendicular, the Magnus force is simply $F_M = \\frac{1}{2} C_L \\rho A v^2$.)"
   ]
  },
  {
   "cell_type": "markdown",
   "metadata": {},
   "source": [
    "$C_L$ is mainly a function of the *spin parameter*\n",
    "\n",
    "$$\n",
    "S = \\frac{r\\omega}{v}\n",
    "$$\n",
    "\n",
    "with the radius $r$ of the ball. In general we write\n",
    "\n",
    "$$\n",
    "\\mathbf{F}_M = \\frac{1}{2} C_L  \\frac{\\rho A r}{S} \\boldsymbol{\\omega} \\times \\mathbf{v}\n",
    "$$"
   ]
  },
  {
   "cell_type": "markdown",
   "metadata": {},
   "source": [
    "For a baseball, experimental data show approximately a power law dependence of $C_L$ on $S$\n",
    "\n",
    "$$\n",
    "C_L = 0.62 \\times S^{0.7}\n",
    "$$"
   ]
  },
  {
   "cell_type": "markdown",
   "metadata": {},
   "source": [
    "All together:\n",
    "\n",
    "\\begin{align}\n",
    "\\mathbf{F}_M &= \\alpha\\ \\boldsymbol{\\omega} \\times \\mathbf{v}\\\\\n",
    "v &= \\sqrt{\\mathbf{v}}\\\\\n",
    "S &= \\frac{r\\omega}{v}\\\\\n",
    "C_L &= 0.62 \\times S^{0.7}\\\\\n",
    "\\alpha &= \\frac{1}{2} C_L  \\frac{\\rho A r}{S}\n",
    "\\end{align}\n"
   ]
  },
  {
   "cell_type": "markdown",
   "metadata": {},
   "source": [
    "### Equations of motion\n",
    "\n",
    "\\begin{align}\n",
    "\\frac{d\\mathbf{r}}{dt} &= \\mathbf{v}\\\\\n",
    "\\frac{d\\mathbf{v}}{dt} &= -g \\hat{\\mathbf{e}}_y \\mathbf{v} -\\frac{b_2}{m} v \\mathbf{v} + \\alpha\\ \\boldsymbol{\\omega} \\times \\mathbf{v}\\\\\n",
    "\\end{align}\n",
    "\n",
    "(quadratic drag $-\\frac{b_2}{m} v \\mathbf{v}$ included.)\n"
   ]
  },
  {
   "cell_type": "markdown",
   "metadata": {
    "collapsed": true
   },
   "source": [
    "### Baseball simulation "
   ]
  },
  {
   "cell_type": "markdown",
   "metadata": {},
   "source": [
    "Implement the full baseball equations of motions:\n",
    "- gravity $a_\\text{gravity}$\n",
    "- quadratic drag $a_\\text{drag}$\n",
    "- Magnus effect $a_\\text{Magnus}$\n",
    "\n",
    "For the cross product you can look at [numpy.cross()](https://docs.scipy.org/doc/numpy/reference/generated/numpy.cross.html)."
   ]
  },
  {
   "cell_type": "code",
   "execution_count": null,
   "metadata": {
    "collapsed": false
   },
   "outputs": [],
   "source": [
    "def C_L(S):\n",
    "    return 0.62 * S**0.7\n",
    "\n",
    "def simulate_baseball(v0, omega=200.*np.array([0,1,1]), r0=np.array([0, 2.]),\n",
    "                      h=0.01, b2=0.0013, g=9.81, rho = 1.225,\n",
    "                      r=0.07468/2, m=0.14883, R_homeplate=18.4):\n",
    "\n",
    "    # make sure that omega is a numpy array\n",
    "    omega = np.asarray(omega)\n",
    "    \n",
    "    # all SI units (kg, m)\n",
    "    # air density rho in kg/m^3\n",
    "    \n",
    "    domega = np.linalg.norm(omega)\n",
    "    A = np.pi*r**2\n",
    "    rhoArm = rho * A * r / m\n",
    "    \n",
    "    # internally, use 3d coordinates [x,y,z];\n",
    "    # y = [x, y, z, vx, vy, vz]\n",
    "    \n",
    "    a_gravity = np.array([0, -g, 0])\n",
    "\n",
    "    def f(t, y):\n",
    "        # y = [x, y, z, vx, vy, vz]\n",
    "        v = y[3:]\n",
    "        dv = np.linalg.norm(v)\n",
    "        # COMPLETE\n",
    "        # 1. acceleration due to drag\n",
    "        # 2. acceleration due to Magnus effect\n",
    "        # 3. acceleration due to gravity (a_gravity)\n",
    "        \n",
    "        # need to return array f of length 6!\n",
    "        raise NotImplementedError\n",
    "\n",
    "    x0, y0 = r0\n",
    "    vx, vy = v0\n",
    "    t = 0\n",
    "    positions = []\n",
    "    # initialize 3D!\n",
    "    y = np.array([x0, y0, 0, vx, vy, 0], dtype=np.float64)\n",
    "    \n",
    " \n",
    "    # IMPLEMENT integration loop\n",
    "    # - use ode.rk4()\n",
    "    # - stop when x >= R_homeplate or y < 0.2 (i.e. cannot be caught)\n",
    "    \n",
    "    return np.array(positions)\n"
   ]
  },
  {
   "cell_type": "markdown",
   "metadata": {},
   "source": [
    "#### Simulate throws "
   ]
  },
  {
   "cell_type": "markdown",
   "metadata": {
    "collapsed": true
   },
   "source": [
    "Simulate baseball throw for initial velocity $\\mathbf{v} = (30\\,\\text{m/s}, 0)$.\n",
    "\n",
    "Plot x vs y and x vs z (to see curving).\n",
    "\n",
    "Try out different spins; a good value is $\\boldsymbol{\\omega} = 200\\,\\text{rad/s} \\times (0, 1, 1)$."
   ]
  },
  {
   "cell_type": "markdown",
   "metadata": {
    "collapsed": true
   },
   "source": [
    "Simulate the baseball throw with\n",
    "- almost no spin: $\\omega = 0.01 \\times (0, 0, 1)$\n",
    "- full forward spin: $\\omega = 200 \\times (0, 0, 1)$\n",
    "- sideways spin: $\\omega = 200 \\times (0, 1, 1)$"
   ]
  },
  {
   "cell_type": "markdown",
   "metadata": {},
   "source": [
    "#### Plotting\n",
    "\n",
    "Plot the three scenarios in 2D planes: x-y (side view) and x-z (top view)."
   ]
  },
  {
   "cell_type": "code",
   "execution_count": null,
   "metadata": {
    "collapsed": true
   },
   "outputs": [],
   "source": []
  }
 ],
 "metadata": {
  "anaconda-cloud": {},
  "kernelspec": {
   "display_name": "Python [conda root]",
   "language": "python",
   "name": "conda-root-py"
  },
  "language_info": {
   "codemirror_mode": {
    "name": "ipython",
    "version": 3
   },
   "file_extension": ".py",
   "mimetype": "text/x-python",
   "name": "python",
   "nbconvert_exporter": "python",
   "pygments_lexer": "ipython3",
   "version": "3.5.2"
  }
 },
 "nbformat": 4,
 "nbformat_minor": 1
}
