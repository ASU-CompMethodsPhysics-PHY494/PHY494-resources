{
 "cells": [
  {
   "cell_type": "markdown",
   "metadata": {},
   "source": [
    "# 12 ODE Applications (Projectile with linear air resistance) – Students\n",
    "\n",
    "Let's apply our ODE solvers to some problems involving balls and projectiles. We will start with projectile motion with linear air resistances.\n",
    "\n",
    "The `integrators.py` file from the lesson on [ODE integrators](https://asu-compmethodsphysics-phy494.github.io/ASU-PHY494/2021/03/09/10_ODEs/) is used here (and named [`ode.py`](https://github.com/ASU-CompMethodsPhysics-PHY494/PHY494-resources/tree/master/12_ODE_applications/ode.py)).\n",
    "\n",
    "*Note: Incomplete notebook for students to work on*"
   ]
  },
  {
   "cell_type": "code",
   "execution_count": null,
   "metadata": {
    "collapsed": true
   },
   "outputs": [],
   "source": [
    "import numpy as np\n",
    "import ode"
   ]
  },
  {
   "cell_type": "code",
   "execution_count": null,
   "metadata": {
    "collapsed": true
   },
   "outputs": [],
   "source": [
    "%matplotlib inline\n",
    "import matplotlib.pyplot as plt"
   ]
  },
  {
   "cell_type": "markdown",
   "metadata": {},
   "source": [
    "## Theory\n",
    "Linear drag force\n",
    "\n",
    "$$\n",
    "\\mathbf{F}_1 = -b_1 \\mathbf{v}\n",
    "$$\n",
    "\n",
    "Equations of motion with force due to gravity $\\mathbf{g} = -g \\hat{\\mathbf{e}}_y$\n",
    "\n",
    "\\begin{align}\n",
    "\\frac{d\\mathbf{r}}{dt} &= \\mathbf{v}\\\\\n",
    "\\frac{d\\mathbf{v}}{dt} &= - g \\hat{\\mathbf{e}}_y -\\frac{b_1}{m} \\mathbf{v} \n",
    "\\end{align}"
   ]
  },
  {
   "cell_type": "markdown",
   "metadata": {},
   "source": [
    "Bring into standard ODE form for\n",
    "\n",
    "$$\n",
    "\\frac{d\\mathbf{y}}{dt} = \\mathbf{f}(t, \\mathbf{y})\n",
    "$$"
   ]
  },
  {
   "cell_type": "markdown",
   "metadata": {},
   "source": [
    "as\n",
    "\n",
    "$$\n",
    "\\mathbf{y} = \\begin{pmatrix}\n",
    "x\\\\\n",
    "y\\\\\n",
    "v_x\\\\\n",
    "v_y\n",
    "\\end{pmatrix}, \\quad\n",
    "\\mathbf{f} = \\begin{pmatrix}\n",
    "v_x\\\\\n",
    "v_y\\\\\n",
    "-\\frac{b_1}{m} v_x\\\\\n",
    "-g -\\frac{b_1}{m} v_y\n",
    "\\end{pmatrix}\n",
    "$$"
   ]
  },
  {
   "cell_type": "markdown",
   "metadata": {},
   "source": [
    "(Based on Wang 2016, Ch 3.3.1)"
   ]
  },
  {
   "cell_type": "markdown",
   "metadata": {},
   "source": [
    "## Python implementation with ODE solver\n",
    "\n",
    "- Formulate the function `f()` for the standard ODE form\n",
    "- Set up the integration loop: \n",
    "  - only integrate until the particle hits ground, i.e. while $y ≥ 0$.\n",
    "  - choose an appropriate ODE solver from `ode.py`"
   ]
  },
  {
   "cell_type": "code",
   "execution_count": null,
   "metadata": {
    "collapsed": true
   },
   "outputs": [],
   "source": [
    "def simulate(v0, h=0.01, b1=0.2, g=9.81, m=0.5):\n",
    "    \n",
    "    def f(t, y):\n",
    "        # y = [x, y, vx, vy]\n",
    "        raise NotImplementedError\n",
    "\n",
    "    vx, vy = v0\n",
    "    t = 0\n",
    "    positions = []\n",
    "    y = np.array([0, 0, vx, vy], dtype=np.float64)\n",
    "    \n",
    "    # add integration loop here\n",
    "        \n",
    "    return np.array(positions)\n",
    "\n",
    "def initial_v(v, theta):\n",
    "    x = np.deg2rad(theta)\n",
    "    return v * np.array([np.cos(x), np.sin(x)])"
   ]
  },
  {
   "cell_type": "markdown",
   "metadata": {},
   "source": [
    "Run for an initial velocity of 200 m/s and an angle of $\\theta = 30^\\circ$:"
   ]
  },
  {
   "cell_type": "code",
   "execution_count": null,
   "metadata": {},
   "outputs": [],
   "source": [
    "r = simulate(initial_v(200, 30), h=0.01, b1=1)"
   ]
  },
  {
   "cell_type": "markdown",
   "metadata": {},
   "source": [
    "Plot the motion in the $x$-$y$ plane."
   ]
  },
  {
   "cell_type": "code",
   "execution_count": null,
   "metadata": {
    "scrolled": true
   },
   "outputs": [],
   "source": [
    "# plot"
   ]
  },
  {
   "cell_type": "markdown",
   "metadata": {},
   "source": [
    "Plot for different starting angles:"
   ]
  },
  {
   "cell_type": "code",
   "execution_count": null,
   "metadata": {},
   "outputs": [],
   "source": [
    "for angle in (5, 7.5, 10, 20, 30, 45):\n",
    "    # ... complete"
   ]
  }
 ],
 "metadata": {
  "anaconda-cloud": {},
  "kernelspec": {
   "display_name": "Python 3",
   "language": "python",
   "name": "python3"
  },
  "language_info": {
   "codemirror_mode": {
    "name": "ipython",
    "version": 3
   },
   "file_extension": ".py",
   "mimetype": "text/x-python",
   "name": "python",
   "nbconvert_exporter": "python",
   "pygments_lexer": "ipython3",
   "version": "3.6.7"
  }
 },
 "nbformat": 4,
 "nbformat_minor": 2
}
