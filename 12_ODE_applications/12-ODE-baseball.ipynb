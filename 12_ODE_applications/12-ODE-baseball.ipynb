{
 "cells": [
  {
   "cell_type": "markdown",
   "metadata": {},
   "source": [
    "# 12 ODE Applications (Baseball)\n",
    "\n",
    "Simulate a semi-realistic baseball trajectory, involving air resistance and spin.\n",
    "\n",
    "\n",
    "1. Baseball physics (theory), \n",
    "2. Outline of baseball simulation code (see [baseball_solution](baseball_solution.ipynb) for the actual code)"
   ]
  },
  {
   "cell_type": "code",
   "execution_count": 1,
   "metadata": {},
   "outputs": [],
   "source": [
    "import numpy as np\n",
    "import ode"
   ]
  },
  {
   "cell_type": "code",
   "execution_count": 2,
   "metadata": {},
   "outputs": [],
   "source": [
    "%matplotlib inline\n",
    "import matplotlib.pyplot as plt\n",
    "plt.matplotlib.style.use('ggplot')"
   ]
  },
  {
   "cell_type": "markdown",
   "metadata": {},
   "source": [
    "## Theory: Simple Baseball physics\n",
    "\n",
    "- quadratic air resistance (with velocity-dependent drag coefficient)\n",
    "- Magnus force due to spin\n"
   ]
  },
  {
   "cell_type": "markdown",
   "metadata": {},
   "source": [
    "### Quadratic air resistance\n",
    "Occurs at high Reynolds numbers, i.e., turbulent flow. Only approximate:\n",
    "\n",
    "$$\n",
    "\\mathbf{F}_2 = -b_2 v \\mathbf{v}\n",
    "$$"
   ]
  },
  {
   "cell_type": "markdown",
   "metadata": {},
   "source": [
    "### Magnus effect "
   ]
  },
  {
   "cell_type": "markdown",
   "metadata": {},
   "source": [
    "**Magnus effect**: airflow is changed around a spinning object. The Magnus force is\n",
    "\n",
    "$$\n",
    "\\mathbf{F}_M = \\alpha \\boldsymbol{\\omega} \\times \\mathbf{v}\n",
    "$$\n",
    "\n",
    "where $\\boldsymbol{\\omega}$ is the ball's angular velocity in rad/s (e.g., 200/s for a baseball).\n",
    "\n",
    "For a sphere the proportionality constant $\\alpha$ can be written\n",
    "\n",
    "$$\n",
    "\\mathbf{F}_M = \\frac{1}{2} C_L \\rho A \\frac{v}{\\omega} \\boldsymbol{\\omega} \\times \\mathbf{v}\n",
    "$$\n",
    "\n",
    "where $C_L$ is the lift coefficient, $\\rho$ the air density, $A$ the ball's cross section. (Advantage of defining $C_L$ this way: when spin and velocity are perpendicular, the Magnus force is simply $F_M = \\frac{1}{2} C_L \\rho A v^2$.)"
   ]
  },
  {
   "cell_type": "markdown",
   "metadata": {},
   "source": [
    "$C_L$ is mainly a function of the *spin parameter*\n",
    "\n",
    "$$\n",
    "S = \\frac{r\\omega}{v}\n",
    "$$\n",
    "\n",
    "with the radius $r$ of the ball. In general we write\n",
    "\n",
    "$$\n",
    "\\mathbf{F}_M = \\frac{1}{2} C_L  \\frac{\\rho A r}{S} \\boldsymbol{\\omega} \\times \\mathbf{v}\n",
    "$$"
   ]
  },
  {
   "cell_type": "markdown",
   "metadata": {},
   "source": [
    "For a baseball, experimental data show approximately a power law dependence of $C_L$ on $S$\n",
    "\n",
    "$$\n",
    "C_L = 0.62 \\times S^{0.7}\n",
    "$$"
   ]
  },
  {
   "cell_type": "markdown",
   "metadata": {},
   "source": [
    "All together:\n",
    "\n",
    "\\begin{align}\n",
    "\\mathbf{F}_M &= \\alpha\\ \\boldsymbol{\\omega} \\times \\mathbf{v}\\\\\n",
    "v &= \\sqrt{\\mathbf{v}\\cdot\\mathbf{v}}\\\\\n",
    "S &= \\frac{r\\omega}{v}\\\\\n",
    "C_L &= 0.62 \\times S^{0.7}\\\\\n",
    "\\alpha &= \\frac{1}{2} C_L  \\frac{\\rho A r}{S}\n",
    "\\end{align}\n"
   ]
  },
  {
   "cell_type": "markdown",
   "metadata": {},
   "source": [
    "### Equations of motion\n",
    "\n",
    "\\begin{align}\n",
    "\\frac{d\\mathbf{r}}{dt} &= \\mathbf{v}\\\\\n",
    "\\frac{d\\mathbf{v}}{dt} &= -g \\hat{\\mathbf{e}}_y \\mathbf{v} -\\frac{b_2}{m} v \\mathbf{v} + \\alpha\\ \\boldsymbol{\\omega} \\times \\mathbf{v}\\\\\n",
    "\\end{align}\n",
    "\n",
    "(quadratic drag $-\\frac{b_2}{m} v \\mathbf{v}$ included.)\n"
   ]
  },
  {
   "cell_type": "markdown",
   "metadata": {
    "collapsed": true
   },
   "source": [
    "## Baseball simulation \n",
    "\n",
    "Implement the full baseball equations of motions:\n",
    "- gravity $a_\\text{gravity}$\n",
    "- quadratic drag $a_\\text{drag}$\n",
    "- Magnus effect $a_\\text{Magnus}$\n",
    "\n",
    "For the cross product you can look at [numpy.cross()](https://docs.scipy.org/doc/numpy/reference/generated/numpy.cross.html)."
   ]
  },
  {
   "cell_type": "markdown",
   "metadata": {},
   "source": [
    "We will live-code the baseball simulation in class (i.e., build it from scratch), but if you want to work on this problem on your own and need some starter code, see below."
   ]
  },
  {
   "cell_type": "markdown",
   "metadata": {},
   "source": [
    "#### Baseball  code\n",
    "Full solution will be posted as [`baseball_solution.ipynb`](baseball_solution.ipynb)."
   ]
  },
  {
   "cell_type": "markdown",
   "metadata": {},
   "source": [
    "#### Simulate throws "
   ]
  },
  {
   "cell_type": "markdown",
   "metadata": {},
   "source": [
    "Simulate baseball throw for initial velocity $\\mathbf{v} = (30\\,\\text{m/s}, 0)$.\n",
    "\n",
    "Plot x vs y and x vs z (to see curving).\n",
    "\n",
    "Try out different spins; a good value is $\\boldsymbol{\\omega} = 200\\,\\text{rad/s} \\times (0, 1, 1)$."
   ]
  },
  {
   "cell_type": "markdown",
   "metadata": {},
   "source": [
    "Simulate the baseball throw with\n",
    "- almost no spin: $\\omega = 0.001 \\times (0, 0, 1)$  (our code does not handle $\\omega = 0$ gracefully...)\n",
    "- full upward spin: $\\omega = 200 \\times (0, 0, 1)$\n",
    "- sideways spin: $\\omega = 200 \\times (0, 1, 1)$"
   ]
  },
  {
   "cell_type": "markdown",
   "metadata": {},
   "source": [
    "#### Plotting\n",
    "\n",
    "Plot the three scenarios in 2D planes: x-y (side view) and x-z (top view)."
   ]
  },
  {
   "cell_type": "markdown",
   "metadata": {},
   "source": [
    "#### 3D plot\n",
    "Use simple `matplotlib` 3D plot. (BONUS: Make it work with vpython)"
   ]
  },
  {
   "cell_type": "markdown",
   "metadata": {},
   "source": [
    "If we use the [`ipympl` backend for matplotlib](http://ipython.readthedocs.io/en/stable/interactive/plotting.html) then we will be able to interactively rotate our [matplotlib 3D graphics](http://matplotlib.org/mpl_toolkits/mplot3d/tutorial.html). (Note: If this does not seem to work, disable adblockers and allow javascript on the page.)"
   ]
  },
  {
   "cell_type": "code",
   "execution_count": null,
   "metadata": {
    "collapsed": true
   },
   "outputs": [],
   "source": [
    "%matplotlib ipympl"
   ]
  },
  {
   "cell_type": "code",
   "execution_count": null,
   "metadata": {
    "collapsed": true
   },
   "outputs": [],
   "source": [
    "import matplotlib.pyplot as plt\n",
    "from mpl_toolkits.mplot3d import Axes3D\n",
    "fig = plt.figure()\n",
    "ax = fig.add_subplot(111, projection='3d')\n",
    "ax.plot(r[:,1], r[:,3], r[:,2], 'o', label=\"no spin\")\n",
    "# ...\n",
    "\n",
    "# hand of the catcher, 0.2m above homeplate\n",
    "ax.plot([18.4, 18.4], [0, 0], [0, 0.2], color=\"black\", lw=6)\n",
    "\n",
    "ax.set_xlabel(\"$x$ (m)\")\n",
    "ax.set_ylabel(\"$z$ (m)\")\n",
    "ax.set_zlabel(\"$y$ (m)\")\n",
    "ax.legend(loc=\"upper left\", numpoints=1)\n",
    "ax.figure.tight_layout()"
   ]
  },
  {
   "cell_type": "markdown",
   "metadata": {},
   "source": [
    "## Reynolds number\n",
    "\n",
    "$$\n",
    "\\text{Re} = \\frac{\\rho v L}{\\mu}\\\\\n",
    "\\text{Re} > 2300\\quad\\text{flow turbulent}\n",
    "$$\n",
    "\n",
    "* density $\\rho$: air  1.275 kg/m^3 (kilograms per cubic meter)\n",
    "* fluid viscosity $\\mu$: air 1.845×10^-5 Pa s (pascal seconds) (at 25 °C)\n",
    "\n",
    "(from Wolfram Alpha)"
   ]
  },
  {
   "cell_type": "code",
   "execution_count": 7,
   "metadata": {},
   "outputs": [],
   "source": [
    "rho_air = 1.275    # kg/m^3\n",
    "mu_air = 1.845e-5  # Pa s"
   ]
  },
  {
   "cell_type": "code",
   "execution_count": 8,
   "metadata": {},
   "outputs": [],
   "source": [
    "L = 0.05  # m\n",
    "v = 200   # m/s"
   ]
  },
  {
   "cell_type": "code",
   "execution_count": 9,
   "metadata": {},
   "outputs": [],
   "source": [
    "def ReynoldsNumber(v, L, rho=rho_air, mu=mu_air):\n",
    "    return rho*v*L/mu"
   ]
  },
  {
   "cell_type": "code",
   "execution_count": 10,
   "metadata": {
    "scrolled": true
   },
   "outputs": [
    {
     "data": {
      "text/plain": [
       "691056.9105691056"
      ]
     },
     "execution_count": 10,
     "metadata": {},
     "output_type": "execute_result"
    }
   ],
   "source": [
    "ReynoldsNumber(v, L)"
   ]
  },
  {
   "cell_type": "markdown",
   "metadata": {},
   "source": [
    "This means that we really should have been using quadratic air resistance for the projectile that we simulated with linear air resistance... but we did this because (1) it was easy and (2) we will come back to the problem later when we look at root finding, and we can actually solve the trajectory analytically."
   ]
  },
  {
   "cell_type": "code",
   "execution_count": null,
   "metadata": {
    "collapsed": true
   },
   "outputs": [],
   "source": []
  }
 ],
 "metadata": {
  "anaconda-cloud": {},
  "kernelspec": {
   "display_name": "Python 3",
   "language": "python",
   "name": "python3"
  },
  "language_info": {
   "codemirror_mode": {
    "name": "ipython",
    "version": 3
   },
   "file_extension": ".py",
   "mimetype": "text/x-python",
   "name": "python",
   "nbconvert_exporter": "python",
   "pygments_lexer": "ipython3",
   "version": "3.6.7"
  }
 },
 "nbformat": 4,
 "nbformat_minor": 2
}
