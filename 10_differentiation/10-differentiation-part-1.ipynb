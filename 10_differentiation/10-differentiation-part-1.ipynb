{
 "cells": [
  {
   "cell_type": "markdown",
   "metadata": {
    "slideshow": {
     "slide_type": "slide"
    }
   },
   "source": [
    "# 10 Differentiation (Part 1)\n",
    "See *Computational Physics* (Landau, Páez, Bordeianu), Chapter 5.1 – 5.6.\n",
    "\n",
    "These slides include material from  *Computational Physics. eTextBook Python 3rd Edition.* Copyright © 2012 Landau, Rubin, Páez. Used under the Creative-Commons Attribution-NonCommerical-ShareAlike 3.0 Unported License."
   ]
  },
  {
   "cell_type": "markdown",
   "metadata": {
    "slideshow": {
     "slide_type": "subslide"
    }
   },
   "source": [
    "Taking numerical *derivatives* is based on the elementary definition\n",
    "\n",
    "\n",
    "$$\n",
    "\\frac{dy(t)}{dt} := \\lim_{h\\rightarrow 0} \\frac{y(t+h) - y(t)}{h}\n",
    "$$\n",
    "\n"
   ]
  },
  {
   "cell_type": "markdown",
   "metadata": {
    "slideshow": {
     "slide_type": "fragment"
    }
   },
   "source": [
    "Problem $h\\rightarrow 0$: \n",
    "* subtractive cancelations in numerator\n",
    "* overflow `number / epsilon_m`"
   ]
  },
  {
   "cell_type": "markdown",
   "metadata": {
    "collapsed": true,
    "slideshow": {
     "slide_type": "slide"
    }
   },
   "source": [
    "## Forward difference\n",
    "Expand $y(t)$ in Taylor series\n",
    "\n",
    "$$\n",
    "y(t+h) = y(t) + h y^{(1)}(t) + \\frac{h^2}{2!} y^{(2)}(t) + \\frac{h^3}{3!} y^{(3)}(t) + \\cdots\n",
    "$$\n",
    "\n",
    "(with the derivatives $y^{(n)} \\equiv \\frac{d^{n}y}{dt^n}$)"
   ]
  },
  {
   "cell_type": "markdown",
   "metadata": {
    "slideshow": {
     "slide_type": "fragment"
    }
   },
   "source": [
    "\n",
    "$$\n",
    "\\frac{y(t+h) - y(t)}{h} = y^{(1)}(t) + \\frac{h}{2!} y^{(2)}(t) + \\frac{h^2}{3!} y^{(3)}(t) + \\cdots\n",
    "$$\n"
   ]
  },
  {
   "cell_type": "markdown",
   "metadata": {
    "slideshow": {
     "slide_type": "subslide"
    }
   },
   "source": [
    "### Forward difference algorithm\n",
    "\n",
    "Neglect $\\mathcal{O}(h^2)$ terms:\n",
    "\n",
    "$$\n",
    "\\frac{dy(t)}{dt} \\simeq D_\\text{fd} y(t) \\equiv \\frac{y(t+h) - y(t)}{h}\n",
    "$$"
   ]
  },
  {
   "cell_type": "markdown",
   "metadata": {
    "slideshow": {
     "slide_type": "subslide"
    }
   },
   "source": [
    "$$\n",
    "D_\\text{fd} y(t) \\equiv \\frac{y(t+h) - y(t)}{h}\n",
    "$$\n",
    "![Forward difference approximation](./images/CompPhys_forward_difference.png)\n",
    "<span style=\"font-size: small; text-align: right\">Image from Computational Physics. eTextBook Python 3rd Edition. Copyright © 2012 Landau, Rubin, Páez. Used under the Creative-Commons Attribution-NonCommerical-ShareAlike 3.0 Unported License.</span>"
   ]
  },
  {
   "cell_type": "markdown",
   "metadata": {
    "collapsed": true,
    "slideshow": {
     "slide_type": "subslide"
    }
   },
   "source": [
    "### Approximation error in the forward difference algorithm\n",
    "Substitute the Taylor series into $D_\\text{fd} y(t)$\n",
    "\n",
    "$$\n",
    "D_\\text{fd} y(t) = y^{(1)}(t) - \\frac{h}{2} y^{(2)}(t) + \\cdots\n",
    "$$\n",
    "so the error is **first order in $h$**:\n",
    "$$\n",
    "y^{(1)}(t) - D_\\text{fd} y(t) = \\frac{1}{2} h y^{(2)}(t) + \\mathcal{O}(h^2)\n",
    "$$"
   ]
  },
  {
   "cell_type": "markdown",
   "metadata": {
    "collapsed": true,
    "slideshow": {
     "slide_type": "subslide"
    }
   },
   "source": [
    "### Example for $D_\\text{fd}$\n",
    "\n",
    "Quadratic function\n",
    "$$\n",
    "y(t) = a + bt^2 \\quad \\text{and}\\quad y^{(1)}(t) = 2bt\n",
    "$$\n",
    "Forward difference approximation\n",
    "$$\n",
    "D_\\text{fd} y(t) = \\frac{y(t+h) - y(t)}{h} = 2bt + bh\n",
    "$$\n",
    "is only good for small $h \\ll \\frac{1}{b}$."
   ]
  },
  {
   "cell_type": "markdown",
   "metadata": {
    "collapsed": true,
    "slideshow": {
     "slide_type": "slide"
    }
   },
   "source": [
    "## Central difference\n",
    "Improve over the (rather bad) error in the *forward difference algorithm* by using the *central difference*.\n",
    "\n",
    "![Central difference approximation](./images/CompPhys_central_difference.png)\n",
    "\n",
    "<span style=\"font-size: small; text-align: right\">Image from Computational Physics. eTextBook Python 3rd Edition. Copyright © 2012 Landau, Rubin, Páez. Used under the Creative-Commons Attribution-NonCommerical-ShareAlike 3.0 Unported License.</span>"
   ]
  },
  {
   "cell_type": "markdown",
   "metadata": {
    "slideshow": {
     "slide_type": "subslide"
    }
   },
   "source": [
    "### Central difference algorithm\n",
    "$$\n",
    "D_\\text{cd} y(t) \\equiv \\frac{y\\Big(t + \\frac{h}{2}\\Big) - y\\Big(t - \\frac{h}{2}\\Big)}{h}\n",
    "$$"
   ]
  },
  {
   "cell_type": "markdown",
   "metadata": {
    "slideshow": {
     "slide_type": "fragment"
    }
   },
   "source": [
    "Applied to the parabola $y(t) = a + bt^2$ yields the exact result:\n",
    "$$\n",
    "D_\\text{cd} = 2bt\n",
    "$$"
   ]
  },
  {
   "cell_type": "markdown",
   "metadata": {
    "collapsed": true,
    "slideshow": {
     "slide_type": "subslide"
    }
   },
   "source": [
    "### Approximation error in $D_\\text{cd}$\n",
    "Insert Taylor expansion...\n",
    "\n",
    "$$\n",
    "y^{(1)}(t) - D_\\text{cd} y(t) = \\frac{1}{24} h^2 y^{(3)}(t) + \\mathcal{O}(h^4)\n",
    "$$\n",
    "\n",
    "The error is **second order in $h$**."
   ]
  },
  {
   "cell_type": "markdown",
   "metadata": {
    "slideshow": {
     "slide_type": "fragment"
    }
   },
   "source": [
    "This is generally *much better* than the forward difference.\n",
    "\n",
    "\"Generally\" means \"when $y(t)$ is sufficiently smooth\", i.e. \n",
    "\\begin{align}\n",
    "y^{(3)} \\frac{h^2}{24} &\\ll y^{(2)} \\frac{h}{2} \\quad\\text{or}\\\\\n",
    "12\\frac{y^{(2)}}{y^{(3)}} &\\gg h.\n",
    "\\end{align}"
   ]
  },
  {
   "cell_type": "markdown",
   "metadata": {
    "slideshow": {
     "slide_type": "fragment"
    }
   },
   "source": [
    "Other difference algorithms exist with even better error behavior (see homework) but all have problems with data that are not smooth. In this case you might have to smooth the data in advance by *interpolation* or *kernel density estimates* (KDE)."
   ]
  },
  {
   "cell_type": "markdown",
   "metadata": {
    "slideshow": {
     "slide_type": "slide"
    }
   },
   "source": [
    "## Error assessment\n",
    "$$\n",
    "\\epsilon_\\text{tot} = \\epsilon_\\text{app} + \\epsilon_\\text{ro}\n",
    "$$"
   ]
  },
  {
   "cell_type": "markdown",
   "metadata": {
    "slideshow": {
     "slide_type": "fragment"
    }
   },
   "source": [
    "**Round-off error of differentiation**: difference of two similar numbers cannot be better than machine precision, always divided by small number $h$:\n",
    "\n",
    "$$\n",
    "\\epsilon_\\text{ro} \\approx \\frac{\\epsilon_m}{h}\n",
    "$$"
   ]
  },
  {
   "cell_type": "markdown",
   "metadata": {
    "slideshow": {
     "slide_type": "subslide"
    }
   },
   "source": [
    "**Forward difference algorithmic error**\n",
    "$$\n",
    "\\epsilon_\\text{app}^\\text{fd} = y^{(2)} \\frac{h}{2}\n",
    "$$"
   ]
  },
  {
   "cell_type": "markdown",
   "metadata": {
    "slideshow": {
     "slide_type": "fragment"
    }
   },
   "source": [
    "What is the *most accurate value of $h$* that we can choose for $D_\\text{fd}$?"
   ]
  },
  {
   "cell_type": "markdown",
   "metadata": {
    "slideshow": {
     "slide_type": "fragment"
    }
   },
   "source": [
    "Cross-over from approximation error to round-off error around\n",
    "\n",
    "$$\n",
    "\\epsilon_\\text{app} = \\epsilon_\\text{ro}\n",
    "$$\n",
    "\n",
    "For the forward difference\n",
    "$$\n",
    "y^{(2)} \\frac{h_\\text{fd}}{2} = \\frac{\\epsilon_m}{h_\\text{fd}}\\\\\n",
    "h_\\text{fd}^2 = \\frac{2\\epsilon_m}{y^{(2)}}\n",
    "$$\n"
   ]
  },
  {
   "cell_type": "markdown",
   "metadata": {
    "slideshow": {
     "slide_type": "slide"
    }
   },
   "source": [
    "For rough estimate, assume $y^{(1)} \\approx y^{(2)} \\approx y^{(3)} \\approx 1$:"
   ]
  },
  {
   "cell_type": "code",
   "execution_count": 77,
   "metadata": {
    "collapsed": false,
    "slideshow": {
     "slide_type": "fragment"
    }
   },
   "outputs": [],
   "source": [
    "import numpy as np\n",
    "def h_fd(eps_m, y2=1):\n",
    "    return np.sqrt(2*eps_m/y2)\n",
    "def eps_fd(eps_m, y2=1.):\n",
    "    h = h_fd(eps_m, y2=y2)\n",
    "    return 2*eps_m/h"
   ]
  },
  {
   "cell_type": "code",
   "execution_count": 79,
   "metadata": {
    "collapsed": false,
    "slideshow": {
     "slide_type": "fragment"
    }
   },
   "outputs": [
    {
     "name": "stdout",
     "output_type": "stream",
     "text": [
      "h_fd = 4.47e-08\n",
      "eps_fd = 4.47e-08\n"
     ]
    }
   ],
   "source": [
    "eps_m = 1e-15\n",
    "print(\"h_fd = {0:.2e}\".format(h_fd(eps_m, y2=1)))\n",
    "print(\"eps_fd = {0:.2e}\".format(eps_fd(eps_m, y2=1)))      "
   ]
  },
  {
   "cell_type": "markdown",
   "metadata": {
    "slideshow": {
     "slide_type": "fragment"
    }
   },
   "source": [
    "For double precision ($\\epsilon_m = 10^{-15}$)\n",
    "$$\n",
    "h_\\text{fd} \\approx 4\\times 10^{-8}\\\\\n",
    "\\epsilon_\\text{tot}^\\text{fd} \\approx 2\\epsilon_\\text{ro} = \\frac{2\\epsilon_m}{h_\\text{fd}} =  h_\\text{fd} = 4 \\times 10^{-8}\n",
    "$$\n",
    "\n",
    "(Note: simplified because $y^{(2)} \\approx 1$.)"
   ]
  },
  {
   "cell_type": "markdown",
   "metadata": {
    "slideshow": {
     "slide_type": "subslide"
    }
   },
   "source": [
    "Do you expect the \"best\" $h_\\text{cd}$ for the *central difference algorithm* to be larger or smaller than $h_\\text{fd}$?"
   ]
  },
  {
   "cell_type": "markdown",
   "metadata": {
    "slideshow": {
     "slide_type": "fragment"
    }
   },
   "source": [
    "$$\n",
    "h_\\text{cd}^3 = \\frac{24\\epsilon_m}{y^{(3)}}\n",
    "$$\n",
    "\n",
    "Generally $h_\\text{cd} > h_\\text{fd}$ because the better algorithm allows you to use a bigger step size for a smaller error."
   ]
  },
  {
   "cell_type": "markdown",
   "metadata": {
    "slideshow": {
     "slide_type": "slide"
    }
   },
   "source": [
    "## Implementation in Python\n",
    "\n",
    "\\begin{align}\n",
    "D_\\text{fd} y(t) &\\equiv \\frac{y(t+h) - y(t)}{h} \\\\\n",
    "D_\\text{cd} y(t) &\\equiv \\frac{y\\Big(t + \\frac{h}{2}\\Big) - y\\Big(t - \\frac{h}{2}\\Big)}{h}\n",
    "\\end{align}\n",
    "\n",
    "and also the *extended difference algorithm*\n",
    "\n",
    "\\begin{align}\n",
    "D_\\text{ep} y(t) &\\equiv \\frac{4 D_\\text{cd}y(t, h/2) - D_\\text{cd}y(t, h)}{3} \\\\\n",
    "  &= \\frac{8\\big(y(t+h/4) - y(t-h/4)\\big) - \\big(y(t+h/2) - y(t-h/2)\\big)}{3h}\n",
    "\\end{align}\n"
   ]
  },
  {
   "cell_type": "markdown",
   "metadata": {
    "slideshow": {
     "slide_type": "subslide"
    }
   },
   "source": [
    "## Student Problem: Finite Difference Operators\n",
    "- implement the three finite difference operators as functions\n",
    "- test implementations\n",
    "- `git pull` the course resources and work with the notebook **[10_differentiation/10-differentiation-students.ipynb](http://nbviewer.jupyter.org/github/ASU-CompMethodsPhysics-PHY494/PHY494-resources/blob/master/10_differentiation/10-differentiation-students.ipynb)**."
   ]
  },
  {
   "cell_type": "code",
   "execution_count": 23,
   "metadata": {
    "collapsed": true,
    "slideshow": {
     "slide_type": "-"
    }
   },
   "outputs": [],
   "source": [
    "def D_fd(y, t, h):\n",
    "    \"\"\"Forward difference\"\"\"\n",
    "    return (y(t + h) - y(t))/h\n",
    "def D_cd(y, t, h):\n",
    "    \"\"\"Central difference\"\"\"\n",
    "    # implement\n",
    "def D_ed(y, t, h):\n",
    "    \"\"\"Extended difference\"\"\"\n",
    "    # implement"
   ]
  },
  {
   "cell_type": "markdown",
   "metadata": {
    "slideshow": {
     "slide_type": "subslide"
    }
   },
   "source": [
    "### Test your implementations\n",
    "Test function: $y(t) = \\cos t$\n",
    "1. What is the analytical derivative $\\frac{d\\cos(t)}{dt}$?\n",
    "1. Calculate the derivative of $y(t) = \\cos t$ at $t=0.1, 1, 100$.\n",
    "1. Print derivative and relative error $E = \\frac{D y(t) - y^{(1)}(t)}{y^{(1)}(t)}$ (finite difference value $D y(t)$ compared to the analystical value $y^{(1)}(t)$– use numpy functions for \"exact\" values) as function of $h$.\n",
    "1. Reduce $h$ until you reach machine precision, $h \\approx \\epsilon_m$\n",
    "1. Plot $\\log_{10} |E(h)|$ against $\\log_{10} h$.\n",
    "\n",
    "Try to do the above for all three algorithms"
   ]
  },
  {
   "cell_type": "markdown",
   "metadata": {
    "slideshow": {
     "slide_type": "subslide"
    }
   },
   "source": [
    "Now `git pull` the course resources and work with the notebook **[10_differentiation/10-differentiation-students.ipynb](http://nbviewer.jupyter.org/github/ASU-CompMethodsPhysics-PHY494/PHY494-resources/blob/master/10_differentiation/10-differentiation-students.ipynb)**."
   ]
  },
  {
   "cell_type": "code",
   "execution_count": null,
   "metadata": {
    "collapsed": true,
    "slideshow": {
     "slide_type": "skip"
    }
   },
   "outputs": [],
   "source": []
  }
 ],
 "metadata": {
  "anaconda-cloud": {},
  "celltoolbar": "Slideshow",
  "kernelspec": {
   "display_name": "Python [default]",
   "language": "python",
   "name": "python3"
  },
  "language_info": {
   "codemirror_mode": {
    "name": "ipython",
    "version": 3
   },
   "file_extension": ".py",
   "mimetype": "text/x-python",
   "name": "python",
   "nbconvert_exporter": "python",
   "pygments_lexer": "ipython3",
   "version": "3.5.2"
  }
 },
 "nbformat": 4,
 "nbformat_minor": 0
}
