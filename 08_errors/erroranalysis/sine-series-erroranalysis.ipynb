{
 "cells": [
  {
   "cell_type": "markdown",
   "metadata": {},
   "source": [
    "# Activity 10: Sine Series Problem + Error Analysis\n",
    "\n",
    "* *Computational Physics*: Ch 2.5\n"
   ]
  },
  {
   "cell_type": "markdown",
   "metadata": {},
   "source": [
    "## Problem: Summing Series: sin(x)\n",
    "\n",
    "Evaluate the $\\sin$ function from its series representation\n",
    "$$\n",
    "\\sin x = x - \\frac{x^3}{3!} + \\frac{x^5}{5!} - \\frac{x^7}{7!} + \\dots\n",
    "$$\n",
    "\n",
    "### Explicit sum\n",
    "A naive algorithm is to sum the series up to the $N$th term:\n",
    "$$\n",
    "\\sin x \\approx \\sum_{n=1}^N \\frac{(-1)^{n-1} x^{2n-1}}{(2n - 1)!}\n",
    "$$\n",
    "\n",
    "Problems:\n",
    "\n",
    "- How to decide when to stop summing?\n",
    "- Division of large terms (overflows!)\n",
    "- Powers and factorials are very expensive to compute.\n",
    "\n",
    "### Recursive sum\n",
    "Better approach: Build up series terms $a_n$ using previous term $a_{n-1}$ through a recursion:\n",
    "\n",
    "\\begin{align}\n",
    "a_n &= a_{n-1} \\times q_n\\\\\n",
    "a_n &= \\frac{(-1)^{n-1} x^{2n-1}}{(2n - 1)!} = \\frac{(-1)^{n-2} x^{2n-3}}{(2n - 3)!} \\frac{-x^2}{(2n - 1)(2n - 2)}\\\\\n",
    "a_n & = a_{n-1} \\frac{-x^2}{(2n - 1)(2n - 2)}\n",
    "\\end{align}\n",
    "\n",
    "Accuracy of this approach? Not clear in absolute terms but we can make the assumption that the error is approximately the last term in the sum, $a_N$. Hence we can strive to make the relative error smaller than the machine precision\n",
    "$$\n",
    "\\left| \\frac{a_N}{\\sum_{n=1}^N a_n} \\right| < \\epsilon_m\n",
    "$$\n",
    "\n"
   ]
  },
  {
   "cell_type": "markdown",
   "metadata": {},
   "source": [
    "## Task\n",
    "\n",
    "In file `series.py` implement a function `sin_recursive(x, N=100, eps=1e-16)` that \n",
    "* computes $\\sin(x)$ using the **Recursive sum** approach using $N$ iterations\n",
    "* returns the value of $\\sin(x)$ \n",
    "\n"
   ]
  },
  {
   "cell_type": "markdown",
   "metadata": {},
   "source": [
    "## Evaluation and plotting "
   ]
  },
  {
   "cell_type": "code",
   "execution_count": 1,
   "metadata": {},
   "outputs": [],
   "source": [
    "import numpy as np\n",
    "import matplotlib.pyplot as plt\n",
    "%matplotlib inline"
   ]
  },
  {
   "cell_type": "markdown",
   "metadata": {},
   "source": [
    "Import your `series.py` as a module:"
   ]
  },
  {
   "cell_type": "code",
   "execution_count": 2,
   "metadata": {},
   "outputs": [],
   "source": [
    "import series"
   ]
  },
  {
   "cell_type": "markdown",
   "metadata": {},
   "source": [
    "NOTE: If you changed code in `series` you will need to **reload the module**: execute the following cell whenever you changed `series.py`."
   ]
  },
  {
   "cell_type": "code",
   "execution_count": 3,
   "metadata": {},
   "outputs": [
    {
     "data": {
      "text/plain": [
       "<module 'series' from '/Volumes/ASU/oliver/Documents/Teaching/ASU/CompPhys_PHY494/2021/Classroom/classroom-generator/Participation/activity_10_sine_series/erroranalysis/series.py'>"
      ]
     },
     "execution_count": 3,
     "metadata": {},
     "output_type": "execute_result"
    }
   ],
   "source": [
    "from importlib import reload\n",
    "reload(series)"
   ]
  },
  {
   "cell_type": "markdown",
   "metadata": {},
   "source": [
    "Test the implementation against the \"exact\" numpy function `np.sin()` and show the relative error as a function of $1 \\le N < 1000$.\n",
    "\n",
    "Report and plot\n",
    "1. Try out `x =` $\\pi/3, 2\\pi, 7.89\\pi, -12.3\\pi, 14.78\\pi$\n",
    "2. relative error `abs(sin_series(x) - sin(x))/abs(sin(x))` as function of $N$\n"
   ]
  },
  {
   "cell_type": "code",
   "execution_count": 11,
   "metadata": {},
   "outputs": [],
   "source": [
    "x_values = np.pi*np.array([1/3, 2, 7.89, -12.3, 14.78])\n",
    "N_values = np.arange(1, 1000)"
   ]
  },
  {
   "cell_type": "markdown",
   "metadata": {},
   "source": [
    "#### Testing code\n",
    "\n",
    "Implementation of the error calculation against the numpy reference implementation `np.sin`:"
   ]
  },
  {
   "cell_type": "code",
   "execution_count": 39,
   "metadata": {},
   "outputs": [],
   "source": [
    "def relerror_sin(N_values, x):\n",
    "    relative_errors = []\n",
    "    y0 = np.sin(x)\n",
    "    y = np.array([series.sin_recursive(x, N=N) for N in N_values])\n",
    "    delta = y - y0\n",
    "    relative_error = np.abs(delta/y0)\n",
    "    return relative_error"
   ]
  },
  {
   "cell_type": "markdown",
   "metadata": {},
   "source": [
    "#### Analyze recursive implementation"
   ]
  },
  {
   "cell_type": "code",
   "execution_count": 48,
   "metadata": {},
   "outputs": [],
   "source": [
    "r = relerror_sin(N_values, np.pi/3)"
   ]
  },
  {
   "cell_type": "code",
   "execution_count": 49,
   "metadata": {},
   "outputs": [
    {
     "data": {
      "text/plain": [
       "Text(0, 0.5, 'relative error')"
      ]
     },
     "execution_count": 49,
     "metadata": {},
     "output_type": "execute_result"
    },
    {
     "data": {
      "image/png": "[encoded data removed]",
      "text/plain": [
       "<Figure size 432x288 with 1 Axes>"
      ]
     },
     "metadata": {
      "needs_background": "light"
     },
     "output_type": "display_data"
    }
   ],
   "source": [
    "plt.loglog(N_values, r)\n",
    "plt.xlabel(\"N\")\n",
    "plt.ylabel(\"relative error\")"
   ]
  },
  {
   "cell_type": "markdown",
   "metadata": {},
   "source": [
    "Plot all x values:"
   ]
  },
  {
   "cell_type": "code",
   "execution_count": 52,
   "metadata": {},
   "outputs": [
    {
     "data": {
      "text/plain": [
       "<matplotlib.legend.Legend at 0x7fa6b0971048>"
      ]
     },
     "execution_count": 52,
     "metadata": {},
     "output_type": "execute_result"
    },
    {
     "data": {
      "image/png": "[encoded data removed]",
      "text/plain": [
       "<Figure size 432x288 with 1 Axes>"
      ]
     },
     "metadata": {
      "needs_background": "light"
     },
     "output_type": "display_data"
    }
   ],
   "source": [
    "for x in x_values:\n",
    "    r = relerror_sin(N_values, x)\n",
    "    plt.loglog(N_values, r, label=f\"x = {x/np.pi:.3f}\" + r\"$\\pi$\")\n",
    "plt.xlabel(\"N\")\n",
    "plt.ylabel(\"relative error\")\n",
    "plt.legend()"
   ]
  },
  {
   "cell_type": "code",
   "execution_count": null,
   "metadata": {},
   "outputs": [],
   "source": []
  }
 ],
 "metadata": {
  "anaconda-cloud": {},
  "kernelspec": {
   "display_name": "Python 3",
   "language": "python",
   "name": "python3"
  },
  "language_info": {
   "codemirror_mode": {
    "name": "ipython",
    "version": 3
   },
   "file_extension": ".py",
   "mimetype": "text/x-python",
   "name": "python",
   "nbconvert_exporter": "python",
   "pygments_lexer": "ipython3",
   "version": "3.6.7"
  }
 },
 "nbformat": 4,
 "nbformat_minor": 2
}
