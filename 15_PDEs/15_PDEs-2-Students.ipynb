{
 "cells": [
  {
   "cell_type": "markdown",
   "metadata": {
    "slideshow": {
     "slide_type": "slide"
    }
   },
   "source": [
    "# 15 Partial Differential Equations — 2 (Students)\n",
    "\n",
    "## Solving Laplace's or Poisson's equation\n",
    "\n",
    "Still solving **Poisson's equation** for the electric potential $\\Phi(\\mathbf{r})$ and the charge density $\\rho(\\mathbf{r})$:\n",
    "\n",
    "$$\n",
    "\\nabla^2 \\Phi(x, y, z) = -4\\pi\\rho(x, y, z)\\\\\n",
    "$$"
   ]
  },
  {
   "cell_type": "markdown",
   "metadata": {
    "slideshow": {
     "slide_type": "fragment"
    }
   },
   "source": [
    "For a region of space without charges ($\\rho = 0$) this reduces to **Laplace's equation**\n",
    "\n",
    "$$\n",
    "\\nabla^2 \\Phi(x, y, z) = 0\n",
    "$$\n"
   ]
  },
  {
   "cell_type": "markdown",
   "metadata": {},
   "source": [
    "General solution by iteration:\n",
    "$$\n",
    "\\Phi_{i,j} = \\frac{1}{4}\\Big(\\Phi_{i+1,j} + \\Phi_{i-1,j} + \\Phi_{i,j+1} + \\Phi_{i,j-1}\\Big)\n",
    "     + \\pi\\rho_{i,j} \\Delta^2\n",
    "$$"
   ]
  },
  {
   "cell_type": "markdown",
   "metadata": {
    "slideshow": {
     "slide_type": "subslide"
    }
   },
   "source": [
    "#### Jacobi method\n",
    "Do not change $\\Phi_{i,j}$ until a complete sweep has been completed."
   ]
  },
  {
   "cell_type": "code",
   "execution_count": 1,
   "metadata": {
    "collapsed": true
   },
   "outputs": [],
   "source": [
    "def Laplace_Jacobi_slow(Phi):\n",
    "    # Don't use, very slow AND inefficient\n",
    "    Phi_new = Phi.copy()\n",
    "    Nx, Ny = Phi.shape\n",
    "    for xi in range(1, Nx-2):\n",
    "        for yj in range(1, Ny-2):\n",
    "            Phi_new[xi, yj] = 0.25*(Phi[xi+1, yj] + Phi[xi-1, yj]\n",
    "                                  + Phi[xi, yj+1] + Phi[xi, yj-1])\n",
    "    Phi[:, :] = Phi_new\n",
    "    return Phi"
   ]
  },
  {
   "cell_type": "markdown",
   "metadata": {},
   "source": [
    "Fast implementation using numpy array operations (vectorized, run at C speed, not Python speed):"
   ]
  },
  {
   "cell_type": "code",
   "execution_count": null,
   "metadata": {
    "collapsed": true
   },
   "outputs": [],
   "source": [
    "def Laplace_Jacobi(Phi):\n",
    "    \"\"\"One update in the Jacobi algorithm\"\"\"\n",
    "    Phi[1:-1, 1:-1] = 0.25*(Phi[2:, 1:-1] + Phi[0:-2, 1:-1] + Phi[1:-1, 2:] + Phi[1:-1, 0:-2])\n",
    "    return Phi"
   ]
  },
  {
   "cell_type": "markdown",
   "metadata": {
    "slideshow": {
     "slide_type": "subslide"
    }
   },
   "source": [
    "#### Gauss-Seidel method\n",
    "Immediately use updated new values for $\\Phi_{i-1, j}$ and $\\Phi_{i, j-1}$ (if starting from $\\Phi_{1, 1}$).\n",
    "\n",
    "Leads to *accelerated convergence* and therefore *less round-off error* (but distorts symmetry of boundary conditions... hopefully irrelevant when converged but check!)"
   ]
  },
  {
   "cell_type": "code",
   "execution_count": null,
   "metadata": {
    "collapsed": true
   },
   "outputs": [],
   "source": [
    "def Laplace_Gauss_Seidel(Phi):\n",
    "    \"\"\"One update in the Gauss-Seidel algorithm\"\"\"\n",
    "    Nx, Ny = Phi.shape\n",
    "    for xi in range(1, Nx-2):\n",
    "        for yj in range(1, Ny-2):\n",
    "            Phi[xi, yj] = 0.25*(Phi[xi+1, yj] + Phi[xi-1, yj]\n",
    "                                + Phi[xi, yj+1] + Phi[xi, yj-1])\n",
    "    return Phi"
   ]
  },
  {
   "cell_type": "markdown",
   "metadata": {},
   "source": [
    "#### Fast Gauss-Seidel-like\n",
    "\n",
    "Divide the lattice into a checkerboard of black and white cells. Update the odd cells first (like Jacobi) but then use the odd cells to update the even ones (Gauss-Seidel-like; see the [board notes (PDF)](https://github.com/ASU-CompMethodsPhysics-PHY494/PHY494-resources/blob/master/15_PDEs/15_PDEs-2-LectureNotes.pdf)). This leads to faster convergence *and* can be done with numpy array operations."
   ]
  },
  {
   "cell_type": "code",
   "execution_count": null,
   "metadata": {
    "collapsed": true
   },
   "outputs": [],
   "source": [
    "def Laplace_Gauss_Seidel_odd_even(Phi):\n",
    "    \"\"\"One update in the Gauss-Seidel algorithm on odd or even fields\"\"\"\n",
    "    # odd update (uses old even)\n",
    "    Phi[1:-2:2, 1:-2:2] = 0.25*(Phi[2::2, 1:-2:2] + Phi[0:-2:2, 1:-2:2] + Phi[1:-2:2, 2::2] + Phi[1:-2:2, 0:-2:2])\n",
    "    Phi[2:-1:2, 2:-1:2] = 0.25*(Phi[3::2, 2:-1:2] + Phi[1:-2:2, 2:-1:2] + Phi[2:-1:2, 3::2] + Phi[2:-1:2, 1:-2:2])\n",
    "    \n",
    "    # even update (uses new odd)\n",
    "    Phi[1:-2:2, 2:-1:2] = 0.25*(Phi[2::2, 2:-1:2] + Phi[0:-2:2, 2:-1:2] + Phi[1:-2:2, 3::2] + Phi[1:-2:2, 1:-1:2])\n",
    "    Phi[2:-1:2, 1:-2:2] = 0.25*(Phi[3::2, 1:-2:2] + Phi[1:-2:2, 1:-2:2] + Phi[2:-1:2, 2::2] + Phi[2:-1:2, 0:-2:2])\n",
    "    return Phi"
   ]
  },
  {
   "cell_type": "markdown",
   "metadata": {
    "slideshow": {
     "slide_type": "slide"
    }
   },
   "source": [
    "### *Converged* solution of the wire-in-a-box problem"
   ]
  },
  {
   "cell_type": "markdown",
   "metadata": {},
   "source": [
    "Solve the box-wire problem and **make sure that the solution is converged to `tol = 1e-3`.**"
   ]
  },
  {
   "cell_type": "code",
   "execution_count": null,
   "metadata": {
    "collapsed": true
   },
   "outputs": [],
   "source": [
    "import numpy as np\n",
    "import matplotlib.pyplot as plt\n",
    "from mpl_toolkits.mplot3d import Axes3D\n",
    "#%matplotlib inline\n",
    "%matplotlib notebook"
   ]
  },
  {
   "cell_type": "markdown",
   "metadata": {},
   "source": [
    "Complete the code (use one of the fast numpy Laplace solvers) and get converged results (to `tol = 1e-03` or better). Try\n",
    "* `Laplace_Jacobi()`\n",
    "* `Laplace_Gauss_Seidel_odd_even()`\n",
    "\n",
    "Which one converges faster?"
   ]
  },
  {
   "cell_type": "code",
   "execution_count": null,
   "metadata": {
    "collapsed": false,
    "slideshow": {
     "slide_type": "subslide"
    }
   },
   "outputs": [],
   "source": [
    "Max_iter=10000\n",
    "tol = 1e-3\n",
    "Nmax = 100\n",
    "Phi = np.zeros((Nmax, Nmax), dtype=np.float64)\n",
    "Phi_old = np.zeros_like(Phi)\n",
    "\n",
    "# initialize boundaries\n",
    "# everything starts out zero so nothing special for the grounded wires\n",
    "Phi[:, 0] = 100     # wire at y=0 at 100 V\n",
    "\n",
    "for n_iter in range(Max_iter):\n",
    "    Phi_old[:, :] = Phi\n",
    "    Phi = Laplace_Gauss_Seidel_odd_even(Phi)\n",
    "    DeltaPhi = np.linalg.norm(Phi - Phi_old)\n",
    "    if DeltaPhi < tol:\n",
    "        print(\"Laplace_Gauss_Seidel_odd_even converged in {0} iterations to {1}\".format(n_iter+1, DeltaPhi))\n",
    "        plot_contour(Phi, filename=\"wire/phi_{0:08d}.png\".format(n_iter))\n",
    "        break\n",
    "    if n_iter % nsave == 0:\n",
    "        print(\"Iteration {0}\".format(n_iter), end=\"\\r\")\n",
    "else:\n",
    "    print(\"Laplace_Gauss_Seidel_odd_even did NOT converge in {0} iterations, DeltaPhi={1}\".format(n_iter+1, DeltaPhi))\n",
    "    "
   ]
  },
  {
   "cell_type": "markdown",
   "metadata": {},
   "source": [
    "Wireframe plot as usual:"
   ]
  },
  {
   "cell_type": "code",
   "execution_count": null,
   "metadata": {
    "collapsed": false,
    "scrolled": true,
    "slideshow": {
     "slide_type": "subslide"
    }
   },
   "outputs": [],
   "source": [
    "# plot Phi(x,y)\n",
    "x = np.arange(Nmax)\n",
    "y = np.arange(Nmax)\n",
    "X, Y = np.meshgrid(x, y)\n",
    "\n",
    "Z = Phi[X, Y]\n",
    "\n",
    "fig = plt.figure()\n",
    "ax = fig.add_subplot(111, projection='3d')\n",
    "ax.plot_wireframe(X, Y, Z)\n",
    "\n",
    "ax.set_xlabel('X')\n",
    "ax.set_ylabel('Y')\n",
    "ax.set_zlabel(r'potential $\\Phi$ (V)')"
   ]
  },
  {
   "cell_type": "markdown",
   "metadata": {},
   "source": [
    "#### Convience plotting functions. \n",
    "If you provide a filename then output is only written to a file and figures are close to conserve memory. This allows you to plot files in loops and later assemble them into movies using other programs such as ffmpeg, ImageMagick, mencoder, QuickTime 7, ..."
   ]
  },
  {
   "cell_type": "code",
   "execution_count": null,
   "metadata": {
    "collapsed": false,
    "scrolled": false,
    "slideshow": {
     "slide_type": "subslide"
    }
   },
   "outputs": [],
   "source": [
    "def plot_contour(Phi, filename=None):\n",
    "    \"\"\"Plot Phi as a contour plot.\n",
    "    \n",
    "    Arguments\n",
    "    ---------\n",
    "    Phi : 2D array\n",
    "          potential on lattice\n",
    "    filename : string or None, optional (default: None)\n",
    "          If `None` then show the figure and return the axes object.\n",
    "          If a string is given (like \"contour.png\") it will only plot \n",
    "          to the filename and close the figure but return the filename.\n",
    "    \"\"\"\n",
    "    fig = plt.figure(figsize=(5,4))\n",
    "    ax = fig.add_subplot(111)\n",
    "\n",
    "    x = np.arange(Phi.shape[0])\n",
    "    y = np.arange(Phi.shape[1])\n",
    "    X, Y = np.meshgrid(x, y)\n",
    "    Z = Phi[X, Y]\n",
    "    cset = ax.contourf(X, Y, Z, 20, cmap=plt.cm.coolwarm)\n",
    "    ax.set_xlabel('X')\n",
    "    ax.set_ylabel('Y')\n",
    "    ax.set_aspect(1)\n",
    "\n",
    "    cb = fig.colorbar(cset, shrink=0.5, aspect=5)\n",
    "    cb.set_label(r\"potential $\\Phi$ (V)\")\n",
    "    \n",
    "    if filename:\n",
    "        fig.savefig(filename)\n",
    "        plt.close(fig)\n",
    "        return filename\n",
    "    else:\n",
    "        return ax\n",
    "    \n",
    "\n",
    "def plot_surf(Phi, filename=None, offset=-20, zlabel=r'potential $\\Phi$ (V)',\n",
    "             elevation=40, azimuth=20):\n",
    "    \"\"\"Plot Phi as a 3D plot with contour plot underneath.\n",
    "    \n",
    "    Arguments\n",
    "    ---------\n",
    "    Phi : 2D array\n",
    "          potential on lattice\n",
    "    filename : string or None, optional (default: None)\n",
    "          If `None` then show the figure and return the axes object.\n",
    "          If a string is given (like \"contour.png\") it will only plot \n",
    "          to the filename and close the figure but return the filename.\n",
    "    offset : float, optional (default: 20)\n",
    "          position the 2D contour plot by offset along the Z direction\n",
    "          under the minimum Z value\n",
    "    zlabel : string, optional\n",
    "          label for the Z axis and color scale bar\n",
    "    elevation : float, optional\n",
    "          choose elevation for initial viewpoint\n",
    "    azimuth : float, optional\n",
    "          chooze azimuth angle for initial viewpoint\n",
    "    \"\"\"\n",
    "     \n",
    "    x = np.arange(Phi.shape[0])\n",
    "    y = np.arange(Phi.shape[1])\n",
    "    X, Y = np.meshgrid(x, y)\n",
    "    Z = Phi[X, Y]\n",
    "    \n",
    "    fig = plt.figure()\n",
    "    ax = fig.add_subplot(111, projection='3d')\n",
    "    surf = ax.plot_surface(X, Y, Z, cmap=plt.cm.coolwarm, rstride=2, cstride=2, alpha=0.3)\n",
    "    cset = ax.contourf(X, Y, Z, 20, zdir='z', offset=offset+Z.min(), cmap=plt.cm.coolwarm)\n",
    "\n",
    "    ax.set_xlabel('X')\n",
    "    ax.set_ylabel('Y')\n",
    "    ax.set_zlabel(zlabel)\n",
    "    ax.set_zlim(offset + Z.min(), Z.max())\n",
    "    \n",
    "    ax.view_init(elev=elevation, azim=azimuth)\n",
    "\n",
    "    cb = fig.colorbar(surf, shrink=0.5, aspect=5)\n",
    "    cb.set_label(zlabel)\n",
    "    \n",
    "    if filename:\n",
    "        fig.savefig(filename)\n",
    "        plt.close(fig)\n",
    "        return filename\n",
    "    else:\n",
    "        return ax"
   ]
  },
  {
   "cell_type": "markdown",
   "metadata": {
    "slideshow": {
     "slide_type": "slide"
    }
   },
   "source": [
    "## Successive Over Relaxation (SOR)\n",
    "Accelerate convergence with the scheme\n",
    "\n",
    "$$\n",
    "r_{i, j} = \\Phi_{i,j}^\\text{new} - \\Phi_{i, j}^\\text{old}\\\\\n",
    "\\Phi_{i,j}^\\text{new} = \\Phi_{i,j}^\\text{old} + \\omega r_{i,j}\n",
    "$$\n",
    "\n",
    "where the new solution is computed with the Gauss-Seidel scheme."
   ]
  },
  {
   "cell_type": "markdown",
   "metadata": {},
   "source": [
    "Values of $1 \\leq \\omega \\leq 2$ may work well, $\\omega > 2$ can lead to numerical instabilities. Experiment!"
   ]
  },
  {
   "cell_type": "markdown",
   "metadata": {},
   "source": [
    "### Implement SOR for the box-wire problem\n",
    "Hint: copy and paste from above as a start and directly implement the SOR equation."
   ]
  },
  {
   "cell_type": "code",
   "execution_count": null,
   "metadata": {
    "collapsed": false,
    "scrolled": false,
    "slideshow": {
     "slide_type": "subslide"
    }
   },
   "outputs": [],
   "source": [
    "# %%timeit \n",
    "\n",
    "Max_iter=10000\n",
    "tol = 1e-3\n",
    "Nmax = 100\n",
    "omega = 1.\n",
    "\n",
    "Phi = np.zeros((Nmax, Nmax), dtype=np.float64)\n",
    "Phi_old = np.zeros_like(Phi)\n",
    "residual = np.zeros_like(Phi)\n",
    "\n",
    "# initialize boundaries\n",
    "# everything starts out zero so nothing special for the grounded wires\n",
    "Phi[:, 0] = 100     # wire at y=0 at 100 V\n",
    "\n",
    "for n_iter in range(Max_iter):\n",
    "    raise NotImplementedError"
   ]
  },
  {
   "cell_type": "markdown",
   "metadata": {},
   "source": [
    "Run to convergence (tol = 1e-03). Record the number of steps required (and visually check the solution).\n",
    "* Start with $\\omega = 1$. What should you get?\n",
    "* Change $\\omega$ and try to get faster convergence? Who can get it to converge in the fewest number of steps?"
   ]
  },
  {
   "cell_type": "markdown",
   "metadata": {
    "slideshow": {
     "slide_type": "subslide"
    }
   },
   "source": [
    "## Simple example of Poisson's equation: Wire and charge\n",
    "Add a positive charge and a negative charge in the box.\n",
    "\n",
    "Now we need to solve **Poisson's equation**.\n",
    "\n",
    "$$\n",
    "\\nabla^2 \\Phi(x, y, z) = -4\\pi\\rho(x, y, z)\\\\\n",
    "$$"
   ]
  },
  {
   "cell_type": "markdown",
   "metadata": {},
   "source": [
    "Finite difference solution:\n",
    "$$\n",
    "\\Phi_{i,j} = \\frac{1}{4}\\Big(\\Phi_{i+1,j} + \\Phi_{i-1,j} + \\Phi_{i,j+1} + \\Phi_{i,j-1}\\Big)\n",
    "     + \\pi\\rho_{i,j} \\Delta^2\n",
    "$$"
   ]
  },
  {
   "cell_type": "markdown",
   "metadata": {},
   "source": [
    "### Poisson Solver \n",
    "Modify the Laplace solvers to now solve Poisson's equation:"
   ]
  },
  {
   "cell_type": "code",
   "execution_count": null,
   "metadata": {
    "collapsed": true
   },
   "outputs": [],
   "source": [
    "import numpy as np\n",
    "\n",
    "def Poisson_Jacobi(Phi, rho, Delta=1.):\n",
    "    \"\"\"One update in the Jacobi algorithm for Poisson's equation\"\"\"\n",
    "    raise NotImplementeError\n",
    "    \n",
    "    Phi[1:-1, 1:-1] = 0.25*(Phi[2:, 1:-1] + Phi[0:-2, 1:-1] + Phi[1:-1, 2:] + Phi[1:-1, 0:-2])\n",
    "    return Phi\n",
    "\n",
    "def Poisson_Gauss_Seidel(Phi, rho, Delta=1.):\n",
    "    \"\"\"One update in the Gauss-Seidel algorithm for Poisson's equation\"\"\"\n",
    "    raise NotImplementedError\n",
    "    \n",
    "    Nx, Ny = Phi.shape\n",
    "    for xi in range(1, Nx-2):\n",
    "        for yj in range(1, Ny-2):\n",
    "            Phi[xi, yj] = 0.25*(Phi[xi+1, yj] + Phi[xi-1, yj]\n",
    "                                + Phi[xi, yj+1] + Phi[xi, yj-1])\n",
    "    return Phi\n",
    "\n",
    "def Poisson_Gauss_Seidel_odd_even(Phi, rho, Delta=1.):\n",
    "    \"\"\"One update in the Gauss-Seidel algorithm for Poisson's equation on odd or even fields\"\"\"\n",
    "    a = np.pi * Delta**2\n",
    "    # odd update (uses old even)\n",
    "    Phi[1:-2:2, 1:-2:2] = 0.25*(Phi[2::2, 1:-2:2] + Phi[0:-2:2, 1:-2:2] \n",
    "                                + Phi[1:-2:2, 2::2] + Phi[1:-2:2, 0:-2:2]) + a * rho[1:-2:2, 1:-2:2]\n",
    "    Phi[2:-1:2, 2:-1:2] = 0.25*(Phi[3::2, 2:-1:2] + Phi[1:-2:2, 2:-1:2] \n",
    "                                + Phi[2:-1:2, 3::2] + Phi[2:-1:2, 1:-2:2]) + a * rho[2:-1:2, 2:-1:2]\n",
    "    \n",
    "    # even update (uses new odd)\n",
    "    Phi[1:-2:2, 2:-1:2] = 0.25*(Phi[2::2, 2:-1:2] + Phi[0:-2:2, 2:-1:2] \n",
    "                                + Phi[1:-2:2, 3::2] + Phi[1:-2:2, 1:-1:2]) + a * rho[1:-2:2, 2:-1:2]\n",
    "    Phi[2:-1:2, 1:-2:2] = 0.25*(Phi[3::2, 1:-2:2] + Phi[1:-2:2, 1:-2:2] \n",
    "                                + Phi[2:-1:2, 2::2] + Phi[2:-1:2, 0:-2:2]) + a * rho[2:-1:2, 1:-2:2]\n",
    "    return Phi"
   ]
  },
  {
   "cell_type": "markdown",
   "metadata": {},
   "source": [
    "Solve the Poisson problem with SOR (as above):"
   ]
  },
  {
   "cell_type": "code",
   "execution_count": null,
   "metadata": {
    "collapsed": false
   },
   "outputs": [],
   "source": [
    "Nmax = 100\n",
    "Max_iter = 10000\n",
    "omega = 1\n",
    "\n",
    "Phi = np.zeros((Nmax, Nmax), dtype=np.float64)\n",
    "Phi_old = np.zeros_like(Phi)\n",
    "rho = np.zeros_like(Phi)\n",
    "\n",
    "# initialize boundaries\n",
    "# everything starts out zero so nothing special for the grounded wires\n",
    "Phi[:, 0] = 100     # wire at y=0 at 100 V\n",
    "rho[25:27, 39:41] = 5.0 \n",
    "rho[75:77, 39:41] = -5.0 \n",
    "\n",
    "Delta = 1.0\n",
    "\n",
    "for n_iter in range(Max_iter):\n",
    "    Phi_old[:, :] = Phi\n",
    "    \n",
    "    raise NotImplementedError\n",
    "    \n",
    "    DeltaPhi = np.linalg.norm(residual)\n",
    "    if DeltaPhi < tol:\n",
    "        print(\"SOR converged in {0} iterations to {1}\".format(n_iter+1, DeltaPhi))\n",
    "        break\n",
    "    # SOR\n",
    "    # Phi = Phi_old + omega * residual\n",
    "    \n",
    "    if n_iter % 100 == 0:\n",
    "        print(\"Iteration {0}\".format(n_iter), end=\"\\r\")\n",
    "else:\n",
    "    print(\"SOR did NOT converge in {0} iterations, DeltaPhi={1}\".format(n_iter+1, DeltaPhi))\n",
    " \n",
    "    "
   ]
  },
  {
   "cell_type": "code",
   "execution_count": null,
   "metadata": {
    "collapsed": false
   },
   "outputs": [],
   "source": [
    "plot_surf(Phi)"
   ]
  },
  {
   "cell_type": "markdown",
   "metadata": {},
   "source": [
    "## Charge density\n",
    "Given a potential $\\Phi$, Poisson's equation gives the charge density:\n",
    "$$\n",
    "\\rho(\\mathbf{x}) = -\\frac{1}{4\\pi} \\nabla^2\\Phi(\\mathbf{x})\n",
    "$$"
   ]
  },
  {
   "cell_type": "markdown",
   "metadata": {},
   "source": [
    "Discretized Laplacian\n",
    "$$\n",
    "\\nabla^2 \\Phi \\approx \\frac{\\Phi(x+\\Delta x,y) + \\Phi(x-\\Delta x,y) +\\Phi(x,y+\\Delta y) +\\, \\Phi(x,y-\\Delta y) - 4\\Phi(x, y)}{\\Delta^2}\n",
    "$$"
   ]
  },
  {
   "cell_type": "code",
   "execution_count": 2,
   "metadata": {
    "collapsed": true
   },
   "outputs": [],
   "source": [
    "def laplacian2d(f, Delta=1):\n",
    "    \"\"\"Finite difference approximation of Del^2 f.\n",
    "        \n",
    "    Arguments\n",
    "    ---------\n",
    "    f : M x N matrix\n",
    "    Delta : float\n",
    "    \n",
    "    Returns\n",
    "    -------\n",
    "    M x N matrix, edges unchanged\n",
    "    \"\"\"\n",
    "    \n",
    "    L = np.zeros_like(f, dtype=np.float64)\n",
    "    L[:, :] = f\n",
    "    L[1:-1, 1:-1] = f[1:-1, 2:] + f[1:-1, 0:-2] + f[2:, 1:-1] + f[0:-2, 1:-1] - 4*f[1:-1, 1:-1]\n",
    "    return L/Delta**2\n",
    "\n",
    "def laplacian2dsimple(f, Delta=1):\n",
    "    L = np.zeros_like(f, dtype=np.float64)\n",
    "    L[:, :] = f\n",
    "    for i in range(1, L.shape[0]-1):\n",
    "        for j in range(1, L.shape[1]-1):\n",
    "            L[i, j] = f[i, j+1] + f[i, j-1] + f[i+1, j] + f[i-1, j] - 4*f[i, j]\n",
    "    return L/Delta**2"
   ]
  },
  {
   "cell_type": "markdown",
   "metadata": {
    "collapsed": false
   },
   "source": [
    "Compute the charge density `rhox` from your `Phi` and plot. Does it match up with your input?"
   ]
  },
  {
   "cell_type": "code",
   "execution_count": null,
   "metadata": {
    "collapsed": false
   },
   "outputs": [],
   "source": [
    "plot_surf(rhox, zlabel=r\"charge density $\\rho$\")"
   ]
  },
  {
   "cell_type": "markdown",
   "metadata": {},
   "source": [
    "#### Testing the implementation of Laplacian "
   ]
  },
  {
   "cell_type": "code",
   "execution_count": null,
   "metadata": {
    "collapsed": false
   },
   "outputs": [],
   "source": [
    "import numpy as np\n",
    "\n",
    "def test_laplacian2d():\n",
    "    ftest = np.random.random((200, 200))\n",
    "    assert np.allclose(laplacian2d(ftest), laplacian2dsimple(ftest))\n",
    "\n",
    "test_laplacian2d()"
   ]
  }
 ],
 "metadata": {
  "anaconda-cloud": {},
  "celltoolbar": "Slideshow",
  "kernelspec": {
   "display_name": "Python [default]",
   "language": "python",
   "name": "python3"
  },
  "language_info": {
   "codemirror_mode": {
    "name": "ipython",
    "version": 3
   },
   "file_extension": ".py",
   "mimetype": "text/x-python",
   "name": "python",
   "nbconvert_exporter": "python",
   "pygments_lexer": "ipython3",
   "version": "3.5.2"
  }
 },
 "nbformat": 4,
 "nbformat_minor": 0
}
