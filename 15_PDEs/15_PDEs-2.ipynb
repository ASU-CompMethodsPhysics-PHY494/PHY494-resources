{
 "cells": [
  {
   "cell_type": "markdown",
   "metadata": {
    "slideshow": {
     "slide_type": "slide"
    }
   },
   "source": [
    "# 15 Partial Differential Equations — 2\n",
    "\n",
    "## Solving Laplace's or Poisson's equation\n",
    "\n",
    "Still solving **Poisson's equation** for the electric potential $\\Phi(\\mathbf{r})$ and the charge density $\\rho(\\mathbf{r})$:\n",
    "\n",
    "$$\n",
    "\\nabla^2 \\Phi(x, y, z) = -4\\pi\\rho(x, y, z)\\\\\n",
    "$$"
   ]
  },
  {
   "cell_type": "markdown",
   "metadata": {
    "slideshow": {
     "slide_type": "fragment"
    }
   },
   "source": [
    "For a region of space without charges ($\\rho = 0$) this reduces to **Laplace's equation**\n",
    "\n",
    "$$\n",
    "\\nabla^2 \\Phi(x, y, z) = 0\n",
    "$$\n"
   ]
  },
  {
   "cell_type": "markdown",
   "metadata": {},
   "source": [
    "General solution by iteration:\n",
    "$$\n",
    "\\Phi_{i,j} = \\frac{1}{4}\\Big(\\Phi_{i+1,j} + \\Phi_{i-1,j} + \\Phi_{i,j+1} + \\Phi_{i,j-1}\\Big)\n",
    "     + \\pi\\rho_{i,j} \\Delta^2\n",
    "$$"
   ]
  },
  {
   "cell_type": "markdown",
   "metadata": {
    "slideshow": {
     "slide_type": "subslide"
    }
   },
   "source": [
    "#### Jacobi method\n",
    "Do not change $\\Phi_{i,j}$ until a complete sweep has been completed."
   ]
  },
  {
   "cell_type": "code",
   "execution_count": 11,
   "metadata": {},
   "outputs": [],
   "source": [
    "def Laplace_Jacobi_slow(Phi):\n",
    "    # Don't use, very slow AND inefficient\n",
    "    Phi_new = Phi.copy()\n",
    "    Nx, Ny = Phi.shape\n",
    "    for xi in range(1, Nx-1):\n",
    "        for yj in range(1, Ny-1):\n",
    "            Phi_new[xi, yj] = 0.25*(Phi[xi+1, yj] + Phi[xi-1, yj]\n",
    "                                  + Phi[xi, yj+1] + Phi[xi, yj-1])\n",
    "    Phi[:, :] = Phi_new\n",
    "    return Phi"
   ]
  },
  {
   "cell_type": "markdown",
   "metadata": {},
   "source": [
    "Fast implementation using numpy array operations (vectorized, run at C speed, not Python speed) (see the [board notes (PDF)](https://github.com/ASU-CompMethodsPhysics-PHY494/PHY494-resources/blob/master/16_PDEs/16_PDEs-2-LectureNotes.pdf) or [local PDF](16_PDEs-2-LectureNotes.pdf) for an explanation for how to set up the numpy array operations that give you a 100-fold speed up over `Laplace_Jacobi_slow()`):"
   ]
  },
  {
   "cell_type": "code",
   "execution_count": 2,
   "metadata": {},
   "outputs": [],
   "source": [
    "def Laplace_Jacobi(Phi):\n",
    "    \"\"\"One update in the Jacobi algorithm\"\"\"\n",
    "    Phi[1:-1, 1:-1] = 0.25*(Phi[2:, 1:-1] + Phi[0:-2, 1:-1] + Phi[1:-1, 2:] + Phi[1:-1, 0:-2])\n",
    "    return Phi"
   ]
  },
  {
   "cell_type": "markdown",
   "metadata": {
    "slideshow": {
     "slide_type": "subslide"
    }
   },
   "source": [
    "#### Gauss-Seidel method\n",
    "Immediately use updated new values for $\\Phi_{i-1, j}$ and $\\Phi_{i, j-1}$ (if starting from $\\Phi_{1, 1}$).\n",
    "\n",
    "Leads to *accelerated convergence* and therefore *less round-off error* (but distorts symmetry of boundary conditions... hopefully irrelevant when converged but check!)"
   ]
  },
  {
   "cell_type": "code",
   "execution_count": 3,
   "metadata": {},
   "outputs": [],
   "source": [
    "def Laplace_Gauss_Seidel(Phi):\n",
    "    \"\"\"One update in the Gauss-Seidel algorithm\"\"\"\n",
    "    Nx, Ny = Phi.shape\n",
    "    for xi in range(1, Nx-1):\n",
    "        for yj in range(1, Ny-1):\n",
    "            Phi[xi, yj] = 0.25*(Phi[xi+1, yj] + Phi[xi-1, yj]\n",
    "                                + Phi[xi, yj+1] + Phi[xi, yj-1])\n",
    "    return Phi"
   ]
  },
  {
   "cell_type": "markdown",
   "metadata": {},
   "source": [
    "#### Fast Gauss-Seidel-like\n",
    "\n",
    "Divide the lattice into a checkerboard of black and white cells. Update the odd cells first (like Jacobi) but then use the odd cells to update the even ones (Gauss-Seidel-like; see the [board notes (PDF)](https://github.com/ASU-CompMethodsPhysics-PHY494/PHY494-resources/blob/master/16_PDEs/16_PDEs-2-LectureNotes.pdf) or [local PDF](16_PDEs-2-LectureNotes.pdf) ). This leads to faster convergence *and* can be done with numpy array operations."
   ]
  },
  {
   "cell_type": "code",
   "execution_count": 4,
   "metadata": {},
   "outputs": [],
   "source": [
    "def Laplace_Gauss_Seidel_odd_even(Phi):\n",
    "    \"\"\"One update in the Gauss-Seidel algorithm on odd or even fields\"\"\"\n",
    "    # odd update (uses old even)\n",
    "    Phi[1:-2:2, 1:-2:2] = 0.25*(Phi[2::2, 1:-2:2] + Phi[0:-2:2, 1:-2:2] + Phi[1:-2:2, 2::2] + Phi[1:-2:2, 0:-2:2])\n",
    "    Phi[2:-1:2, 2:-1:2] = 0.25*(Phi[3::2, 2:-1:2] + Phi[1:-2:2, 2:-1:2] + Phi[2:-1:2, 3::2] + Phi[2:-1:2, 1:-2:2])\n",
    "    \n",
    "    # even update (uses new odd)\n",
    "    Phi[1:-2:2, 2:-1:2] = 0.25*(Phi[2::2, 2:-1:2] + Phi[0:-2:2, 2:-1:2] + Phi[1:-2:2, 3::2] + Phi[1:-2:2, 1:-1:2])\n",
    "    Phi[2:-1:2, 1:-2:2] = 0.25*(Phi[3::2, 1:-2:2] + Phi[1:-2:2, 1:-2:2] + Phi[2:-1:2, 2::2] + Phi[2:-1:2, 0:-2:2])\n",
    "    return Phi"
   ]
  },
  {
   "cell_type": "markdown",
   "metadata": {
    "slideshow": {
     "slide_type": "slide"
    }
   },
   "source": [
    "### *Converged* solution of the wire-in-a-box problem"
   ]
  },
  {
   "cell_type": "markdown",
   "metadata": {},
   "source": [
    "Solve the box-wire problem and **make sure that the solution is converged to  `tol = 1e-3`.**"
   ]
  },
  {
   "cell_type": "markdown",
   "metadata": {},
   "source": [
    "Check convergence with the [_Frobenius Norm_](http://mathworld.wolfram.com/FrobeniusNorm.html):\n",
    "\n",
    "$$\n",
    "||\\mathsf{\\Phi}|| := \\sqrt{\\sum_{i,j}|\\Phi_{ij}|^2}\n",
    "$$\n",
    "\n",
    "which is implemented as [numpy.linalg.norm()](https://docs.scipy.org/doc/numpy/reference/generated/numpy.linalg.norm.html) when the argument is a matrix."
   ]
  },
  {
   "cell_type": "code",
   "execution_count": 5,
   "metadata": {},
   "outputs": [],
   "source": [
    "import numpy as np\n",
    "import matplotlib.pyplot as plt\n",
    "from mpl_toolkits.mplot3d import Axes3D"
   ]
  },
  {
   "cell_type": "markdown",
   "metadata": {
    "slideshow": {
     "slide_type": "slide"
    }
   },
   "source": [
    "Interactive plotting (with ipympl):"
   ]
  },
  {
   "cell_type": "code",
   "execution_count": 6,
   "metadata": {},
   "outputs": [],
   "source": [
    "# for interactive work\n",
    "%matplotlib widget"
   ]
  },
  {
   "cell_type": "markdown",
   "metadata": {},
   "source": [
    "Only execute the next line if you *don't* want interactive plotting (e.g., when exporting to LaTeX/PDF or html):"
   ]
  },
  {
   "cell_type": "code",
   "execution_count": 21,
   "metadata": {},
   "outputs": [],
   "source": [
    "%matplotlib inline"
   ]
  },
  {
   "cell_type": "markdown",
   "metadata": {},
   "source": [
    "#### Convience plotting functions. \n",
    "If you provide a filename then output is only written to a file and figures are close to conserve memory. This allows you to plot files in loops and later assemble them into movies using other programs such as ffmpeg, ImageMagick, mencoder, QuickTime 7, ..."
   ]
  },
  {
   "cell_type": "code",
   "execution_count": 7,
   "metadata": {},
   "outputs": [],
   "source": [
    "def plot_contour(Phi, filename=None, zlabel=r\"potential $\\Phi$ (V)\",\n",
    "                 cmap=plt.cm.coolwarm):\n",
    "    \"\"\"Plot Phi as a contour plot.\n",
    "    \n",
    "    Arguments\n",
    "    ---------\n",
    "    Phi : 2D array\n",
    "          potential on lattice\n",
    "    filename : string or None, optional (default: None)\n",
    "          If `None` then show the figure and return the axes object.\n",
    "          If a string is given (like \"contour.png\") it will only plot \n",
    "          to the filename and close the figure but return the filename.\n",
    "    cmap : colormap\n",
    "          pick one from matplotlib.cm          \n",
    "    \"\"\"\n",
    "    fig = plt.figure(figsize=(5,4))\n",
    "    ax = fig.add_subplot(111)\n",
    "\n",
    "    x = np.arange(Phi.shape[0])\n",
    "    y = np.arange(Phi.shape[1])\n",
    "    X, Y = np.meshgrid(x, y)\n",
    "    Z = Phi[X, Y]\n",
    "    cset = ax.contourf(X, Y, Z, 20, cmap=cmap)\n",
    "    ax.set_xlabel('X')\n",
    "    ax.set_ylabel('Y')\n",
    "    ax.set_aspect(1)\n",
    "\n",
    "    cb = fig.colorbar(cset, shrink=0.5, aspect=5)\n",
    "    cb.set_label(zlabel)\n",
    "    \n",
    "    if filename:\n",
    "        fig.savefig(filename)\n",
    "        plt.close(fig)\n",
    "        return filename\n",
    "    else:\n",
    "        return ax\n",
    "    \n",
    "\n",
    "def plot_surf(Phi, filename=None, offset=-20, zlabel=r'potential $\\Phi$ (V)',\n",
    "             elevation=40, azimuth=-65, cmap=plt.cm.coolwarm):\n",
    "    \"\"\"Plot Phi as a 3D plot with contour plot underneath.\n",
    "    \n",
    "    Arguments\n",
    "    ---------\n",
    "    Phi : 2D array\n",
    "          potential on lattice\n",
    "    filename : string or None, optional (default: None)\n",
    "          If `None` then show the figure and return the axes object.\n",
    "          If a string is given (like \"contour.png\") it will only plot \n",
    "          to the filename and close the figure but return the filename.\n",
    "    offset : float, optional (default: 20)\n",
    "          position the 2D contour plot by offset along the Z direction\n",
    "          under the minimum Z value\n",
    "    zlabel : string, optional\n",
    "          label for the Z axis and color scale bar\n",
    "    elevation : float, optional\n",
    "          choose elevation for initial viewpoint\n",
    "    azimuth : float, optional\n",
    "          chooze azimuth angle for initial viewpoint\n",
    "    cmap : colormap\n",
    "          pick one from matplotlib.cm\n",
    "    \"\"\"\n",
    "     \n",
    "    x = np.arange(Phi.shape[0])\n",
    "    y = np.arange(Phi.shape[1])\n",
    "    X, Y = np.meshgrid(x, y)\n",
    "    Z = Phi[X, Y]\n",
    "        \n",
    "    fig = plt.figure()\n",
    "    ax = fig.add_subplot(111, projection='3d')\n",
    "    ax.plot_wireframe(X, Y, Z, rstride=2, cstride=2, linewidth=0.5, color=\"gray\")\n",
    "    surf = ax.plot_surface(X, Y, Z, cmap=cmap, alpha=0.6)\n",
    "    cset = ax.contourf(X, Y, Z, 20, zdir='z', offset=offset+Z.min(), cmap=cmap)\n",
    "\n",
    "    ax.set_xlabel('X')\n",
    "    ax.set_ylabel('Y')\n",
    "    ax.set_zlabel(zlabel)\n",
    "    ax.set_zlim(offset + Z.min(), Z.max())\n",
    "    \n",
    "    ax.view_init(elev=elevation, azim=azimuth)\n",
    "\n",
    "    cb = fig.colorbar(surf, shrink=0.5, aspect=5)\n",
    "    cb.set_label(zlabel)\n",
    "    \n",
    "    if filename:\n",
    "        fig.savefig(filename)\n",
    "        plt.close(fig)\n",
    "        return filename\n",
    "    else:\n",
    "        return ax"
   ]
  },
  {
   "cell_type": "markdown",
   "metadata": {},
   "source": [
    "#### Wire problem\n",
    "\n",
    "Use the fastest Poisson solver that we have at the moment: `Laplace_Gauss_Seidel_odd_even()`"
   ]
  },
  {
   "cell_type": "code",
   "execution_count": 8,
   "metadata": {
    "scrolled": true
   },
   "outputs": [
    {
     "name": "stdout",
     "output_type": "stream",
     "text": [
      "Laplace_Gauss_Seidel_odd_even converged in 7558 iterations to 0.0009995267090286367\n"
     ]
    }
   ],
   "source": [
    "Max_iter=30000\n",
    "tol = 1e-3\n",
    "Nmax = 100\n",
    "Phi = np.zeros((Nmax, Nmax), dtype=np.float64)\n",
    "Phi_old = np.zeros_like(Phi)\n",
    "\n",
    "# initialize boundaries\n",
    "# everything starts out zero so nothing special for the grounded wires\n",
    "Phi[0, :] = 100     # wire at x=0 at 100 V\n",
    "\n",
    "for n_iter in range(Max_iter):\n",
    "    Phi_old[:, :] = Phi\n",
    "    Phi = Laplace_Gauss_Seidel_odd_even(Phi)\n",
    "    DeltaPhi = np.linalg.norm(Phi - Phi_old)\n",
    "    if DeltaPhi < tol:\n",
    "        print(\"Laplace_Gauss_Seidel_odd_even converged in {0} iterations to {1}\".format(n_iter+1, DeltaPhi))\n",
    "        break\n",
    "else:\n",
    "    print(\"Laplace_Gauss_Seidel_odd_even did NOT converge in {0} iterations, DeltaPhi={1}\".format(n_iter+1, DeltaPhi))\n",
    "    "
   ]
  },
  {
   "cell_type": "markdown",
   "metadata": {},
   "source": [
    "Plot the result and visualy compare to what we had before:"
   ]
  },
  {
   "cell_type": "code",
   "execution_count": 9,
   "metadata": {
    "scrolled": true
   },
   "outputs": [
    {
     "data": {
      "application/vnd.jupyter.widget-view+json": {
       "model_id": "b48a57ad13f247deac275a8bae2e7143",
       "version_major": 2,
       "version_minor": 0
      },
      "text/plain": [
       "Canvas(toolbar=Toolbar(toolitems=[('Home', 'Reset original view', 'home', 'home'), ('Back', 'Back to previous …"
      ]
     },
     "metadata": {},
     "output_type": "display_data"
    },
    {
     "data": {
      "text/plain": [
       "<matplotlib.axes._subplots.AxesSubplot at 0x1191ef9e8>"
      ]
     },
     "execution_count": 9,
     "metadata": {},
     "output_type": "execute_result"
    }
   ],
   "source": [
    "plot_contour(Phi)"
   ]
  },
  {
   "cell_type": "code",
   "execution_count": 10,
   "metadata": {},
   "outputs": [
    {
     "data": {
      "application/vnd.jupyter.widget-view+json": {
       "model_id": "d01a59cfd13a4bc9af6346d74080ad5b",
       "version_major": 2,
       "version_minor": 0
      },
      "text/plain": [
       "Canvas(toolbar=Toolbar(toolitems=[('Home', 'Reset original view', 'home', 'home'), ('Back', 'Back to previous …"
      ]
     },
     "metadata": {},
     "output_type": "display_data"
    },
    {
     "data": {
      "text/plain": [
       "<matplotlib.axes._subplots.Axes3DSubplot at 0x11b4f2be0>"
      ]
     },
     "execution_count": 10,
     "metadata": {},
     "output_type": "execute_result"
    }
   ],
   "source": [
    "plot_surf(Phi)"
   ]
  },
  {
   "cell_type": "markdown",
   "metadata": {},
   "source": [
    "#### Make a movie showing convergence "
   ]
  },
  {
   "cell_type": "markdown",
   "metadata": {},
   "source": [
    "The following solution can also write out intermediate solution steps as PNG graphics (commented out for speed). Filenames and directory names are hard-coded.(Important: `plt.ioff()` to disable interactive plotting in the notebook frontend, otherwise it is very slow.)"
   ]
  },
  {
   "cell_type": "markdown",
   "metadata": {},
   "source": [
    "Put all images into a directory `wire`:"
   ]
  },
  {
   "cell_type": "code",
   "execution_count": 10,
   "metadata": {
    "scrolled": true
   },
   "outputs": [
    {
     "name": "stdout",
     "output_type": "stream",
     "text": [
      "Created empty directory ./wire\n"
     ]
    }
   ],
   "source": [
    "import os, shutil\n",
    "\n",
    "def mk_new_dir(dirname):\n",
    "    \"\"\"Create new directory (remove existing one)\"\"\"\n",
    "    if os.path.exists(dirname):\n",
    "        shutil.rmtree(dirname)\n",
    "        print(\"Removed directory {}\".format(dirname))\n",
    "    os.mkdir(dirname)\n",
    "    print(\"Created empty directory {}\".format(dirname))\n",
    "    \n",
    "mk_new_dir(\"./wire\")"
   ]
  },
  {
   "cell_type": "markdown",
   "metadata": {},
   "source": [
    "Make a movie by saving an image of the potential every 100 steps."
   ]
  },
  {
   "cell_type": "code",
   "execution_count": 11,
   "metadata": {
    "slideshow": {
     "slide_type": "subslide"
    }
   },
   "outputs": [
    {
     "name": "stdout",
     "output_type": "stream",
     "text": [
      "Laplace_Gauss_Seidel_odd_even converged in 7558 iterations to 0.0009995267090286367\n"
     ]
    }
   ],
   "source": [
    "plt.ioff()  # suppress interactive plotting\n",
    "\n",
    "nsave = 100\n",
    "\n",
    "Max_iter=30000\n",
    "tol = 1e-3\n",
    "Nmax = 100\n",
    "Phi = np.zeros((Nmax, Nmax), dtype=np.float64)\n",
    "Phi_old = np.zeros_like(Phi)\n",
    "\n",
    "# initialize boundaries\n",
    "# everything starts out zero so nothing special for the grounded wires\n",
    "Phi[0, :] = 100     # wire at x=0 at 100 V\n",
    "\n",
    "for n_iter in range(Max_iter):\n",
    "    Phi_old[:, :] = Phi\n",
    "    Phi = Laplace_Gauss_Seidel_odd_even(Phi)\n",
    "    DeltaPhi = np.linalg.norm(Phi - Phi_old)\n",
    "    if DeltaPhi < tol:\n",
    "        print(\"Laplace_Gauss_Seidel_odd_even converged in {0} iterations to {1}\".format(n_iter+1, DeltaPhi))\n",
    "        plot_contour(Phi, filename=\"wire/phi_{0:08d}.png\".format(n_iter))\n",
    "        break\n",
    "    if n_iter % nsave == 0:\n",
    "        print(\"Iteration {0}\".format(n_iter), end=\"\\r\")\n",
    "        plot_contour(Phi, filename=\"wire/phi_{0:08d}.png\".format(n_iter))\n",
    "else:\n",
    "    print(\"Laplace_Gauss_Seidel_odd_even did NOT converge in {0} iterations, DeltaPhi={1}\".format(n_iter+1, DeltaPhi))\n",
    "    \n",
    "plt.ion()"
   ]
  },
  {
   "cell_type": "code",
   "execution_count": 12,
   "metadata": {},
   "outputs": [
    {
     "data": {
      "image/png": "[encoded data removed]",
      "text/plain": [
       "<Figure size 432x288 with 2 Axes>"
      ]
     },
     "metadata": {
      "needs_background": "light"
     },
     "output_type": "display_data"
    }
   ],
   "source": [
    "ax = plot_surf(Phi, elevation=40, azimuth=-65)"
   ]
  },
  {
   "cell_type": "markdown",
   "metadata": {
    "slideshow": {
     "slide_type": "slide"
    }
   },
   "source": [
    "## Successive Over Relaxation (SOR)\n",
    "Accelerate convergence with the scheme\n",
    "\n",
    "\\begin{align}\n",
    "r_{i, j} &= \\Phi_{i,j}^\\text{new} - \\Phi_{i, j}^\\text{old}\\\\\n",
    "\\Phi_{i,j}^\\text{new} &= \\Phi_{i,j}^\\text{old} + \\omega r_{i,j}\n",
    "\\end{align}\n",
    "\n",
    "where the new solution is computed with the Gauss-Seidel scheme."
   ]
  },
  {
   "cell_type": "markdown",
   "metadata": {},
   "source": [
    "Values of $1 \\leq \\omega \\leq 2$ may work well, $\\omega > 2$ can lead to numerical instabilities. Experiment!"
   ]
  },
  {
   "cell_type": "markdown",
   "metadata": {},
   "source": [
    "### Solve Wire-in-a-box with SOR "
   ]
  },
  {
   "cell_type": "markdown",
   "metadata": {},
   "source": [
    "Run to convergence (tol = 1e-03). Record the number of steps required (and visually check the solution).\n",
    "* Start with $\\omega = 1$. What should you get?\n",
    "* Change $\\omega$ and try to get faster convergence? Who can get it to converge in the fewest number of steps?"
   ]
  },
  {
   "cell_type": "code",
   "execution_count": 12,
   "metadata": {},
   "outputs": [
    {
     "name": "stdout",
     "output_type": "stream",
     "text": [
      "SOR converged in 3797 iterations to 0.0009987117944452034\n"
     ]
    }
   ],
   "source": [
    "Max_iter=10000\n",
    "tol = 1e-3\n",
    "Nmax = 100\n",
    "omega = 1.99\n",
    "\n",
    "Phi = np.zeros((Nmax, Nmax), dtype=np.float64)\n",
    "Phi_old = np.zeros_like(Phi)\n",
    "residual = np.zeros_like(Phi)\n",
    "\n",
    "# initialize boundaries\n",
    "# everything starts out zero so nothing special for the grounded wires\n",
    "Phi[0, :] = 100     # wire at x=0 at 100 V\n",
    "\n",
    "for n_iter in range(Max_iter):\n",
    "    Phi_old[:, :] = Phi\n",
    "    Phi = Laplace_Gauss_Seidel_odd_even(Phi)\n",
    "    residual[:, :] = Phi - Phi_old\n",
    "    DeltaPhi = np.linalg.norm(residual)\n",
    "    if DeltaPhi < tol:\n",
    "        print(\"SOR converged in {0} iterations to {1}\".format(n_iter+1, DeltaPhi))\n",
    "        break\n",
    "    # SOR\n",
    "    Phi[:, :] = Phi_old + omega*residual  # = omega*Phi + (1-omega)*Phi_old\n",
    "else:\n",
    "    print(\"SOR did NOT converge in {0} iterations, DeltaPhi={1}\".format(n_iter+1, DeltaPhi))\n"
   ]
  },
  {
   "cell_type": "code",
   "execution_count": 13,
   "metadata": {},
   "outputs": [
    {
     "data": {
      "application/vnd.jupyter.widget-view+json": {
       "model_id": "340c5986bcc64dd58c12a89cd841373a",
       "version_major": 2,
       "version_minor": 0
      },
      "text/plain": [
       "Canvas(toolbar=Toolbar(toolitems=[('Home', 'Reset original view', 'home', 'home'), ('Back', 'Back to previous …"
      ]
     },
     "metadata": {},
     "output_type": "display_data"
    },
    {
     "data": {
      "text/plain": [
       "<matplotlib.axes._subplots.Axes3DSubplot at 0x11fa6df60>"
      ]
     },
     "execution_count": 13,
     "metadata": {},
     "output_type": "execute_result"
    }
   ],
   "source": [
    "plot_surf(Phi)"
   ]
  },
  {
   "cell_type": "markdown",
   "metadata": {},
   "source": [
    "### Movie of SOR "
   ]
  },
  {
   "cell_type": "markdown",
   "metadata": {},
   "source": [
    "Create images in directory `./wire_SOR`"
   ]
  },
  {
   "cell_type": "code",
   "execution_count": 15,
   "metadata": {},
   "outputs": [
    {
     "name": "stdout",
     "output_type": "stream",
     "text": [
      "Created empty directory ./wire_SOR\n",
      "Created empty directory ./wire_SOR_surf\n"
     ]
    }
   ],
   "source": [
    "mk_new_dir(\"./wire_SOR\")\n",
    "mk_new_dir(\"./wire_SOR_surf\")"
   ]
  },
  {
   "cell_type": "code",
   "execution_count": 16,
   "metadata": {
    "scrolled": true,
    "slideshow": {
     "slide_type": "subslide"
    }
   },
   "outputs": [
    {
     "name": "stdout",
     "output_type": "stream",
     "text": [
      "SOR converged in 3797 iterations to 0.0009987117944452034\n"
     ]
    }
   ],
   "source": [
    "# %%timeit \n",
    "plt.ioff()\n",
    "\n",
    "nsave = 10\n",
    "\n",
    "Max_iter=10000\n",
    "tol = 1e-3\n",
    "Nmax = 100\n",
    "omega = 1.99\n",
    "\n",
    "Phi = np.zeros((Nmax, Nmax), dtype=np.float64)\n",
    "Phi_old = np.zeros_like(Phi)\n",
    "residual = np.zeros_like(Phi)\n",
    "\n",
    "# initialize boundaries\n",
    "# everything starts out zero so nothing special for the grounded wires\n",
    "Phi[0, :] = 100     # wire at x=0 at 100 V\n",
    "\n",
    "for n_iter in range(Max_iter):\n",
    "    Phi_old[:, :] = Phi\n",
    "    Phi = Laplace_Gauss_Seidel_odd_even(Phi)\n",
    "    residual[:, :] = Phi - Phi_old\n",
    "    DeltaPhi = np.linalg.norm(residual)\n",
    "    if DeltaPhi < tol:\n",
    "        print(\"SOR converged in {0} iterations to {1}\".format(n_iter+1, DeltaPhi))\n",
    "        plot_contour(Phi, \"wire_SOR/phi_{0:08d}.png\".format(n_iter))\n",
    "        plot_surf(Phi, \"./wire_SOR_surf/phi_{0:08d}.png\".format(n_iter),\n",
    "                  elevation=40, azimuth=-65)\n",
    "        break\n",
    "    # SOR\n",
    "    Phi[:, :] = Phi_old + omega*residual # = omega*Phi + (1-omega)*Phi_old\n",
    "    \n",
    "    if n_iter % nsave == 0:\n",
    "        print(\"Iteration {0}\".format(n_iter), end=\"\\r\")\n",
    "        plot_contour(Phi, \"./wire_SOR/phi_{0:08d}.png\".format(n_iter))\n",
    "        plot_surf(Phi, \"./wire_SOR_surf/phi_{0:08d}.png\".format(n_iter),\n",
    "                  elevation=40, azimuth=-65)\n",
    "\n",
    "else:\n",
    "    print(\"SOR did NOT converge in {0} iterations, DeltaPhi={1}\".format(n_iter+1, DeltaPhi))\n",
    "    \n",
    "plt.ion()"
   ]
  },
  {
   "cell_type": "markdown",
   "metadata": {},
   "source": [
    "### Tuning the code\n",
    "Alternative implementation that uses more in-place array operations. (However, only marginally faster (~5%) than the previous solution.)"
   ]
  },
  {
   "cell_type": "code",
   "execution_count": 28,
   "metadata": {
    "scrolled": false,
    "slideshow": {
     "slide_type": "subslide"
    }
   },
   "outputs": [
    {
     "name": "stdout",
     "output_type": "stream",
     "text": [
      "SOR converged in 3797 iterations to 0.0009987117944247595\n",
      "SOR converged in 3797 iterations to 0.0009987117944247595\n",
      "SOR converged in 3797 iterations to 0.0009987117944247595\n",
      "SOR converged in 3797 iterations to 0.0009987117944247595\n",
      "SOR converged in 3797 iterations to 0.0009987117944247595\n",
      "SOR converged in 3797 iterations to 0.0009987117944247595\n",
      "SOR converged in 3797 iterations to 0.0009987117944247595\n",
      "SOR converged in 3797 iterations to 0.0009987117944247595\n",
      "602 ms ± 24.7 ms per loop (mean ± std. dev. of 7 runs, 1 loop each)\n"
     ]
    }
   ],
   "source": [
    "%%timeit \n",
    "\n",
    "\n",
    "Max_iter=10000\n",
    "tol = 1e-3\n",
    "Nmax = 100\n",
    "omega = 1.99\n",
    "\n",
    "Phi = np.zeros((Nmax, Nmax), dtype=np.float64)\n",
    "Phi_old = np.zeros_like(Phi)\n",
    "\n",
    "# initialize boundaries\n",
    "# everything starts out zero so nothing special for the grounded wires\n",
    "Phi[0, :] = 100     # wire at x=0 at 100 V\n",
    "\n",
    "for n_iter in range(Max_iter):\n",
    "    Phi_old[:, :] = Phi\n",
    "    Phi = Laplace_Gauss_Seidel_odd_even(Phi)\n",
    "    DeltaPhi = np.linalg.norm(Phi - Phi_old)\n",
    "    if DeltaPhi < tol:\n",
    "        print(\"SOR converged in {0} iterations to {1}\".format(n_iter+1, DeltaPhi))\n",
    "        break\n",
    "    # SOR\n",
    "    # Phi[:, :] = Phi_old + omega*residual  = omega*Phi + (1-omega)*Phi_old\n",
    "    Phi *= omega\n",
    "    Phi += (1-omega)*Phi_old\n",
    "    \n",
    "    if n_iter % 100 == 0:\n",
    "        print(\"Iteration {0}\".format(n_iter), end=\"\\r\")\n",
    "else:\n",
    "    print(\"SOR did NOT converge in {0} iterations, DeltaPhi={1}\".format(n_iter+1, DeltaPhi))\n",
    "    "
   ]
  },
  {
   "cell_type": "markdown",
   "metadata": {
    "slideshow": {
     "slide_type": "subslide"
    }
   },
   "source": [
    "## Simple example of Poisson's equation: Wire and charge\n",
    "Add a positive charge and a negative charge in the box.\n",
    "\n",
    "Now we need to solve **Poisson's equation**.\n",
    "\n",
    "$$\n",
    "\\nabla^2 \\Phi(x, y, z) = -4\\pi\\rho(x, y, z)\\\\\n",
    "$$"
   ]
  },
  {
   "cell_type": "markdown",
   "metadata": {},
   "source": [
    "Finite difference solution:\n",
    "$$\n",
    "\\Phi_{i,j} = \\frac{1}{4}\\Big(\\Phi_{i+1,j} + \\Phi_{i-1,j} + \\Phi_{i,j+1} + \\Phi_{i,j-1}\\Big)\n",
    "     + \\pi\\rho_{i,j} \\Delta^2\n",
    "$$"
   ]
  },
  {
   "cell_type": "markdown",
   "metadata": {},
   "source": [
    "### Poisson Solver \n",
    "Modify the Laplace solvers to now solve Poisson's equation:"
   ]
  },
  {
   "cell_type": "code",
   "execution_count": 14,
   "metadata": {},
   "outputs": [],
   "source": [
    "import numpy as np\n",
    "\n",
    "def Poisson_Jacobi(Phi, rho, Delta=1.):\n",
    "    \"\"\"One update in the Jacobi algorithm for Poisson's equation\"\"\"    \n",
    "    Phi[1:-1, 1:-1] = 0.25*(Phi[2:, 1:-1] + Phi[0:-2, 1:-1] + Phi[1:-1, 2:] + Phi[1:-1, 0:-2]) \\\n",
    "                      + np.pi * Delta**2 * rho[1:-1, 1:-1]\n",
    "    return Phi\n",
    "\n",
    "def Poisson_Gauss_Seidel(Phi, rho, Delta=1.):\n",
    "    \"\"\"One update in the Gauss-Seidel algorithm for Poisson's equation\"\"\"    \n",
    "    Nx, Ny = Phi.shape\n",
    "    for xi in range(1, Nx-1):\n",
    "        for yj in range(1, Ny-1):\n",
    "            Phi[xi, yj] = 0.25*(Phi[xi+1, yj] + Phi[xi-1, yj]\n",
    "                                + Phi[xi, yj+1] + Phi[xi, yj-1]) \\\n",
    "                            + np.pi * Delta**2 * rho[xi, yj]\n",
    "    return Phi\n",
    "\n",
    "def Poisson_Gauss_Seidel_odd_even(Phi, rho, Delta=1.):\n",
    "    \"\"\"One update in the Gauss-Seidel algorithm on odd or even fields\"\"\"\n",
    "    a = np.pi * Delta**2\n",
    "    # odd update (uses old even)\n",
    "    Phi[1:-2:2, 1:-2:2] = 0.25*(Phi[2::2, 1:-2:2] + Phi[0:-2:2, 1:-2:2] \n",
    "                                + Phi[1:-2:2, 2::2] + Phi[1:-2:2, 0:-2:2]) + a * rho[1:-2:2, 1:-2:2]\n",
    "    Phi[2:-1:2, 2:-1:2] = 0.25*(Phi[3::2, 2:-1:2] + Phi[1:-2:2, 2:-1:2] \n",
    "                                + Phi[2:-1:2, 3::2] + Phi[2:-1:2, 1:-2:2]) + a * rho[2:-1:2, 2:-1:2]\n",
    "    \n",
    "    # even update (uses new odd)\n",
    "    Phi[1:-2:2, 2:-1:2] = 0.25*(Phi[2::2, 2:-1:2] + Phi[0:-2:2, 2:-1:2] \n",
    "                                + Phi[1:-2:2, 3::2] + Phi[1:-2:2, 1:-1:2]) + a * rho[1:-2:2, 2:-1:2]\n",
    "    Phi[2:-1:2, 1:-2:2] = 0.25*(Phi[3::2, 1:-2:2] + Phi[1:-2:2, 1:-2:2] \n",
    "                                + Phi[2:-1:2, 2::2] + Phi[2:-1:2, 0:-2:2]) + a * rho[2:-1:2, 1:-2:2]\n",
    "    return Phi"
   ]
  },
  {
   "cell_type": "markdown",
   "metadata": {},
   "source": [
    "### Solve wire with dipole "
   ]
  },
  {
   "cell_type": "markdown",
   "metadata": {},
   "source": [
    "Solve the Poisson problem with SOR (as above), but now employing the Poisson solvers (we are using the fastest one that we have):"
   ]
  },
  {
   "cell_type": "code",
   "execution_count": 15,
   "metadata": {},
   "outputs": [
    {
     "name": "stdout",
     "output_type": "stream",
     "text": [
      "SOR converged in 3823 iterations to 0.0009991605868815044\n"
     ]
    }
   ],
   "source": [
    "Nmax = 100\n",
    "Max_iter = 10000\n",
    "omega = 1.99\n",
    "\n",
    "Phi = np.zeros((Nmax, Nmax), dtype=np.float64)\n",
    "Phi_old = np.zeros_like(Phi)\n",
    "rho = np.zeros_like(Phi)\n",
    "\n",
    "# initialize boundaries\n",
    "# everything starts out zero so nothing special for the grounded wires\n",
    "Phi[:, 0] = 100     # wire at y=0 at 100 V\n",
    "rho[25:27, 39:41] = 5.0 \n",
    "rho[75:77, 39:41] = -5.0 \n",
    "\n",
    "Delta = 1.0\n",
    "\n",
    "for n_iter in range(Max_iter):\n",
    "    Phi_old[:, :] = Phi\n",
    "    Phi = Poisson_Gauss_Seidel_odd_even(Phi, rho, Delta=Delta)\n",
    "    residual[:, :] = Phi - Phi_old\n",
    "    DeltaPhi = np.linalg.norm(residual)\n",
    "    if DeltaPhi < tol:\n",
    "        print(\"SOR converged in {0} iterations to {1}\".format(n_iter+1, DeltaPhi))\n",
    "        break\n",
    "    # SOR\n",
    "    Phi[:, :] = Phi_old + omega*residual # = omega*Phi + (1-omega)*Phi_old\n",
    "else:\n",
    "    print(\"SOR did NOT converge in {0} iterations, DeltaPhi={1}\".format(n_iter+1, DeltaPhi))\n",
    "\n",
    "    "
   ]
  },
  {
   "cell_type": "code",
   "execution_count": 16,
   "metadata": {},
   "outputs": [
    {
     "data": {
      "application/vnd.jupyter.widget-view+json": {
       "model_id": "798f842ddc6845debe1abfac859b44e4",
       "version_major": 2,
       "version_minor": 0
      },
      "text/plain": [
       "Canvas(toolbar=Toolbar(toolitems=[('Home', 'Reset original view', 'home', 'home'), ('Back', 'Back to previous …"
      ]
     },
     "metadata": {},
     "output_type": "display_data"
    },
    {
     "data": {
      "text/plain": [
       "<matplotlib.axes._subplots.Axes3DSubplot at 0x120085550>"
      ]
     },
     "execution_count": 16,
     "metadata": {},
     "output_type": "execute_result"
    }
   ],
   "source": [
    "plot_surf(Phi, elevation=40, azimuth=20)"
   ]
  },
  {
   "cell_type": "markdown",
   "metadata": {},
   "source": [
    "#### Make a movie "
   ]
  },
  {
   "cell_type": "markdown",
   "metadata": {},
   "source": [
    "The following code can write partial solutions as images. To make it a bit more comfortable, we generate a directory for the images from Python:"
   ]
  },
  {
   "cell_type": "code",
   "execution_count": 25,
   "metadata": {
    "collapsed": true
   },
   "outputs": [],
   "source": [
    "import os\n",
    "\n",
    "def makedir(dirname):\n",
    "    try:\n",
    "        os.mkdir(dirname)\n",
    "    except OSError:\n",
    "        pass\n",
    "    return dirname"
   ]
  },
  {
   "cell_type": "code",
   "execution_count": 27,
   "metadata": {},
   "outputs": [
    {
     "name": "stdout",
     "output_type": "stream",
     "text": [
      "SOR converged in 3823 iterations to 0.0009991605868815044\n",
      "Images in dipole_wire and dipole_wire_3d\n"
     ]
    }
   ],
   "source": [
    "plt.ioff()\n",
    "\n",
    "nsave = 100\n",
    "\n",
    "Nmax = 100\n",
    "Max_iter = 10000\n",
    "omega = 1.99\n",
    "\n",
    "dirname = makedir(\"dipole_wire\")\n",
    "filename = os.path.join(dirname, \"phi_{0:08d}.png\")\n",
    "\n",
    "dirname3 = makedir(\"dipole_wire_3d\")\n",
    "filename3 = os.path.join(dirname3, \"phi_{0:08d}.png\")\n",
    "\n",
    "Phi = np.zeros((Nmax, Nmax), dtype=np.float64)\n",
    "Phi_old = np.zeros_like(Phi)\n",
    "rho = np.zeros_like(Phi)\n",
    "\n",
    "# initialize boundaries\n",
    "# everything starts out zero so nothing special for the grounded wires\n",
    "Phi[:, 0] = 100     # wire at y=0 at 100 V\n",
    "rho[25:27, 39:41] = 5.0 \n",
    "rho[75:77, 39:41] = -5.0 \n",
    "\n",
    "Delta = 1.0\n",
    "\n",
    "for n_iter in range(Max_iter):\n",
    "    Phi_old[:, :] = Phi\n",
    "    Phi = Poisson_Gauss_Seidel_odd_even(Phi, rho, Delta=Delta)\n",
    "    residual[:, :] = Phi - Phi_old\n",
    "    DeltaPhi = np.linalg.norm(residual)\n",
    "    if DeltaPhi < tol:\n",
    "        print(\"SOR converged in {0} iterations to {1}\".format(n_iter+1, DeltaPhi))\n",
    "        plot_contour(Phi, filename=filename.format(n_iter))\n",
    "        break\n",
    "    # SOR\n",
    "    Phi[:, :] = Phi_old + omega*residual # = omega*Phi + (1-omega)*Phi_old\n",
    "    \n",
    "    if n_iter % nsave == 0:\n",
    "        print(\"Iteration {0}\".format(n_iter), end=\"\\r\")\n",
    "        plot_contour(Phi, filename=filename.format(n_iter))\n",
    "        plot_surf(Phi, filename=filename3.format(n_iter),\n",
    "                  elevation=40, azimuth=20)\n",
    "else:\n",
    "    print(\"SOR did NOT converge in {0} iterations, DeltaPhi={1}\".format(n_iter+1, DeltaPhi))\n",
    " \n",
    "print(\"Images in {0} and {1}\".format(dirname, dirname3))\n",
    "plt.ion()\n",
    "    "
   ]
  },
  {
   "cell_type": "markdown",
   "metadata": {},
   "source": [
    "## Charge density \n",
    "Given a potential $\\Phi$, Poisson's equation gives the charge density:\n",
    "$$\n",
    "\\rho(\\mathbf{x}) = -\\frac{1}{4\\pi} \\nabla^2\\Phi(\\mathbf{x})\n",
    "$$"
   ]
  },
  {
   "cell_type": "markdown",
   "metadata": {},
   "source": [
    "Discretized Laplacian\n",
    "$$\n",
    "\\nabla^2 \\Phi \\approx \\frac{\\Phi(x+\\Delta x,y) + \\Phi(x-\\Delta x,y) +\\Phi(x,y+\\Delta y) +\\, \\Phi(x,y-\\Delta y) - 4\\Phi(x, y)}{\\Delta^2}\n",
    "$$"
   ]
  },
  {
   "cell_type": "code",
   "execution_count": 17,
   "metadata": {},
   "outputs": [],
   "source": [
    "def laplacian2d(f, Delta=1):\n",
    "    \"\"\"Finite difference approximation of Del^2 f.\n",
    "        \n",
    "    Arguments\n",
    "    ---------\n",
    "    f : M x N matrix\n",
    "    Delta : float\n",
    "    \n",
    "    Returns\n",
    "    -------\n",
    "    M x N matrix, boundaries set to 0\n",
    "    \"\"\"\n",
    "    \n",
    "    L = np.zeros_like(f, dtype=np.float64)\n",
    "    L[1:-1, 1:-1] = f[1:-1, 2:] + f[1:-1, 0:-2] + f[2:, 1:-1] + f[0:-2, 1:-1] - 4*f[1:-1, 1:-1]\n",
    "    return L/Delta**2\n",
    "\n",
    "def laplacian2dsimple(f, Delta=1):\n",
    "    L = np.zeros_like(f, dtype=np.float64)\n",
    "    for i in range(1, L.shape[0]-1):\n",
    "        for j in range(1, L.shape[1]-1):\n",
    "            L[i, j] = f[i, j+1] + f[i, j-1] + f[i+1, j] + f[i-1, j] - 4*f[i, j]\n",
    "    return L/Delta**2"
   ]
  },
  {
   "cell_type": "markdown",
   "metadata": {},
   "source": [
    "Compute the charge density from the converged potential\n",
    "$$\n",
    "\\rho(x, y) = -\\frac{1}{4\\pi} \\nabla^2 \\Phi(x, y)\n",
    "$$"
   ]
  },
  {
   "cell_type": "code",
   "execution_count": 19,
   "metadata": {},
   "outputs": [],
   "source": [
    "rhox = - laplacian2d(Phi)/(4*np.pi)"
   ]
  },
  {
   "cell_type": "markdown",
   "metadata": {},
   "source": [
    "Does `rhox` show the charges of $+5$ and $-5$ that we introduced with the charge density $\\rho$?"
   ]
  },
  {
   "cell_type": "code",
   "execution_count": 20,
   "metadata": {},
   "outputs": [
    {
     "name": "stdout",
     "output_type": "stream",
     "text": [
      "-5.000004186724989\n",
      "5.000000000000001\n"
     ]
    }
   ],
   "source": [
    "print(rhox.min())\n",
    "print(rhox.max())"
   ]
  },
  {
   "cell_type": "markdown",
   "metadata": {},
   "source": [
    "Indeed, the point charges are recovered from the potential."
   ]
  },
  {
   "cell_type": "markdown",
   "metadata": {},
   "source": [
    "Plot the charge density:"
   ]
  },
  {
   "cell_type": "code",
   "execution_count": 21,
   "metadata": {},
   "outputs": [
    {
     "data": {
      "application/vnd.jupyter.widget-view+json": {
       "model_id": "c8ac8b71a3d44993b13f633817db60f9",
       "version_major": 2,
       "version_minor": 0
      },
      "text/plain": [
       "Canvas(toolbar=Toolbar(toolitems=[('Home', 'Reset original view', 'home', 'home'), ('Back', 'Back to previous …"
      ]
     },
     "metadata": {},
     "output_type": "display_data"
    },
    {
     "data": {
      "text/plain": [
       "<matplotlib.axes._subplots.AxesSubplot at 0x12078e940>"
      ]
     },
     "execution_count": 21,
     "metadata": {},
     "output_type": "execute_result"
    }
   ],
   "source": [
    "plot_contour(rhox, zlabel=r\"charge density $\\rho$\")"
   ]
  },
  {
   "cell_type": "markdown",
   "metadata": {},
   "source": [
    "The position of the point charges are found correctly but the charge on the wire appear to be absent. This is expected because the Laplacian is not defined on the boundary. If you wanted to see the charge on the wire you would need to include it inside the integration domain and also assign a thickness (e.g., one or two grid cells)."
   ]
  },
  {
   "cell_type": "markdown",
   "metadata": {},
   "source": [
    "The 3D plot shows the \"point\" charges as spikes of the size of one grid cell:"
   ]
  },
  {
   "cell_type": "code",
   "execution_count": 22,
   "metadata": {
    "scrolled": true
   },
   "outputs": [
    {
     "data": {
      "application/vnd.jupyter.widget-view+json": {
       "model_id": "5758b8cde76f41938f485270876eba9a",
       "version_major": 2,
       "version_minor": 0
      },
      "text/plain": [
       "Canvas(toolbar=Toolbar(toolitems=[('Home', 'Reset original view', 'home', 'home'), ('Back', 'Back to previous …"
      ]
     },
     "metadata": {},
     "output_type": "display_data"
    },
    {
     "data": {
      "text/plain": [
       "<matplotlib.axes._subplots.Axes3DSubplot at 0x120cea748>"
      ]
     },
     "execution_count": 22,
     "metadata": {},
     "output_type": "execute_result"
    }
   ],
   "source": [
    "plot_surf(rhox, zlabel=r\"charge density $\\rho$\", elevation=20, azimuth=20, offset=-3)"
   ]
  },
  {
   "cell_type": "markdown",
   "metadata": {},
   "source": [
    "The position of the point charges are found correctly but the charge on the wire appear to be absent. The problem is that the Laplacian is not defined on the boundary.\n",
    "\n",
    "Also, if the charges are only defined on a single grid cell then the 3D visualization is sometimes not able to show it correctly."
   ]
  },
  {
   "cell_type": "markdown",
   "metadata": {},
   "source": [
    "#### Testing the implementation of Laplacian \n",
    "\n",
    "Making sure that our fancy numpy-version of the Laplacian is producing the same results as the naive implementation with Python loops:"
   ]
  },
  {
   "cell_type": "code",
   "execution_count": 21,
   "metadata": {
    "collapsed": true
   },
   "outputs": [],
   "source": [
    "import numpy as np\n",
    "\n",
    "def test_laplacian2d():\n",
    "    ftest = np.random.random((200, 200))\n",
    "    assert np.allclose(laplacian2d(ftest), laplacian2dsimple(ftest))\n",
    "\n",
    "test_laplacian2d()"
   ]
  },
  {
   "cell_type": "code",
   "execution_count": null,
   "metadata": {
    "collapsed": true
   },
   "outputs": [],
   "source": []
  }
 ],
 "metadata": {
  "anaconda-cloud": {},
  "celltoolbar": "Slideshow",
  "kernelspec": {
   "display_name": "Python 3",
   "language": "python",
   "name": "python3"
  },
  "language_info": {
   "codemirror_mode": {
    "name": "ipython",
    "version": 3
   },
   "file_extension": ".py",
   "mimetype": "text/x-python",
   "name": "python",
   "nbconvert_exporter": "python",
   "pygments_lexer": "ipython3",
   "version": "3.6.7"
  }
 },
 "nbformat": 4,
 "nbformat_minor": 2
}
