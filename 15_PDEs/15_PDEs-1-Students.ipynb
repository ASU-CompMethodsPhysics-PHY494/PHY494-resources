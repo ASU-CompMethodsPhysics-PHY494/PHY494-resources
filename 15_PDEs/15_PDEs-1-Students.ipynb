{
 "cells": [
  {
   "cell_type": "markdown",
   "metadata": {},
   "source": [
    "# 15 Partial Differential Equations — 1 (Students)\n",
    "\n",
    "## Solving Laplace's or Poisson's equation\n",
    "\n",
    "**Poisson's equation** for the electric potential $\\Phi(\\mathbf{r})$ and the charge density $\\rho(\\mathbf{r})$:\n",
    "\n",
    "$$\n",
    "\\nabla^2 \\Phi(x, y, z) = -4\\pi\\rho(x, y, z)\\\\\n",
    "$$"
   ]
  },
  {
   "cell_type": "markdown",
   "metadata": {},
   "source": [
    "For a region of space without charges ($\\rho = 0$) this reduces to **Laplace's equation**\n",
    "\n",
    "$$\n",
    "\\nabla^2 \\Phi(x, y, z) = 0\n",
    "$$\n"
   ]
  },
  {
   "cell_type": "markdown",
   "metadata": {},
   "source": [
    "Solutions depend on the **boundary conditions**: the value of the potential on the *boundary* (or the electric field normal to the surface, which directly follows from the charge distribution)."
   ]
  },
  {
   "cell_type": "markdown",
   "metadata": {},
   "source": [
    "### Example: 2D Laplace equation\n",
    "$$\n",
    "\\frac{\\partial^2 \\Phi(x,y)}{\\partial x^2} + \\frac{\\partial^2 \\Phi(x,y)}{\\partial y^2} = 0\n",
    "$$\n",
    "(\"elliptic PDE\")"
   ]
  },
  {
   "cell_type": "markdown",
   "metadata": {},
   "source": [
    "Boundary conditions:\n",
    "* square area surrounded by wires\n",
    "* three wires at ground (0 V), one wire at 100 V"
   ]
  },
  {
   "cell_type": "markdown",
   "metadata": {},
   "source": [
    "## Finite difference algorithm for Poisson's equation\n",
    "Discretize space on a lattice (2D) and solve for $\\Phi$ on each lattice site."
   ]
  },
  {
   "cell_type": "markdown",
   "metadata": {},
   "source": [
    "Taylor-expansion of the four neighbors of $\\Phi(x, y)$:\n",
    "\n",
    "\\begin{align}\n",
    "\\Phi(x \\pm \\Delta x, y) &= \\Phi(x, y) \\pm \\Phi_x \\Delta x + \\frac{1}{2} \\Phi_{xx} \\Delta x^2 + \\dots\\\\\n",
    "\\Phi(x, y \\pm \\Delta y) &= \\Phi(x, y) \\pm \\Phi_y \\Delta x + \\frac{1}{2} \\Phi_{yy} \\Delta x^2 + \\dots\\\\\n",
    "\\end{align}"
   ]
  },
  {
   "cell_type": "markdown",
   "metadata": {},
   "source": [
    "Add equations in pairs: odd terms cancel, and **central difference approximation** for 2nd order partial derivatives (to $\\mathcal{O}(\\Delta^4)$):\n",
    "\n",
    "\\begin{align}\n",
    "\\Phi_{xx}(x,y) = \\frac{\\partial^2 \\Phi}{\\partial x^2} & \\approx \n",
    "  \\frac{\\Phi(x+\\Delta x,y) + \\Phi(x-\\Delta x,y) - 2\\Phi(x,y)}{\\Delta x^2} \\\\\n",
    "\\Phi_{yy}(x,y) = \\frac{\\partial^2 \\Phi}{\\partial y^2} &\\approx \n",
    "  \\frac{\\Phi(x,y+\\Delta y) + \\Phi(x,y-\\Delta y) - 2\\Phi(x,y)}{\\Delta y^2}\n",
    "\\end{align}"
   ]
  },
  {
   "cell_type": "markdown",
   "metadata": {},
   "source": [
    "Take $x$ and $y$ grids of equal spacing $\\Delta$: Discretized Poisson equation\n",
    "\n",
    "$$\n",
    "\\Phi(x+\\Delta x,y) + \\Phi(x-\\Delta x,y) + \\Phi(x,y+\\Delta y) + \\Phi(x,y-\\Delta y) - 4\\Phi(x,y) = -4\\pi\\rho(x,y)\\,\\Delta^2\n",
    "$$"
   ]
  },
  {
   "cell_type": "markdown",
   "metadata": {},
   "source": [
    "Defines a system of $N_x \\times N_y$ simultaneous algebraic equations for $\\Phi_{ij}$ to be solved."
   ]
  },
  {
   "cell_type": "markdown",
   "metadata": {},
   "source": [
    "Can be solved directly via matrix approaches (and then is the best solution) but can be unwieldy for large grids."
   ]
  },
  {
   "cell_type": "markdown",
   "metadata": {},
   "source": [
    "Alternatively: **iterative solution**:\n",
    "\n",
    "$$\n",
    "4\\Phi(x,y) = \\Phi(x+\\Delta x,y) + \\Phi(x-\\Delta x,y) + \\Phi(x,y+\\Delta y) + \\Phi(x,y-\\Delta y) + 4\\pi\\rho(x,y)\\,\\Delta^2\n",
    "$$"
   ]
  },
  {
   "cell_type": "markdown",
   "metadata": {},
   "source": [
    "Or written for lattice sites $(i, j)$ where \n",
    "\n",
    "$$\n",
    "x = x_0 + i\\Delta\\quad\\text{and}\\quad y = y_0 + j\\Delta, \\quad 0 \\leq i,j < N_\\text{max}\n",
    "$$"
   ]
  },
  {
   "cell_type": "markdown",
   "metadata": {},
   "source": [
    "$$\n",
    "\\Phi_{i,j} = \\frac{1}{4}\\Big(\\Phi_{i+1,j} + \\Phi_{i-1,j} + \\Phi_{i,j+1} + \\Phi_{i,j-1}\\Big)\n",
    "     + \\pi\\rho(i\\Delta, j\\Delta) \\Delta^2\n",
    "$$"
   ]
  },
  {
   "cell_type": "markdown",
   "metadata": {},
   "source": [
    "* Converged solution at $(i, j)$ will be the average potential from the four neighbor sites + charge density contribution.\n",
    "* *Not a direct solution*: iterate and hope for convergence."
   ]
  },
  {
   "cell_type": "markdown",
   "metadata": {},
   "source": [
    "#### Jacobi method\n",
    "Do not change $\\Phi_{i,j}$ until a complete sweep has been completed."
   ]
  },
  {
   "cell_type": "markdown",
   "metadata": {},
   "source": [
    "#### Gauss-Seidel method\n",
    "Immediately use updated new values for $\\Phi_{i-1, j}$ and $\\Phi_{i, j-1}$ (if starting from $\\Phi_{1, 1}$).\n",
    "\n",
    "Leads to *accelerated convergence* and therefore *less round-off error* (but distorts symmetry of boundary conditions... hopefully irrelevant when converged but check!)"
   ]
  },
  {
   "cell_type": "markdown",
   "metadata": {},
   "source": [
    "## Example: wire in a box: Solution via relaxation (Gauss-Seidel) "
   ]
  },
  {
   "cell_type": "markdown",
   "metadata": {},
   "source": [
    "Solve the box-wire problem on a lattice.\n",
    "\n",
    "Note: $\\rho=0$ inside the box."
   ]
  },
  {
   "cell_type": "code",
   "execution_count": null,
   "metadata": {
    "collapsed": true
   },
   "outputs": [],
   "source": [
    "import numpy as np\n",
    "import matplotlib.pyplot as plt\n",
    "from mpl_toolkits.mplot3d import Axes3D\n",
    "#%matplotlib inline\n",
    "%matplotlib notebook"
   ]
  },
  {
   "cell_type": "markdown",
   "metadata": {},
   "source": [
    "* set boundary conditions\n",
    "* Implement Gauss-Seidel algorithm\n",
    "* visualize solution\n",
    "* does it make sense?\n",
    "* try higher `Max_iter`"
   ]
  },
  {
   "cell_type": "code",
   "execution_count": null,
   "metadata": {
    "collapsed": true
   },
   "outputs": [],
   "source": [
    "Nmax = 100\n",
    "Max_iter = 70\n",
    "Phi = np.zeros((Nmax, Nmax), dtype=np.float64)\n",
    "\n",
    "# initialize boundaries\n",
    "# everything starts out zero so nothing special for the grounded wires\n",
    "raise NotImplementedError     # wire at y=0 at 100 V\n",
    "\n",
    "for n_iter in range(Max_iter):\n",
    "    for xi in range(1, Nmax-1):\n",
    "        for yj in range(1, Nmax-1):\n",
    "            raise NotImplementedError"
   ]
  },
  {
   "cell_type": "code",
   "execution_count": null,
   "metadata": {
    "collapsed": false,
    "scrolled": true
   },
   "outputs": [],
   "source": [
    "# plot Phi(x,y)\n",
    "x = np.arange(Nmax)\n",
    "y = np.arange(Nmax//2)   # only show data up to y=50\n",
    "X, Y = np.meshgrid(x, y)\n",
    "\n",
    "Z = Phi[X, Y]"
   ]
  },
  {
   "cell_type": "markdown",
   "metadata": {},
   "source": [
    "### Simple wireframe plot "
   ]
  },
  {
   "cell_type": "code",
   "execution_count": null,
   "metadata": {
    "collapsed": false
   },
   "outputs": [],
   "source": [
    "fig = plt.figure()\n",
    "ax = fig.add_subplot(111, projection='3d')\n",
    "ax.plot_wireframe(X, Y, Z)\n",
    "\n",
    "ax.set_xlabel('X')\n",
    "ax.set_ylabel('Y')\n",
    "ax.set_zlabel(r'potential $\\Phi$ (V)')"
   ]
  },
  {
   "cell_type": "markdown",
   "metadata": {},
   "source": [
    "### Surfaces and 2D contours "
   ]
  },
  {
   "cell_type": "code",
   "execution_count": null,
   "metadata": {
    "collapsed": false,
    "scrolled": true
   },
   "outputs": [],
   "source": [
    "fig = plt.figure()\n",
    "ax = fig.add_subplot(111, projection='3d')\n",
    "surf = ax.plot_surface(X, Y, Z, cmap=plt.cm.coolwarm, rstride=2, cstride=2, alpha=0.3)\n",
    "\n",
    "cset = ax.contourf(X, Y, Z, zdir='z', offset=-50, cmap=plt.cm.coolwarm)\n",
    "\n",
    "ax.set_xlabel('X')\n",
    "ax.set_ylabel('Y')\n",
    "ax.set_zlabel(r'potential $\\Phi$ (V)')\n",
    "ax.set_zlim(-50, 100)\n",
    "\n",
    "fig.colorbar(surf, shrink=0.5, aspect=5)"
   ]
  },
  {
   "cell_type": "markdown",
   "metadata": {},
   "source": [
    "## Example: Parallel plate capacitor in a box\n",
    "* two thin sheets of conducting materials at +100 V and -100 V\n",
    "* width 50, distance 20, box 100\n",
    "* box is grounded"
   ]
  },
  {
   "cell_type": "markdown",
   "metadata": {},
   "source": [
    "### Implement solution with Gauss-Seidel\n",
    "* implement boundary conditions (plates!)\n",
    "* Gauss-Seidel algorithm\n",
    "* convergence criterion: change in Frobenius norm (`np.linalg.norm(A)` = $||A|| = \\sqrt{\\sum_{i,j} a_{ij}^2}$) should be less than tol:\n",
    "  $$\n",
    "  || \\Phi^{\\text{new}} - \\Phi^{\\text{old}} || < \\epsilon\n",
    "  $$"
   ]
  },
  {
   "cell_type": "code",
   "execution_count": null,
   "metadata": {
    "collapsed": false
   },
   "outputs": [],
   "source": [
    "Nmax = 100\n",
    "Max_iter = 200\n",
    "tol = 1e-2\n",
    "Phi = np.zeros((Nmax, Nmax), dtype=np.float64)\n",
    "Phi_old = np.zeros_like(Phi)\n",
    "\n",
    "def set_boundaries(Phi, w=50, d=20):\n",
    "    # box (edges) always at 0 V\n",
    "    Phi[:, 0] = Phi[:, -1] = 0\n",
    "    Phi[0, :] = Phi[-1, :] = 0\n",
    "    # plate 1 always at +100 V, plate 2 always -100V\n",
    "    Nx, Ny = Phi.shape\n",
    "    \n",
    "    raise NotImplementedError\n",
    "    \n",
    "    return Phi\n",
    "    \n",
    "set_boundaries(Phi)\n",
    "Phi_old[:, :] = Phi\n",
    "print(\"Starting...\")\n",
    "for n_iter in range(Max_iter):\n",
    "    if n_iter % 10 == 0:\n",
    "        print(\"Iteration {0:5d}\".format(n_iter), end=\"\\r\")\n",
    "    for xi in range(1, Nmax-1):\n",
    "        for yj in range(1, Nmax-1):\n",
    "            raise NotImplementeError\n",
    "            \n",
    "    # enforce boundary conditions\n",
    "    set_boundaries(Phi)\n",
    "    \n",
    "    # check convergence (using the Frobenius matrix norm, delta_norm)\n",
    "    \n",
    "    raise NotImplementeError\n",
    "    \n",
    "    Phi_old[:, :] = Phi\n",
    "else:\n",
    "    print(\"\\nDid not converge in {0} steps, Delta FrobeniusNorm(Phi) = {1} \"\n",
    "          \" > {2}\".format(n_iter, delta_norm, tol))"
   ]
  },
  {
   "cell_type": "markdown",
   "metadata": {},
   "source": [
    "### Check convergence and Visualize\n",
    "* check initial results\n",
    "* increase `Max_iter` if necessary"
   ]
  },
  {
   "cell_type": "code",
   "execution_count": null,
   "metadata": {
    "collapsed": true
   },
   "outputs": [],
   "source": [
    "x = np.arange(Nmax)\n",
    "y = np.arange(Nmax)\n",
    "X, Y = np.meshgrid(x, y)\n",
    "\n",
    "Z = Phi[X, Y]"
   ]
  },
  {
   "cell_type": "code",
   "execution_count": null,
   "metadata": {
    "collapsed": false,
    "scrolled": false
   },
   "outputs": [],
   "source": [
    "fig = plt.figure()\n",
    "ax = fig.add_subplot(111, projection='3d')\n",
    "surf = ax.plot_surface(X, Y, Z, cmap=plt.cm.coolwarm, rstride=2, cstride=2, alpha=0.3)\n",
    "\n",
    "cset = ax.contour(X, Y, Z, 20, zdir='z', offset=-100, cmap=plt.cm.coolwarm)\n",
    "\n",
    "ax.set_xlabel('X')\n",
    "ax.set_ylabel('Y')\n",
    "ax.set_zlabel(r'potential $\\Phi$ (V)')\n",
    "ax.set_zlim(-110, 100)\n",
    "\n",
    "fig.colorbar(surf, shrink=0.5, aspect=5)"
   ]
  },
  {
   "cell_type": "markdown",
   "metadata": {},
   "source": [
    "## Successive Over Relaxation (SOR)\n",
    "Accelerate convergence with the scheme\n",
    "\n",
    "$$\n",
    "r_{i, j} = \\Phi_{i,j}^\\text{new} - \\Phi_{i, j}^\\text{old}\\\\\n",
    "\\Phi_{i,j}^\\text{new} = \\Phi_{i,j}^\\text{old} + \\omega r_{i,j}\n",
    "$$"
   ]
  },
  {
   "cell_type": "markdown",
   "metadata": {},
   "source": [
    "Values of $1 \\leq \\omega \\leq 2$ may work well, $\\omega > 2$ can lead to numerical instabilities. Experiment!"
   ]
  },
  {
   "cell_type": "markdown",
   "metadata": {},
   "source": [
    "### Implement SOR with the capacitor problem\n",
    "* use code above and add SOR\n",
    "* try $\\omega = 1.4$ for a start"
   ]
  },
  {
   "cell_type": "code",
   "execution_count": null,
   "metadata": {
    "collapsed": false,
    "scrolled": true
   },
   "outputs": [],
   "source": [
    "# plate capacitor with SOR\n",
    "raise NotImplementedError"
   ]
  },
  {
   "cell_type": "markdown",
   "metadata": {},
   "source": [
    "#### Check convergence and Visualize\n",
    "* Find $\\omega$ so that it converges in about half the number of steps than with Gauss-Seidel.\n",
    "* Visualize"
   ]
  },
  {
   "cell_type": "code",
   "execution_count": null,
   "metadata": {
    "collapsed": true
   },
   "outputs": [],
   "source": [
    "x = np.arange(Nmax)\n",
    "y = np.arange(Nmax)\n",
    "X, Y = np.meshgrid(x, y)\n",
    "\n",
    "Z = Phi[X, Y]"
   ]
  },
  {
   "cell_type": "code",
   "execution_count": null,
   "metadata": {
    "collapsed": false,
    "scrolled": false
   },
   "outputs": [],
   "source": [
    "fig = plt.figure()\n",
    "ax = fig.add_subplot(111, projection='3d')\n",
    "surf = ax.plot_surface(X, Y, Z, cmap=plt.cm.coolwarm, rstride=2, cstride=2, alpha=0.3)\n",
    "\n",
    "cset = ax.contour(X, Y, Z, 20, zdir='z', offset=-100, cmap=plt.cm.coolwarm)\n",
    "\n",
    "ax.set_xlabel('X')\n",
    "ax.set_ylabel('Y')\n",
    "ax.set_zlabel(r'potential $\\Phi$ (V)')\n",
    "ax.set_zlim(-110, 100)\n",
    "\n",
    "fig.colorbar(surf, shrink=0.5, aspect=5)"
   ]
  }
 ],
 "metadata": {
  "anaconda-cloud": {},
  "kernelspec": {
   "display_name": "Python [default]",
   "language": "python",
   "name": "python3"
  },
  "language_info": {
   "codemirror_mode": {
    "name": "ipython",
    "version": 3
   },
   "file_extension": ".py",
   "mimetype": "text/x-python",
   "name": "python",
   "nbconvert_exporter": "python",
   "pygments_lexer": "ipython3",
   "version": "3.5.2"
  }
 },
 "nbformat": 4,
 "nbformat_minor": 0
}
