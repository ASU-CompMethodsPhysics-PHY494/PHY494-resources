{
 "cells": [
  {
   "cell_type": "markdown",
   "metadata": {},
   "source": [
    "# Demystifying `meshgrid()`\n",
    "\n",
    "We use the Numpy [meshgrid()](https://docs.scipy.org/doc/numpy/reference/generated/numpy.meshgrid.html) function to plot 2D arrays but it can be a bit mysterious as to what the \"meshgrid\" actually does or look like.\n",
    "\n",
    "The docs say: \n",
    "\n",
    "_Return coordinate matrices from coordinate vectors._\n",
    "\n",
    "_Make N-D coordinate arrays for vectorized evaluations of N-D scalar/vector fields over N-D grids, given one-dimensional coordinate arrays x1, x2,..., xn._\n",
    "\n",
    "\n",
    "Things to keep in mind:\n",
    "- NumPy functions evaluate input _element-wise_ : `f(v)` with 1D array `v` gives `[f(v[0]), f(v[1]), ...]` (a 1D array) or for a 2D array `a`, `f(a)` produces a 2D array `[[f(a[0,0]), f(a[0, 1]),...], [f(a[1,0]), f(a[1, 1]),...]]`\n",
    "- matplotlib's 2D plotting functions take as input 2D arrays (together with optional arrays to specify coordinate values (as opposed to plotting \"by index\"))"
   ]
  },
  {
   "cell_type": "markdown",
   "metadata": {},
   "source": [
    "## Visualization with a Gaussian\n",
    "Testing with the initial condition, an isotropic 2D [Gaussian](http://mathworld.wolfram.com/GaussianFunction.html)\n",
    "\n",
    "$$\n",
    "g_2(x, y) = \\frac{1}{2\\pi\\sigma^2} \\exp\\left[-\\frac{(x-x_0)^2 + (y-y_0)^2}{2\\sigma^2}\\right]\n",
    "$$\n",
    "\n",
    "Note that the 2D Gaussian can be written as a product of two 1D Gaussians\n",
    "\n",
    "\\begin{align}\n",
    "g_2(x, y) &= \\frac{1}{\\sqrt{2\\pi\\sigma^2}} \\exp\\left[-\\frac{(x-x_0)^2}{2\\sigma^2}\\right] \\cdot \n",
    "          \\frac{1}{\\sqrt{2\\pi\\sigma^2}} \\exp\\left[-\\frac{(y-y_0)^2}{2\\sigma^2}\\right]\\\\\n",
    "        &= g_1(x) \\cdot g_1(y)\n",
    "\\end{align}\n",
    "\n",
    "Plot $g_2(x, y)$ by (1) constructing it from the product of $g_1$s and (2) from the explicit formula. Use [`np.meshgrid`](https://docs.scipy.org/doc/numpy/reference/generated/numpy.meshgrid.html) to evaluate the function on a grid.\n",
    "\n",
    "Use an *asymmetric* grid ($L_x=0.5, N_x=50$ and $L_y=1, N_y=100$) to clearly see the shape of the underlying arrays."
   ]
  },
  {
   "cell_type": "code",
   "execution_count": 1,
   "metadata": {},
   "outputs": [],
   "source": [
    "import numpy as np\n",
    "import matplotlib.pyplot as plt"
   ]
  },
  {
   "cell_type": "code",
   "execution_count": 2,
   "metadata": {},
   "outputs": [],
   "source": [
    "%matplotlib inline"
   ]
  },
  {
   "cell_type": "code",
   "execution_count": 3,
   "metadata": {},
   "outputs": [],
   "source": [
    "L = 0.5\n",
    "Lx, Ly = 0.5, 1\n",
    "Nx, Ny = 50, 100\n",
    "\n",
    "x = np.linspace(0, Lx, Nx+1)  # need N+1!\n",
    "y = np.linspace(0, Ly, Ny+1)\n",
    "X, Y = np.meshgrid(x, y)\n",
    "    \n",
    "def gaussian2D(x, y, u0=0.05, x0=None, y0=None, sigma=0.1*L):\n",
    "    x0 = np.mean(x) if x0 is None else x0\n",
    "    y0 = np.mean(y) if y0 is None else y0\n",
    "    return u0/(2*np.pi*sigma) * np.exp(-((x-x0)**2 + (y-y0)**2)/(2*sigma**2))\n",
    "\n",
    "def gaussian(x, u0=0.05, x0=None, sigma=0.1*L):\n",
    "    x0 = np.mean(x) if x0 is None else x0\n",
    "    return u0/np.sqrt(2*np.pi*sigma) * np.exp(-(x-x0)**2 / (2*sigma**2))"
   ]
  },
  {
   "cell_type": "markdown",
   "metadata": {},
   "source": [
    "#### Meshgrid "
   ]
  },
  {
   "cell_type": "code",
   "execution_count": 4,
   "metadata": {},
   "outputs": [
    {
     "name": "stdout",
     "output_type": "stream",
     "text": [
      "(51,) (101,)\n",
      "(101, 51) (101, 51)\n",
      "[[0.   0.01 0.02 ... 0.48 0.49 0.5 ]\n",
      " [0.   0.01 0.02 ... 0.48 0.49 0.5 ]\n",
      " [0.   0.01 0.02 ... 0.48 0.49 0.5 ]\n",
      " ...\n",
      " [0.   0.01 0.02 ... 0.48 0.49 0.5 ]\n",
      " [0.   0.01 0.02 ... 0.48 0.49 0.5 ]\n",
      " [0.   0.01 0.02 ... 0.48 0.49 0.5 ]]\n",
      "[[0.   0.   0.   ... 0.   0.   0.  ]\n",
      " [0.01 0.01 0.01 ... 0.01 0.01 0.01]\n",
      " [0.02 0.02 0.02 ... 0.02 0.02 0.02]\n",
      " ...\n",
      " [0.98 0.98 0.98 ... 0.98 0.98 0.98]\n",
      " [0.99 0.99 0.99 ... 0.99 0.99 0.99]\n",
      " [1.   1.   1.   ... 1.   1.   1.  ]]\n"
     ]
    }
   ],
   "source": [
    "print(x.shape, y.shape)\n",
    "print(X.shape, Y.shape)\n",
    "print(X)\n",
    "print(Y)"
   ]
  },
  {
   "cell_type": "markdown",
   "metadata": {},
   "source": [
    "Note that the two meshgrids have the same shape: `Nx x Ny`.\n",
    "\n",
    "They also contain either constant rows or constant columns. We will see how this is useful — but you can already imagine what happens if you \"overlay\" `X` and `Y` and read of the entries in each \"overlayed\" cell: the coordinates of the cell:"
   ]
  },
  {
   "cell_type": "code",
   "execution_count": 5,
   "metadata": {},
   "outputs": [
    {
     "data": {
      "text/plain": [
       "(0.0, 0.0)"
      ]
     },
     "execution_count": 5,
     "metadata": {},
     "output_type": "execute_result"
    }
   ],
   "source": [
    "X[0, 0], Y[0, 0]"
   ]
  },
  {
   "cell_type": "code",
   "execution_count": 6,
   "metadata": {},
   "outputs": [
    {
     "data": {
      "text/plain": [
       "(0.0, 0.01)"
      ]
     },
     "execution_count": 6,
     "metadata": {},
     "output_type": "execute_result"
    }
   ],
   "source": [
    "X[1, 0], Y[1, 0]"
   ]
  },
  {
   "cell_type": "markdown",
   "metadata": {},
   "source": [
    "#### Plot 1D Gaussians\n",
    "Plot the 1D Gaussians using the meshgrid components."
   ]
  },
  {
   "cell_type": "code",
   "execution_count": 7,
   "metadata": {},
   "outputs": [
    {
     "data": {
      "text/plain": [
       "(101, 51)"
      ]
     },
     "execution_count": 7,
     "metadata": {},
     "output_type": "execute_result"
    }
   ],
   "source": [
    "gaussian(X).shape"
   ]
  },
  {
   "cell_type": "code",
   "execution_count": 8,
   "metadata": {},
   "outputs": [
    {
     "data": {
      "image/png": "[encoded data removed]",
      "text/plain": [
       "<Figure size 432x288 with 1 Axes>"
      ]
     },
     "metadata": {
      "needs_background": "light"
     },
     "output_type": "display_data"
    }
   ],
   "source": [
    "fig = plt.figure()\n",
    "ax = fig.add_subplot(111)\n",
    "ax.contourf(X, Y, gaussian(X, sigma=0.1), 30)\n",
    "ax.set_aspect(1)\n",
    "plt.show()"
   ]
  },
  {
   "cell_type": "code",
   "execution_count": 9,
   "metadata": {},
   "outputs": [
    {
     "data": {
      "text/plain": [
       "(101, 51)"
      ]
     },
     "execution_count": 9,
     "metadata": {},
     "output_type": "execute_result"
    }
   ],
   "source": [
    "gaussian(Y).shape"
   ]
  },
  {
   "cell_type": "code",
   "execution_count": 10,
   "metadata": {},
   "outputs": [
    {
     "data": {
      "image/png": "[encoded data removed]",
      "text/plain": [
       "<Figure size 432x288 with 3 Axes>"
      ]
     },
     "metadata": {
      "needs_background": "light"
     },
     "output_type": "display_data"
    }
   ],
   "source": [
    "ax = plt.subplot(131)\n",
    "ax.contourf(X, Y, gaussian(X, sigma=0.1), 30)\n",
    "ax.set_aspect(1)\n",
    "ax = plt.subplot(132)\n",
    "ax.contourf(X, Y, gaussian(Y, sigma=0.1), 30)\n",
    "ax.set_aspect(1)\n",
    "ax = plt.subplot(133)\n",
    "ax.contourf(X, Y, gaussian(X, sigma=0.1) * gaussian(Y, sigma=0.1), 30)\n",
    "ax.set_aspect(1)"
   ]
  },
  {
   "cell_type": "markdown",
   "metadata": {},
   "source": [
    "#### 2D gaussian "
   ]
  },
  {
   "cell_type": "code",
   "execution_count": 11,
   "metadata": {},
   "outputs": [
    {
     "data": {
      "text/plain": [
       "(101, 51)"
      ]
     },
     "execution_count": 11,
     "metadata": {},
     "output_type": "execute_result"
    }
   ],
   "source": [
    "gaussian2D(X, Y).shape"
   ]
  },
  {
   "cell_type": "code",
   "execution_count": 12,
   "metadata": {},
   "outputs": [
    {
     "data": {
      "image/png": "[encoded data removed]",
      "text/plain": [
       "<Figure size 432x288 with 1 Axes>"
      ]
     },
     "metadata": {
      "needs_background": "light"
     },
     "output_type": "display_data"
    }
   ],
   "source": [
    "ax = plt.subplot(111)\n",
    "ax.contourf(X, Y, gaussian2D(X, Y, sigma=0.1), 30)\n",
    "ax.set_aspect(1)"
   ]
  },
  {
   "cell_type": "code",
   "execution_count": null,
   "metadata": {},
   "outputs": [],
   "source": []
  }
 ],
 "metadata": {
  "kernelspec": {
   "display_name": "Python 3",
   "language": "python",
   "name": "python3"
  },
  "language_info": {
   "codemirror_mode": {
    "name": "ipython",
    "version": 3
   },
   "file_extension": ".py",
   "mimetype": "text/x-python",
   "name": "python",
   "nbconvert_exporter": "python",
   "pygments_lexer": "ipython3",
   "version": "3.6.7"
  }
 },
 "nbformat": 4,
 "nbformat_minor": 2
}
