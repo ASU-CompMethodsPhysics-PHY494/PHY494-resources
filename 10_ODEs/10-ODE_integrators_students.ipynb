{
 "cells": [
  {
   "cell_type": "markdown",
   "metadata": {
    "nbpresent": {
     "id": "d9bbe253-ab6d-4ceb-b320-ead62a3824bc"
    },
    "slideshow": {
     "slide_type": "slide"
    }
   },
   "source": [
    "# 10 Ordinary differential equations – Integrators (Student's notebook)\n",
    "\n",
    "*This notebook contains incomplete code that you will complete during class.* Copy the notebook and the file `integrators.py` to your work directory and work on the copies. The complete notebook and file will be posted after class.\n",
    "\n",
    "More about integrators to solve ODEs.\n",
    "\n",
    "* Euler's Rule (and it's shortcomings) \n",
    "* Runge-Kutta methods"
   ]
  },
  {
   "cell_type": "markdown",
   "metadata": {
    "nbpresent": {
     "id": "4690e479-fe52-4a6c-a621-ce4cec8c31d9"
    },
    "slideshow": {
     "slide_type": "slide"
    }
   },
   "source": [
    "## Euler's Rule\n",
    "\n",
    "From the last lecture: Given the $n$-dimensional vectors from the ODE standard form\n",
    "\n",
    "$$\n",
    "\\frac{d\\mathbf{y}}{dt} = \\mathbf{f}(t, \\mathbf{y})\n",
    "$$\n",
    "the **Euler rule** amounts to\n",
    "\n",
    "\\begin{align}\n",
    "\\mathbf{f}(t, \\mathbf{y}) = \\frac{d\\mathbf{y}(t)}{dt} &\\approx \\frac{\\mathbf{y}(t_{n+1}) - \\mathbf{y}(t_n)}{h}\\\\\n",
    "\\mathbf{y}_{n+1} &\\approx \\mathbf{y}_n + h \\mathbf{f}(t_n, \\mathbf{y}_n) \\quad \\text{with} \\quad \\mathbf{y}_n := \\mathbf{y}(t_n)\n",
    "\\end{align}"
   ]
  },
  {
   "cell_type": "markdown",
   "metadata": {
    "nbpresent": {
     "id": "17486477-5350-4e27-8094-bb42f757068f"
    }
   },
   "source": [
    "Euler's rule cannot obtain high precision without very small $h$ but this leads to higher round-off error accumulation."
   ]
  },
  {
   "cell_type": "markdown",
   "metadata": {
    "nbpresent": {
     "id": "e94afeb8-94af-46ed-a79a-42dde1150b8d"
    },
    "slideshow": {
     "slide_type": "subslide"
    }
   },
   "source": [
    "### Euler's Rule applied to the 1D harmonic oscillator (theory)\n",
    "\n",
    "\\begin{alignat}{3}\n",
    "f^{(0)}(t, \\mathbf{y}) &= y^{(1)},\n",
    "    &\\quad y^{(0)}_0 &= x_0,\\\\\n",
    "f^{(1)}(t, \\mathbf{y}) &=   - \\frac{k}{m} y^{(0)},\n",
    "    &\\quad y^{(1)}_0 &= v_0.\n",
    "\\end{alignat}\n",
    "\n",
    "with $k=1$; $x_0 = 0$ and $v_0 = +1$.\n",
    "\n",
    "First step from $t=0$ to $t=h$:"
   ]
  },
  {
   "cell_type": "markdown",
   "metadata": {
    "nbpresent": {
     "id": "cd3d31b0-d353-47f7-a3e5-d8a850ea7fef"
    },
    "slideshow": {
     "slide_type": "subslide"
    }
   },
   "source": [
    "\\begin{align}\n",
    "y^{(0)}_1 &= y^{(0)}_0 + h y^{(1)}_0 = x_0 + v_0 h\\\\\n",
    "y^{(1)}_1 &= y^{(1)}_0 + h \\left(-\\frac{k}{m}y^{(0)}_0\\right) = v_0 + \\frac{-k x_0}{m} h \n",
    "\\end{align}"
   ]
  },
  {
   "cell_type": "markdown",
   "metadata": {
    "nbpresent": {
     "id": "f4bfd4b4-e0de-4d74-9f8d-0d19309d98a8"
    },
    "slideshow": {
     "slide_type": "fragment"
    }
   },
   "source": [
    "Compare to the equations of movement under a constant force (*ballistic motion*):\n",
    "\n",
    "$$\n",
    "x = x_0 + v_0 h + \\frac{1}{2} a h^2, \\quad v = v_0 + a h\n",
    "$$"
   ]
  },
  {
   "cell_type": "markdown",
   "metadata": {
    "nbpresent": {
     "id": "57190170-11bb-4660-ac86-046c08ce6935"
    },
    "slideshow": {
     "slide_type": "fragment"
    }
   },
   "source": [
    "In Euler, the position does not even contain the $h^2$ term, i.e., the acceleration only contributes *indirectly* via the velocity of the *next* step. (Remember: Euler's error is $\\mathcal{O}(h^2)$!)"
   ]
  },
  {
   "cell_type": "markdown",
   "metadata": {
    "nbpresent": {
     "id": "cd940455-913e-4d76-a45a-6b7c4ddbbd66"
    },
    "slideshow": {
     "slide_type": "subslide"
    }
   },
   "source": [
    "### Euler's Rule: Application to 3 oscillators (numerical)\n",
    "`git pull` new resources.\n",
    "\n",
    "Put the notebook `10-ODE_integrators-students.ipynb` *and* the module `integrators.py` into the same directory, for instance a work directory `~/PHY494/10_ODEs`.\n",
    "\n",
    "Open [integrators.py](https://github.com/ASU-CompMethodsPhysics-PHY494/PHY494-resources/blob/master/10_ODEs/integrators.py) to have a look at it: it contains **incomplete** code to integrate Newton's equations of motions for different forces and with different integrators (based on the work done in the last lecture)."
   ]
  },
  {
   "cell_type": "markdown",
   "metadata": {
    "nbpresent": {
     "id": "a11afba5-7eb7-4ef6-b5d9-4724bbd95102"
    }
   },
   "source": [
    "#### Problem: Add forces and potential energies to `integrators.py`\n",
    "You need to complete the functions `F_anharmonic()` and `F_power()`.\n",
    "\n",
    "Then follow the notebook to integrate the equations of motions with the Euler integrator and plot the trajectories $x(t)$ for the three oscillators."
   ]
  },
  {
   "cell_type": "code",
   "execution_count": null,
   "metadata": {
    "collapsed": true,
    "nbpresent": {
     "id": "a6dbb395-9f7b-4b4d-9ff4-5c8956d71877"
    },
    "slideshow": {
     "slide_type": "subslide"
    }
   },
   "outputs": [],
   "source": [
    "import numpy as np\n",
    "import matplotlib\n",
    "import matplotlib.pyplot as plt\n",
    "%matplotlib inline\n",
    "matplotlib.style.use('ggplot')\n",
    "\n",
    "import integrators"
   ]
  },
  {
   "cell_type": "code",
   "execution_count": null,
   "metadata": {
    "collapsed": true,
    "nbpresent": {
     "id": "c024c45d-8826-4ccb-8f81-4498c236ddb1"
    }
   },
   "outputs": [],
   "source": [
    "t_max = 20\n",
    "t_harm, y_harm = integrators.integrate_newton(t_max=t_max)\n",
    "t_anharm, y_anharm = integrators.integrate_newton(t_max=t_max, \n",
    "                                                  force=integrators.F_anharmonic)\n",
    "t_power, y_power = integrators.integrate_newton(t_max=t_max,\n",
    "                                                force=integrators.F_power)"
   ]
  },
  {
   "cell_type": "code",
   "execution_count": null,
   "metadata": {
    "collapsed": true,
    "nbpresent": {
     "id": "5f31a9b6-a292-4123-9f31-22556141f102"
    },
    "scrolled": true,
    "slideshow": {
     "slide_type": "subslide"
    }
   },
   "outputs": [],
   "source": [
    "plt.plot(t_harm, y_harm[:, 0], label=r\"harmonic $\\frac{k}{2} x^2$\")\n",
    "plt.plot(t_anharm, y_anharm[:, 0], label=r\"anharmonic $\\frac{k}{2} x^2(1 - \\frac{2}{3} \\alpha x)$\")\n",
    "plt.plot(t_power, y_power[:, 0], label=r\"power $\\frac{k}{6} x^6$\")\n",
    "plt.legend(loc=\"best\")"
   ]
  },
  {
   "cell_type": "markdown",
   "metadata": {
    "nbpresent": {
     "id": "a40ce6aa-4a5a-4456-81ea-95cf37cc09de"
    },
    "slideshow": {
     "slide_type": "subslide"
    }
   },
   "source": [
    "#### Phase-space portrait\n",
    "Plot position against momentum ($x, p$): \n",
    "* Momentum is $p = mv$.\n",
    "* Note that `integrators.integrate_newton()` returns an array of the $N$ time points and a $(N, 2)$ array of the positions and velocities."
   ]
  },
  {
   "cell_type": "code",
   "execution_count": 1,
   "metadata": {
    "collapsed": true,
    "nbpresent": {
     "id": "ee6f78a2-c46c-43f2-bc35-3d1582990cce"
    }
   },
   "outputs": [],
   "source": [
    "m = 1  # mass\n",
    "# replace None with code\n",
    "x = None\n",
    "v = None\n",
    "p = None\n",
    "ax = plt.subplot(1,1,1)\n",
    "ax.plot(x, p)\n",
    "ax.set_aspect(1)"
   ]
  },
  {
   "cell_type": "markdown",
   "metadata": {
    "nbpresent": {
     "id": "79de25f1-c7f8-45f0-863e-23c39bc8f05b"
    }
   },
   "source": [
    "Phase space portrait for different time steps $h$:"
   ]
  },
  {
   "cell_type": "code",
   "execution_count": null,
   "metadata": {
    "collapsed": true,
    "nbpresent": {
     "id": "ea40e319-2697-4e74-844e-09edd473e391"
    },
    "slideshow": {
     "slide_type": "subslide"
    }
   },
   "outputs": [],
   "source": [
    "t, y = integrators.integrate_newton(t_max=40, \n",
    "                                    force=integrators.F_harmonic, \n",
    "                                    h=0.01)\n",
    "t2, y2 = integrators.integrate_newton(t_max=40, h=0.001,\n",
    "                                      force=integrators.F_harmonic)"
   ]
  },
  {
   "cell_type": "code",
   "execution_count": null,
   "metadata": {
    "collapsed": true,
    "nbpresent": {
     "id": "2c9d4027-fbe7-45ea-99cd-a9d7eec71e6c"
    },
    "scrolled": true,
    "slideshow": {
     "slide_type": "-"
    }
   },
   "outputs": [],
   "source": [
    "ax = plt.subplot(1,1,1)\n",
    "ax.plot(y[:, 0], m * y[:, 1], 'b-', label=r\"$h=0.01$\")\n",
    "ax.plot(y2[:, 0], m * y2[:, 1], 'r--', label=\"$h=0.001$\")\n",
    "ax.set_xlabel(\"position $x$\")\n",
    "ax.set_ylabel(\"momentum $p$\")\n",
    "ax.set_aspect(1)\n",
    "ax.legend(loc=\"best\")"
   ]
  },
  {
   "cell_type": "markdown",
   "metadata": {
    "nbpresent": {
     "id": "da9af295-93bd-4405-9818-15ef5efff69c"
    },
    "slideshow": {
     "slide_type": "subslide"
    }
   },
   "source": [
    "#### Energy\n",
    "Energy is conserved: stringent test for the integrator!\n",
    "\n",
    "$$\n",
    "E = T_\\text{kin} + U\\\\\n",
    "\\frac{dE}{dt} = 0\n",
    "$$\n",
    "\n",
    "with $T_\\text{kin} = \\frac{1}{2} m v^2$.\n",
    "\n",
    "Calculate and plot the three energy terms:"
   ]
  },
  {
   "cell_type": "code",
   "execution_count": null,
   "metadata": {
    "collapsed": true,
    "nbpresent": {
     "id": "d71aaf11-29bc-484a-bbd9-f8f4f9c538d5"
    },
    "slideshow": {
     "slide_type": "subslide"
    }
   },
   "outputs": [],
   "source": [
    "KE = None\n",
    "PE = None\n",
    "energy = None"
   ]
  },
  {
   "cell_type": "markdown",
   "metadata": {
    "nbpresent": {
     "id": "7ccf95e5-b5f5-475b-8343-1304e014d7d8"
    },
    "slideshow": {
     "slide_type": "subslide"
    }
   },
   "source": [
    "##### Quantify energy drift\n",
    "Measure the relative departure from energy conservation\n",
    "\n",
    "$$\n",
    "\\epsilon_E(t) = \\log_{10}\\left|\\frac{E(t) - E(t=0)}{E(t=0)}\\right|\n",
    "$$\n",
    "\n",
    "(By using the decadic logarithm, $-\\epsilon_E$ is a direct measure of the precision.)"
   ]
  },
  {
   "cell_type": "markdown",
   "metadata": {
    "nbpresent": {
     "id": "b742bb5b-b535-448b-8efd-ad4e5cc91f6f"
    },
    "slideshow": {
     "slide_type": "subslide"
    }
   },
   "source": [
    "###### Harmonic oscillator\n",
    "Analyze energy drift for the last harmonic oscillator example ($h=0.01$):"
   ]
  },
  {
   "cell_type": "code",
   "execution_count": null,
   "metadata": {
    "collapsed": true,
    "nbpresent": {
     "id": "bb12ae2d-ca6b-4624-a9f7-c21e5ca005de"
    },
    "scrolled": true,
    "slideshow": {
     "slide_type": "-"
    }
   },
   "outputs": [],
   "source": [
    "energy_precision = np.log10(np.abs(energy/energy[0] - 1))\n",
    "plt.plot(t, energy_precision)\n",
    "plt.ylabel(\"log(relative error in $E$)\")\n",
    "plt.xlabel(\"time\")"
   ]
  },
  {
   "cell_type": "markdown",
   "metadata": {
    "nbpresent": {
     "id": "b8b07163-e782-4851-ae3d-42bf79851645"
    }
   },
   "source": [
    "As we already know, with such a large time step, energy conservation is very bad with the *Euler* integrator: The relative (!) error quickly becomes 100% (after $t=200$)."
   ]
  },
  {
   "cell_type": "markdown",
   "metadata": {
    "nbpresent": {
     "id": "e2628ce9-a8c5-4a82-a179-191b0e64fe47"
    },
    "slideshow": {
     "slide_type": "subslide"
    }
   },
   "source": [
    "##### Code re-use: energy analysis as a function\n",
    "The module `integrators` contains the function `integrators.analyze_energies(t, y, U)` to automate the task of analysing the energy. You *must* provide the appropriate potential energy function `U`."
   ]
  },
  {
   "cell_type": "markdown",
   "metadata": {
    "nbpresent": {
     "id": "4bf6a155-6213-4c3a-a19a-c297c411051d"
    },
    "slideshow": {
     "slide_type": "subslide"
    }
   },
   "source": [
    "##### Problem: Make `analyze_energies()` work and analyze the power law oscillator\n",
    "The code is *incomplete*.\n",
    "1. Open `integrators.py` in your editor.\n",
    "2. Complete the `kinetic_energy()` function (remember: $T_\\text{kin} = \\frac{1}{2} m v^2$)\n",
    "\n",
    "Then `reload()` the module:"
   ]
  },
  {
   "cell_type": "code",
   "execution_count": null,
   "metadata": {
    "collapsed": true,
    "nbpresent": {
     "id": "63c7b287-14e2-4219-a255-9b22f711ef97"
    }
   },
   "outputs": [],
   "source": [
    "# when working on the integrator module you need to reload() whenever you make changes\n",
    "from importlib import reload   # for Python 3\n",
    "reload(integrators);"
   ]
  },
  {
   "cell_type": "markdown",
   "metadata": {
    "nbpresent": {
     "id": "ae053939-6406-4521-8595-fa5549ca79f9"
    }
   },
   "source": [
    "and try it out for power law oscillator with a large time step $h = 0.01$. Can you find a value of $h$ that will give you energy precision to 4th decimal over 40 time units?"
   ]
  },
  {
   "cell_type": "markdown",
   "metadata": {
    "nbpresent": {
     "id": "a7d2b7f2-d393-4d01-9289-8532ed9e9864"
    }
   },
   "source": [
    "###### Energy stability analysis of the 6-th power oscillator\n",
    "$x^6$ potential with $h=0.01$:"
   ]
  },
  {
   "cell_type": "code",
   "execution_count": null,
   "metadata": {
    "collapsed": true,
    "nbpresent": {
     "id": "821102c4-33ed-40d0-98fd-6803034801ef"
    },
    "slideshow": {
     "slide_type": "subslide"
    }
   },
   "outputs": [],
   "source": [
    "t, y = integrators.integrate_newton(t_max=40, force=integrators.F_power, \n",
    "                                    h=0.01)"
   ]
  },
  {
   "cell_type": "code",
   "execution_count": null,
   "metadata": {
    "collapsed": true,
    "nbpresent": {
     "id": "c163c300-9c8a-4bc9-a049-42e3263854df"
    }
   },
   "outputs": [],
   "source": [
    "integrators.analyze_energies(t, y, integrators.U_power)"
   ]
  },
  {
   "cell_type": "markdown",
   "metadata": {
    "nbpresent": {
     "id": "196625a3-773d-49ee-b556-e3e23340756a"
    },
    "slideshow": {
     "slide_type": "subslide"
    }
   },
   "source": [
    "Trying 100 times smaller $h$ (takes 100 times longer!!)"
   ]
  },
  {
   "cell_type": "code",
   "execution_count": null,
   "metadata": {
    "collapsed": true,
    "nbpresent": {
     "id": "7575583d-4e57-400d-9d55-60faa970be2e"
    }
   },
   "outputs": [],
   "source": [
    "t, y = integrators.integrate_newton(t_max=40, force=integrators.F_power, \n",
    "                                    h=0.0001)\n",
    "integrators.analyze_energies(t, y, integrators.U_power)"
   ]
  },
  {
   "cell_type": "markdown",
   "metadata": {
    "nbpresent": {
     "id": "279073ee-c783-4ffb-948c-17ae78123014"
    },
    "slideshow": {
     "slide_type": "fragment"
    }
   },
   "source": [
    "*Reducing $h$ further does not seem to help and takes order of magnitude longer to run*. **We need a better integrator!**"
   ]
  },
  {
   "cell_type": "markdown",
   "metadata": {
    "nbpresent": {
     "id": "63e28094-bd06-400e-8586-f220136a3b86"
    },
    "slideshow": {
     "slide_type": "slide"
    }
   },
   "source": [
    "## Runge-Kutta methods\n",
    "Explicit RK methods propagate with the general form\n",
    "\n",
    "$$\n",
    "y_{n+1} = y_n + h \\sum_{i=1}^s b_i k_i, \\quad t_{n+1} = t_n + h\n",
    "$$\n",
    "\n",
    "where $s$ is the number of *stages* and the coefficients $a_{ij}$, $b_i$ and $c_i$ define the method.\n",
    "\n",
    "\\begin{align}\n",
    "k_1 &= f(t_n, y_n)\\\\\n",
    "k_2 &= f(t_n + c_2 h, y_n + h(a_{21} k_1))\\\\\n",
    "k_3 &= f(t_n + c_3 h, y_n + h(a_{31} k_1 + a_{32} k_2))\\\\\n",
    " \\vdots& \\\\\n",
    "k_s &= f(t_n + c_s h, y_n + h(a_{s1} k_1 + a_{s2} k_2 + \\cdots + a_{s,s-1} k_{s-1})). \n",
    "\\end{align}"
   ]
  },
  {
   "cell_type": "markdown",
   "metadata": {
    "nbpresent": {
     "id": "1bbb6018-38da-41d7-812f-c205daf804b8"
    }
   },
   "source": [
    "Basic idea: improve estimate for the slope by using weighted averages of slopes over the interval."
   ]
  },
  {
   "cell_type": "markdown",
   "metadata": {
    "nbpresent": {
     "id": "48c71209-4dd3-4270-977b-ed97177cb07b"
    },
    "slideshow": {
     "slide_type": "subslide"
    }
   },
   "source": [
    "### RK4\n",
    "General purpose ODE solver.\n",
    "\n",
    "$$\n",
    "y_{n+1} = y_n + \\frac{h}{6}\\Big(k_1 + 2 k_2 + 2 k_3 + k_4\\Big), \\quad t_{n+1} = t_n + h\n",
    "$$\n",
    "\n",
    "and\n",
    "\n",
    "\\begin{align}\n",
    "k_1 &= f(t_n, y_n)\\\\\n",
    "k_2 &= f(t_n + \\frac{1}{2} h, y_n + \\frac{1}{2} h k_1)\\\\\n",
    "k_3 &= f(t_n + \\frac{1}{2} h, y_n + \\frac{1}{2} h k_2)\\\\\n",
    "k_4 &= f(t_n + h, y_n + h k_3)\n",
    "\\end{align}"
   ]
  },
  {
   "cell_type": "markdown",
   "metadata": {
    "nbpresent": {
     "id": "8c46a3ae-80f9-4382-b7a8-694463390af2"
    }
   },
   "source": [
    "`rk4` can obtain $\\mathcal{O}(h^4)$ precision."
   ]
  },
  {
   "cell_type": "markdown",
   "metadata": {
    "nbpresent": {
     "id": "55071f6b-76ba-4f92-a29a-8db13adbc797"
    },
    "slideshow": {
     "slide_type": "subslide"
    }
   },
   "source": [
    "### RK2\n",
    "`rk2` is simpler to derive and understand than `rk4` (which we will use more often)."
   ]
  },
  {
   "cell_type": "markdown",
   "metadata": {
    "nbpresent": {
     "id": "03a04f7b-2d04-41ce-b017-532b72238322"
    }
   },
   "source": [
    "Start with the exact solution\n",
    "\n",
    "$$\n",
    "\\frac{dy}{dt} = f(t, y) \\quad\\text{and}\\quad y(t) = \\int f(t, y)dt\\\\\n",
    "y_{n+1} = y_n + \\int_{t_n}^{t_{n+1}} f(t, y)dt\n",
    "$$"
   ]
  },
  {
   "cell_type": "markdown",
   "metadata": {
    "nbpresent": {
     "id": "c5beb11b-d632-47c5-8934-e4d444860bd3"
    },
    "slideshow": {
     "slide_type": "subslide"
    }
   },
   "source": [
    "Expand $f(t, y)$ around *midpoint* $t_{n+1/2} = t + \\frac{h}{2}$ of integration interval\n",
    "\n",
    "\\begin{gather}\n",
    "f(t, y) \\approx f(t_{n+1/2}, y_{n+1/2}) + (t - t_{n+1/2})\\,  f^{(1)}(t_{n+1/2}) + \n",
    "   \\mathcal{O}(h^2)\n",
    "\\end{gather}"
   ]
  },
  {
   "cell_type": "markdown",
   "metadata": {
    "nbpresent": {
     "id": "0c45ac95-35a8-4bb7-8797-2ca6d64f0125"
    },
    "slideshow": {
     "slide_type": "fragment"
    }
   },
   "source": [
    "\\begin{align}\n",
    "\\int_{t_n}^{t_{n+1}} f(t, y) &\\approx h\\, f(t_{n+1/2}, y_{n+1/2}) + \\mathcal{O}(h^3)\\\\\n",
    "y_{n+1} &= y_n + h\\, f(t_{n+1/2}, y_{n+1/2})\n",
    "\\end{align}\n",
    "\n",
    "I.e., use slope at midpoint! (The $\\mathcal{O}(h^2)$ term in the integral is zero because $[(h/2)^2 - (h/2)^2] = 0$.)"
   ]
  },
  {
   "cell_type": "markdown",
   "metadata": {
    "nbpresent": {
     "id": "e697a536-7e09-4edc-9398-8e8fa70c3503"
    },
    "slideshow": {
     "slide_type": "subslide"
    }
   },
   "source": [
    "But we don't have $y_{n+1/2}$ so we use Euler's rule to estimate it to $\\mathcal{O}(h^2)$:\n",
    "\n",
    "$$\n",
    "y_{n+1/2} \\approx y_n + \\frac{1}{2} h\\, f(t_n, y_n)\n",
    "$$\n",
    "\n",
    "and insert into $y_{n+1} = y_n + h\\, f(t_{n+1/2}, y_{n+1/2})$ (so it is still $\\mathcal{O}(h^3)$ accurate)."
   ]
  },
  {
   "cell_type": "markdown",
   "metadata": {
    "nbpresent": {
     "id": "8d4d58e2-163e-480b-beae-876d7ced10c3"
    },
    "slideshow": {
     "slide_type": "subslide"
    }
   },
   "source": [
    "Altogether: **RK2** algorithm\n",
    "\n",
    "$$\n",
    "\\mathbf{y}_{n+1} = \\mathbf{y}_n + h \\mathbf{k}_2, \\quad t_{n+1} = t_n + h\n",
    "$$\n",
    "\n",
    "and\n",
    "\n",
    "\\begin{align}\n",
    "\\mathbf{k}_1 &= \\mathbf{f}(t_n, \\mathbf{y}_n)\\\\\n",
    "\\mathbf{k}_2 &= \\mathbf{f}(t_n + \\frac{1}{2} h, \\mathbf{y}_n + \\frac{1}{2} h \\mathbf{k}_1)\n",
    "\\end{align}\n",
    "\n",
    "with $\\mathcal{O}(h^3)$ precision."
   ]
  },
  {
   "cell_type": "markdown",
   "metadata": {
    "nbpresent": {
     "id": "a12fee8a-d91b-49e6-af56-571df971d38b"
    },
    "slideshow": {
     "slide_type": "subslide"
    }
   },
   "source": [
    "#### RK2 applied to the 1D harmonic oscillator (theory)\n",
    "\n",
    "\\begin{alignat}{3}\n",
    "f^{(0)}(t, \\mathbf{y}) &= y^{(1)},\n",
    "    &\\quad y^{(0)}_0 &= x_0,\\\\\n",
    "f^{(1)}(t, \\mathbf{y}) &=   - \\frac{k}{m} y^{(0)},\n",
    "    &\\quad y^{(1)}_0 &= v_0.\n",
    "\\end{alignat}\n",
    "\n",
    "with $k=1$; $x_0 = 0$ and $v_0 = +1$."
   ]
  },
  {
   "cell_type": "markdown",
   "metadata": {
    "nbpresent": {
     "id": "6c4c9935-ad77-4d46-a191-6938d174ebf8"
    },
    "slideshow": {
     "slide_type": "subslide"
    }
   },
   "source": [
    "First step from $t=0$ to $t=h$:"
   ]
  },
  {
   "cell_type": "markdown",
   "metadata": {
    "nbpresent": {
     "id": "2a993330-1dda-4202-b19f-919ba3d4e40c"
    },
    "slideshow": {
     "slide_type": "-"
    }
   },
   "source": [
    "\\begin{align}\n",
    "  y^{(0)}_{1} &= \n",
    "    y^{(0)} _{0} + hf^{(0)} \\Big(\\frac{h}{2}, y^{(0)}_{0} + hk_{1} \\Big)\\\\\n",
    "    &= x_{0} + h\\left[v_{0} + \\frac{h}{2} \\left(-\\frac{k}{m} x_{0}\\right)  \\right]\\\\\n",
    "    &= x_0 + v_0 h + \\frac{1}{2} \\left(-\\frac{k}{m} x_{0}\\right) h^2\\\\\n",
    "  y^{(1)}_{1} &= y^{(1)}_{0} + \n",
    "                h f^{(1)}\\left(\\frac{h}{2}, \n",
    "                     \\mathbf{y}_{0} + \\frac{h}{2} \\mathbf{f}(0, \\mathbf{y}_{0})\\right) \\\\\n",
    "             &= v_{0} + \\frac{h}{m} \\left[-k\\left(x_{0} - \\frac{h}{2} k x_{0}\\right)\\right]\n",
    "\\end{align}"
   ]
  },
  {
   "cell_type": "markdown",
   "metadata": {
    "nbpresent": {
     "id": "a6046e5d-ff47-4acb-a724-f950d7e0d8b7"
    },
    "slideshow": {
     "slide_type": "-"
    }
   },
   "source": [
    "Note that `rk2` contains a $h^2$ term in the position update."
   ]
  },
  {
   "cell_type": "markdown",
   "metadata": {
    "nbpresent": {
     "id": "ecba775b-699c-466d-a8b2-70b816c25e9e"
    },
    "slideshow": {
     "slide_type": "subslide"
    }
   },
   "source": [
    "#### RK2 applied in practice \n",
    "Let's implement `rk2` \n",
    "\n",
    "\\begin{align}\n",
    "\\mathbf{y}_{n+1} &= \\mathbf{y}_n + h \\mathbf{k}_2\\\\\n",
    "\\mathbf{k}_1 &= \\mathbf{f}(t_n, \\mathbf{y}_n)\\\\\n",
    "\\mathbf{k}_2 &= \\mathbf{f}(t_n + \\frac{1}{2} h, \\mathbf{y}_n + \\frac{1}{2} h \\mathbf{k}_1)\n",
    "\\end{align}\n",
    "\n",
    "in our `integrators.py`."
   ]
  },
  {
   "cell_type": "code",
   "execution_count": null,
   "metadata": {
    "collapsed": true,
    "nbpresent": {
     "id": "c1ea0e1a-6433-45f3-8c54-91780f61e8d2"
    }
   },
   "outputs": [],
   "source": [
    "from importlib import reload\n",
    "reload(integrators);"
   ]
  },
  {
   "cell_type": "markdown",
   "metadata": {
    "nbpresent": {
     "id": "8504a729-df23-48ea-83af-eb83670a0553"
    },
    "slideshow": {
     "slide_type": "subslide"
    }
   },
   "source": [
    "##### RK2 for the power potential"
   ]
  },
  {
   "cell_type": "code",
   "execution_count": null,
   "metadata": {
    "collapsed": true,
    "nbpresent": {
     "id": "e59a1640-a209-42e0-8e16-8fb71f82764a"
    },
    "slideshow": {
     "slide_type": "-"
    }
   },
   "outputs": [],
   "source": [
    "t, y = integrators.integrate_newton(t_max=40, force=integrators.F_power, \n",
    "                                    integrator=integrators.rk2, h=0.01)"
   ]
  },
  {
   "cell_type": "markdown",
   "metadata": {
    "nbpresent": {
     "id": "9f8954f3-e596-4ef1-8dc7-e77f920cd961"
    },
    "slideshow": {
     "slide_type": "subslide"
    }
   },
   "source": [
    "###### phase-space portrait"
   ]
  },
  {
   "cell_type": "code",
   "execution_count": null,
   "metadata": {
    "collapsed": true,
    "nbpresent": {
     "id": "457def84-5afa-40b9-a2a3-40db6a06b117"
    }
   },
   "outputs": [],
   "source": [
    "m = 1\n",
    "plt.plot(y[:, 0], m*y[:, 1])"
   ]
  },
  {
   "cell_type": "markdown",
   "metadata": {
    "nbpresent": {
     "id": "2ca64e2a-592e-4045-9753-c410dfe44e0e"
    },
    "slideshow": {
     "slide_type": "subslide"
    }
   },
   "source": [
    "###### energy drift "
   ]
  },
  {
   "cell_type": "code",
   "execution_count": null,
   "metadata": {
    "collapsed": true,
    "nbpresent": {
     "id": "c3543b63-f673-4fd6-93b2-68d743419e7a"
    }
   },
   "outputs": [],
   "source": [
    "integrators.analyze_energies(t, y, integrators.U_power)"
   ]
  },
  {
   "cell_type": "markdown",
   "metadata": {
    "nbpresent": {
     "id": "132c31ad-ac73-4e66-afc9-cb8e75d3608a"
    },
    "slideshow": {
     "slide_type": "subslide"
    }
   },
   "source": [
    "#### RK4 applied in practice\n",
    "Implement `rk4` in `integrator.py`:\n",
    "\n",
    "\\begin{align}\n",
    "y_{n+1} &= y_n + \\frac{h}{6}\\Big(k_1 + 2 k_2 + 2 k_3 + k_4\\Big)\\\\\n",
    "k_1 &= f(t_n, y_n)\\\\\n",
    "k_2 &= f(t_n + \\frac{1}{2} h, y_n + \\frac{1}{2} h k_1)\\\\\n",
    "k_3 &= f(t_n + \\frac{1}{2} h, y_n + \\frac{1}{2} h k_2)\\\\\n",
    "k_4 &= f(t_n + h, y_n + h k_3)\n",
    "\\end{align}"
   ]
  },
  {
   "cell_type": "code",
   "execution_count": null,
   "metadata": {
    "collapsed": true,
    "nbpresent": {
     "id": "087f2e7c-d27d-43bd-98da-112e9c9e0de3"
    }
   },
   "outputs": [],
   "source": [
    "reload(integrators)"
   ]
  },
  {
   "cell_type": "markdown",
   "metadata": {
    "nbpresent": {
     "id": "873b8b3b-d153-4360-a251-56de9374efe7"
    }
   },
   "source": [
    "and test the 6th power potential again. What level of energy precision can you obtain over 40 time units?"
   ]
  },
  {
   "cell_type": "markdown",
   "metadata": {
    "nbpresent": {
     "id": "6c0c99e8-8d6f-400b-8c2b-80299386231e"
    },
    "slideshow": {
     "slide_type": "subslide"
    }
   },
   "source": [
    "##### RK4 for the 6th power potential\n",
    "Note that we can easily run `rk4` with a $h=0.01$!"
   ]
  },
  {
   "cell_type": "code",
   "execution_count": null,
   "metadata": {
    "collapsed": true,
    "nbpresent": {
     "id": "f9494edf-4e38-43c2-8304-eb8475468878"
    },
    "slideshow": {
     "slide_type": "-"
    }
   },
   "outputs": [],
   "source": [
    "t, y = integrators.integrate_newton(t_max=40, force=integrators.F_power, \n",
    "                                    integrator=integrators.rk4, h=0.01)"
   ]
  },
  {
   "cell_type": "markdown",
   "metadata": {
    "nbpresent": {
     "id": "e25465fb-7c54-4708-a6a8-2154dbd043b8"
    },
    "slideshow": {
     "slide_type": "subslide"
    }
   },
   "source": [
    "###### phase-space protrait"
   ]
  },
  {
   "cell_type": "code",
   "execution_count": null,
   "metadata": {
    "collapsed": true,
    "nbpresent": {
     "id": "087ab875-4194-4b62-bd18-83316a7a3583"
    }
   },
   "outputs": [],
   "source": [
    "m = 1\n",
    "plt.plot(y[:, 0], m*y[:, 1])"
   ]
  },
  {
   "cell_type": "markdown",
   "metadata": {
    "nbpresent": {
     "id": "9ea5329a-47b0-4e15-a67a-30a1a3d60b3e"
    },
    "slideshow": {
     "slide_type": "subslide"
    }
   },
   "source": [
    "###### energy drift"
   ]
  },
  {
   "cell_type": "code",
   "execution_count": null,
   "metadata": {
    "collapsed": true,
    "nbpresent": {
     "id": "2aaaf77e-8394-4b52-b17a-69dc9774b912"
    },
    "scrolled": false
   },
   "outputs": [],
   "source": [
    "integrators.analyze_energies(t, y, integrators.U_power)"
   ]
  },
  {
   "cell_type": "markdown",
   "metadata": {
    "nbpresent": {
     "id": "4d6500cb-250c-4ecf-b2e0-40c3493ce962"
    }
   },
   "source": [
    "You should be able to get 8 - 11 decimals precision from `rk4` with a smaller $h$."
   ]
  },
  {
   "cell_type": "markdown",
   "metadata": {
    "nbpresent": {
     "id": "18ae98f0-bc6a-4bec-8645-aa5628fac5c1"
    },
    "slideshow": {
     "slide_type": "subslide"
    }
   },
   "source": [
    "##### High precision RK4 for the 6th power potential\n",
    "Try a 10 times smaller step $h=0.001$"
   ]
  },
  {
   "cell_type": "code",
   "execution_count": null,
   "metadata": {
    "collapsed": true,
    "nbpresent": {
     "id": "59a08572-7e93-4d2e-8bbe-5b798586616e"
    },
    "scrolled": true,
    "slideshow": {
     "slide_type": "-"
    }
   },
   "outputs": [],
   "source": []
  }
 ],
 "metadata": {
  "anaconda-cloud": {},
  "celltoolbar": "Slideshow",
  "kernelspec": {
   "display_name": "Python 3",
   "language": "python",
   "name": "python3"
  },
  "language_info": {
   "codemirror_mode": {
    "name": "ipython",
    "version": 3
   },
   "file_extension": ".py",
   "mimetype": "text/x-python",
   "name": "python",
   "nbconvert_exporter": "python",
   "pygments_lexer": "ipython3",
   "version": "3.6.0"
  }
 },
 "nbformat": 4,
 "nbformat_minor": 2
}
