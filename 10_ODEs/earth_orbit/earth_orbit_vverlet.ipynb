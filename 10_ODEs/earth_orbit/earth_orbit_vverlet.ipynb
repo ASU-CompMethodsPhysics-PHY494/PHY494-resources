{
 "cells": [
  {
   "cell_type": "markdown",
   "metadata": {},
   "source": [
    "# Earth's orbit (Velocity Verlet integrator)\n",
    "\n",
    "Develop a simulation of the motion of the Earth around the sun.\n",
    "\n",
    "We will use the *Velocity Verlet* integrator for robust, energy-conserving simulations.\n",
    "\n",
    "(This notebook is based on notebook [earth_orbit_euler.ipynb](earth_orbit_euler.ipynb). The Euler integrator was replaced with the _velocity Verlet_ algorithm, as derived in the lectures.)"
   ]
  },
  {
   "cell_type": "code",
   "execution_count": 2,
   "metadata": {
    "collapsed": true
   },
   "outputs": [],
   "source": [
    "import numpy as np\n",
    "%matplotlib inline \n",
    "import matplotlib.pyplot as plt"
   ]
  },
  {
   "cell_type": "markdown",
   "metadata": {},
   "source": [
    "Define constants"
   ]
  },
  {
   "cell_type": "code",
   "execution_count": 3,
   "metadata": {
    "collapsed": true
   },
   "outputs": [],
   "source": [
    "m_earth = 3.00346e-6  # in solar masses\n",
    "M_sun = 1.\n",
    "G = 4*np.pi**2\n",
    "\n",
    "v0y = 2*np.pi       # initial velocity AU/yr\n",
    "r0x = 1.0           # AU"
   ]
  },
  {
   "cell_type": "markdown",
   "metadata": {},
   "source": [
    "Initial conditions: initial position $\\mathbf{r}_0 = \\mathbf{r}(t=0)$ and initial velocity $\\mathbf{v}_0 = \\mathbf{v}(t=0)$."
   ]
  },
  {
   "cell_type": "code",
   "execution_count": 4,
   "metadata": {
    "collapsed": true
   },
   "outputs": [],
   "source": [
    "r0 = np.array([r0x, 0])\n",
    "v0 = np.array([0, v0y])"
   ]
  },
  {
   "cell_type": "markdown",
   "metadata": {},
   "source": [
    "Integrate the equations of motions:"
   ]
  },
  {
   "cell_type": "code",
   "execution_count": 14,
   "metadata": {
    "collapsed": true
   },
   "outputs": [],
   "source": [
    "dt = 1e-2   # in years (try a coarse time step)\n",
    "t_max = 1.  # year\n",
    "N_steps = int(t_max / dt)\n",
    "\n",
    "r = np.zeros(2)  # (x, y)\n",
    "v = np.zeros(2)  # (vx, vy)\n",
    "t = 0\n",
    "\n",
    "def F_gravity(r, m, M):\n",
    "    rlength = np.sqrt(np.sum(r*r))\n",
    "    return -G*m*M/rlength**3 * r\n",
    "\n",
    "# initial conditions\n",
    "r[:] = r0\n",
    "v[:] = v0\n",
    "\n",
    "r_values = [r0]\n",
    "v_values = [v0]\n",
    "t_values = [t]\n",
    "\n",
    "# need to start velocity Verlet with current acceleration\n",
    "a = F_gravity(r, m_earth, M_sun)/m_earth\n",
    "\n",
    "for i in range(N_steps):\n",
    "    t += dt\n",
    "    \n",
    "    # velocity Verlet\n",
    "    v_half = v + 0.5*dt*a        # half-step velocity\n",
    "    r_new = r + dt*v_half\n",
    "    a_new = F_gravity(r_new, m_earth, M_sun)/m_earth\n",
    "    v_new = v_half + 0.5*dt*a_new\n",
    "    \n",
    "    r_values.append(r_new)\n",
    "    v_values.append(v_new)\n",
    "    t_values.append(t)\n",
    "\n",
    "    r[:] = r_new\n",
    "    v[:] = v_new\n",
    "    a[:] = a_new    # important: use force/acceleration for next step!\n",
    "\n",
    "# turn lists of results into arrays for easier processing\n",
    "r_values = np.array(r_values)\n",
    "v_values = np.array(v_values)\n",
    "t_values = np.array(t_values)"
   ]
  },
  {
   "cell_type": "markdown",
   "metadata": {},
   "source": [
    "Plot the orbit $\\mathbf{r}(t)$ in the $x$-$y$ plane:"
   ]
  },
  {
   "cell_type": "code",
   "execution_count": 13,
   "metadata": {
    "scrolled": true
   },
   "outputs": [
    {
     "data": {
      "image/png": "[encoded data removed]",
      "text/plain": [
       "<matplotlib.figure.Figure at 0x7f693a5f6208>"
      ]
     },
     "metadata": {},
     "output_type": "display_data"
    }
   ],
   "source": [
    "ax = plt.subplot(1,1,1)\n",
    "ax.plot(r_values[:, 0], r_values[:, 1])\n",
    "ax.set_aspect(1)"
   ]
  },
  {
   "cell_type": "markdown",
   "metadata": {},
   "source": [
    "For 1 year that looks as expected, even though we used a coarse time step of $\\Delta t = 10^{-2}\\,\\text{yr}$."
   ]
  },
  {
   "cell_type": "code",
   "execution_count": null,
   "metadata": {
    "collapsed": true
   },
   "outputs": [],
   "source": []
  }
 ],
 "metadata": {
  "kernelspec": {
   "display_name": "Python 3",
   "language": "python",
   "name": "python3"
  },
  "language_info": {
   "codemirror_mode": {
    "name": "ipython",
    "version": 3
   },
   "file_extension": ".py",
   "mimetype": "text/x-python",
   "name": "python",
   "nbconvert_exporter": "python",
   "pygments_lexer": "ipython3",
   "version": "3.6.7"
  }
 },
 "nbformat": 4,
 "nbformat_minor": 2
}
