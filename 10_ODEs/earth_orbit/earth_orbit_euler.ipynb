{
 "cells": [
  {
   "cell_type": "markdown",
   "metadata": {},
   "source": [
    "# Earth's orbit (Euler integrator)\n",
    "\n",
    "Develop a simulation of the motion of the Earth around the sun.\n",
    "\n",
    "We will use the *Euler* integrator for conceptual simplicity.\n",
    "\n",
    "(This notebook was life-coded and lightly annotated afterwards.)"
   ]
  },
  {
   "cell_type": "code",
   "execution_count": 38,
   "metadata": {
    "collapsed": true
   },
   "outputs": [],
   "source": [
    "import numpy as np\n",
    "%matplotlib inline \n",
    "import matplotlib.pyplot as plt"
   ]
  },
  {
   "cell_type": "markdown",
   "metadata": {},
   "source": [
    "Define constants"
   ]
  },
  {
   "cell_type": "code",
   "execution_count": 39,
   "metadata": {
    "collapsed": true
   },
   "outputs": [],
   "source": [
    "m_earth = 3.00346e-6  # in solar masses\n",
    "M_sun = 1.\n",
    "G = 4*np.pi**2\n",
    "\n",
    "v0y = 2*np.pi       # initial velocity AU/yr\n",
    "r0x = 1.0           # AU"
   ]
  },
  {
   "cell_type": "markdown",
   "metadata": {},
   "source": [
    "Initial conditions: initial position $\\mathbf{r}_0 = \\mathbf{r}(t=0)$ and initial velocity $\\mathbf{v}_0 = \\mathbf{v}(t=0)$."
   ]
  },
  {
   "cell_type": "code",
   "execution_count": 3,
   "metadata": {
    "collapsed": true
   },
   "outputs": [],
   "source": [
    "r0 = np.array([r0x, 0])\n",
    "v0 = np.array([0, v0y])"
   ]
  },
  {
   "cell_type": "markdown",
   "metadata": {},
   "source": [
    "Integrate the equations of motions:"
   ]
  },
  {
   "cell_type": "code",
   "execution_count": 42,
   "metadata": {
    "collapsed": true
   },
   "outputs": [],
   "source": [
    "dt = 1e-5   # in years\n",
    "t_max = 1.  # year\n",
    "N_steps = int(t_max / dt)\n",
    "\n",
    "r = np.zeros(2)  # (x, y)\n",
    "v = np.zeros(2)  # (vx, vy)\n",
    "t = 0\n",
    "\n",
    "def F_gravity(r, m, M):\n",
    "    rlength = np.sqrt(np.sum(r*r))\n",
    "    return -G*m*M/rlength**3 * r\n",
    "\n",
    "# initial conditions\n",
    "r[:] = r0\n",
    "v[:] = v0\n",
    "\n",
    "r_values = [r0]\n",
    "v_values = [v0]\n",
    "t_values = [t]\n",
    "\n",
    "for i in range(N_steps):\n",
    "    t += dt\n",
    "    \n",
    "    # Euler\n",
    "    a = F_gravity(r, m_earth, M_sun)/m_earth\n",
    "\n",
    "    r_new = r + dt*v\n",
    "    v_new = v + dt*a\n",
    "    \n",
    "    r_values.append(r_new)\n",
    "    v_values.append(v_new)\n",
    "    t_values.append(t)\n",
    "\n",
    "    r[:] = r_new\n",
    "    v[:] = v_new\n",
    "\n",
    "# turn lists of results into arrays for easier processing\n",
    "r_values = np.array(r_values)\n",
    "v_values = np.array(v_values)\n",
    "t_values = np.array(t_values)"
   ]
  },
  {
   "cell_type": "markdown",
   "metadata": {},
   "source": [
    "Plot the orbit $\\mathbf{r}(t)$ in the $x$-$y$ plane:"
   ]
  },
  {
   "cell_type": "code",
   "execution_count": 43,
   "metadata": {
    "scrolled": true
   },
   "outputs": [
    {
     "data": {
      "image/png": "[encoded data removed]",
      "text/plain": [
       "<matplotlib.figure.Figure at 0x7fd890fcce80>"
      ]
     },
     "metadata": {},
     "output_type": "display_data"
    }
   ],
   "source": [
    "ax = plt.subplot(1,1,1)\n",
    "ax.plot(r_values[:, 0], r_values[:, 1])\n",
    "ax.set_aspect(1)"
   ]
  },
  {
   "cell_type": "markdown",
   "metadata": {},
   "source": [
    "For 1 year that looks as expected; but note that we had to choose a very small $\\Delta t = 10^{-5}\\,\\text{yr}$."
   ]
  },
  {
   "cell_type": "code",
   "execution_count": 37,
   "metadata": {},
   "outputs": [
    {
     "data": {
      "text/plain": [
       "array([ 1.        ,  1.        ,  1.        , ...,  1.00078166,\n",
       "        1.0007819 ,  1.00078215])"
      ]
     },
     "execution_count": 37,
     "metadata": {},
     "output_type": "execute_result"
    }
   ],
   "source": [
    "r_values[:, 0]"
   ]
  },
  {
   "cell_type": "code",
   "execution_count": null,
   "metadata": {
    "collapsed": true
   },
   "outputs": [],
   "source": []
  },
  {
   "cell_type": "code",
   "execution_count": null,
   "metadata": {
    "collapsed": true
   },
   "outputs": [],
   "source": []
  }
 ],
 "metadata": {
  "kernelspec": {
   "display_name": "Python 3",
   "language": "python",
   "name": "python3"
  },
  "language_info": {
   "codemirror_mode": {
    "name": "ipython",
    "version": 3
   },
   "file_extension": ".py",
   "mimetype": "text/x-python",
   "name": "python",
   "nbconvert_exporter": "python",
   "pygments_lexer": "ipython3",
   "version": "3.6.7"
  }
 },
 "nbformat": 4,
 "nbformat_minor": 2
}
