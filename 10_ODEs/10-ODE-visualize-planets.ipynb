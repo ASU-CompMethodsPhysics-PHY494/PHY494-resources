{
 "cells": [
  {
   "cell_type": "markdown",
   "metadata": {},
   "source": [
    "# 10 ODE: Visualization of planetary motion "
   ]
  },
  {
   "cell_type": "markdown",
   "metadata": {},
   "source": [
    "Visualize the motion of the earth using vpython (based on *Computational Modelling*, Jay Wang 2016, Ch 4, program 4.1 and updated for vpython-jupyter 2.x)"
   ]
  },
  {
   "cell_type": "code",
   "execution_count": 1,
   "metadata": {
    "scrolled": true
   },
   "outputs": [
    {
     "ename": "ModuleNotFoundError",
     "evalue": "No module named 'vpython'",
     "output_type": "error",
     "traceback": [
      "\u001b[0;31m---------------------------------------------------------------------------\u001b[0m",
      "\u001b[0;31mModuleNotFoundError\u001b[0m                       Traceback (most recent call last)",
      "\u001b[0;32m<ipython-input-1-1851f7bd25e1>\u001b[0m in \u001b[0;36m<module>\u001b[0;34m\u001b[0m\n\u001b[1;32m      1\u001b[0m \u001b[0;32mimport\u001b[0m \u001b[0mnumpy\u001b[0m \u001b[0;32mas\u001b[0m \u001b[0mnp\u001b[0m\u001b[0;34m\u001b[0m\u001b[0m\n\u001b[0;32m----> 2\u001b[0;31m \u001b[0;32mimport\u001b[0m \u001b[0mvpython\u001b[0m \u001b[0;32mas\u001b[0m \u001b[0mvp\u001b[0m\u001b[0;34m\u001b[0m\u001b[0m\n\u001b[0m\u001b[1;32m      3\u001b[0m \u001b[0;34m\u001b[0m\u001b[0m\n\u001b[1;32m      4\u001b[0m \u001b[0mM_earth\u001b[0m \u001b[0;34m=\u001b[0m \u001b[0;36m3.003467e-6\u001b[0m\u001b[0;34m\u001b[0m\u001b[0m\n\u001b[1;32m      5\u001b[0m \u001b[0mM_sun\u001b[0m \u001b[0;34m=\u001b[0m \u001b[0;36m1.0\u001b[0m\u001b[0;34m\u001b[0m\u001b[0m\n",
      "\u001b[0;31mModuleNotFoundError\u001b[0m: No module named 'vpython'"
     ]
    }
   ],
   "source": [
    "import numpy as np\n",
    "import vpython as vp\n",
    "\n",
    "M_earth = 3.003467e-6\n",
    "M_sun = 1.0\n",
    "\n",
    "G_grav = 4*np.pi**2\n",
    "\n",
    "def F_gravity(r, m=M_earth, M=M_sun):\n",
    "    rr = np.sum(r*r)\n",
    "    rhat = r/np.sqrt(rr)\n",
    "    return -G_grav*m*M/rr * rhat\n",
    "\n",
    "def vp_planet_orbit(r0=np.array([1.017, 0, 0]), v0=np.array([0, 6.179, 0]), mass=M_earth, dt=0.001):\n",
    "    \"\"\"Visualize 2D planetary motion with velocity verlet\"\"\"\n",
    "    dim = len(r0)\n",
    "    assert len(v0) == dim\n",
    "\n",
    "    r = np.array(r0, copy=True)\n",
    "    v = np.array(v0, copy=True)\n",
    "\n",
    "    \n",
    "    scene = vp.display(title=\"Earth around Sun\", background=vp.color.black,\n",
    "                      forward=vp.vec(0, 2, -1))\n",
    "    planet = vp.sphere(pos=vp.vec(*r), radius=0.1, make_trail=True,\n",
    "                      texture=vp.textures.earth,\n",
    "                      up=vp.vec(0, 0, 1))\n",
    "    sun = vp.sphere(pos=vp.vec(0, 0, 0), radius=0.2, color=vp.color.yellow,\n",
    "                    emissive=True)\n",
    "    sunlight = vp.local_light(pos=vp.vec(0, 0, 0), color=vp.color.yellow)\n",
    "                       \n",
    "    # start force evaluation for first step\n",
    "    Ft = F_gravity(r, m=mass)\n",
    "    while True:\n",
    "        vhalf = v + 0.5*dt * Ft/mass\n",
    "        r += dt * vhalf\n",
    "        Ftdt = F_gravity(r, m=mass)\n",
    "        v = vhalf + 0.5*dt * Ftdt/mass\n",
    "        # new force becomes old force\n",
    "        Ft = Ftdt\n",
    "        \n",
    "        vp.rate(200)\n",
    "        planet.pos = vp.vec(*r)\n",
    "            \n",
    "\n",
    "vp_planet_orbit()"
   ]
  },
  {
   "cell_type": "code",
   "execution_count": null,
   "metadata": {
    "collapsed": true
   },
   "outputs": [],
   "source": []
  }
 ],
 "metadata": {
  "anaconda-cloud": {},
  "kernelspec": {
   "display_name": "VPython",
   "language": "python",
   "name": "vpython"
  },
  "language_info": {
   "codemirror_mode": {
    "name": "ipython",
    "version": 3
   },
   "file_extension": ".py",
   "mimetype": "text/x-python",
   "name": "python",
   "nbconvert_exporter": "python",
   "pygments_lexer": "ipython3",
   "version": "3.6.0"
  }
 },
 "nbformat": 4,
 "nbformat_minor": 1
}
