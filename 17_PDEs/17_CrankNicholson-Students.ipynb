{
 "cells": [
  {
   "cell_type": "markdown",
   "metadata": {},
   "source": [
    "# 17 PDEs: Crank-Nicholson Method (Students)"
   ]
  },
  {
   "cell_type": "code",
   "execution_count": null,
   "metadata": {
    "collapsed": true
   },
   "outputs": [],
   "source": [
    "import numpy as np\n",
    "\n",
    "import matplotlib.pyplot as plt\n",
    "from mpl_toolkits.mplot3d import Axes3D\n",
    "%matplotlib notebook"
   ]
  },
  {
   "cell_type": "code",
   "execution_count": null,
   "metadata": {
    "scrolled": true
   },
   "outputs": [],
   "source": [
    "import numpy as np\n",
    "\n",
    "def CrankNicholson_T(L_rod=1, t_max=3000, Dx=0.02, Dt=2, T0=373, Tb=273,\n",
    "                     step=20, verbose=True):\n",
    "    Nx = int(L_rod // Dx)\n",
    "    Nt = int(t_max // Dt)\n",
    "\n",
    "    Kappa = 237 # W/(m K)\n",
    "    CHeat = 900 # J/K\n",
    "    rho = 2700  # kg/m^3\n",
    "\n",
    "    eta = Kappa * Dt / (CHeat * rho * Dx**2)\n",
    "\n",
    "    if verbose:\n",
    "        print(\"Nx = {0}, Nt = {1}\".format(Nx, Nt))\n",
    "        print(\"eta = {0}\".format(eta))\n",
    "\n",
    "    T = np.zeros(Nx)\n",
    "    T_plot = np.zeros((int(np.ceil(Nt/step)) + 1, Nx))\n",
    "\n",
    "    # initial conditions\n",
    "    T[1:-1] = T0\n",
    "    # boundary conditions\n",
    "    T[0] = T[-1] = Tb\n",
    "\n",
    "    #---------------------\n",
    "    # set up M_eta\n",
    "    raise NotImplementedError\n",
    "\n",
    "    t_index = 0\n",
    "    T_plot[t_index, :] = T\n",
    "    for jt in range(1, Nt):\n",
    "        # solve M_eta * T(j+1) = bT\n",
    "        raise NotImplementedError\n",
    "        \n",
    "        if jt % step == 0 or jt == Nt-1:\n",
    "            t_index += 1\n",
    "            T_plot[t_index, :] = T\n",
    "            if verbose:\n",
    "                print(\"Iteration {0:5d}\".format(jt), end=\"\\r\")\n",
    "    else:\n",
    "        if verbose:\n",
    "            print(\"Completed {0:5d} iterations: t={1} s\".format(jt, jt*Dt))\n",
    "        \n",
    "    parameters = (Dx, Dt, step)\n",
    "    return T_plot, parameters"
   ]
  },
  {
   "cell_type": "code",
   "execution_count": null,
   "metadata": {},
   "outputs": [],
   "source": [
    "T_plot, (Dx, Dt, step) = CrankNicholson_T(t_max=3000, Dx=0.02, Dt=2)"
   ]
  },
  {
   "cell_type": "markdown",
   "metadata": {},
   "source": [
    "### Visualize "
   ]
  },
  {
   "cell_type": "code",
   "execution_count": null,
   "metadata": {
    "collapsed": true
   },
   "outputs": [],
   "source": [
    "def plot_T(T_plot, Dx, Dt, step):\n",
    "    X, Y = np.meshgrid(range(T_plot.shape[0]), range(T_plot.shape[1]))\n",
    "    Z = T_plot[X, Y]\n",
    "    fig = plt.figure()\n",
    "    ax = fig.add_subplot(111, projection=\"3d\")\n",
    "    ax.plot_wireframe(X*Dt*step, Y*Dx, Z)\n",
    "    ax.set_xlabel(r\"time $t$ (s)\")\n",
    "    ax.set_ylabel(r\"position $x$ (m)\")\n",
    "    ax.set_zlabel(r\"temperature $T$ (K)\")\n",
    "    fig.tight_layout()\n",
    "    return ax"
   ]
  },
  {
   "cell_type": "code",
   "execution_count": null,
   "metadata": {
    "scrolled": false
   },
   "outputs": [],
   "source": [
    "plot_T(T_plot, Dx, Dt, step)"
   ]
  },
  {
   "cell_type": "markdown",
   "metadata": {},
   "source": [
    "### Vary parameters\n",
    "Try different $\\Delta x$ and $\\Delta t$."
   ]
  },
  {
   "cell_type": "markdown",
   "metadata": {},
   "source": [
    "## Faster solutions "
   ]
  },
  {
   "cell_type": "markdown",
   "metadata": {},
   "source": [
    "### Using matrix inverse\n",
    "We only need to calculate the matrix inverse of `M_eta` once and can then use\n",
    "\n",
    "$$\n",
    "\\mathbf{x}_T = \\mathsf{M}(\\eta)^{-1} \\mathbf{b}_T\n",
    "$$"
   ]
  },
  {
   "cell_type": "code",
   "execution_count": null,
   "metadata": {
    "collapsed": true
   },
   "outputs": [],
   "source": []
  },
  {
   "cell_type": "code",
   "execution_count": null,
   "metadata": {},
   "outputs": [],
   "source": [
    "T_plot, (Dx, Dt, step) = CrankNicholson_inverse_T(t_max=3000, Dx=0.02, Dt=2)\n",
    "plot_T(T_plot, Dx, Dt, step)"
   ]
  },
  {
   "cell_type": "markdown",
   "metadata": {},
   "source": [
    "### Using special routines to solve banded or tridiagonal matrices\n",
    "#### Tridiagonal matrix algorithm\n",
    "The usual way to solve the matrix problem is to use a special algorithm for tridiagonal matrices, the [Thomas algorithm](https://en.wikipedia.org/wiki/Tridiagonal_matrix_algorithm). This can be done in $\\mathcal{O}(N)$ and thus is *as fast as the simple iterative scheme*! \n",
    "\n",
    "Implementation of the Thomas algorithm in Python is not difficult (see, for instance, cdhagman's answer [Stackoverflow: Optimize A*x = B solution for a tridiagonal coefficient matrix](http://stackoverflow.com/a/23133208))."
   ]
  },
  {
   "cell_type": "markdown",
   "metadata": {},
   "source": [
    "#### Special routines for *banded* matrices\n",
    "Tridiagonal matrices are a special (simple) case of *banded matrices*. **scipy** contains special, fast routines to solve matrix equations for banded matrices, namely [scipy.linalg.solve_banded()](http://docs.scipy.org/doc/scipy/reference/generated/scipy.linalg.solve_banded.html#scipy.linalg.solve_banded). The only difficulty is to format the input in a form suitable for the function:"
   ]
  },
  {
   "cell_type": "code",
   "execution_count": null,
   "metadata": {
    "collapsed": true
   },
   "outputs": [],
   "source": [
    "import scipy.linalg\n",
    "\n",
    "def solve_tridiagonal_banded(A, b):\n",
    "    ab = extract_tridiag_ab(A)\n",
    "    return scipy.linalg.solve_banded((1, 1), ab, b)\n",
    "\n",
    "def extract_tridiag_ab(A):\n",
    "    # extract diagonals and pad (as required for solve_banded())\n",
    "    ud = np.insert(np.diag(A, 1), 0, 0)         # upper diagonal\n",
    "    d = np.diag(A)                              # main diagonal\n",
    "    ld = np.insert(np.diag(A, -1), len(d)-1, 0) # lower diagonal\n",
    "    # matrix as required by solve_banded()\n",
    "    ab = np.array([ud, d, ld])\n",
    "    return ab\n",
    "                       "
   ]
  },
  {
   "cell_type": "markdown",
   "metadata": {},
   "source": [
    "Faster Crank-Nicholson using banded matrices:"
   ]
  },
  {
   "cell_type": "code",
   "execution_count": null,
   "metadata": {
    "collapsed": true
   },
   "outputs": [],
   "source": []
  },
  {
   "cell_type": "code",
   "execution_count": null,
   "metadata": {
    "scrolled": true
   },
   "outputs": [],
   "source": [
    "T_plot, (Dx, Dt, step) = CrankNicholson_banded_T(t_max=3000, Dx=0.02, Dt=2)\n",
    "plot_T(T_plot, Dx, Dt, step)"
   ]
  },
  {
   "cell_type": "markdown",
   "metadata": {},
   "source": [
    "## Benchmarking\n",
    "For the original problem, `np.linalg.solve` is at least as fast as the banded solution, but for 10 times smaller step size (from 0.02 to 0.002) ie from 100 x 100 to 1000 x 1000 matrix, the slow-down is 32/0.25 ~ 120. "
   ]
  },
  {
   "cell_type": "code",
   "execution_count": null,
   "metadata": {},
   "outputs": [],
   "source": [
    "%timeit CrankNicholson_banded_T(t_max=3000, Dx=0.002, Dt=2, verbose=False)"
   ]
  },
  {
   "cell_type": "code",
   "execution_count": null,
   "metadata": {},
   "outputs": [],
   "source": [
    "%timeit CrankNicholson_T(t_max=3000, Dx=0.002, Dt=2, verbose=False)"
   ]
  },
  {
   "cell_type": "code",
   "execution_count": null,
   "metadata": {},
   "outputs": [],
   "source": [
    "%timeit CrankNicholson_inverse_T(t_max=3000, Dx=0.002, Dt=2, verbose=False)"
   ]
  }
 ],
 "metadata": {
  "anaconda-cloud": {},
  "kernelspec": {
   "display_name": "Python 3",
   "language": "python",
   "name": "python3"
  },
  "language_info": {
   "codemirror_mode": {
    "name": "ipython",
    "version": 3
   },
   "file_extension": ".py",
   "mimetype": "text/x-python",
   "name": "python",
   "nbconvert_exporter": "python",
   "pygments_lexer": "ipython3",
   "version": "3.6.7"
  }
 },
 "nbformat": 4,
 "nbformat_minor": 1
}
