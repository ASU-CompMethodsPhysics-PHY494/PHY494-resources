{
 "cells": [
  {
   "cell_type": "markdown",
   "metadata": {
    "nbpresent": {
     "id": "6086a39b-a72d-4323-a159-e0231c984a1f"
    },
    "slideshow": {
     "slide_type": "slide"
    }
   },
   "source": [
    "# 07 Numbers\n",
    "\n",
    "* *Computational Physics*: Ch 2.4, 2.5, 3\n",
    "* Python Tutorial [Floating Point Arithmetic: Issues and Limitations](https://docs.python.org/3/tutorial/floatingpoint.html)"
   ]
  },
  {
   "cell_type": "code",
   "execution_count": null,
   "metadata": {
    "collapsed": true
   },
   "outputs": [],
   "source": []
  },
  {
   "cell_type": "markdown",
   "metadata": {
    "nbpresent": {
     "id": "af614afb-0ba5-49c3-9a54-2d8b22c5831c"
    },
    "slideshow": {
     "slide_type": "slide"
    }
   },
   "source": [
    "## Binary representation\n",
    "Computers store information with two-state logic. This can be represented in a binary system with numbers 0 and 1 (i.e. base 2)\n",
    "\n",
    "Any number can be represented in any base as a polynomial (possibly with infinitely many terms): the digits are $0 \\leq x_k < b$ and determine the contribution of the base $b$ raise to the $k$th power.\n",
    "\n",
    "$$\n",
    "q_b = \\sum_{k=-\\infty}^{+\\infty} x_k b^k\n",
    "$$"
   ]
  },
  {
   "cell_type": "markdown",
   "metadata": {
    "nbpresent": {
     "id": "06048af4-3c1b-4f7f-96cb-c8ce003d2a23"
    },
    "slideshow": {
     "slide_type": "slide"
    }
   },
   "source": [
    "## Integers "
   ]
  },
  {
   "cell_type": "markdown",
   "metadata": {
    "nbpresent": {
     "id": "07eadef1-3b60-4c3a-89ad-5a81f2d7e58e"
    },
    "slideshow": {
     "slide_type": "-"
    }
   },
   "source": [
    "Convert 10 (base 10, i.e. $1 \\times 10^1 + 0\\times 10^0$) into binary \n",
    "\n",
    "(Note: `divmod(x, 2)` is `x // 2, x % 2`, i.e. integer division and remainder):"
   ]
  },
  {
   "cell_type": "code",
   "execution_count": 6,
   "metadata": {
    "collapsed": false,
    "nbpresent": {
     "id": "689f2f2d-b12d-4e83-bb63-b7a81620a98a"
    },
    "slideshow": {
     "slide_type": "fragment"
    }
   },
   "outputs": [
    {
     "data": {
      "text/plain": [
       "(5, 0)"
      ]
     },
     "execution_count": 6,
     "metadata": {},
     "output_type": "execute_result"
    }
   ],
   "source": [
    "divmod(10, 2)"
   ]
  },
  {
   "cell_type": "code",
   "execution_count": 7,
   "metadata": {
    "collapsed": false,
    "nbpresent": {
     "id": "8f93155c-f950-42e8-be31-7307d15ef590"
    },
    "slideshow": {
     "slide_type": "fragment"
    }
   },
   "outputs": [
    {
     "data": {
      "text/plain": [
       "(2, 1)"
      ]
     },
     "execution_count": 7,
     "metadata": {},
     "output_type": "execute_result"
    }
   ],
   "source": [
    "divmod(5, 2)"
   ]
  },
  {
   "cell_type": "code",
   "execution_count": 8,
   "metadata": {
    "collapsed": false,
    "nbpresent": {
     "id": "a3951276-3559-4b30-98f3-db44f1ad1757"
    },
    "slideshow": {
     "slide_type": "fragment"
    }
   },
   "outputs": [
    {
     "data": {
      "text/plain": [
       "(1, 0)"
      ]
     },
     "execution_count": 8,
     "metadata": {},
     "output_type": "execute_result"
    }
   ],
   "source": [
    "divmod(2, 2)"
   ]
  },
  {
   "cell_type": "markdown",
   "metadata": {
    "nbpresent": {
     "id": "3c4949e8-597f-4975-a108-10f99dbeb97e"
    },
    "slideshow": {
     "slide_type": "fragment"
    }
   },
   "source": [
    "The binary representation of $10_{10}$ is $1010_2$ (keep dividing until there's only 1 left, then collect the 1 and all remainders in reverse order, essentially long division)."
   ]
  },
  {
   "cell_type": "markdown",
   "metadata": {
    "nbpresent": {
     "id": "fa167211-43ef-4305-9585-f28923c93418"
    },
    "slideshow": {
     "slide_type": "subslide"
    }
   },
   "source": [
    "Double check by multiplying out $1010_2$:"
   ]
  },
  {
   "cell_type": "code",
   "execution_count": 9,
   "metadata": {
    "collapsed": false,
    "nbpresent": {
     "id": "101509d6-73e2-405c-8f9a-643c1a7af7c6"
    }
   },
   "outputs": [
    {
     "data": {
      "text/plain": [
       "10"
      ]
     },
     "execution_count": 9,
     "metadata": {},
     "output_type": "execute_result"
    }
   ],
   "source": [
    "1*2**3 + 0*2**2 + 1*2**1 + 0*2**0"
   ]
  },
  {
   "cell_type": "markdown",
   "metadata": {
    "nbpresent": {
     "id": "3cd7113d-3ab3-470c-859f-0eb8430fb519"
    },
    "slideshow": {
     "slide_type": "fragment"
    }
   },
   "source": [
    "or in Python"
   ]
  },
  {
   "cell_type": "code",
   "execution_count": 10,
   "metadata": {
    "collapsed": false,
    "nbpresent": {
     "id": "d727ecad-37fa-4031-82ba-a19fb4e842dd"
    }
   },
   "outputs": [
    {
     "data": {
      "text/plain": [
       "10"
      ]
     },
     "execution_count": 10,
     "metadata": {},
     "output_type": "execute_result"
    }
   ],
   "source": [
    "int('0b1010', 2)"
   ]
  },
  {
   "cell_type": "markdown",
   "metadata": {
    "nbpresent": {
     "id": "ac244018-dc2b-4204-95cb-c7784fd02dfa"
    },
    "slideshow": {
     "slide_type": "subslide"
    }
   },
   "source": [
    "### Summary: Integers in binary representation\n",
    "\n",
    "**All integers are exactly representable in base 2 with a finite number of digits**.\n",
    "\n",
    "* The sign (+ or –) is represented by a single bit (0 = +, 1 = –). \n",
    "* The number of available \"bits\" (digits) determines the largest representable integer. "
   ]
  },
  {
   "cell_type": "markdown",
   "metadata": {
    "nbpresent": {
     "id": "bd5ab28d-bf35-4f22-bc1a-faf24250a88d"
    },
    "slideshow": {
     "slide_type": "subslide"
    }
   },
   "source": [
    "For example, with 8 bits available (a \"*byte*\"), what is the largest and smallest integer?"
   ]
  },
  {
   "cell_type": "code",
   "execution_count": 13,
   "metadata": {
    "collapsed": false,
    "nbpresent": {
     "id": "98e6aea7-02de-4aaf-b2a3-128300cc5598"
    },
    "slideshow": {
     "slide_type": "fragment"
    }
   },
   "outputs": [
    {
     "data": {
      "text/plain": [
       "127"
      ]
     },
     "execution_count": 13,
     "metadata": {},
     "output_type": "execute_result"
    }
   ],
   "source": [
    "0b1111111  # 7 bits for number, 1 for sign (not included)"
   ]
  },
  {
   "cell_type": "code",
   "execution_count": 14,
   "metadata": {
    "collapsed": false,
    "nbpresent": {
     "id": "f514925b-a67a-4334-8361-741e40fc44eb"
    },
    "scrolled": true,
    "slideshow": {
     "slide_type": "fragment"
    }
   },
   "outputs": [
    {
     "data": {
      "text/plain": [
       "-127"
      ]
     },
     "execution_count": 14,
     "metadata": {},
     "output_type": "execute_result"
    }
   ],
   "source": [
    "-0b1111111"
   ]
  },
  {
   "cell_type": "markdown",
   "metadata": {
    "nbpresent": {
     "id": "c406d769-8564-4222-a4d0-eeb81b9de900"
    },
    "slideshow": {
     "slide_type": "subslide"
    }
   },
   "source": [
    "### Sidenote: using numpy to quickly convert integers\n",
    "\n",
    "If you want to properly sum all terms, use numpy arrays and the element-wise operations:"
   ]
  },
  {
   "cell_type": "code",
   "execution_count": 15,
   "metadata": {
    "collapsed": true,
    "nbpresent": {
     "id": "20b608b1-7b2f-4c47-be20-96149cf9ff4f"
    }
   },
   "outputs": [],
   "source": [
    "import numpy as np"
   ]
  },
  {
   "cell_type": "code",
   "execution_count": 16,
   "metadata": {
    "collapsed": true,
    "nbpresent": {
     "id": "0a8d5f15-505e-44d2-87f6-4d9645b8fab4"
    }
   },
   "outputs": [],
   "source": [
    "nbits = 7\n",
    "exponents = np.arange(nbits)\n",
    "bases = 2*np.ones(nbits)  # base 2\n",
    "digits = np.ones(nbits)   # all 1, for 1111111 (127 in binary)"
   ]
  },
  {
   "cell_type": "code",
   "execution_count": 21,
   "metadata": {
    "collapsed": false,
    "nbpresent": {
     "id": "50c8ba21-a65a-4827-8170-fda80eb53daf"
    }
   },
   "outputs": [
    {
     "data": {
      "text/plain": [
       "127.0"
      ]
     },
     "execution_count": 21,
     "metadata": {},
     "output_type": "execute_result"
    }
   ],
   "source": [
    "np.sum(digits * bases**exponents)"
   ]
  },
  {
   "cell_type": "markdown",
   "metadata": {
    "nbpresent": {
     "id": "51e517bc-d926-4a27-b464-b8c62583c469"
    },
    "slideshow": {
     "slide_type": "subslide"
    }
   },
   "source": [
    "### Examples: limits of integers\n",
    "\n",
    "What is the smallest and largest integer that you can represent\n",
    "\n",
    "1. if you have 4 bits available and only consider non-negative (\"unsigned\") integers?\n",
    "2. if you have 32 bits and consider positive and negative integers?\n",
    "3. if you have 64 bits and consider positive and negative integers?"
   ]
  },
  {
   "cell_type": "markdown",
   "metadata": {
    "nbpresent": {
     "id": "7d0079bb-8757-4323-9c57-7a0e7d77a610"
    },
    "slideshow": {
     "slide_type": "subslide"
    }
   },
   "source": [
    "Smallest and largest 4 bit unsigned integer:"
   ]
  },
  {
   "cell_type": "code",
   "execution_count": null,
   "metadata": {
    "collapsed": false,
    "nbpresent": {
     "id": "045e7e11-6a17-4eba-b541-72de936352e0"
    },
    "slideshow": {
     "slide_type": "fragment"
    }
   },
   "outputs": [],
   "source": [
    "0b0000"
   ]
  },
  {
   "cell_type": "code",
   "execution_count": null,
   "metadata": {
    "collapsed": false,
    "nbpresent": {
     "id": "47e4a70d-e19d-40dd-93e8-acde0c1eeae0"
    },
    "slideshow": {
     "slide_type": "fragment"
    }
   },
   "outputs": [],
   "source": [
    "0b1111"
   ]
  },
  {
   "cell_type": "markdown",
   "metadata": {
    "nbpresent": {
     "id": "b452e668-e539-438a-920c-90ac814ac53b"
    },
    "slideshow": {
     "slide_type": "subslide"
    }
   },
   "source": [
    "Smallest and largest 32-bit signed integer (int32):"
   ]
  },
  {
   "cell_type": "markdown",
   "metadata": {
    "nbpresent": {
     "id": "9e96f406-d980-4fb6-9e12-7ec82fde97ff"
    },
    "slideshow": {
     "slide_type": "fragment"
    }
   },
   "source": [
    "1 bit is sign, 31 bits are available, so the highest number has 31 ones (111...11111). The *next highest* number is 1000...000, a one with 32 bits and 31 zeroes, i.e., $2^{31}$."
   ]
  },
  {
   "cell_type": "markdown",
   "metadata": {
    "nbpresent": {
     "id": "61809f7d-85f8-47fa-85d3-dad2bf6b672f"
    },
    "slideshow": {
     "slide_type": "fragment"
    }
   },
   "source": [
    "Thus, the highest number is $2^{31} - 1$:"
   ]
  },
  {
   "cell_type": "code",
   "execution_count": 22,
   "metadata": {
    "collapsed": false,
    "nbpresent": {
     "id": "ea2b0e0f-c5f4-4d45-aca7-f70069bfee65"
    },
    "slideshow": {
     "slide_type": "fragment"
    }
   },
   "outputs": [
    {
     "data": {
      "text/plain": [
       "2147483647"
      ]
     },
     "execution_count": 22,
     "metadata": {},
     "output_type": "execute_result"
    }
   ],
   "source": [
    "2**31 - 1"
   ]
  },
  {
   "cell_type": "markdown",
   "metadata": {
    "nbpresent": {
     "id": "47d28d69-5232-4e74-acbf-5a3442069323"
    }
   },
   "source": [
    "(and the smallest number is just $-(2^{31} - 1)$)"
   ]
  },
  {
   "cell_type": "markdown",
   "metadata": {
    "nbpresent": {
     "id": "dd0a719e-785e-49ca-837d-aeba5e8ed5e2"
    },
    "slideshow": {
     "slide_type": "subslide"
    }
   },
   "source": [
    "And int64 (signed):"
   ]
  },
  {
   "cell_type": "code",
   "execution_count": 23,
   "metadata": {
    "collapsed": false,
    "nbpresent": {
     "id": "8b2451d6-b316-4b62-8ae7-170729d8d004"
    }
   },
   "outputs": [
    {
     "name": "stdout",
     "output_type": "stream",
     "text": [
      "-9223372036854775807 9223372036854775807\n"
     ]
    }
   ],
   "source": [
    "max64 = 2**(64-1) - 1\n",
    "print(-max64, max64)"
   ]
  },
  {
   "cell_type": "markdown",
   "metadata": {
    "nbpresent": {
     "id": "63164086-0bb8-4115-b67d-ecef2d6d0d01"
    },
    "slideshow": {
     "slide_type": "subslide"
    }
   },
   "source": [
    "### Python's arbitrary precision integers "
   ]
  },
  {
   "cell_type": "markdown",
   "metadata": {
    "nbpresent": {
     "id": "126767e9-2f3d-4e48-9a78-98f5abb2f55b"
    }
   },
   "source": [
    "In Python, integers *have arbitrary precision*: integer arithmetic (`+`, `-`, `*`, `//`) is exact and will not overflow. Thus the following code will run forever (until memory is exhausted); if you run it, you can stop the evaluation with the ''Kernel / Interrupt'' menu command in the notebook and then investigate `n` and `nbits`:"
   ]
  },
  {
   "cell_type": "code",
   "execution_count": 2,
   "metadata": {
    "collapsed": false,
    "nbpresent": {
     "id": "b439cebb-9584-46b8-a655-a224cabec700"
    }
   },
   "outputs": [
    {
     "ename": "KeyboardInterrupt",
     "evalue": "",
     "output_type": "error",
     "traceback": [
      "\u001b[0;31m---------------------------------------------------------------------------\u001b[0m",
      "\u001b[0;31mKeyboardInterrupt\u001b[0m                         Traceback (most recent call last)",
      "\u001b[0;32m<ipython-input-2-f17cfc67fcdf>\u001b[0m in \u001b[0;36m<module>\u001b[0;34m()\u001b[0m\n\u001b[1;32m      2\u001b[0m \u001b[0mnbits\u001b[0m \u001b[0;34m=\u001b[0m \u001b[0;36m1\u001b[0m\u001b[0;34m\u001b[0m\u001b[0m\n\u001b[1;32m      3\u001b[0m \u001b[0;32mwhile\u001b[0m \u001b[0;32mTrue\u001b[0m\u001b[0;34m:\u001b[0m\u001b[0;34m\u001b[0m\u001b[0m\n\u001b[0;32m----> 4\u001b[0;31m     \u001b[0mn\u001b[0m \u001b[0;34m*=\u001b[0m \u001b[0;36m2\u001b[0m\u001b[0;34m\u001b[0m\u001b[0m\n\u001b[0m\u001b[1;32m      5\u001b[0m     \u001b[0mnbits\u001b[0m \u001b[0;34m+=\u001b[0m \u001b[0;36m1\u001b[0m\u001b[0;34m\u001b[0m\u001b[0m\n",
      "\u001b[0;31mKeyboardInterrupt\u001b[0m: "
     ]
    }
   ],
   "source": [
    "n = 1 \n",
    "nbits = 1\n",
    "while True:\n",
    "    n *= 2\n",
    "    nbits += 1"
   ]
  },
  {
   "cell_type": "code",
   "execution_count": 3,
   "metadata": {
    "collapsed": false,
    "nbpresent": {
     "id": "f521aada-df67-47b1-960a-9b5eb2291861"
    },
    "slideshow": {
     "slide_type": "subslide"
    }
   },
   "outputs": [
    {
     "data": {
      "text/plain": [
       "int"
      ]
     },
     "execution_count": 3,
     "metadata": {},
     "output_type": "execute_result"
    }
   ],
   "source": [
    "type(n)"
   ]
  },
  {
   "cell_type": "code",
   "execution_count": 4,
   "metadata": {
    "collapsed": false,
    "nbpresent": {
     "id": "b8005015-6e5e-4ddd-a781-9c31e44a9171"
    }
   },
   "outputs": [
    {
     "data": {
      "text/plain": [
       "779311"
      ]
     },
     "execution_count": 4,
     "metadata": {},
     "output_type": "execute_result"
    }
   ],
   "source": [
    "int.bit_length(n)"
   ]
  },
  {
   "cell_type": "code",
   "execution_count": 5,
   "metadata": {
    "collapsed": false,
    "nbpresent": {
     "id": "cc73d924-f587-4fc2-8320-4608cb08b20f"
    },
    "scrolled": true
   },
   "outputs": [
    {
     "data": {
      "text/plain": [
       "779311"
      ]
     },
     "execution_count": 5,
     "metadata": {},
     "output_type": "execute_result"
    }
   ],
   "source": [
    "nbits"
   ]
  },
  {
   "cell_type": "markdown",
   "metadata": {
    "nbpresent": {
     "id": "4bdfee4f-8d8f-470a-aeb5-6a757f581f03"
    },
    "slideshow": {
     "slide_type": "subslide"
    }
   },
   "source": [
    "### NumPy has fixed precision integers\n",
    "NumPy data types (dtypes) are fixed precision. Overflows \"wrap around\":"
   ]
  },
  {
   "cell_type": "code",
   "execution_count": 24,
   "metadata": {
    "collapsed": true,
    "nbpresent": {
     "id": "068a07a2-636f-4985-a370-11d6536f4173"
    }
   },
   "outputs": [],
   "source": [
    "import numpy as np"
   ]
  },
  {
   "cell_type": "code",
   "execution_count": 25,
   "metadata": {
    "collapsed": false,
    "nbpresent": {
     "id": "70eb1399-ee1e-4f2f-a563-331082675475"
    },
    "slideshow": {
     "slide_type": "fragment"
    }
   },
   "outputs": [
    {
     "data": {
      "text/plain": [
       "array([32767], dtype=int16)"
      ]
     },
     "execution_count": 25,
     "metadata": {},
     "output_type": "execute_result"
    }
   ],
   "source": [
    "np.array([2**15-1], dtype=np.int16)"
   ]
  },
  {
   "cell_type": "code",
   "execution_count": 26,
   "metadata": {
    "collapsed": false,
    "nbpresent": {
     "id": "4645022f-d3aa-4199-b0a0-31cbab79f48e"
    },
    "slideshow": {
     "slide_type": "fragment"
    }
   },
   "outputs": [
    {
     "data": {
      "text/plain": [
       "array([-32768], dtype=int16)"
      ]
     },
     "execution_count": 26,
     "metadata": {},
     "output_type": "execute_result"
    }
   ],
   "source": [
    "np.array([2**15], dtype=np.int16)"
   ]
  },
  {
   "cell_type": "code",
   "execution_count": 27,
   "metadata": {
    "collapsed": false,
    "nbpresent": {
     "id": "a7a8b65d-460b-48a1-b5a8-7370f549879a"
    },
    "slideshow": {
     "slide_type": "fragment"
    }
   },
   "outputs": [
    {
     "data": {
      "text/plain": [
       "array([-32767], dtype=int16)"
      ]
     },
     "execution_count": 27,
     "metadata": {},
     "output_type": "execute_result"
    }
   ],
   "source": [
    "np.array([2**15 + 1], dtype=np.int16)"
   ]
  },
  {
   "cell_type": "markdown",
   "metadata": {
    "nbpresent": {
     "id": "77ff4a67-fe07-4675-838a-91b996f6f16c"
    },
    "slideshow": {
     "slide_type": "slide"
    }
   },
   "source": [
    "## Binary fractions\n",
    "Decimal fractions can be represented as binary fractions:\n",
    "\n",
    "Convert $0.125_{10}$ to base 2:"
   ]
  },
  {
   "cell_type": "code",
   "execution_count": 28,
   "metadata": {
    "collapsed": false,
    "nbpresent": {
     "id": "9bb9458c-97ca-4c43-b234-f2f4b4264940"
    },
    "slideshow": {
     "slide_type": "fragment"
    }
   },
   "outputs": [
    {
     "data": {
      "text/plain": [
       "0.25"
      ]
     },
     "execution_count": 28,
     "metadata": {},
     "output_type": "execute_result"
    }
   ],
   "source": [
    "0.125 * 2  # 0.0"
   ]
  },
  {
   "cell_type": "code",
   "execution_count": 29,
   "metadata": {
    "collapsed": false,
    "nbpresent": {
     "id": "8a8a2267-a1eb-4a50-bd8c-5c0de40c6e5e"
    },
    "slideshow": {
     "slide_type": "fragment"
    }
   },
   "outputs": [
    {
     "data": {
      "text/plain": [
       "0.5"
      ]
     },
     "execution_count": 29,
     "metadata": {},
     "output_type": "execute_result"
    }
   ],
   "source": [
    "_ * 2      # 0.00"
   ]
  },
  {
   "cell_type": "code",
   "execution_count": 30,
   "metadata": {
    "collapsed": false,
    "nbpresent": {
     "id": "5cc5b87f-c925-47e4-8c1a-49a6f0ee4896"
    },
    "slideshow": {
     "slide_type": "fragment"
    }
   },
   "outputs": [
    {
     "data": {
      "text/plain": [
       "1.0"
      ]
     },
     "execution_count": 30,
     "metadata": {},
     "output_type": "execute_result"
    }
   ],
   "source": [
    "_ * 2      # 0.001"
   ]
  },
  {
   "cell_type": "markdown",
   "metadata": {
    "nbpresent": {
     "id": "a6a8ff4b-73da-4bde-9d50-722f85bd07de"
    }
   },
   "source": [
    "Thus the binary representation of $0.125_{10}$ is $0.001_2$."
   ]
  },
  {
   "cell_type": "markdown",
   "metadata": {
    "nbpresent": {
     "id": "b197b603-9088-4206-83ab-b384fd6496a6"
    },
    "slideshow": {
     "slide_type": "subslide"
    }
   },
   "source": [
    "General recipe:\n",
    "- multiply by 2\n",
    "- if you get a number < 1, add a digit 0 to the right\n",
    "- if you get a number ≥ 1, add a digit 1 to the right and then use the remainder in the same fashion"
   ]
  },
  {
   "cell_type": "code",
   "execution_count": 32,
   "metadata": {
    "collapsed": false,
    "nbpresent": {
     "id": "d89b6907-11ab-4c5c-8d8d-5b4eecbe52f7"
    }
   },
   "outputs": [
    {
     "data": {
      "text/plain": [
       "0.625"
      ]
     },
     "execution_count": 32,
     "metadata": {},
     "output_type": "execute_result"
    }
   ],
   "source": [
    "0.3125 * 2    # 0.0"
   ]
  },
  {
   "cell_type": "code",
   "execution_count": 33,
   "metadata": {
    "collapsed": false,
    "slideshow": {
     "slide_type": "fragment"
    }
   },
   "outputs": [
    {
     "data": {
      "text/plain": [
       "1.25"
      ]
     },
     "execution_count": 33,
     "metadata": {},
     "output_type": "execute_result"
    }
   ],
   "source": [
    "_ * 2         # 0.01"
   ]
  },
  {
   "cell_type": "code",
   "execution_count": 34,
   "metadata": {
    "collapsed": false,
    "slideshow": {
     "slide_type": "fragment"
    }
   },
   "outputs": [
    {
     "data": {
      "text/plain": [
       "0.5"
      ]
     },
     "execution_count": 34,
     "metadata": {},
     "output_type": "execute_result"
    }
   ],
   "source": [
    "(_ - 1) * 2   # 0.010"
   ]
  },
  {
   "cell_type": "code",
   "execution_count": 35,
   "metadata": {
    "collapsed": false,
    "slideshow": {
     "slide_type": "fragment"
    }
   },
   "outputs": [
    {
     "data": {
      "text/plain": [
       "1.0"
      ]
     },
     "execution_count": 35,
     "metadata": {},
     "output_type": "execute_result"
    }
   ],
   "source": [
    "_ * 2         # 0.0101"
   ]
  },
  {
   "cell_type": "markdown",
   "metadata": {
    "nbpresent": {
     "id": "692848dc-d215-472a-8192-0864590a227a"
    },
    "slideshow": {
     "slide_type": "fragment"
    }
   },
   "source": [
    "Thus, 0.3125 is $0.0101_2$."
   ]
  },
  {
   "cell_type": "markdown",
   "metadata": {
    "nbpresent": {
     "id": "a611d7cb-864a-4d73-9c92-58e865c01826"
    },
    "slideshow": {
     "slide_type": "subslide"
    }
   },
   "source": [
    "What is the binary representation of decimal $0.1 = \\frac{1}{10}$?"
   ]
  },
  {
   "cell_type": "code",
   "execution_count": 52,
   "metadata": {
    "collapsed": false,
    "nbpresent": {
     "id": "cac5a3ae-35cd-4a2b-ae61-b029ebf55498"
    },
    "slideshow": {
     "slide_type": "fragment"
    }
   },
   "outputs": [
    {
     "data": {
      "text/plain": [
       "0.2"
      ]
     },
     "execution_count": 52,
     "metadata": {},
     "output_type": "execute_result"
    }
   ],
   "source": [
    "0.1 * 2  # 0"
   ]
  },
  {
   "cell_type": "code",
   "execution_count": 53,
   "metadata": {
    "collapsed": false,
    "nbpresent": {
     "id": "c11b3fc7-4100-4c6f-adcf-de0b4458ada6"
    },
    "slideshow": {
     "slide_type": "fragment"
    }
   },
   "outputs": [
    {
     "data": {
      "text/plain": [
       "0.4"
      ]
     },
     "execution_count": 53,
     "metadata": {},
     "output_type": "execute_result"
    }
   ],
   "source": [
    "_ * 2   # 0"
   ]
  },
  {
   "cell_type": "code",
   "execution_count": 54,
   "metadata": {
    "collapsed": false,
    "nbpresent": {
     "id": "bcf6df92-62c5-4860-b6b4-16e013b57c97"
    },
    "slideshow": {
     "slide_type": "fragment"
    }
   },
   "outputs": [
    {
     "data": {
      "text/plain": [
       "0.8"
      ]
     },
     "execution_count": 54,
     "metadata": {},
     "output_type": "execute_result"
    }
   ],
   "source": [
    "_ *  2  # 0"
   ]
  },
  {
   "cell_type": "code",
   "execution_count": 55,
   "metadata": {
    "collapsed": false,
    "nbpresent": {
     "id": "41f5f8cf-a807-4332-a695-48f1759bc4f7"
    },
    "slideshow": {
     "slide_type": "fragment"
    }
   },
   "outputs": [
    {
     "data": {
      "text/plain": [
       "1.6"
      ]
     },
     "execution_count": 55,
     "metadata": {},
     "output_type": "execute_result"
    }
   ],
   "source": [
    "_ * 2  # 1"
   ]
  },
  {
   "cell_type": "code",
   "execution_count": 56,
   "metadata": {
    "collapsed": false,
    "nbpresent": {
     "id": "256c0ec6-e480-456e-82ec-2b384a8205e5"
    },
    "slideshow": {
     "slide_type": "fragment"
    }
   },
   "outputs": [
    {
     "data": {
      "text/plain": [
       "1.2000000000000002"
      ]
     },
     "execution_count": 56,
     "metadata": {},
     "output_type": "execute_result"
    }
   ],
   "source": [
    "(_ - 1) * 2  # 1"
   ]
  },
  {
   "cell_type": "code",
   "execution_count": 57,
   "metadata": {
    "collapsed": false,
    "nbpresent": {
     "id": "87506381-29d5-4437-ae55-4e617565f7ad"
    },
    "slideshow": {
     "slide_type": "subslide"
    }
   },
   "outputs": [
    {
     "data": {
      "text/plain": [
       "0.40000000000000036"
      ]
     },
     "execution_count": 57,
     "metadata": {},
     "output_type": "execute_result"
    }
   ],
   "source": [
    "(_ - 1) * 2  # 0"
   ]
  },
  {
   "cell_type": "code",
   "execution_count": 58,
   "metadata": {
    "collapsed": false,
    "nbpresent": {
     "id": "d1420898-d687-4547-bd57-20c76b718ef4"
    },
    "slideshow": {
     "slide_type": "fragment"
    }
   },
   "outputs": [
    {
     "data": {
      "text/plain": [
       "0.8000000000000007"
      ]
     },
     "execution_count": 58,
     "metadata": {},
     "output_type": "execute_result"
    }
   ],
   "source": [
    "_ * 2  # 0 "
   ]
  },
  {
   "cell_type": "code",
   "execution_count": 59,
   "metadata": {
    "collapsed": false,
    "nbpresent": {
     "id": "cba6d1e4-881c-49de-a927-15d502e7c10b"
    },
    "slideshow": {
     "slide_type": "fragment"
    }
   },
   "outputs": [
    {
     "data": {
      "text/plain": [
       "1.6000000000000014"
      ]
     },
     "execution_count": 59,
     "metadata": {},
     "output_type": "execute_result"
    }
   ],
   "source": [
    "_ * 2  # 1 "
   ]
  },
  {
   "cell_type": "markdown",
   "metadata": {
    "nbpresent": {
     "id": "71e2a420-fa68-4f76-85c4-eaf16f56610b"
    },
    "slideshow": {
     "slide_type": "fragment"
    }
   },
   "source": [
    "... etc: this is an infinitely repeating fraction and the binary representation of $0.1_{10}$ is $0.000 1100 1100 1100 ..._2$.\n",
    "\n",
    "**Thus, with a finite number of bits, 0.1 is not exactly representable in the computer.**"
   ]
  },
  {
   "cell_type": "markdown",
   "metadata": {
    "nbpresent": {
     "id": "ccff977d-1bad-4a54-920a-67d32c4da08c"
    },
    "slideshow": {
     "slide_type": "subslide"
    }
   },
   "source": [
    "The number 0.1 is not stored exactly in the computer. `print` only shows you a convenient approximation:"
   ]
  },
  {
   "cell_type": "code",
   "execution_count": 60,
   "metadata": {
    "collapsed": false,
    "nbpresent": {
     "id": "42b221fb-993f-4255-a5c7-92d4670e5809"
    }
   },
   "outputs": [
    {
     "name": "stdout",
     "output_type": "stream",
     "text": [
      "0.1\n"
     ]
    }
   ],
   "source": [
    "print(0.1)"
   ]
  },
  {
   "cell_type": "code",
   "execution_count": 61,
   "metadata": {
    "collapsed": false,
    "nbpresent": {
     "id": "bc4af227-7435-4493-984f-9994630a7bfc"
    }
   },
   "outputs": [
    {
     "name": "stdout",
     "output_type": "stream",
     "text": [
      "0.1000000000000000055511151231257827021181583404541015625\n"
     ]
    }
   ],
   "source": [
    "print(\"{0:.55f}\".format(0.1))"
   ]
  },
  {
   "cell_type": "markdown",
   "metadata": {
    "nbpresent": {
     "id": "bec99fe1-c645-4771-b4f5-7d3393995f23"
    },
    "slideshow": {
     "slide_type": "slide"
    }
   },
   "source": [
    "## Problems with floating point arithmetic\n",
    "\n",
    "Only a subset of all real numbers can be represented with **floating point numbers of finite bit size**. Almost all floating point numbers are not exact:"
   ]
  },
  {
   "cell_type": "code",
   "execution_count": 62,
   "metadata": {
    "collapsed": false,
    "nbpresent": {
     "id": "60706432-dcfd-4788-a8df-87b980cd9776"
    },
    "slideshow": {
     "slide_type": "fragment"
    }
   },
   "outputs": [
    {
     "data": {
      "text/plain": [
       "False"
      ]
     },
     "execution_count": 62,
     "metadata": {},
     "output_type": "execute_result"
    }
   ],
   "source": [
    "0.1 + 0.1 + 0.1 == 0.3"
   ]
  },
  {
   "cell_type": "markdown",
   "metadata": {
    "nbpresent": {
     "id": "2c599aa3-cf3f-4e65-ae3c-ed64b8593eec"
    },
    "slideshow": {
     "slide_type": "fragment"
    }
   },
   "source": [
    "... which should have yielded `True`! But because the machine representation of 0.1 is not exact, the equality cannot be fulfilled."
   ]
  },
  {
   "cell_type": "markdown",
   "metadata": {
    "nbpresent": {
     "id": "f4542400-ceb8-4998-ac88-0aafbd7002bd"
    },
    "slideshow": {
     "slide_type": "slide"
    }
   },
   "source": [
    "## Representation of floats: IEEE 754\n",
    "\n",
    "Floating point numbers are stored in \"scientific notation\": e.g. $c = 2.88792458 \\times 10^8$ m/s\n",
    "  * **mantissa**: $2.88792458$\n",
    "  * **exponent**: $+8$\n",
    "  * **sign**: +\n",
    "\n",
    "Format: \n",
    "$$\n",
    "x = (-1)^s \\times 1.f \\times 2^{e - \\mathrm{bias}}\n",
    "$$\n",
    "\n",
    "($f$ is $M$ bits long. The leading 1 in the mantissa is assumed and not stored: \"ghost\" or \"phantom\" bit.)"
   ]
  },
  {
   "cell_type": "markdown",
   "metadata": {
    "nbpresent": {
     "id": "af94b571-be80-4e33-a0fc-caf38cb96d2e"
    },
    "slideshow": {
     "slide_type": "subslide"
    }
   },
   "source": [
    "Format: \n",
    "\n",
    "$$\n",
    "x = (-1)^s \\times 1.f \\times 2^{e - \\mathrm{bias}}\n",
    "$$\n",
    "\n",
    "Note: \n",
    "* In IEEE 754, the highest value of $e$ in the exponent is reserved and not used, e.g. for a 32-bit *float* (see below) the exponent has $(30 - 23) + 1 = 8$ bit and hence the highest number for $e$ is $(2^8 - 1) - 1 = 255 - 1 = 254$. Taking the *bias* into account (for *float*, *bias* = 127), the largest value for the exponent is $2^{254 - 127} = 2^{127}$.\n",
    "* The case of $e=0$ is also special. In this case, the format is $$x = (-1)^s \\times 0.f \\times 2^{-\\mathrm{bias}}$$ i.e. the \"ghost 1\" becomes a zero, gaining a additional order of magnitude."
   ]
  },
  {
   "cell_type": "markdown",
   "metadata": {
    "nbpresent": {
     "id": "db5901b9-55cf-4f94-a886-c59e3f090ad7"
    },
    "slideshow": {
     "slide_type": "subslide"
    }
   },
   "source": [
    "### IEEE float (32 bit)\n",
    "\n",
    "IEEE *float* uses **32 bits**\n",
    "  * $\\mathrm{bias} = 127_{10}$\n",
    "  * bits\n",
    "    <table>\n",
    "    <tr><td></td><td>s</td><td>e</td><td>f</td></tr>\n",
    "    <tr><td>bit position</td><td>31</td><td>30–23</td><td>22–0</td></tr>\n",
    "    </table>\n",
    "  * **six or seven decimal places of significance** (1 in $2^{23}$)\n",
    "  * range: $1.4 \\times 10^{-45} \\leq |x_{(32)}| \\leq 3.4 \\times 10^{38}$ "
   ]
  },
  {
   "cell_type": "code",
   "execution_count": 63,
   "metadata": {
    "collapsed": false,
    "nbpresent": {
     "id": "90a705cc-2e10-44d4-949d-9d509e449e4c"
    },
    "slideshow": {
     "slide_type": "fragment"
    }
   },
   "outputs": [
    {
     "data": {
      "text/plain": [
       "1.1920928955078125e-07"
      ]
     },
     "execution_count": 63,
     "metadata": {},
     "output_type": "execute_result"
    }
   ],
   "source": [
    "1/2**23"
   ]
  },
  {
   "cell_type": "markdown",
   "metadata": {
    "nbpresent": {
     "id": "3c3732d0-ac76-4b16-abb8-168a9b107f27"
    },
    "slideshow": {
     "slide_type": "subslide"
    }
   },
   "source": [
    "### IEEE double (64 bit)\n",
    "Python floating point numbers are 64-bit doubles. NumPy has dtypes `float32` and `float64`.\n",
    "\n",
    "\n",
    "IEEE *double* uses **64 bits**\n",
    "  * $\\mathrm{bias} = 1023_{10}$\n",
    "  * bits\n",
    "    <table>\n",
    "    <tr><td></td><td>s</td><td>e</td><td>f</td></tr>\n",
    "    <tr><td>bit position</td><td>63</td><td>62–52</td><td>51–0</td></tr>\n",
    "    </table>\n",
    "  * **about 16 decimal places of significance** (1 in $2^{52}$)\n",
    "  * range: $4.9 \\times 10^{-324} \\leq |x_{(64)}| \\leq 1.8 \\times 10^{308}$ \n"
   ]
  },
  {
   "cell_type": "code",
   "execution_count": 64,
   "metadata": {
    "collapsed": false,
    "nbpresent": {
     "id": "e8ae2f22-b95e-4238-ae0c-bac8927275a4"
    }
   },
   "outputs": [
    {
     "data": {
      "text/plain": [
       "2.220446049250313e-16"
      ]
     },
     "execution_count": 64,
     "metadata": {},
     "output_type": "execute_result"
    }
   ],
   "source": [
    "1/2**52"
   ]
  },
  {
   "cell_type": "markdown",
   "metadata": {
    "nbpresent": {
     "id": "dd679719-d7cd-4661-85e0-856f6b8ef972"
    }
   },
   "source": [
    "For numerical calculations, *doubles* are typically required."
   ]
  },
  {
   "cell_type": "markdown",
   "metadata": {
    "nbpresent": {
     "id": "3ffc0bfe-f352-4852-8415-6b562e34aa63"
    },
    "slideshow": {
     "slide_type": "subslide"
    }
   },
   "source": [
    "### Special numbers\n",
    "IEEE 754 also introduces special \"numbers\" that can result from floating point arithmetic\n",
    "* `NaN` (not a number)\n",
    "* `+INF` and `-INF` (infinity)\n",
    "* `-0` (signed zero)"
   ]
  },
  {
   "cell_type": "markdown",
   "metadata": {
    "nbpresent": {
     "id": "bd921889-a302-48c6-bfae-e3bd4f5f0897"
    },
    "slideshow": {
     "slide_type": "subslide"
    }
   },
   "source": [
    "Python itself does not use the IEEE special numbers"
   ]
  },
  {
   "cell_type": "code",
   "execution_count": 65,
   "metadata": {
    "collapsed": false,
    "nbpresent": {
     "id": "69e4fcaa-80ce-491a-a7ad-343cb460424e"
    }
   },
   "outputs": [
    {
     "ename": "ZeroDivisionError",
     "evalue": "division by zero",
     "output_type": "error",
     "traceback": [
      "\u001b[0;31m---------------------------------------------------------------------------\u001b[0m",
      "\u001b[0;31mZeroDivisionError\u001b[0m                         Traceback (most recent call last)",
      "\u001b[0;32m<ipython-input-65-05c9758a9c21>\u001b[0m in \u001b[0;36m<module>\u001b[0;34m()\u001b[0m\n\u001b[0;32m----> 1\u001b[0;31m \u001b[0;36m1\u001b[0m\u001b[0;34m/\u001b[0m\u001b[0;36m0\u001b[0m\u001b[0;34m\u001b[0m\u001b[0m\n\u001b[0m",
      "\u001b[0;31mZeroDivisionError\u001b[0m: division by zero"
     ]
    }
   ],
   "source": [
    "1/0"
   ]
  },
  {
   "cell_type": "markdown",
   "metadata": {
    "nbpresent": {
     "id": "aa0d3a24-9355-482e-a944-a439536f7461"
    },
    "slideshow": {
     "slide_type": "subslide"
    }
   },
   "source": [
    "But numpy does:"
   ]
  },
  {
   "cell_type": "code",
   "execution_count": 66,
   "metadata": {
    "collapsed": false,
    "nbpresent": {
     "id": "1b9d6aaa-d8ee-4db5-8d8e-7594083c924c"
    },
    "scrolled": true
   },
   "outputs": [
    {
     "name": "stderr",
     "output_type": "stream",
     "text": [
      "/Users/oliver/anaconda3/lib/python3.5/site-packages/ipykernel/__main__.py:1: RuntimeWarning: divide by zero encountered in true_divide\n",
      "  if __name__ == '__main__':\n"
     ]
    },
    {
     "data": {
      "text/plain": [
       "array([ inf, -inf])"
      ]
     },
     "execution_count": 66,
     "metadata": {},
     "output_type": "execute_result"
    }
   ],
   "source": [
    "np.array([1, -1])/np.zeros(2)"
   ]
  },
  {
   "cell_type": "markdown",
   "metadata": {
    "nbpresent": {
     "id": "33f6354b-147b-416b-987f-a02912424342"
    },
    "slideshow": {
     "slide_type": "fragment"
    }
   },
   "source": [
    "But beware, you cannot use `INF` to \"take limits\". It is purely a sign that something bad happened somewhere..."
   ]
  },
  {
   "cell_type": "markdown",
   "metadata": {
    "slideshow": {
     "slide_type": "fragment"
    }
   },
   "source": [
    "And **not a number**, `nan`"
   ]
  },
  {
   "cell_type": "code",
   "execution_count": 67,
   "metadata": {
    "collapsed": false,
    "nbpresent": {
     "id": "62636dd1-0dd1-485b-a979-620ffe456de0"
    },
    "scrolled": true,
    "slideshow": {
     "slide_type": "-"
    }
   },
   "outputs": [
    {
     "name": "stderr",
     "output_type": "stream",
     "text": [
      "/Users/oliver/anaconda3/lib/python3.5/site-packages/ipykernel/__main__.py:1: RuntimeWarning: invalid value encountered in true_divide\n",
      "  if __name__ == '__main__':\n"
     ]
    },
    {
     "data": {
      "text/plain": [
       "array([ nan,  nan])"
      ]
     },
     "execution_count": 67,
     "metadata": {},
     "output_type": "execute_result"
    }
   ],
   "source": [
    "np.zeros(2)/np.zeros(2)"
   ]
  },
  {
   "cell_type": "markdown",
   "metadata": {
    "nbpresent": {
     "id": "3b5b1758-bd76-4847-b32c-878996fcd407"
    },
    "slideshow": {
     "slide_type": "subslide"
    }
   },
   "source": [
    "### Overflow and underflow\n",
    "\n",
    "* underflow: typically just set to zero (and that works well most of the time)\n",
    "* overflow: raises exception or just set to `inf`"
   ]
  },
  {
   "cell_type": "code",
   "execution_count": 68,
   "metadata": {
    "collapsed": false,
    "nbpresent": {
     "id": "4873ac11-247b-4f69-b668-2332840691c5"
    }
   },
   "outputs": [
    {
     "data": {
      "text/plain": [
       "1.79e+308"
      ]
     },
     "execution_count": 68,
     "metadata": {},
     "output_type": "execute_result"
    }
   ],
   "source": [
    "big = 1.79e308\n",
    "big"
   ]
  },
  {
   "cell_type": "code",
   "execution_count": 69,
   "metadata": {
    "collapsed": false,
    "nbpresent": {
     "id": "66270b9d-bb6e-4b94-8cf7-eca82b30d794"
    }
   },
   "outputs": [
    {
     "data": {
      "text/plain": [
       "inf"
      ]
     },
     "execution_count": 69,
     "metadata": {},
     "output_type": "execute_result"
    }
   ],
   "source": [
    "2 * big"
   ]
  },
  {
   "cell_type": "code",
   "execution_count": 70,
   "metadata": {
    "collapsed": false,
    "nbpresent": {
     "id": "9058fabf-8ff7-4c20-817c-fcce56af2c37"
    }
   },
   "outputs": [
    {
     "name": "stderr",
     "output_type": "stream",
     "text": [
      "/Users/oliver/anaconda3/lib/python3.5/site-packages/ipykernel/__main__.py:1: RuntimeWarning: overflow encountered in multiply\n",
      "  if __name__ == '__main__':\n"
     ]
    },
    {
     "data": {
      "text/plain": [
       "array([ inf])"
      ]
     },
     "execution_count": 70,
     "metadata": {},
     "output_type": "execute_result"
    }
   ],
   "source": [
    "2 * np.array([big], dtype=np.float64)"
   ]
  },
  {
   "cell_type": "markdown",
   "metadata": {
    "nbpresent": {
     "id": "93e580a2-3d10-4919-b91f-84872af916c0"
    },
    "slideshow": {
     "slide_type": "subslide"
    }
   },
   "source": [
    "... but you can just use an even bigger data type:"
   ]
  },
  {
   "cell_type": "code",
   "execution_count": 71,
   "metadata": {
    "collapsed": false,
    "nbpresent": {
     "id": "664d2a53-f8b4-46d9-8cba-197a80207007"
    }
   },
   "outputs": [
    {
     "data": {
      "text/plain": [
       "array([ 3.58e+308], dtype=float128)"
      ]
     },
     "execution_count": 71,
     "metadata": {},
     "output_type": "execute_result"
    }
   ],
   "source": [
    "2 * np.array([big], dtype=np.float128)"
   ]
  },
  {
   "cell_type": "markdown",
   "metadata": {
    "nbpresent": {
     "id": "1e44225a-62fc-4473-b260-9122fc9418ca"
    },
    "slideshow": {
     "slide_type": "slide"
    }
   },
   "source": [
    "### Insignificant digits"
   ]
  },
  {
   "cell_type": "code",
   "execution_count": 72,
   "metadata": {
    "collapsed": false,
    "nbpresent": {
     "id": "1ba45ec2-d307-460f-8ec2-e7f5d1578c05"
    }
   },
   "outputs": [
    {
     "name": "stdout",
     "output_type": "stream",
     "text": [
      "0.20000000000004547\n"
     ]
    }
   ],
   "source": [
    "x = 1000.2\n",
    "A = 1000.2 - 1000.0\n",
    "print(A)"
   ]
  },
  {
   "cell_type": "code",
   "execution_count": 73,
   "metadata": {
    "collapsed": false,
    "nbpresent": {
     "id": "57f50a5d-b0d4-4a88-991a-afcd173714c8"
    },
    "slideshow": {
     "slide_type": "fragment"
    }
   },
   "outputs": [
    {
     "data": {
      "text/plain": [
       "False"
      ]
     },
     "execution_count": 73,
     "metadata": {},
     "output_type": "execute_result"
    }
   ],
   "source": [
    "A == 0.2"
   ]
  },
  {
   "cell_type": "markdown",
   "metadata": {
    "nbpresent": {
     "id": "8efd7e27-9314-4790-9544-2017618f1dd6"
    },
    "slideshow": {
     "slide_type": "fragment"
    }
   },
   "source": [
    "... oops"
   ]
  },
  {
   "cell_type": "code",
   "execution_count": 74,
   "metadata": {
    "collapsed": false,
    "nbpresent": {
     "id": "a64135c7-990b-469b-8c60-8d522eacd089"
    },
    "slideshow": {
     "slide_type": "subslide"
    }
   },
   "outputs": [
    {
     "data": {
      "text/plain": [
       "700.0"
      ]
     },
     "execution_count": 74,
     "metadata": {},
     "output_type": "execute_result"
    }
   ],
   "source": [
    "x = 700\n",
    "y = 1e-14\n",
    "x - y"
   ]
  },
  {
   "cell_type": "code",
   "execution_count": 75,
   "metadata": {
    "collapsed": false,
    "nbpresent": {
     "id": "948dd07e-4b78-43e2-8efe-1daac7a59e18"
    },
    "slideshow": {
     "slide_type": "fragment"
    }
   },
   "outputs": [
    {
     "data": {
      "text/plain": [
       "False"
      ]
     },
     "execution_count": 75,
     "metadata": {},
     "output_type": "execute_result"
    }
   ],
   "source": [
    "x - y < 700"
   ]
  },
  {
   "cell_type": "markdown",
   "metadata": {
    "nbpresent": {
     "id": "8011b45e-3181-4f12-b0d2-0e1e46c2111f"
    },
    "slideshow": {
     "slide_type": "fragment"
    }
   },
   "source": [
    "... ooops"
   ]
  },
  {
   "cell_type": "markdown",
   "metadata": {
    "nbpresent": {
     "id": "89fbbed7-384a-4926-9901-cf0e9cc2b692"
    },
    "slideshow": {
     "slide_type": "slide"
    }
   },
   "source": [
    "## Machine precision\n",
    "Only a limited number of floating point numbers can be represented. This *limited precision* affects calculations:\n"
   ]
  },
  {
   "cell_type": "code",
   "execution_count": 76,
   "metadata": {
    "collapsed": false,
    "nbpresent": {
     "id": "09461108-573f-4ac1-b7f0-7f2c604935ae"
    }
   },
   "outputs": [
    {
     "data": {
      "text/plain": [
       "5.0"
      ]
     },
     "execution_count": 76,
     "metadata": {},
     "output_type": "execute_result"
    }
   ],
   "source": [
    "x = 5  + 1e-16\n",
    "x"
   ]
  },
  {
   "cell_type": "code",
   "execution_count": 77,
   "metadata": {
    "collapsed": false,
    "nbpresent": {
     "id": "939a478a-83eb-4c35-9adc-ba79299c9591"
    },
    "slideshow": {
     "slide_type": "fragment"
    }
   },
   "outputs": [
    {
     "data": {
      "text/plain": [
       "True"
      ]
     },
     "execution_count": 77,
     "metadata": {},
     "output_type": "execute_result"
    }
   ],
   "source": [
    "x == 5"
   ]
  },
  {
   "cell_type": "markdown",
   "metadata": {
    "nbpresent": {
     "id": "0d6185d9-53ff-4265-a1bb-3603e16178f7"
    },
    "slideshow": {
     "slide_type": "fragment"
    }
   },
   "source": [
    "... oops."
   ]
  },
  {
   "cell_type": "markdown",
   "metadata": {
    "nbpresent": {
     "id": "8553cb11-0754-4b01-86d6-252873a6846a"
    },
    "slideshow": {
     "slide_type": "subslide"
    }
   },
   "source": [
    "**Machine precision** $\\epsilon_m$ is defined as the maximum number that can be added to 1 in the computer without changing that number 1:\n",
    "\n",
    "$$\n",
    "1_c + \\epsilon_m := 1_c\n",
    "$$\n",
    "\n",
    "Thus, the *floating point representation* $x_c$ of an arbitrary number $x$ is \"in the vicinity of $x$\"\n",
    "\n",
    "$$\n",
    "x_c = x(1\\pm\\epsilon), \\quad |\\epsilon| \\leq \\epsilon_m\n",
    "$$\n",
    "\n",
    "where we don't know the true value of $\\epsilon$."
   ]
  },
  {
   "cell_type": "markdown",
   "metadata": {
    "nbpresent": {
     "id": "42ba93a9-cbdc-4cb5-b281-9d8ff7925c58"
    },
    "slideshow": {
     "slide_type": "fragment"
    }
   },
   "source": [
    "Thus except for powers of 2 (which are represented exactly) **all floating point numbers contain an unknown error in the 6th decimal place (32 bit floats) or 15th decimal (64 bit doubles)**. \n",
    "\n",
    "This error should be treated as a random error because we don't know its magnitude."
   ]
  },
  {
   "cell_type": "code",
   "execution_count": 78,
   "metadata": {
    "collapsed": false,
    "nbpresent": {
     "id": "8474338a-d69a-4f30-b8b1-73e20e0681d0"
    },
    "slideshow": {
     "slide_type": "subslide"
    }
   },
   "outputs": [
    {
     "name": "stdout",
     "output_type": "stream",
     "text": [
      "machine precision reached for 52 bits\n",
      "eps = 1.1102230246251565e-16, 1 + eps = 1.0\n"
     ]
    }
   ],
   "source": [
    "N = 100\n",
    "eps = 1\n",
    "for nbits in range(N):\n",
    "    eps /= 2\n",
    "    one_plus_eps = 1.0 + eps\n",
    "    # print(\"eps = {0}, 1 + eps = {1}\".format(eps, one_plus_eps))\n",
    "    if one_plus_eps == 1.0:\n",
    "        print(\"machine precision reached for {0} bits\".format(nbits))\n",
    "        print(\"eps = {0}, 1 + eps = {1}\".format(eps, one_plus_eps))\n",
    "        break\n"
   ]
  },
  {
   "cell_type": "markdown",
   "metadata": {
    "nbpresent": {
     "id": "4cdfc17e-8e9e-40ca-ba9f-801ca904c1ef"
    },
    "slideshow": {
     "slide_type": "fragment"
    }
   },
   "source": [
    "Compare to our estimate for the precision of float64:"
   ]
  },
  {
   "cell_type": "code",
   "execution_count": 79,
   "metadata": {
    "collapsed": false,
    "nbpresent": {
     "id": "bd394be6-b41a-42ca-a441-a6871294ba54"
    },
    "slideshow": {
     "slide_type": "-"
    }
   },
   "outputs": [
    {
     "data": {
      "text/plain": [
       "2.220446049250313e-16"
      ]
     },
     "execution_count": 79,
     "metadata": {},
     "output_type": "execute_result"
    }
   ],
   "source": [
    "1/2**52"
   ]
  },
  {
   "cell_type": "markdown",
   "metadata": {
    "nbpresent": {
     "id": "4d893a2a-6697-4106-97a3-9d3cedda8196"
    },
    "slideshow": {
     "slide_type": "slide"
    }
   },
   "source": [
    "## Appendix"
   ]
  },
  {
   "cell_type": "markdown",
   "metadata": {
    "nbpresent": {
     "id": "4bdc548a-84a8-444f-887f-7c920168061f"
    }
   },
   "source": [
    "A quick hack to convert a floating point binary representation to a floating point number."
   ]
  },
  {
   "cell_type": "code",
   "execution_count": null,
   "metadata": {
    "collapsed": true,
    "nbpresent": {
     "id": "92ee3a78-19fa-427a-9a45-c244a1af741f"
    }
   },
   "outputs": [],
   "source": [
    "bits = \"1010.0001100110011001100110011001100110011001100110011\""
   ]
  },
  {
   "cell_type": "code",
   "execution_count": null,
   "metadata": {
    "collapsed": true,
    "nbpresent": {
     "id": "b789ba2c-ffa1-4c1a-94ee-da49efc65761"
    }
   },
   "outputs": [],
   "source": [
    "import math\n",
    "def bits2number(bits):\n",
    "    if '.' in bits:\n",
    "        integer, fraction = bits.split('.')\n",
    "    else:\n",
    "        integer = bits\n",
    "        fraction = \"\"\n",
    "    powers = [int(bit) * 2**n for n, bit in enumerate(reversed(integer))]\n",
    "    powers.extend([int(bit) * 2**(-n) for n, bit in enumerate(fraction, start=1)])\n",
    "    return math.fsum(powers)"
   ]
  },
  {
   "cell_type": "code",
   "execution_count": null,
   "metadata": {
    "collapsed": false,
    "nbpresent": {
     "id": "957186a6-c447-4a68-be16-a222ae0c0ca4"
    },
    "slideshow": {
     "slide_type": "subslide"
    }
   },
   "outputs": [],
   "source": [
    "bits2number(bits)"
   ]
  },
  {
   "cell_type": "code",
   "execution_count": null,
   "metadata": {
    "collapsed": false,
    "nbpresent": {
     "id": "85d457c7-a1e7-4f8b-9c49-afbceb35ab8e"
    }
   },
   "outputs": [],
   "source": [
    "bits2number('1111')"
   ]
  },
  {
   "cell_type": "code",
   "execution_count": null,
   "metadata": {
    "collapsed": false,
    "nbpresent": {
     "id": "556735ca-7177-43e8-b751-64a269841ac2"
    }
   },
   "outputs": [],
   "source": [
    "bits2number('0.0001100110011001100110011001100110011001100110011')"
   ]
  },
  {
   "cell_type": "code",
   "execution_count": null,
   "metadata": {
    "collapsed": false,
    "nbpresent": {
     "id": "c8e89824-6653-447d-bfeb-91b07f76635f"
    }
   },
   "outputs": [],
   "source": [
    "bits2number('0.0001100')"
   ]
  },
  {
   "cell_type": "code",
   "execution_count": null,
   "metadata": {
    "collapsed": false,
    "nbpresent": {
     "id": "f4629844-0cfb-4b03-bf9e-37d91209f4a3"
    }
   },
   "outputs": [],
   "source": [
    "bits2number('0.0101')"
   ]
  },
  {
   "cell_type": "code",
   "execution_count": null,
   "metadata": {
    "collapsed": false,
    "nbpresent": {
     "id": "2b6be023-56ef-4b4d-b486-1d6213852f65"
    }
   },
   "outputs": [],
   "source": [
    "bits2number(\"10.10101\")"
   ]
  },
  {
   "cell_type": "code",
   "execution_count": null,
   "metadata": {
    "collapsed": false,
    "nbpresent": {
     "id": "0410b25b-3969-460b-8f27-ee6eb7045621"
    }
   },
   "outputs": [],
   "source": [
    "bits2number('0.0111111111111111111111111111111111111111')"
   ]
  },
  {
   "cell_type": "code",
   "execution_count": null,
   "metadata": {
    "collapsed": false,
    "nbpresent": {
     "id": "0b5777ce-5a2b-450a-b508-87b4a858ebdc"
    }
   },
   "outputs": [],
   "source": [
    "bits2number('0.110011001100')"
   ]
  },
  {
   "cell_type": "markdown",
   "metadata": {
    "collapsed": true,
    "nbpresent": {
     "id": "d8bdc59e-f378-4e97-ae51-8ded024b1745"
    },
    "slideshow": {
     "slide_type": "subslide"
    }
   },
   "source": [
    "Python can convert to binary using the `struct` module:"
   ]
  },
  {
   "cell_type": "code",
   "execution_count": null,
   "metadata": {
    "collapsed": false,
    "nbpresent": {
     "id": "c890ea7a-5ef7-4198-bf22-8b240f4dee48"
    }
   },
   "outputs": [],
   "source": [
    "import struct\n",
    "fpack = struct.pack('f', 6.0e-8)    # pack float into bytes\n",
    "fint = struct.unpack('i', fpack)[0] # unpack to int\n",
    "m_bits = bin(fint)[-23:]            # mantissa bits\n",
    "print(m_bits)"
   ]
  },
  {
   "cell_type": "markdown",
   "metadata": {
    "nbpresent": {
     "id": "1033df42-daf1-4391-8b28-a30b197d0a04"
    }
   },
   "source": [
    "With phantom bit:"
   ]
  },
  {
   "cell_type": "code",
   "execution_count": null,
   "metadata": {
    "collapsed": false,
    "nbpresent": {
     "id": "34c317f8-0810-46de-89f3-ee4e9adf3d94"
    }
   },
   "outputs": [],
   "source": [
    "mantissa_bits = '1.' + m_bits\n",
    "print(mantissa_bits)"
   ]
  },
  {
   "cell_type": "code",
   "execution_count": null,
   "metadata": {
    "collapsed": false,
    "nbpresent": {
     "id": "69151f0f-c2f2-4c1d-8bbc-71b690a4f28c"
    }
   },
   "outputs": [],
   "source": [
    "import math\n",
    "mn, ex = math.frexp(6.0e-8)\n",
    "print(mn, ex)"
   ]
  }
 ],
 "metadata": {
  "anaconda-cloud": {},
  "celltoolbar": "Slideshow",
  "kernelspec": {
   "display_name": "Python [default]",
   "language": "python",
   "name": "python3"
  },
  "language_info": {
   "codemirror_mode": {
    "name": "ipython",
    "version": 3
   },
   "file_extension": ".py",
   "mimetype": "text/x-python",
   "name": "python",
   "nbconvert_exporter": "python",
   "pygments_lexer": "ipython3",
   "version": "3.5.2"
  },
  "nbpresent": {
   "slides": {
    "021228f6-f469-4d33-bed2-3d0903f67ca2": {
     "id": "021228f6-f469-4d33-bed2-3d0903f67ca2",
     "prev": "681f1734-f0e8-4d14-8a40-e5a933119ece",
     "regions": {
      "00e41aac-acdb-410a-b39d-c472bc0cb862": {
       "attrs": {
        "height": 0.8,
        "width": 0.8,
        "x": 0.1,
        "y": 0.1
       },
       "content": {
        "cell": "b197b603-9088-4206-83ab-b384fd6496a6",
        "part": "whole"
       },
       "id": "00e41aac-acdb-410a-b39d-c472bc0cb862"
      },
      "52d59b25-51ee-4a91-8ff0-d13254399953": {
       "attrs": {
        "height": 0.4,
        "width": 0.8,
        "x": 0.1,
        "y": 0.5
       },
       "content": {
        "cell": "9a1ec56f-41d0-477a-b24a-e85f7352586b",
        "part": "whole"
       },
       "id": "52d59b25-51ee-4a91-8ff0-d13254399953"
      },
      "5ecb2ac0-a54a-40e0-a2d6-bded1a62a330": {
       "attrs": {
        "height": 0.4,
        "width": 0.8,
        "x": 0.1,
        "y": 0.5
       },
       "content": {
        "cell": "692848dc-d215-472a-8192-0864590a227a",
        "part": "whole"
       },
       "id": "5ecb2ac0-a54a-40e0-a2d6-bded1a62a330"
      },
      "68371ca2-e141-4354-af6f-12421cf5b7fe": {
       "attrs": {
        "height": 0.4,
        "width": 0.8,
        "x": 0.1,
        "y": 0.5
       },
       "content": {
        "cell": "2fd4eb40-ba33-48ad-b145-720ce03ee6ec",
        "part": "whole"
       },
       "id": "68371ca2-e141-4354-af6f-12421cf5b7fe"
      },
      "9802217e-9cbc-4b6d-b162-e2d76e7c6103": {
       "attrs": {
        "height": 0.4,
        "width": 0.8,
        "x": 0.1,
        "y": 0.5
       },
       "content": {
        "cell": "d89b6907-11ab-4c5c-8d8d-5b4eecbe52f7",
        "part": "whole"
       },
       "id": "9802217e-9cbc-4b6d-b162-e2d76e7c6103"
      },
      "aec3d7a7-0d8f-4b7a-b12c-7a524d5d6496": {
       "attrs": {
        "height": 0.4,
        "width": 0.8,
        "x": 0.1,
        "y": 0.5
       },
       "content": {
        "cell": "19dd6df8-cb23-4a43-a9ca-88727f885eed",
        "part": "whole"
       },
       "id": "aec3d7a7-0d8f-4b7a-b12c-7a524d5d6496"
      }
     }
    },
    "03e8ee7d-eba8-4db3-b152-7e6a55d11c47": {
     "id": "03e8ee7d-eba8-4db3-b152-7e6a55d11c47",
     "prev": "29314947-067e-461f-a0e0-7052488a4e32",
     "regions": {
      "3199219d-6dfe-4b53-97ef-de41916c51fb": {
       "attrs": {
        "height": 0.4,
        "width": 0.8,
        "x": 0.1,
        "y": 0.5
       },
       "content": {
        "cell": "42ba93a9-cbdc-4cb5-b281-9d8ff7925c58",
        "part": "whole"
       },
       "id": "3199219d-6dfe-4b53-97ef-de41916c51fb"
      },
      "83fb48f7-b9b7-47ba-8032-7dd52d8785b8": {
       "attrs": {
        "height": 0.8,
        "width": 0.8,
        "x": 0.1,
        "y": 0.1
       },
       "content": {
        "cell": "8553cb11-0754-4b01-86d6-252873a6846a",
        "part": "whole"
       },
       "id": "83fb48f7-b9b7-47ba-8032-7dd52d8785b8"
      }
     }
    },
    "04f769f9-00f3-4ebd-a8cf-388635afc89e": {
     "id": "04f769f9-00f3-4ebd-a8cf-388635afc89e",
     "prev": "95d469e3-7ad7-4637-a3d1-254015173523",
     "regions": {
      "265d3dff-e5a3-4eec-a904-90f45f961fe9": {
       "attrs": {
        "height": 0.4,
        "width": 0.8,
        "x": 0.1,
        "y": 0.5
       },
       "content": {
        "cell": "664d2a53-f8b4-46d9-8cba-197a80207007",
        "part": "whole"
       },
       "id": "265d3dff-e5a3-4eec-a904-90f45f961fe9"
      },
      "3fdb4a56-c584-4ec6-b732-08ca7c04920d": {
       "attrs": {
        "height": 0.8,
        "width": 0.8,
        "x": 0.1,
        "y": 0.1
       },
       "content": {
        "cell": "93e580a2-3d10-4919-b91f-84872af916c0",
        "part": "whole"
       },
       "id": "3fdb4a56-c584-4ec6-b732-08ca7c04920d"
      }
     }
    },
    "0cfca3c4-c7ee-442a-b832-f2aff6c3a9c0": {
     "id": "0cfca3c4-c7ee-442a-b832-f2aff6c3a9c0",
     "prev": "578a2e42-0116-4d45-bd11-7c7bc1447c75",
     "regions": {
      "195ec670-52f5-46e8-87d5-3c83946b6cdc": {
       "attrs": {
        "height": 0.8,
        "width": 0.8,
        "x": 0.1,
        "y": 0.1
       },
       "content": {
        "cell": "3c3732d0-ac76-4b16-abb8-168a9b107f27",
        "part": "whole"
       },
       "id": "195ec670-52f5-46e8-87d5-3c83946b6cdc"
      },
      "25f5ab07-7db9-47fb-86ed-8773ea4ef3d0": {
       "attrs": {
        "height": 0.4,
        "width": 0.8,
        "x": 0.1,
        "y": 0.5
       },
       "content": {
        "cell": "e8ae2f22-b95e-4238-ae0c-bac8927275a4",
        "part": "whole"
       },
       "id": "25f5ab07-7db9-47fb-86ed-8773ea4ef3d0"
      },
      "f19f9ef0-a032-4024-bde8-99f2aa2ffdef": {
       "attrs": {
        "height": 0.4,
        "width": 0.8,
        "x": 0.1,
        "y": 0.5
       },
       "content": {
        "cell": "dd679719-d7cd-4661-85e0-856f6b8ef972",
        "part": "whole"
       },
       "id": "f19f9ef0-a032-4024-bde8-99f2aa2ffdef"
      }
     }
    },
    "0dc312dd-6aa9-4b98-aa15-c7be8caffd86": {
     "id": "0dc312dd-6aa9-4b98-aa15-c7be8caffd86",
     "prev": "27412c9e-8f8b-4908-9d1a-5d0d602ba5b6",
     "regions": {
      "b4c2a03d-6bfa-453c-be3f-89296b4f3a3c": {
       "attrs": {
        "height": 0.8,
        "width": 0.8,
        "x": 0.1,
        "y": 0.1
       },
       "content": {
        "cell": "51e517bc-d926-4a27-b464-b8c62583c469",
        "part": "whole"
       },
       "id": "b4c2a03d-6bfa-453c-be3f-89296b4f3a3c"
      }
     }
    },
    "100adf1a-7f9f-48da-910b-393a543efefd": {
     "id": "100adf1a-7f9f-48da-910b-393a543efefd",
     "prev": "c740a5ac-97e7-407d-b9b8-2156590916ed",
     "regions": {
      "00f1c0e4-d76c-407d-8468-d85bea7fbeee": {
       "attrs": {
        "height": 0.4,
        "width": 0.8,
        "x": 0.1,
        "y": 0.5
       },
       "content": {
        "cell": "33f6354b-147b-416b-987f-a02912424342",
        "part": "whole"
       },
       "id": "00f1c0e4-d76c-407d-8468-d85bea7fbeee"
      },
      "1a35c0c4-63e4-47ab-a209-97c014e07bff": {
       "attrs": {
        "height": 0.4,
        "width": 0.8,
        "x": 0.1,
        "y": 0.5
       },
       "content": {
        "cell": "62636dd1-0dd1-485b-a979-620ffe456de0",
        "part": "whole"
       },
       "id": "1a35c0c4-63e4-47ab-a209-97c014e07bff"
      },
      "4a1c344f-7d6f-4555-982f-63662aebe1bd": {
       "attrs": {
        "height": 0.4,
        "width": 0.8,
        "x": 0.1,
        "y": 0.5
       },
       "content": {
        "cell": "1b9d6aaa-d8ee-4db5-8d8e-7594083c924c",
        "part": "whole"
       },
       "id": "4a1c344f-7d6f-4555-982f-63662aebe1bd"
      },
      "a9aa8141-e0cf-48ae-9c42-61afd71f6c97": {
       "attrs": {
        "height": 0.8,
        "width": 0.8,
        "x": 0.1,
        "y": 0.1
       },
       "content": {
        "cell": "aa0d3a24-9355-482e-a944-a439536f7461",
        "part": "whole"
       },
       "id": "a9aa8141-e0cf-48ae-9c42-61afd71f6c97"
      }
     }
    },
    "258bf5e5-3f32-4594-ab68-1903e7ba3537": {
     "id": "258bf5e5-3f32-4594-ab68-1903e7ba3537",
     "prev": "bf5d5178-ff02-413b-a2d4-bc4d0e35af6f",
     "regions": {
      "7e72fb24-818b-4df0-9283-a492a473b973": {
       "attrs": {
        "height": 0.8,
        "width": 0.8,
        "x": 0.1,
        "y": 0.1
       },
       "content": {
        "cell": "ac244018-dc2b-4204-95cb-c7784fd02dfa",
        "part": "whole"
       },
       "id": "7e72fb24-818b-4df0-9283-a492a473b973"
      }
     }
    },
    "27412c9e-8f8b-4908-9d1a-5d0d602ba5b6": {
     "id": "27412c9e-8f8b-4908-9d1a-5d0d602ba5b6",
     "prev": "7e09b182-0699-48c9-90aa-f130f527c95d",
     "regions": {
      "59df2632-e8e8-491b-8dcb-742c46c7a217": {
       "attrs": {
        "height": 0.4,
        "width": 0.8,
        "x": 0.1,
        "y": 0.5
       },
       "content": {
        "cell": "0a8d5f15-505e-44d2-87f6-4d9645b8fab4",
        "part": "whole"
       },
       "id": "59df2632-e8e8-491b-8dcb-742c46c7a217"
      },
      "6c79bcd2-e173-4e0b-84da-652da15669a1": {
       "attrs": {
        "height": 0.4,
        "width": 0.8,
        "x": 0.1,
        "y": 0.5
       },
       "content": {
        "cell": "50c8ba21-a65a-4827-8170-fda80eb53daf",
        "part": "whole"
       },
       "id": "6c79bcd2-e173-4e0b-84da-652da15669a1"
      },
      "e5b88685-3b8b-46b9-abd7-4e0319e7c5e2": {
       "attrs": {
        "height": 0.4,
        "width": 0.8,
        "x": 0.1,
        "y": 0.5
       },
       "content": {
        "cell": "20b608b1-7b2f-4c47-be20-96149cf9ff4f",
        "part": "whole"
       },
       "id": "e5b88685-3b8b-46b9-abd7-4e0319e7c5e2"
      },
      "f919bd95-2806-49bd-bd83-811c337f2f39": {
       "attrs": {
        "height": 0.8,
        "width": 0.8,
        "x": 0.1,
        "y": 0.1
       },
       "content": {
        "cell": "c406d769-8564-4222-a4d0-eeb81b9de900",
        "part": "whole"
       },
       "id": "f919bd95-2806-49bd-bd83-811c337f2f39"
      }
     }
    },
    "29314947-067e-461f-a0e0-7052488a4e32": {
     "id": "29314947-067e-461f-a0e0-7052488a4e32",
     "prev": "4c3da469-52ea-4419-9e05-c58bcadaec1d",
     "regions": {
      "3f0ee258-5cd2-4825-b1c1-83dabdd85d62": {
       "attrs": {
        "height": 0.4,
        "width": 0.8,
        "x": 0.1,
        "y": 0.5
       },
       "content": {
        "cell": "09461108-573f-4ac1-b7f0-7f2c604935ae",
        "part": "whole"
       },
       "id": "3f0ee258-5cd2-4825-b1c1-83dabdd85d62"
      },
      "aa3bfdf0-6ea0-4351-97ca-892bdc61b5b3": {
       "attrs": {
        "height": 0.8,
        "width": 0.8,
        "x": 0.1,
        "y": 0.1
       },
       "content": {
        "cell": "89fbbed7-384a-4926-9901-cf0e9cc2b692",
        "part": "whole"
       },
       "id": "aa3bfdf0-6ea0-4351-97ca-892bdc61b5b3"
      },
      "b51c4e1e-23d6-454f-8a04-04604038ae50": {
       "attrs": {
        "height": 0.4,
        "width": 0.8,
        "x": 0.1,
        "y": 0.5
       },
       "content": {
        "cell": "0d6185d9-53ff-4265-a1bb-3603e16178f7",
        "part": "whole"
       },
       "id": "b51c4e1e-23d6-454f-8a04-04604038ae50"
      },
      "d4cd1c0b-7485-43e9-a0d7-e15297817e31": {
       "attrs": {
        "height": 0.4,
        "width": 0.8,
        "x": 0.1,
        "y": 0.5
       },
       "content": {
        "cell": "939a478a-83eb-4c35-9adc-ba79299c9591",
        "part": "whole"
       },
       "id": "d4cd1c0b-7485-43e9-a0d7-e15297817e31"
      }
     }
    },
    "2a34fcdf-b690-4db0-9223-dfabd8c217f8": {
     "id": "2a34fcdf-b690-4db0-9223-dfabd8c217f8",
     "prev": "021228f6-f469-4d33-bed2-3d0903f67ca2",
     "regions": {
      "25e399e7-b11d-4098-93f2-722880dec459": {
       "attrs": {
        "height": 0.4,
        "width": 0.8,
        "x": 0.1,
        "y": 0.5
       },
       "content": {
        "cell": "256c0ec6-e480-456e-82ec-2b384a8205e5",
        "part": "whole"
       },
       "id": "25e399e7-b11d-4098-93f2-722880dec459"
      },
      "2c3d82e7-f073-429e-9817-99ab270f09f6": {
       "attrs": {
        "height": 0.4,
        "width": 0.8,
        "x": 0.1,
        "y": 0.5
       },
       "content": {
        "cell": "41f5f8cf-a807-4332-a695-48f1759bc4f7",
        "part": "whole"
       },
       "id": "2c3d82e7-f073-429e-9817-99ab270f09f6"
      },
      "68f319f3-9007-4faf-b188-6762b38abdd4": {
       "attrs": {
        "height": 0.4,
        "width": 0.8,
        "x": 0.1,
        "y": 0.5
       },
       "content": {
        "cell": "c11b3fc7-4100-4c6f-adcf-de0b4458ada6",
        "part": "whole"
       },
       "id": "68f319f3-9007-4faf-b188-6762b38abdd4"
      },
      "743438e0-f430-400a-a571-db1cd12b49f4": {
       "attrs": {
        "height": 0.8,
        "width": 0.8,
        "x": 0.1,
        "y": 0.1
       },
       "content": {
        "cell": "a611d7cb-864a-4d73-9c92-58e865c01826",
        "part": "whole"
       },
       "id": "743438e0-f430-400a-a571-db1cd12b49f4"
      },
      "85d4dac6-509a-4986-be35-f0d8755090f6": {
       "attrs": {
        "height": 0.4,
        "width": 0.8,
        "x": 0.1,
        "y": 0.5
       },
       "content": {
        "cell": "cac5a3ae-35cd-4a2b-ae61-b029ebf55498",
        "part": "whole"
       },
       "id": "85d4dac6-509a-4986-be35-f0d8755090f6"
      },
      "b9e9004d-46cf-4d6e-96a0-1acb805251d3": {
       "attrs": {
        "height": 0.4,
        "width": 0.8,
        "x": 0.1,
        "y": 0.5
       },
       "content": {
        "cell": "bcf6df92-62c5-4860-b6b4-16e013b57c97",
        "part": "whole"
       },
       "id": "b9e9004d-46cf-4d6e-96a0-1acb805251d3"
      }
     }
    },
    "2fb56cc9-f3d6-424e-b1cb-47ac9d54ad66": {
     "id": "2fb56cc9-f3d6-424e-b1cb-47ac9d54ad66",
     "prev": "78946684-ab7b-42d1-80c5-b7649db79462",
     "regions": {
      "1b803429-8d0e-423c-bda3-8dbeee952b07": {
       "attrs": {
        "height": 0.8,
        "width": 0.8,
        "x": 0.1,
        "y": 0.1
       },
       "content": {
        "cell": "ccff977d-1bad-4a54-920a-67d32c4da08c",
        "part": "whole"
       },
       "id": "1b803429-8d0e-423c-bda3-8dbeee952b07"
      },
      "2519b941-cdbe-4e6b-9d91-73b8744d5042": {
       "attrs": {
        "height": 0.4,
        "width": 0.8,
        "x": 0.1,
        "y": 0.5
       },
       "content": {
        "cell": "bc4af227-7435-4493-984f-9994630a7bfc",
        "part": "whole"
       },
       "id": "2519b941-cdbe-4e6b-9d91-73b8744d5042"
      },
      "53a6043d-d4f1-4a27-b9de-985cabdd3a28": {
       "attrs": {
        "height": 0.4,
        "width": 0.8,
        "x": 0.1,
        "y": 0.5
       },
       "content": {
        "cell": "42b221fb-993f-4255-a5c7-92d4670e5809",
        "part": "whole"
       },
       "id": "53a6043d-d4f1-4a27-b9de-985cabdd3a28"
      }
     }
    },
    "3b64b563-3362-4f6f-9d32-22649f82aab5": {
     "id": "3b64b563-3362-4f6f-9d32-22649f82aab5",
     "prev": "2fb56cc9-f3d6-424e-b1cb-47ac9d54ad66",
     "regions": {
      "ce1b11a9-d5ca-4a23-8e41-6a58a3ec0c93": {
       "attrs": {
        "height": 0.4,
        "width": 0.8,
        "x": 0.1,
        "y": 0.5
       },
       "content": {
        "cell": "60706432-dcfd-4788-a8df-87b980cd9776",
        "part": "whole"
       },
       "id": "ce1b11a9-d5ca-4a23-8e41-6a58a3ec0c93"
      },
      "dcacdc38-e21e-41d8-95f1-235512f84c51": {
       "attrs": {
        "height": 0.8,
        "width": 0.8,
        "x": 0.1,
        "y": 0.1
       },
       "content": {
        "cell": "bec99fe1-c645-4771-b4f5-7d3393995f23",
        "part": "whole"
       },
       "id": "dcacdc38-e21e-41d8-95f1-235512f84c51"
      },
      "f0d0a6e5-733d-4d5d-a7f5-f6f4a9321b40": {
       "attrs": {
        "height": 0.4,
        "width": 0.8,
        "x": 0.1,
        "y": 0.5
       },
       "content": {
        "cell": "2c599aa3-cf3f-4e65-ae3c-ed64b8593eec",
        "part": "whole"
       },
       "id": "f0d0a6e5-733d-4d5d-a7f5-f6f4a9321b40"
      }
     }
    },
    "43b48067-4ae5-42f9-b791-66718499441b": {
     "id": "43b48067-4ae5-42f9-b791-66718499441b",
     "prev": "d90e814f-d11b-4f26-abf9-1a16a5eb31f7",
     "regions": {
      "1e0fe9d2-f733-47f5-8e7f-52cda527b2d0": {
       "attrs": {
        "height": 0.8,
        "width": 0.8,
        "x": 0.1,
        "y": 0.1
       },
       "content": {
        "cell": "f521aada-df67-47b1-960a-9b5eb2291861",
        "part": "whole"
       },
       "id": "1e0fe9d2-f733-47f5-8e7f-52cda527b2d0"
      },
      "751fa9b3-3656-44f7-bcba-1263ac205b27": {
       "attrs": {
        "height": 0.4,
        "width": 0.8,
        "x": 0.1,
        "y": 0.5
       },
       "content": {
        "cell": "b8005015-6e5e-4ddd-a781-9c31e44a9171",
        "part": "whole"
       },
       "id": "751fa9b3-3656-44f7-bcba-1263ac205b27"
      },
      "fa0053cc-1d6d-4edf-aff0-09a072141050": {
       "attrs": {
        "height": 0.4,
        "width": 0.8,
        "x": 0.1,
        "y": 0.5
       },
       "content": {
        "cell": "cc73d924-f587-4fc2-8320-4608cb08b20f",
        "part": "whole"
       },
       "id": "fa0053cc-1d6d-4edf-aff0-09a072141050"
      }
     }
    },
    "4c3da469-52ea-4419-9e05-c58bcadaec1d": {
     "id": "4c3da469-52ea-4419-9e05-c58bcadaec1d",
     "prev": "a5f7d422-69d5-4217-b4f4-fded88795821",
     "regions": {
      "522bf753-803c-4815-96b1-52f3f6227488": {
       "attrs": {
        "height": 0.8,
        "width": 0.8,
        "x": 0.1,
        "y": 0.1
       },
       "content": {
        "cell": "a64135c7-990b-469b-8c60-8d522eacd089",
        "part": "whole"
       },
       "id": "522bf753-803c-4815-96b1-52f3f6227488"
      },
      "8be26cc0-f224-4ddd-9b90-d348881ccc78": {
       "attrs": {
        "height": 0.4,
        "width": 0.8,
        "x": 0.1,
        "y": 0.5
       },
       "content": {
        "cell": "8011b45e-3181-4f12-b0d2-0e1e46c2111f",
        "part": "whole"
       },
       "id": "8be26cc0-f224-4ddd-9b90-d348881ccc78"
      },
      "d2846e3e-d913-4794-a50c-562581b498a8": {
       "attrs": {
        "height": 0.4,
        "width": 0.8,
        "x": 0.1,
        "y": 0.5
       },
       "content": {
        "cell": "948dd07e-4b78-43e2-8efe-1daac7a59e18",
        "part": "whole"
       },
       "id": "d2846e3e-d913-4794-a50c-562581b498a8"
      }
     }
    },
    "578a2e42-0116-4d45-bd11-7c7bc1447c75": {
     "id": "578a2e42-0116-4d45-bd11-7c7bc1447c75",
     "prev": "b3139ce3-b4b2-4cba-8e58-4507871a5d1c",
     "regions": {
      "327638e6-7535-4f7b-83ed-e57f47a8691c": {
       "attrs": {
        "height": 0.8,
        "width": 0.8,
        "x": 0.1,
        "y": 0.1
       },
       "content": {
        "cell": "db5901b9-55cf-4f94-a886-c59e3f090ad7",
        "part": "whole"
       },
       "id": "327638e6-7535-4f7b-83ed-e57f47a8691c"
      },
      "e1e3693a-5f0e-40fb-8cf3-8689f9e9ae84": {
       "attrs": {
        "height": 0.4,
        "width": 0.8,
        "x": 0.1,
        "y": 0.5
       },
       "content": {
        "cell": "90a705cc-2e10-44d4-949d-9d509e449e4c",
        "part": "whole"
       },
       "id": "e1e3693a-5f0e-40fb-8cf3-8689f9e9ae84"
      }
     }
    },
    "5a8df020-cb85-48ef-ab97-f1dbfcc66012": {
     "id": "5a8df020-cb85-48ef-ab97-f1dbfcc66012",
     "prev": "a20cf14b-36b0-4669-afd2-9b340d6dc9bf",
     "regions": {
      "313b622d-3ec7-42f0-8847-70a5a6997fec": {
       "attrs": {
        "height": 0.8,
        "width": 0.8,
        "x": 0.1,
        "y": 0.1
       },
       "content": {
        "cell": "af614afb-0ba5-49c3-9a54-2d8b22c5831c",
        "part": "whole"
       },
       "id": "313b622d-3ec7-42f0-8847-70a5a6997fec"
      }
     }
    },
    "681f1734-f0e8-4d14-8a40-e5a933119ece": {
     "id": "681f1734-f0e8-4d14-8a40-e5a933119ece",
     "prev": "e7ca1e90-4fc3-4b53-9d75-765d8bd216e9",
     "regions": {
      "0934d2e4-1ba2-4633-a36f-c71ca7402863": {
       "attrs": {
        "height": 0.4,
        "width": 0.8,
        "x": 0.1,
        "y": 0.5
       },
       "content": {
        "cell": "5cc5b87f-c925-47e4-8c1a-49a6f0ee4896",
        "part": "whole"
       },
       "id": "0934d2e4-1ba2-4633-a36f-c71ca7402863"
      },
      "2fdf1dc3-5837-477f-b55c-20e7131049d5": {
       "attrs": {
        "height": 0.8,
        "width": 0.8,
        "x": 0.1,
        "y": 0.1
       },
       "content": {
        "cell": "77ff4a67-fe07-4675-838a-91b996f6f16c",
        "part": "whole"
       },
       "id": "2fdf1dc3-5837-477f-b55c-20e7131049d5"
      },
      "3bafbbe2-e0a6-4b6a-ba30-27d01503d52c": {
       "attrs": {
        "height": 0.4,
        "width": 0.8,
        "x": 0.1,
        "y": 0.5
       },
       "content": {
        "cell": "a6a8ff4b-73da-4bde-9d50-722f85bd07de",
        "part": "whole"
       },
       "id": "3bafbbe2-e0a6-4b6a-ba30-27d01503d52c"
      },
      "9104d6cd-1033-4707-8b85-0230c4b4a0b8": {
       "attrs": {
        "height": 0.4,
        "width": 0.8,
        "x": 0.1,
        "y": 0.5
       },
       "content": {
        "cell": "8a8a2267-a1eb-4a50-bd8c-5c0de40c6e5e",
        "part": "whole"
       },
       "id": "9104d6cd-1033-4707-8b85-0230c4b4a0b8"
      },
      "e84f6c7f-bc4e-496f-b1ab-a38d3419a852": {
       "attrs": {
        "height": 0.4,
        "width": 0.8,
        "x": 0.1,
        "y": 0.5
       },
       "content": {
        "cell": "9bb9458c-97ca-4c43-b234-f2f4b4264940",
        "part": "whole"
       },
       "id": "e84f6c7f-bc4e-496f-b1ab-a38d3419a852"
      }
     }
    },
    "78946684-ab7b-42d1-80c5-b7649db79462": {
     "id": "78946684-ab7b-42d1-80c5-b7649db79462",
     "prev": "2a34fcdf-b690-4db0-9223-dfabd8c217f8",
     "regions": {
      "4796a0e9-0e0f-4faa-8be2-52773e48fdf9": {
       "attrs": {
        "height": 0.4,
        "width": 0.8,
        "x": 0.1,
        "y": 0.5
       },
       "content": {
        "cell": "cba6d1e4-881c-49de-a927-15d502e7c10b",
        "part": "whole"
       },
       "id": "4796a0e9-0e0f-4faa-8be2-52773e48fdf9"
      },
      "ea7bef94-7e30-4104-9de2-909b01aa3595": {
       "attrs": {
        "height": 0.4,
        "width": 0.8,
        "x": 0.1,
        "y": 0.5
       },
       "content": {
        "cell": "71e2a420-fa68-4f76-85c4-eaf16f56610b",
        "part": "whole"
       },
       "id": "ea7bef94-7e30-4104-9de2-909b01aa3595"
      },
      "edb90a75-3d07-452a-a100-9a80149b3154": {
       "attrs": {
        "height": 0.8,
        "width": 0.8,
        "x": 0.1,
        "y": 0.1
       },
       "content": {
        "cell": "87506381-29d5-4437-ae55-4e617565f7ad",
        "part": "whole"
       },
       "id": "edb90a75-3d07-452a-a100-9a80149b3154"
      },
      "f053619d-d12b-447f-90e3-86dad48119cd": {
       "attrs": {
        "height": 0.4,
        "width": 0.8,
        "x": 0.1,
        "y": 0.5
       },
       "content": {
        "cell": "d1420898-d687-4547-bd57-20c76b718ef4",
        "part": "whole"
       },
       "id": "f053619d-d12b-447f-90e3-86dad48119cd"
      }
     }
    },
    "7e09b182-0699-48c9-90aa-f130f527c95d": {
     "id": "7e09b182-0699-48c9-90aa-f130f527c95d",
     "prev": "258bf5e5-3f32-4594-ab68-1903e7ba3537",
     "regions": {
      "3f60895b-ec1a-45cc-a15c-edb6aa336ed6": {
       "attrs": {
        "height": 0.8,
        "width": 0.8,
        "x": 0.1,
        "y": 0.1
       },
       "content": {
        "cell": "bd5ab28d-bf35-4f22-bc1a-faf24250a88d",
        "part": "whole"
       },
       "id": "3f60895b-ec1a-45cc-a15c-edb6aa336ed6"
      },
      "4e13dbbf-1c89-435c-a93b-69822f6513a8": {
       "attrs": {
        "height": 0.4,
        "width": 0.8,
        "x": 0.1,
        "y": 0.5
       },
       "content": {
        "cell": "f514925b-a67a-4334-8361-741e40fc44eb",
        "part": "whole"
       },
       "id": "4e13dbbf-1c89-435c-a93b-69822f6513a8"
      },
      "acec4959-989b-4c4e-818f-9f1e45407d2b": {
       "attrs": {
        "height": 0.4,
        "width": 0.8,
        "x": 0.1,
        "y": 0.5
       },
       "content": {
        "cell": "98e6aea7-02de-4aaf-b2a3-128300cc5598",
        "part": "whole"
       },
       "id": "acec4959-989b-4c4e-818f-9f1e45407d2b"
      }
     }
    },
    "87cdcae1-3753-4ac6-8718-5bf3b334822b": {
     "id": "87cdcae1-3753-4ac6-8718-5bf3b334822b",
     "prev": "5a8df020-cb85-48ef-ab97-f1dbfcc66012",
     "regions": {
      "5b3f960c-003b-47c8-ad15-e7670677f1fd": {
       "attrs": {
        "height": 0.4,
        "width": 0.8,
        "x": 0.1,
        "y": 0.5
       },
       "content": {
        "cell": "8f93155c-f950-42e8-be31-7307d15ef590",
        "part": "whole"
       },
       "id": "5b3f960c-003b-47c8-ad15-e7670677f1fd"
      },
      "72dd29b3-f562-4cb2-a99c-3e79572398dc": {
       "attrs": {
        "height": 0.4,
        "width": 0.8,
        "x": 0.1,
        "y": 0.5
       },
       "content": {
        "cell": "689f2f2d-b12d-4e83-bb63-b7a81620a98a",
        "part": "whole"
       },
       "id": "72dd29b3-f562-4cb2-a99c-3e79572398dc"
      },
      "90fc51b5-3f58-4dfa-9dde-552282d1db39": {
       "attrs": {
        "height": 0.4,
        "width": 0.8,
        "x": 0.1,
        "y": 0.5
       },
       "content": {
        "cell": "07eadef1-3b60-4c3a-89ad-5a81f2d7e58e",
        "part": "whole"
       },
       "id": "90fc51b5-3f58-4dfa-9dde-552282d1db39"
      },
      "9c2f5a11-abf7-4775-9fcb-244677d086c6": {
       "attrs": {
        "height": 0.8,
        "width": 0.8,
        "x": 0.1,
        "y": 0.1
       },
       "content": {
        "cell": "06048af4-3c1b-4f7f-96cb-c8ce003d2a23",
        "part": "whole"
       },
       "id": "9c2f5a11-abf7-4775-9fcb-244677d086c6"
      },
      "9fe38052-ccde-41ba-84a6-ce3baee12e2f": {
       "attrs": {
        "height": 0.4,
        "width": 0.8,
        "x": 0.1,
        "y": 0.5
       },
       "content": {
        "cell": "a3951276-3559-4b30-98f3-db44f1ad1757",
        "part": "whole"
       },
       "id": "9fe38052-ccde-41ba-84a6-ce3baee12e2f"
      },
      "d7bf340e-1dbd-4646-9df5-21abfd308609": {
       "attrs": {
        "height": 0.4,
        "width": 0.8,
        "x": 0.1,
        "y": 0.5
       },
       "content": {
        "cell": "3c4949e8-597f-4975-a108-10f99dbeb97e",
        "part": "whole"
       },
       "id": "d7bf340e-1dbd-4646-9df5-21abfd308609"
      }
     }
    },
    "95d469e3-7ad7-4637-a3d1-254015173523": {
     "id": "95d469e3-7ad7-4637-a3d1-254015173523",
     "prev": "100adf1a-7f9f-48da-910b-393a543efefd",
     "regions": {
      "5d671c91-28fa-4b76-ade4-d4e3f00706b6": {
       "attrs": {
        "height": 0.4,
        "width": 0.8,
        "x": 0.1,
        "y": 0.5
       },
       "content": {
        "cell": "9058fabf-8ff7-4c20-817c-fcce56af2c37",
        "part": "whole"
       },
       "id": "5d671c91-28fa-4b76-ade4-d4e3f00706b6"
      },
      "6eadb32e-b92b-4b7d-a8d7-feae59e4bf35": {
       "attrs": {
        "height": 0.4,
        "width": 0.8,
        "x": 0.1,
        "y": 0.5
       },
       "content": {
        "cell": "66270b9d-bb6e-4b94-8cf7-eca82b30d794",
        "part": "whole"
       },
       "id": "6eadb32e-b92b-4b7d-a8d7-feae59e4bf35"
      },
      "be9dd61f-c3c9-4b5b-a1f5-4a739d16637a": {
       "attrs": {
        "height": 0.4,
        "width": 0.8,
        "x": 0.1,
        "y": 0.5
       },
       "content": {
        "cell": "4873ac11-247b-4f69-b668-2332840691c5",
        "part": "whole"
       },
       "id": "be9dd61f-c3c9-4b5b-a1f5-4a739d16637a"
      },
      "e407cce3-e36e-4cff-951e-293023ff011d": {
       "attrs": {
        "height": 0.8,
        "width": 0.8,
        "x": 0.1,
        "y": 0.1
       },
       "content": {
        "cell": "3b5b1758-bd76-4847-b32c-878996fcd407",
        "part": "whole"
       },
       "id": "e407cce3-e36e-4cff-951e-293023ff011d"
      }
     }
    },
    "a0716582-da06-429a-a557-e144b3c5a254": {
     "id": "a0716582-da06-429a-a557-e144b3c5a254",
     "prev": "3b64b563-3362-4f6f-9d32-22649f82aab5",
     "regions": {
      "1e5f847c-ed30-476a-8f1b-be5b7798b3ef": {
       "attrs": {
        "height": 0.8,
        "width": 0.8,
        "x": 0.1,
        "y": 0.1
       },
       "content": {
        "cell": "f4542400-ceb8-4998-ac88-0aafbd7002bd",
        "part": "whole"
       },
       "id": "1e5f847c-ed30-476a-8f1b-be5b7798b3ef"
      }
     }
    },
    "a20cf14b-36b0-4669-afd2-9b340d6dc9bf": {
     "id": "a20cf14b-36b0-4669-afd2-9b340d6dc9bf",
     "prev": null,
     "regions": {
      "8aa5141d-5624-4beb-bd88-cd2e8bccab54": {
       "attrs": {
        "height": 0.8,
        "width": 0.8,
        "x": 0.1,
        "y": 0.1
       },
       "content": {
        "cell": "6086a39b-a72d-4323-a159-e0231c984a1f",
        "part": "whole"
       },
       "id": "8aa5141d-5624-4beb-bd88-cd2e8bccab54"
      }
     }
    },
    "a5f7d422-69d5-4217-b4f4-fded88795821": {
     "id": "a5f7d422-69d5-4217-b4f4-fded88795821",
     "prev": "04f769f9-00f3-4ebd-a8cf-388635afc89e",
     "regions": {
      "0c8fda10-b38b-415c-bdcc-8f14d4b4e89c": {
       "attrs": {
        "height": 0.4,
        "width": 0.8,
        "x": 0.1,
        "y": 0.5
       },
       "content": {
        "cell": "57f50a5d-b0d4-4a88-991a-afcd173714c8",
        "part": "whole"
       },
       "id": "0c8fda10-b38b-415c-bdcc-8f14d4b4e89c"
      },
      "59fc260c-4f31-4d46-bdd0-d23124017dbe": {
       "attrs": {
        "height": 0.4,
        "width": 0.8,
        "x": 0.1,
        "y": 0.5
       },
       "content": {
        "cell": "1ba45ec2-d307-460f-8ec2-e7f5d1578c05",
        "part": "whole"
       },
       "id": "59fc260c-4f31-4d46-bdd0-d23124017dbe"
      },
      "9cdd5fc5-4748-40d8-b138-d2912cc3dc54": {
       "attrs": {
        "height": 0.8,
        "width": 0.8,
        "x": 0.1,
        "y": 0.1
       },
       "content": {
        "cell": "1e44225a-62fc-4473-b260-9122fc9418ca",
        "part": "whole"
       },
       "id": "9cdd5fc5-4748-40d8-b138-d2912cc3dc54"
      },
      "b679e686-e15b-4ba3-9173-91807a00f91d": {
       "attrs": {
        "height": 0.4,
        "width": 0.8,
        "x": 0.1,
        "y": 0.5
       },
       "content": {
        "cell": "8efd7e27-9314-4790-9544-2017618f1dd6",
        "part": "whole"
       },
       "id": "b679e686-e15b-4ba3-9173-91807a00f91d"
      }
     }
    },
    "ab6fd0bd-5f2d-4d72-9aa2-1a9df8d1e25a": {
     "id": "ab6fd0bd-5f2d-4d72-9aa2-1a9df8d1e25a",
     "prev": "0dc312dd-6aa9-4b98-aa15-c7be8caffd86",
     "regions": {
      "0483b787-c8e8-45ef-8fb1-0ef5fd3fdb31": {
       "attrs": {
        "height": 0.8,
        "width": 0.8,
        "x": 0.1,
        "y": 0.1
       },
       "content": {
        "cell": "7d0079bb-8757-4323-9c57-7a0e7d77a610",
        "part": "whole"
       },
       "id": "0483b787-c8e8-45ef-8fb1-0ef5fd3fdb31"
      },
      "9b178d6c-81a5-455a-be19-a1d47d2e2237": {
       "attrs": {
        "height": 0.4,
        "width": 0.8,
        "x": 0.1,
        "y": 0.5
       },
       "content": {
        "cell": "045e7e11-6a17-4eba-b541-72de936352e0",
        "part": "whole"
       },
       "id": "9b178d6c-81a5-455a-be19-a1d47d2e2237"
      },
      "afcf5687-3f27-449e-be66-c0bbd50de504": {
       "attrs": {
        "height": 0.4,
        "width": 0.8,
        "x": 0.1,
        "y": 0.5
       },
       "content": {
        "cell": "47e4a70d-e19d-40dd-93e8-acde0c1eeae0",
        "part": "whole"
       },
       "id": "afcf5687-3f27-449e-be66-c0bbd50de504"
      }
     }
    },
    "acc04890-3d2c-4535-921f-2451317454c3": {
     "id": "acc04890-3d2c-4535-921f-2451317454c3",
     "prev": "03e8ee7d-eba8-4db3-b152-7e6a55d11c47",
     "regions": {
      "1300ce8f-7666-4b7d-95b7-75480a85efe9": {
       "attrs": {
        "height": 0.8,
        "width": 0.8,
        "x": 0.1,
        "y": 0.1
       },
       "content": {
        "cell": "8474338a-d69a-4f30-b8b1-73e20e0681d0",
        "part": "whole"
       },
       "id": "1300ce8f-7666-4b7d-95b7-75480a85efe9"
      },
      "21ea0e4e-929e-4b7c-8b39-2daee41d8715": {
       "attrs": {
        "height": 0.4,
        "width": 0.8,
        "x": 0.1,
        "y": 0.5
       },
       "content": {
        "cell": "c890ea7a-5ef7-4198-bf22-8b240f4dee48",
        "part": "whole"
       },
       "id": "21ea0e4e-929e-4b7c-8b39-2daee41d8715"
      },
      "31d6e7d1-0461-40ba-bea4-88549e8d4289": {
       "attrs": {
        "height": 0.4,
        "width": 0.8,
        "x": 0.1,
        "y": 0.5
       },
       "content": {
        "cell": "1033df42-daf1-4391-8b28-a30b197d0a04",
        "part": "whole"
       },
       "id": "31d6e7d1-0461-40ba-bea4-88549e8d4289"
      },
      "38394e1d-17f8-4279-abaf-ce8bc57b38ce": {
       "attrs": {
        "height": 0.4,
        "width": 0.8,
        "x": 0.1,
        "y": 0.5
       },
       "content": {
        "cell": "4cdfc17e-8e9e-40ca-ba9f-801ca904c1ef",
        "part": "whole"
       },
       "id": "38394e1d-17f8-4279-abaf-ce8bc57b38ce"
      },
      "38fe0488-9cd2-4f0b-bc05-62169397b790": {
       "attrs": {
        "height": 0.4,
        "width": 0.8,
        "x": 0.1,
        "y": 0.5
       },
       "content": {
        "cell": "58129d41-ba6c-4950-afc0-8073579cb5e5",
        "part": "whole"
       },
       "id": "38fe0488-9cd2-4f0b-bc05-62169397b790"
      },
      "5a1350d8-0858-4ed8-8835-4df202c7efb0": {
       "attrs": {
        "height": 0.4,
        "width": 0.8,
        "x": 0.1,
        "y": 0.5
       },
       "content": {
        "cell": "2b6be023-56ef-4b4d-b486-1d6213852f65",
        "part": "whole"
       },
       "id": "5a1350d8-0858-4ed8-8835-4df202c7efb0"
      },
      "648d0cae-0efa-4d31-92ab-86aace4cd966": {
       "attrs": {
        "height": 0.4,
        "width": 0.8,
        "x": 0.1,
        "y": 0.5
       },
       "content": {
        "cell": "bd394be6-b41a-42ca-a441-a6871294ba54",
        "part": "whole"
       },
       "id": "648d0cae-0efa-4d31-92ab-86aace4cd966"
      },
      "6701bf12-e94d-4e4f-b684-20dedd48e52c": {
       "attrs": {
        "height": 0.4,
        "width": 0.8,
        "x": 0.1,
        "y": 0.5
       },
       "content": {
        "cell": "69151f0f-c2f2-4c1d-8bbc-71b690a4f28c",
        "part": "whole"
       },
       "id": "6701bf12-e94d-4e4f-b684-20dedd48e52c"
      },
      "6ab70daa-c672-4e35-9f50-9b138f9ac82e": {
       "attrs": {
        "height": 0.4,
        "width": 0.8,
        "x": 0.1,
        "y": 0.5
       },
       "content": {
        "cell": "0b5777ce-5a2b-450a-b508-87b4a858ebdc",
        "part": "whole"
       },
       "id": "6ab70daa-c672-4e35-9f50-9b138f9ac82e"
      },
      "6afba29c-9af0-4df1-b1f6-fd64b510b5b3": {
       "attrs": {
        "height": 0.4,
        "width": 0.8,
        "x": 0.1,
        "y": 0.5
       },
       "content": {
        "cell": "85d457c7-a1e7-4f8b-9c49-afbceb35ab8e",
        "part": "whole"
       },
       "id": "6afba29c-9af0-4df1-b1f6-fd64b510b5b3"
      },
      "6dff59f8-afa0-451a-9455-4526d3c7a4dc": {
       "attrs": {
        "height": 0.4,
        "width": 0.8,
        "x": 0.1,
        "y": 0.5
       },
       "content": {
        "cell": "957186a6-c447-4a68-be16-a222ae0c0ca4",
        "part": "whole"
       },
       "id": "6dff59f8-afa0-451a-9455-4526d3c7a4dc"
      },
      "9a8a7ac9-4ee2-4865-8ece-298fea05b377": {
       "attrs": {
        "height": 0.4,
        "width": 0.8,
        "x": 0.1,
        "y": 0.5
       },
       "content": {
        "cell": "b789ba2c-ffa1-4c1a-94ee-da49efc65761",
        "part": "whole"
       },
       "id": "9a8a7ac9-4ee2-4865-8ece-298fea05b377"
      },
      "9e9db42a-4341-4a47-8ee7-71e6d5c54cc2": {
       "attrs": {
        "height": 0.4,
        "width": 0.8,
        "x": 0.1,
        "y": 0.5
       },
       "content": {
        "cell": "4bdc548a-84a8-444f-887f-7c920168061f",
        "part": "whole"
       },
       "id": "9e9db42a-4341-4a47-8ee7-71e6d5c54cc2"
      },
      "a87ea995-1e00-4837-a9dc-47da62768e81": {
       "attrs": {
        "height": 0.4,
        "width": 0.8,
        "x": 0.1,
        "y": 0.5
       },
       "content": {
        "cell": "4d893a2a-6697-4106-97a3-9d3cedda8196",
        "part": "whole"
       },
       "id": "a87ea995-1e00-4837-a9dc-47da62768e81"
      },
      "a9d38df0-17a1-4293-bb4e-4394539d1c91": {
       "attrs": {
        "height": 0.4,
        "width": 0.8,
        "x": 0.1,
        "y": 0.5
       },
       "content": {
        "cell": "d8bdc59e-f378-4e97-ae51-8ded024b1745",
        "part": "whole"
       },
       "id": "a9d38df0-17a1-4293-bb4e-4394539d1c91"
      },
      "af9f6754-9d23-42d4-8772-9961fdbe5c35": {
       "attrs": {
        "height": 0.4,
        "width": 0.8,
        "x": 0.1,
        "y": 0.5
       },
       "content": {
        "cell": "556735ca-7177-43e8-b751-64a269841ac2",
        "part": "whole"
       },
       "id": "af9f6754-9d23-42d4-8772-9961fdbe5c35"
      },
      "bd6a7369-182e-4dbc-9e5a-a7186840b7b8": {
       "attrs": {
        "height": 0.4,
        "width": 0.8,
        "x": 0.1,
        "y": 0.5
       },
       "content": {
        "cell": "92ee3a78-19fa-427a-9a45-c244a1af741f",
        "part": "whole"
       },
       "id": "bd6a7369-182e-4dbc-9e5a-a7186840b7b8"
      },
      "cd180b4a-0e33-461e-82be-4f06206d4e25": {
       "attrs": {
        "height": 0.4,
        "width": 0.8,
        "x": 0.1,
        "y": 0.5
       },
       "content": {
        "cell": "709fb5b0-2d4c-44e5-a208-1018fbb4ed92",
        "part": "whole"
       },
       "id": "cd180b4a-0e33-461e-82be-4f06206d4e25"
      },
      "d01f8174-fd1c-4dfe-8137-b655f7e7cae1": {
       "attrs": {
        "height": 0.4,
        "width": 0.8,
        "x": 0.1,
        "y": 0.5
       },
       "content": {
        "cell": "7348b04e-5125-4d21-890a-63e1183d2636",
        "part": "whole"
       },
       "id": "d01f8174-fd1c-4dfe-8137-b655f7e7cae1"
      },
      "d3f144eb-f83c-474d-b76c-ed1a4be96cfa": {
       "attrs": {
        "height": 0.4,
        "width": 0.8,
        "x": 0.1,
        "y": 0.5
       },
       "content": {
        "cell": "f4629844-0cfb-4b03-bf9e-37d91209f4a3",
        "part": "whole"
       },
       "id": "d3f144eb-f83c-474d-b76c-ed1a4be96cfa"
      },
      "e50b8120-9a6f-421b-99f9-a4d66990e5c3": {
       "attrs": {
        "height": 0.4,
        "width": 0.8,
        "x": 0.1,
        "y": 0.5
       },
       "content": {
        "cell": "0410b25b-3969-460b-8f27-ee6eb7045621",
        "part": "whole"
       },
       "id": "e50b8120-9a6f-421b-99f9-a4d66990e5c3"
      },
      "e7152ce2-7603-4061-9660-e9be0f2ac5ba": {
       "attrs": {
        "height": 0.4,
        "width": 0.8,
        "x": 0.1,
        "y": 0.5
       },
       "content": {
        "cell": "34c317f8-0810-46de-89f3-ee4e9adf3d94",
        "part": "whole"
       },
       "id": "e7152ce2-7603-4061-9660-e9be0f2ac5ba"
      },
      "efcd2794-34f2-4e8b-9872-bbbf5680de16": {
       "attrs": {
        "height": 0.4,
        "width": 0.8,
        "x": 0.1,
        "y": 0.5
       },
       "content": {
        "cell": "c8e89824-6653-447d-bfeb-91b07f76635f",
        "part": "whole"
       },
       "id": "efcd2794-34f2-4e8b-9872-bbbf5680de16"
      }
     }
    },
    "b3139ce3-b4b2-4cba-8e58-4507871a5d1c": {
     "id": "b3139ce3-b4b2-4cba-8e58-4507871a5d1c",
     "prev": "a0716582-da06-429a-a557-e144b3c5a254",
     "regions": {
      "73e4eafc-9004-4aa4-8ce6-177c5cc6bb53": {
       "attrs": {
        "height": 0.8,
        "width": 0.8,
        "x": 0.1,
        "y": 0.1
       },
       "content": {
        "cell": "af94b571-be80-4e33-a0fc-caf38cb96d2e",
        "part": "whole"
       },
       "id": "73e4eafc-9004-4aa4-8ce6-177c5cc6bb53"
      }
     }
    },
    "be0e7936-9c83-457a-be7e-2a678ee2dcec": {
     "id": "be0e7936-9c83-457a-be7e-2a678ee2dcec",
     "prev": "0cfca3c4-c7ee-442a-b832-f2aff6c3a9c0",
     "regions": {
      "6838e729-17c4-4f68-88f4-f757a0f1f061": {
       "attrs": {
        "height": 0.8,
        "width": 0.8,
        "x": 0.1,
        "y": 0.1
       },
       "content": {
        "cell": "3ffc0bfe-f352-4852-8415-6b562e34aa63",
        "part": "whole"
       },
       "id": "6838e729-17c4-4f68-88f4-f757a0f1f061"
      }
     }
    },
    "bf5d5178-ff02-413b-a2d4-bc4d0e35af6f": {
     "id": "bf5d5178-ff02-413b-a2d4-bc4d0e35af6f",
     "prev": "87cdcae1-3753-4ac6-8718-5bf3b334822b",
     "regions": {
      "037587e1-d90d-4612-a1fa-f5ea3adec513": {
       "attrs": {
        "height": 0.4,
        "width": 0.8,
        "x": 0.1,
        "y": 0.5
       },
       "content": {
        "cell": "3cd7113d-3ab3-470c-859f-0eb8430fb519",
        "part": "whole"
       },
       "id": "037587e1-d90d-4612-a1fa-f5ea3adec513"
      },
      "244619d7-7a0e-45c4-b170-f0dd99a51079": {
       "attrs": {
        "height": 0.4,
        "width": 0.8,
        "x": 0.1,
        "y": 0.5
       },
       "content": {
        "cell": "d727ecad-37fa-4031-82ba-a19fb4e842dd",
        "part": "whole"
       },
       "id": "244619d7-7a0e-45c4-b170-f0dd99a51079"
      },
      "51b15096-9110-4908-b0bb-ce4d3ce75968": {
       "attrs": {
        "height": 0.8,
        "width": 0.8,
        "x": 0.1,
        "y": 0.1
       },
       "content": {
        "cell": "fa167211-43ef-4305-9585-f28923c93418",
        "part": "whole"
       },
       "id": "51b15096-9110-4908-b0bb-ce4d3ce75968"
      },
      "93b3b1e9-b255-4cb9-ae4e-a298c8047a43": {
       "attrs": {
        "height": 0.4,
        "width": 0.8,
        "x": 0.1,
        "y": 0.5
       },
       "content": {
        "cell": "ac66e10b-96ad-42cd-9f16-256428a69192",
        "part": "whole"
       },
       "id": "93b3b1e9-b255-4cb9-ae4e-a298c8047a43"
      },
      "e6409b91-c2b4-4415-bc47-ebcee739c596": {
       "attrs": {
        "height": 0.4,
        "width": 0.8,
        "x": 0.1,
        "y": 0.5
       },
       "content": {
        "cell": "101509d6-73e2-405c-8f9a-643c1a7af7c6",
        "part": "whole"
       },
       "id": "e6409b91-c2b4-4415-bc47-ebcee739c596"
      }
     }
    },
    "c740a5ac-97e7-407d-b9b8-2156590916ed": {
     "id": "c740a5ac-97e7-407d-b9b8-2156590916ed",
     "prev": "be0e7936-9c83-457a-be7e-2a678ee2dcec",
     "regions": {
      "66d4f6d2-dae8-4e83-a3dd-7fecaf42bc5a": {
       "attrs": {
        "height": 0.8,
        "width": 0.8,
        "x": 0.1,
        "y": 0.1
       },
       "content": {
        "cell": "bd921889-a302-48c6-bfae-e3bd4f5f0897",
        "part": "whole"
       },
       "id": "66d4f6d2-dae8-4e83-a3dd-7fecaf42bc5a"
      },
      "9bd838f5-d85b-48c0-a1a4-bca06628dc72": {
       "attrs": {
        "height": 0.4,
        "width": 0.8,
        "x": 0.1,
        "y": 0.5
       },
       "content": {
        "cell": "69e4fcaa-80ce-491a-a7ad-343cb460424e",
        "part": "whole"
       },
       "id": "9bd838f5-d85b-48c0-a1a4-bca06628dc72"
      }
     }
    },
    "d31dd8d7-b536-4daa-8d9c-230cfa50d1fe": {
     "id": "d31dd8d7-b536-4daa-8d9c-230cfa50d1fe",
     "prev": "ab6fd0bd-5f2d-4d72-9aa2-1a9df8d1e25a",
     "regions": {
      "55d1c185-7322-49b4-89c6-f5dfd9e62d74": {
       "attrs": {
        "height": 0.4,
        "width": 0.8,
        "x": 0.1,
        "y": 0.5
       },
       "content": {
        "cell": "ea2b0e0f-c5f4-4d45-aca7-f70069bfee65",
        "part": "whole"
       },
       "id": "55d1c185-7322-49b4-89c6-f5dfd9e62d74"
      },
      "7061215f-a12d-4f4f-9713-2e3765057563": {
       "attrs": {
        "height": 0.4,
        "width": 0.8,
        "x": 0.1,
        "y": 0.5
       },
       "content": {
        "cell": "47d28d69-5232-4e74-acbf-5a3442069323",
        "part": "whole"
       },
       "id": "7061215f-a12d-4f4f-9713-2e3765057563"
      },
      "7f0ed893-f4c1-4f5b-8760-86ef0279551f": {
       "attrs": {
        "height": 0.4,
        "width": 0.8,
        "x": 0.1,
        "y": 0.5
       },
       "content": {
        "cell": "9e96f406-d980-4fb6-9e12-7ec82fde97ff",
        "part": "whole"
       },
       "id": "7f0ed893-f4c1-4f5b-8760-86ef0279551f"
      },
      "873a362a-355d-4cf5-823f-acc23e131210": {
       "attrs": {
        "height": 0.8,
        "width": 0.8,
        "x": 0.1,
        "y": 0.1
       },
       "content": {
        "cell": "b452e668-e539-438a-920c-90ac814ac53b",
        "part": "whole"
       },
       "id": "873a362a-355d-4cf5-823f-acc23e131210"
      },
      "9ec8f63f-e3d4-4498-b688-5a6854f63c55": {
       "attrs": {
        "height": 0.4,
        "width": 0.8,
        "x": 0.1,
        "y": 0.5
       },
       "content": {
        "cell": "61809f7d-85f8-47fa-85d3-dad2bf6b672f",
        "part": "whole"
       },
       "id": "9ec8f63f-e3d4-4498-b688-5a6854f63c55"
      }
     }
    },
    "d90e814f-d11b-4f26-abf9-1a16a5eb31f7": {
     "id": "d90e814f-d11b-4f26-abf9-1a16a5eb31f7",
     "prev": "f7e2b1b3-fb4e-4b35-a9a1-d1dd3e75a36a",
     "regions": {
      "23e91b97-7a15-4fb7-9cf2-1e90c74bd8cf": {
       "attrs": {
        "height": 0.4,
        "width": 0.8,
        "x": 0.1,
        "y": 0.5
       },
       "content": {
        "cell": "b439cebb-9584-46b8-a655-a224cabec700",
        "part": "whole"
       },
       "id": "23e91b97-7a15-4fb7-9cf2-1e90c74bd8cf"
      },
      "45a57591-4491-4282-a9d4-e8e94cb6dd42": {
       "attrs": {
        "height": 0.4,
        "width": 0.8,
        "x": 0.1,
        "y": 0.5
       },
       "content": {
        "cell": "126767e9-2f3d-4e48-9a78-98f5abb2f55b",
        "part": "whole"
       },
       "id": "45a57591-4491-4282-a9d4-e8e94cb6dd42"
      },
      "d8590d5d-a011-4188-a641-d43ad4b28358": {
       "attrs": {
        "height": 0.8,
        "width": 0.8,
        "x": 0.1,
        "y": 0.1
       },
       "content": {
        "cell": "63164086-0bb8-4115-b67d-ecef2d6d0d01",
        "part": "whole"
       },
       "id": "d8590d5d-a011-4188-a641-d43ad4b28358"
      }
     }
    },
    "e7ca1e90-4fc3-4b53-9d75-765d8bd216e9": {
     "id": "e7ca1e90-4fc3-4b53-9d75-765d8bd216e9",
     "prev": "43b48067-4ae5-42f9-b791-66718499441b",
     "regions": {
      "6931b90e-f00e-4553-a506-c787891ccf58": {
       "attrs": {
        "height": 0.8,
        "width": 0.8,
        "x": 0.1,
        "y": 0.1
       },
       "content": {
        "cell": "4bdfee4f-8d8f-470a-aeb5-6a757f581f03",
        "part": "whole"
       },
       "id": "6931b90e-f00e-4553-a506-c787891ccf58"
      },
      "7d9edd3e-4c5d-4aab-b102-bb9be865967d": {
       "attrs": {
        "height": 0.4,
        "width": 0.8,
        "x": 0.1,
        "y": 0.5
       },
       "content": {
        "cell": "068a07a2-636f-4985-a370-11d6536f4173",
        "part": "whole"
       },
       "id": "7d9edd3e-4c5d-4aab-b102-bb9be865967d"
      },
      "d2ce9843-9aa3-442e-9de9-63ab749b52d6": {
       "attrs": {
        "height": 0.4,
        "width": 0.8,
        "x": 0.1,
        "y": 0.5
       },
       "content": {
        "cell": "a7a8b65d-460b-48a1-b5a8-7370f549879a",
        "part": "whole"
       },
       "id": "d2ce9843-9aa3-442e-9de9-63ab749b52d6"
      },
      "da0117c4-b53d-4102-884f-af988ebc465b": {
       "attrs": {
        "height": 0.4,
        "width": 0.8,
        "x": 0.1,
        "y": 0.5
       },
       "content": {
        "cell": "70eb1399-ee1e-4f2f-a563-331082675475",
        "part": "whole"
       },
       "id": "da0117c4-b53d-4102-884f-af988ebc465b"
      },
      "e3562a02-fc2e-4e5f-8bb7-1272d52eff3f": {
       "attrs": {
        "height": 0.4,
        "width": 0.8,
        "x": 0.1,
        "y": 0.5
       },
       "content": {
        "cell": "4645022f-d3aa-4199-b0a0-31cbab79f48e",
        "part": "whole"
       },
       "id": "e3562a02-fc2e-4e5f-8bb7-1272d52eff3f"
      }
     }
    },
    "f7e2b1b3-fb4e-4b35-a9a1-d1dd3e75a36a": {
     "id": "f7e2b1b3-fb4e-4b35-a9a1-d1dd3e75a36a",
     "prev": "d31dd8d7-b536-4daa-8d9c-230cfa50d1fe",
     "regions": {
      "c296b750-66cc-46ee-b22e-249076172106": {
       "attrs": {
        "height": 0.4,
        "width": 0.8,
        "x": 0.1,
        "y": 0.5
       },
       "content": {
        "cell": "8b2451d6-b316-4b62-8ae7-170729d8d004",
        "part": "whole"
       },
       "id": "c296b750-66cc-46ee-b22e-249076172106"
      },
      "d2b0f222-683a-4964-b1e8-b518c0453872": {
       "attrs": {
        "height": 0.8,
        "width": 0.8,
        "x": 0.1,
        "y": 0.1
       },
       "content": {
        "cell": "dd0a719e-785e-49ca-837d-aeba5e8ed5e2",
        "part": "whole"
       },
       "id": "d2b0f222-683a-4964-b1e8-b518c0453872"
      }
     }
    }
   },
   "themes": {}
  }
 },
 "nbformat": 4,
 "nbformat_minor": 0
}
