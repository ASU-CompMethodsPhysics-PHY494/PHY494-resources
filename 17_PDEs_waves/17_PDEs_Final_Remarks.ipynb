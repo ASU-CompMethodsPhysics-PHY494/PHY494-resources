{
 "cells": [
  {
   "cell_type": "markdown",
   "metadata": {
    "slideshow": {
     "slide_type": "slide"
    }
   },
   "source": [
    "# 17 PDEs: Final remarks\n",
    "\n",
    "**Congratulations, you made it through the PDEs!**"
   ]
  },
  {
   "cell_type": "markdown",
   "metadata": {
    "slideshow": {
     "slide_type": "slide"
    }
   },
   "source": [
    "## Origin of the Jacobi algorithm in a diffusion problem\n",
    "(see e.g., _Numerical Recipes in C_, Ch 19.5)"
   ]
  },
  {
   "cell_type": "markdown",
   "metadata": {
    "slideshow": {
     "slide_type": "fragment"
    }
   },
   "source": [
    "We want to solve the Laplace equation\n",
    "\n",
    "$$\n",
    "\\boldsymbol{\\nabla}^2 u = 0\n",
    "$$\n",
    "\n",
    "with given boundary conditions."
   ]
  },
  {
   "cell_type": "markdown",
   "metadata": {
    "slideshow": {
     "slide_type": "fragment"
    }
   },
   "source": [
    "Rewrite as a *diffusion equation* (with $D=1$):\n",
    "\n",
    "$$\n",
    "\\boldsymbol{\\nabla}^2 u = \\frac{\\partial u}{\\partial t}\n",
    "$$"
   ]
  },
  {
   "cell_type": "markdown",
   "metadata": {
    "slideshow": {
     "slide_type": "subslide"
    }
   },
   "source": [
    "The **equilibrium solution** of the diffusion equation (i.e., after very long $t$ when relaxed to equilibrium)\n",
    "\n",
    "$$\n",
    "\\lim_{t\\rightarrow+\\infty} u(\\mathbf{x}, t) \\equiv u(\\mathbf{x})\n",
    "$$\n",
    "\n",
    "is the solution of the boundary value problem."
   ]
  },
  {
   "cell_type": "markdown",
   "metadata": {
    "slideshow": {
     "slide_type": "slide"
    }
   },
   "source": [
    "## Jacobi algorithm rediscovered"
   ]
  },
  {
   "cell_type": "markdown",
   "metadata": {
    "slideshow": {
     "slide_type": "fragment"
    }
   },
   "source": [
    "Set up the finite difference scheme for the 2D diffusion equation, using $u(x, y, t) = u(i\\Delta, j\\Delta, n\\Delta t) = u_{ij}^n$:\n",
    "\n",
    "$$\n",
    "\\begin{split}\n",
    "\\frac{1}{\\Delta^2}\\left[(u_{i+1,j}^n -2u_{ij}^n + u_{i-1,j}^n) + (u_{i,j+1}^n -2u_{ij}^n + u_{i,j-1}^n)\\right] \\\\\n",
    "    = \\frac{1}{\\Delta t}(u_{ij}^{n+1} - u_{ij}^n)\n",
    "\\end{split}\n",
    "$$"
   ]
  },
  {
   "cell_type": "markdown",
   "metadata": {
    "slideshow": {
     "slide_type": "fragment"
    }
   },
   "source": [
    "In 2D, this leap frog algorithm is stable for\n",
    "\n",
    "$$\n",
    "\\frac{\\Delta t}{\\Delta ^2} \\le \\frac{1}{4}\n",
    "$$"
   ]
  },
  {
   "cell_type": "markdown",
   "metadata": {
    "slideshow": {
     "slide_type": "subslide"
    }
   },
   "source": [
    "Let's assume that we can push our solution to the edge of stability and use $\\frac{\\Delta t}{\\Delta ^2} = \\frac{1}{4}$. Then the finite difference scheme becomes\n",
    "\n",
    "$$\n",
    "\\frac{1}{4} \\left(u_{i+1,j}^n + u_{i-1,j}^n) + (u_{i,j+1}^n + u_{i,j-1}^n\\right) - u_{ij}^n = u_{ij}^{n+1} - u_{ij}^n\n",
    "$$"
   ]
  },
  {
   "cell_type": "markdown",
   "metadata": {
    "slideshow": {
     "slide_type": "fragment"
    }
   },
   "source": [
    "or when collecting terms, the **Jacobi algorithm** re-emerges\n",
    "\n",
    "$$\n",
    "u_{ij}^{n+1} = \\frac{1}{4} \\left(u_{i+1,j}^n + u_{i-1,j}^n + u_{i,j+1}^n + u_{i,j-1}^n\\right)\n",
    "$$\n",
    "\n",
    "where you now interpret $n$ as the step number in the iterations towards convergence."
   ]
  },
  {
   "cell_type": "markdown",
   "metadata": {
    "slideshow": {
     "slide_type": "slide"
    }
   },
   "source": [
    "## Broad classes of physical behavior\n",
    "(For real fields $u(\\mathbf{x}, t)$.)\n",
    "\n",
    "- elliptic PDE without time dependence: static boundary value problem (static, think $F = 0$)\n",
    "- parabolic PDE with first time derivative: diffusion problem (friction, think $F = -b v$)\n",
    "- hyperbolic PDE with second time derivative: wave problem (oscillator, think $F = m a$)\n"
   ]
  },
  {
   "cell_type": "code",
   "execution_count": null,
   "metadata": {
    "collapsed": true
   },
   "outputs": [],
   "source": []
  }
 ],
 "metadata": {
  "anaconda-cloud": {},
  "celltoolbar": "Slideshow",
  "kernelspec": {
   "display_name": "Python [conda root]",
   "language": "python",
   "name": "conda-root-py"
  },
  "language_info": {
   "codemirror_mode": {
    "name": "ipython",
    "version": 3
   },
   "file_extension": ".py",
   "mimetype": "text/x-python",
   "name": "python",
   "nbconvert_exporter": "python",
   "pygments_lexer": "ipython3",
   "version": "3.5.2"
  }
 },
 "nbformat": 4,
 "nbformat_minor": 1
}
