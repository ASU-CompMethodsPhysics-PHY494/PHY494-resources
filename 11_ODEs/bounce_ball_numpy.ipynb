{
 "cells": [
  {
   "cell_type": "markdown",
   "metadata": {},
   "source": [
    "# Bouncing ball with the Euler integrator\n",
    "As an introduction to solving ODEs we are solving the problem of the bouncing ball with the simplest of all integrators: the forward Euler scheme.\n",
    "\n",
    "We have to solve the *second order ODE* (Newton's equations of motion with constant acceleration)\n",
    "$$\n",
    "\\frac{d^2 y}{dt^2} = -g.\n",
    "$$\n",
    "\n",
    "The Euler scheme for any *first order ODE* \n",
    "\n",
    "$$\n",
    "\\frac{dy}{dt} = f(y, t)\n",
    "$$\n",
    "\n",
    "is\n",
    "$$\n",
    "y(t + h) = y(t) + h f(y(t), t).\n",
    "$$\n",
    "\n",
    "In order to solve the original 2nd order equation of motion we make use of the fact that one $n$-th order ODE can be written as $n$ coupled first order ODEs, namely \n",
    "\n",
    "\\begin{align}\n",
    "\\frac{dx}{dt} &= v\\\\\n",
    "\\frac{dv}{dt} &= -g.\n",
    "\\end{align}\n",
    "\n",
    "Solve each of the first order ODEs with Euler:\n",
    "\n",
    "\\begin{align}\n",
    "y(t + h) &= y(t) + h v(t)\\\\\n",
    "v(t + h) &= v(t) - h g.\n",
    "\\end{align}"
   ]
  },
  {
   "cell_type": "code",
   "execution_count": 1,
   "metadata": {
    "collapsed": true
   },
   "outputs": [],
   "source": [
    "import numpy as np"
   ]
  },
  {
   "cell_type": "markdown",
   "metadata": {},
   "source": [
    "## Free fall "
   ]
  },
  {
   "cell_type": "markdown",
   "metadata": {},
   "source": [
    "Start with free fall"
   ]
  },
  {
   "cell_type": "code",
   "execution_count": 2,
   "metadata": {
    "collapsed": false
   },
   "outputs": [],
   "source": [
    "g = -9.81\n",
    "y = 0.0\n",
    "v = 0.0\n",
    "\n",
    "t = 0\n",
    "dt = 0.01\n",
    "\n",
    "data = []\n",
    "\n",
    "while t < 10:\n",
    "    y = y + v*dt\n",
    "    v = v + g*dt\n",
    "    data.append([t, y, v]) \n",
    "    t += dt\n",
    "\n",
    "data = np.array(data) "
   ]
  },
  {
   "cell_type": "code",
   "execution_count": 3,
   "metadata": {
    "collapsed": false
   },
   "outputs": [
    {
     "data": {
      "text/plain": [
       "(1001, 3)"
      ]
     },
     "execution_count": 3,
     "metadata": {},
     "output_type": "execute_result"
    }
   ],
   "source": [
    "data.shape"
   ]
  },
  {
   "cell_type": "code",
   "execution_count": 4,
   "metadata": {
    "collapsed": false
   },
   "outputs": [
    {
     "data": {
      "text/plain": [
       "(3, 1001)"
      ]
     },
     "execution_count": 4,
     "metadata": {},
     "output_type": "execute_result"
    }
   ],
   "source": [
    "data = data.transpose()\n",
    "data.shape  # t, y, v"
   ]
  },
  {
   "cell_type": "code",
   "execution_count": 5,
   "metadata": {
    "collapsed": true
   },
   "outputs": [],
   "source": [
    "import matplotlib.pyplot as plt\n",
    "%matplotlib inline"
   ]
  },
  {
   "cell_type": "code",
   "execution_count": 6,
   "metadata": {
    "collapsed": false,
    "scrolled": true
   },
   "outputs": [
    {
     "data": {
      "text/plain": [
       "<matplotlib.text.Text at 0x10ad71ba8>"
      ]
     },
     "execution_count": 6,
     "metadata": {},
     "output_type": "execute_result"
    },
    {
     "data": {
      "image/png": "[encoded data removed]",
      "text/plain": [
       "<matplotlib.figure.Figure at 0x10ad43978>"
      ]
     },
     "metadata": {},
     "output_type": "display_data"
    }
   ],
   "source": [
    "plt.plot(data[0], data[1])\n",
    "plt.xlabel(\"time (s)\")\n",
    "plt.ylabel(\"position (m)\")"
   ]
  },
  {
   "cell_type": "markdown",
   "metadata": {},
   "source": [
    "## Bouncing\n",
    "Add a floor at $y = -5$.\n",
    "\n",
    "What happens at the floor? – The velocity changes (elastic collision)."
   ]
  },
  {
   "cell_type": "code",
   "execution_count": 7,
   "metadata": {
    "collapsed": false
   },
   "outputs": [],
   "source": [
    "g = -9.81\n",
    "y = 0.0\n",
    "v = 0.0\n",
    "\n",
    "t = 0\n",
    "dt = 0.01\n",
    "\n",
    "y_floor = -5\n",
    "\n",
    "data = []\n",
    "\n",
    "while t < 10:\n",
    "    y += v*dt\n",
    "    if y > y_floor:\n",
    "        v += g*dt\n",
    "    else:\n",
    "        v = -v   # bounce off floor\n",
    "    data.append([t, y, v]) \n",
    "    t += dt\n",
    "\n",
    "data = np.array(data).transpose() "
   ]
  },
  {
   "cell_type": "code",
   "execution_count": 8,
   "metadata": {
    "collapsed": false
   },
   "outputs": [
    {
     "data": {
      "text/plain": [
       "<matplotlib.text.Text at 0x10d88e4a8>"
      ]
     },
     "execution_count": 8,
     "metadata": {},
     "output_type": "execute_result"
    },
    {
     "data": {
      "image/png": "[encoded data removed]",
      "text/plain": [
       "<matplotlib.figure.Figure at 0x10ad7cb38>"
      ]
     },
     "metadata": {},
     "output_type": "display_data"
    }
   ],
   "source": [
    "plt.plot(data[0], data[1])\n",
    "plt.xlabel(\"time (s)\")\n",
    "plt.ylabel(\"position (m)\")"
   ]
  },
  {
   "cell_type": "code",
   "execution_count": null,
   "metadata": {
    "collapsed": true
   },
   "outputs": [],
   "source": []
  }
 ],
 "metadata": {
  "anaconda-cloud": {},
  "kernelspec": {
   "display_name": "Python [conda root]",
   "language": "python",
   "name": "conda-root-py"
  },
  "language_info": {
   "codemirror_mode": {
    "name": "ipython",
    "version": 3
   },
   "file_extension": ".py",
   "mimetype": "text/x-python",
   "name": "python",
   "nbconvert_exporter": "python",
   "pygments_lexer": "ipython3",
   "version": "3.5.2"
  }
 },
 "nbformat": 4,
 "nbformat_minor": 1
}
