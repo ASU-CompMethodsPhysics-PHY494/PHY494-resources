{
 "cells": [
  {
   "cell_type": "markdown",
   "metadata": {},
   "source": [
    "# 11 ODE integrators: Verlet (Students)\n",
    "This notebook contains incomplete code. Complete it (and `integrators2.py`) during class. After the lesson, complete solutions will be posted."
   ]
  },
  {
   "cell_type": "code",
   "execution_count": null,
   "metadata": {
    "collapsed": true
   },
   "outputs": [],
   "source": [
    "from importlib import reload\n",
    "\n",
    "import numpy as np\n",
    "import matplotlib\n",
    "import matplotlib.pyplot as plt\n",
    "%matplotlib inline\n",
    "matplotlib.style.use('ggplot')"
   ]
  },
  {
   "cell_type": "markdown",
   "metadata": {},
   "source": [
    "## Velocity Verlet"
   ]
  },
  {
   "cell_type": "markdown",
   "metadata": {},
   "source": [
    "Use expansion *forward* and *backward* (!) in time (Hamiltons (i.e. Newton without friction) equations are time symmetric)"
   ]
  },
  {
   "cell_type": "markdown",
   "metadata": {},
   "source": [
    "\\begin{align}\n",
    "r(t + \\Delta r) &\\approx r(t) + \\Delta t\\, v(t) + \\frac{1}{2m} \\Delta t^2 F(t)\\\\\n",
    "r(t) &\\approx r(t + \\Delta t) - \\Delta t\\, v(t + \\Delta t) + \\frac{1}{2m} \\Delta t^2 F(t+\\Delta t)\n",
    "\\end{align}"
   ]
  },
  {
   "cell_type": "markdown",
   "metadata": {},
   "source": [
    "Solve for $v$:\n",
    "\\begin{align}\n",
    "v(t+\\Delta t) &\\approx v(t) + \\frac{1}{2m} \\Delta t \\big(F(t) + F(t+\\Delta t)\\big)\n",
    "\\end{align}"
   ]
  },
  {
   "cell_type": "markdown",
   "metadata": {},
   "source": [
    "Complete **Velocity Verlet** integrator consists of the first and third equation."
   ]
  },
  {
   "cell_type": "markdown",
   "metadata": {},
   "source": [
    "In practice, split into three steps (calculate the velocity at the half time step):\n",
    "\\begin{align}\n",
    "v(t+\\frac{\\Delta t}{2}) &= v(t) + \\frac{\\Delta t}{2} \\frac{F(t)}{m} \\\\\n",
    "r(t + \\Delta r) &= r(t) + \\Delta t\\, v(t+\\frac{\\Delta t}{2})\\\\\n",
    "v(t+\\Delta t) &= v(t+\\frac{\\Delta t}{2}) + \\frac{\\Delta t}{2} \\frac{F(t+\\Delta t)}{m}\n",
    "\\end{align}"
   ]
  },
  {
   "cell_type": "markdown",
   "metadata": {},
   "source": [
    "When writing production-level code, remember to re-use $F(t+\\Delta t)$ als the \"new\" starting $F(t)$ in the next iteration (and don't recompute)."
   ]
  },
  {
   "cell_type": "markdown",
   "metadata": {},
   "source": [
    "### Integration of planetary motion \n",
    "Gravitational potential energy:\n",
    "$$\n",
    "U(r) = -\\frac{GMm}{r}\n",
    "$$\n",
    "with $r$ the distance between the two masses $m$ and $M$."
   ]
  },
  {
   "cell_type": "markdown",
   "metadata": {},
   "source": [
    "#### Central forces\n",
    "$$\n",
    "U(\\mathbf{r}) = f(r) = f(\\sqrt{\\mathbf{r}\\cdot\\mathbf{r}})\\\\\n",
    "\\mathbf{F} = -\\nabla U(\\mathbf{r}) = -\\frac{\\partial f(r)}{\\partial r} \\, \\frac{\\mathbf{r}}{r} \n",
    "$$"
   ]
  },
  {
   "cell_type": "markdown",
   "metadata": {},
   "source": [
    "#### Force of gravity\n",
    "\\begin{align}\n",
    "\\mathbf{F} &= -\\frac{G m M}{r^2} \\hat{\\mathbf{r}}\\\\\n",
    "\\hat{\\mathbf{r}} &= \\frac{1}{\\sqrt{x^2 + y^2}} \\left(\\begin{array}{c} x \\\\ y \\end{array}\\right)\n",
    "\\end{align}"
   ]
  },
  {
   "cell_type": "markdown",
   "metadata": {},
   "source": [
    "#### Integrate simple planetary orbits \n",
    "Set $M = 1$ (one solar mass) and $m = 3.003467×10^{-6}$ (one Earth mass in solar masses) and try initial conditions\n",
    "\n",
    "\\begin{alignat}{1}\n",
    "x(0) &= 1,\\quad  y(0) &= 0\\\\\n",
    "v_x(0) &= 0,\\quad  v_y(0) &= 6.179\n",
    "\\end{alignat}\n",
    "\n",
    "Note that we use the following units:\n",
    "* length in astronomical units (1 AU = 149,597,870,700 m )\n",
    "* mass in solar masses (1 $M_☉ = 1.988435×10^{30}$ kg)\n",
    "* time in years (1 year = 365.25 days, 1 day = 86400 seconds)\n",
    "\n",
    "In these units, the gravitational constant is $G = 4\\pi^2$ (in SI units $G = 6.674×10^{-11}\\, \\text{N}\\cdot\\text{m}^2\\cdot\\text{kg}^{-2}$)."
   ]
  },
  {
   "cell_type": "code",
   "execution_count": null,
   "metadata": {
    "collapsed": true
   },
   "outputs": [],
   "source": [
    "M_earth = 3.003467e-6\n",
    "M_sun = 1.0"
   ]
  },
  {
   "cell_type": "code",
   "execution_count": null,
   "metadata": {
    "collapsed": false
   },
   "outputs": [],
   "source": [
    "G_grav = 4*np.pi**2\n",
    "\n",
    "def F_gravity(r, m=M_earth, M=M_sun):\n",
    "    # IMPLEMENT ME\n",
    "    raise NotImplementedError\n",
    "\n",
    "def U_gravity(r, m=M_earth, M=M_sun):\n",
    "    return -G_grav*m*M/np.sqrt(np.sum(r*r))"
   ]
  },
  {
   "cell_type": "markdown",
   "metadata": {},
   "source": [
    "Let's now integrate the equations of motions under gravity with the **Velocity Verlet** algorithm:"
   ]
  },
  {
   "cell_type": "code",
   "execution_count": null,
   "metadata": {
    "collapsed": false
   },
   "outputs": [],
   "source": [
    "x0 = np.array([1, 0])\n",
    "v0 = np.array([0, 6.179])\n",
    "\n",
    "# IMPLEMENT ME\n",
    "# nsteps: number of integration steps\n",
    "# r: array to hold (x,y) for all time steps\n",
    "# v: array to hold (vx, vy) for all time steps\n",
    "#\n",
    "# integrate with Velocity Verlet"
   ]
  },
  {
   "cell_type": "markdown",
   "metadata": {},
   "source": [
    "Plot the orbit, i.e., all points (x, y)."
   ]
  },
  {
   "cell_type": "code",
   "execution_count": null,
   "metadata": {
    "collapsed": true
   },
   "outputs": [],
   "source": [
    "# plot orbit"
   ]
  },
  {
   "cell_type": "markdown",
   "metadata": {},
   "source": [
    "## Velocity Verlet vs RK4: Energy conservation\n",
    "Assess the stability of `rk4` and `Velocity Verlet` by checking energy conservation over longer simulation times.\n",
    "\n",
    "The file `integrators2.py` contains almost all code that you will need.\n",
    "\n",
    "### Implement gravity force in `integrators2.py`\n",
    "Add `F_gravity` to the `integrators2.py` module. Use the new function `unitvector()`."
   ]
  },
  {
   "cell_type": "markdown",
   "metadata": {},
   "source": [
    "### Planetary orbits with `integrators2.py` "
   ]
  },
  {
   "cell_type": "code",
   "execution_count": null,
   "metadata": {
    "collapsed": true
   },
   "outputs": [],
   "source": [
    "r0 = np.array([1, 0])\n",
    "v0 = np.array([0, 6.179])"
   ]
  },
  {
   "cell_type": "code",
   "execution_count": null,
   "metadata": {
    "collapsed": false
   },
   "outputs": [],
   "source": [
    "import integrators2\n",
    "from importlib import reload\n",
    "reload(integrators2)"
   ]
  },
  {
   "cell_type": "markdown",
   "metadata": {},
   "source": [
    "Use the new function `integrators2.integrate_newton_2d()` to integrate 2d coordinates."
   ]
  },
  {
   "cell_type": "markdown",
   "metadata": {},
   "source": [
    "#### RK4"
   ]
  },
  {
   "cell_type": "code",
   "execution_count": null,
   "metadata": {
    "collapsed": false
   },
   "outputs": [],
   "source": [
    "trk4, yrk4 = integrators2.integrate_newton_2d(x0=r0, v0=v0, t_max=30, mass=M_earth,\n",
    "                                       h=0.01,\n",
    "                                       force=integrators2.F_gravity, \n",
    "                                       integrator=integrators2.rk4)"
   ]
  },
  {
   "cell_type": "code",
   "execution_count": null,
   "metadata": {
    "collapsed": false,
    "scrolled": true
   },
   "outputs": [],
   "source": [
    "rxrk4, ryrk4 = yrk4[:, 0, 0], yrk4[:, 0, 1]\n",
    "ax = plt.subplot(1,1,1)\n",
    "ax.set_aspect(1)\n",
    "ax.plot(rxrk4, ryrk4)"
   ]
  },
  {
   "cell_type": "code",
   "execution_count": null,
   "metadata": {
    "collapsed": false,
    "scrolled": false
   },
   "outputs": [],
   "source": [
    "integrators2.analyze_energies(trk4, yrk4, integrators2.U_gravity, m=M_earth)"
   ]
  },
  {
   "cell_type": "code",
   "execution_count": null,
   "metadata": {
    "collapsed": false,
    "scrolled": true
   },
   "outputs": [],
   "source": [
    "print(\"Energy conservation RK4 for {} steps: {}\".format(\n",
    "        len(trk4),\n",
    "        integrators2.energy_conservation(trk4, yrk4, integrators2.U_gravity, m=M_earth)))"
   ]
  },
  {
   "cell_type": "markdown",
   "metadata": {},
   "source": [
    "#### Euler"
   ]
  },
  {
   "cell_type": "code",
   "execution_count": null,
   "metadata": {
    "collapsed": true
   },
   "outputs": [],
   "source": [
    "te, ye = integrators2.integrate_newton_2d(x0=r0, v0=v0, t_max=30, mass=M_earth,\n",
    "                                         h=0.01,\n",
    "                            force=F_gravity, \n",
    "                            integrator=integrators2.euler)\n",
    "rex, rey = ye[:, 0].T"
   ]
  },
  {
   "cell_type": "code",
   "execution_count": null,
   "metadata": {
    "collapsed": false
   },
   "outputs": [],
   "source": [
    "ax = plt.subplot(1,1,1)\n",
    "ax.plot(rx, ry, label=\"RK4\")\n",
    "ax.plot(rex, rey, label=\"Euler\")\n",
    "ax.legend(loc=\"best\")\n",
    "ax.set_aspect(1)"
   ]
  },
  {
   "cell_type": "code",
   "execution_count": null,
   "metadata": {
    "collapsed": false
   },
   "outputs": [],
   "source": [
    "integrators2.analyze_energies(te, ye, integrators2.U_gravity, m=M_earth)"
   ]
  },
  {
   "cell_type": "code",
   "execution_count": null,
   "metadata": {
    "collapsed": false
   },
   "outputs": [],
   "source": [
    "print(\"Energy conservation Euler for {} steps: {}\".format(\n",
    "        len(te),\n",
    "        integrators2.energy_conservation(te, ye, integrators2.U_gravity, m=M_earth)))"
   ]
  },
  {
   "cell_type": "markdown",
   "metadata": {},
   "source": [
    "*Euler* is just awful... but we knew that already."
   ]
  },
  {
   "cell_type": "markdown",
   "metadata": {},
   "source": [
    "#### Velocity Verlet"
   ]
  },
  {
   "cell_type": "code",
   "execution_count": null,
   "metadata": {
    "collapsed": true
   },
   "outputs": [],
   "source": [
    "tv, yv = integrators2.integrate_newton_2d(x0=r0, v0=v0, t_max=30, mass=M_earth,\n",
    "                                       h=0.01,\n",
    "                                       force=F_gravity, \n",
    "                                       integrator=integrators2.velocity_verlet)"
   ]
  },
  {
   "cell_type": "code",
   "execution_count": null,
   "metadata": {
    "collapsed": false
   },
   "outputs": [],
   "source": [
    "rxv, ryv = yv[:, 0].T\n",
    "ax = plt.subplot(1,1,1)\n",
    "ax.set_aspect(1)\n",
    "ax.plot(rxv, ryv, label=\"velocity Verlet\")\n",
    "ax.plot(rxrk4, ryrk4, label=\"RK4\")\n",
    "ax.legend(loc=\"best\")"
   ]
  },
  {
   "cell_type": "code",
   "execution_count": null,
   "metadata": {
    "collapsed": false,
    "scrolled": true
   },
   "outputs": [],
   "source": [
    "integrators2.analyze_energies(tv, yv, integrators2.U_gravity, m=M_earth)"
   ]
  },
  {
   "cell_type": "code",
   "execution_count": null,
   "metadata": {
    "collapsed": false
   },
   "outputs": [],
   "source": [
    "print(\"Energy conservation Velocity Verlet for {} steps: {}\".format(\n",
    "        len(tv),\n",
    "        integrators2.energy_conservation(tv, yv, integrators2.U_gravity, m=M_earth)))"
   ]
  },
  {
   "cell_type": "markdown",
   "metadata": {},
   "source": [
    "*Velocity Verlet* only has moderate accuracy, especially when compared to *RK4*.\n",
    "\n",
    "However, let's look at energy conservation over longer times:"
   ]
  },
  {
   "cell_type": "markdown",
   "metadata": {},
   "source": [
    "#### Longer time scale stability\n",
    "Run RK4 and Velocity Verlet for longer."
   ]
  },
  {
   "cell_type": "code",
   "execution_count": null,
   "metadata": {
    "collapsed": true
   },
   "outputs": [],
   "source": [
    "tv2, yv2 = integrators2.integrate_newton_2d(x0=r0, v0=v0, t_max=1000, mass=M_earth,\n",
    "                                       h=0.01,\n",
    "                                       force=F_gravity, \n",
    "                                       integrator=integrators2.velocity_verlet)"
   ]
  },
  {
   "cell_type": "code",
   "execution_count": null,
   "metadata": {
    "collapsed": false
   },
   "outputs": [],
   "source": [
    "print(\"Energy conservation Velocity Verlet for {} steps: {}\".format(\n",
    "        len(tv2),\n",
    "        integrators2.energy_conservation(tv2, yv2, integrators2.U_gravity, m=M_earth)))"
   ]
  },
  {
   "cell_type": "code",
   "execution_count": null,
   "metadata": {
    "collapsed": true
   },
   "outputs": [],
   "source": [
    "t4, y4 = integrators2.integrate_newton_2d(x0=r0, v0=v0, t_max=1000, mass=M_earth,\n",
    "                                       h=0.01,\n",
    "                                       force=F_gravity, \n",
    "                                       integrator=integrators2.rk4)"
   ]
  },
  {
   "cell_type": "code",
   "execution_count": null,
   "metadata": {
    "collapsed": false
   },
   "outputs": [],
   "source": [
    "print(\"Energy conservation RK4 for {} steps: {}\".format(\n",
    "        len(t4),\n",
    "        integrators2.energy_conservation(t4, y4, integrators2.U_gravity, m=M_earth)))"
   ]
  },
  {
   "cell_type": "markdown",
   "metadata": {},
   "source": [
    "Velocity Verlet shows **good long-term stability** but relative low precision. On the other hand, RK4 has high precision but the accuracy decreases over time.\n",
    "\n",
    "* Use a *Verlet* integrator when energy conservation is important and long term stability is required (e.g. molecular dynamics simulations). It is generally recommended to use an integrator that conserves some of the inherent symmetries and structures of the governing physical equations (e.g. for Hamilton's equations of motion, time reversal symmetry and the symplectic and area-preserving structure).\n",
    "* Use *RK4* for high short-term accuracy (but may be difficult to know what \"short term\" should mean) or when solving general differential equations.\n"
   ]
  },
  {
   "cell_type": "code",
   "execution_count": null,
   "metadata": {
    "collapsed": true
   },
   "outputs": [],
   "source": []
  }
 ],
 "metadata": {
  "anaconda-cloud": {},
  "kernelspec": {
   "display_name": "Python [default]",
   "language": "python",
   "name": "python3"
  },
  "language_info": {
   "codemirror_mode": {
    "name": "ipython",
    "version": 3
   },
   "file_extension": ".py",
   "mimetype": "text/x-python",
   "name": "python",
   "nbconvert_exporter": "python",
   "pygments_lexer": "ipython3",
   "version": "3.5.2"
  }
 },
 "nbformat": 4,
 "nbformat_minor": 0
}
