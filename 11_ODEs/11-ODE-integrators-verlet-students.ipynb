{
 "cells": [
  {
   "cell_type": "markdown",
   "metadata": {},
   "source": [
    "# 11 ODE integrators: Verlet (students)"
   ]
  },
  {
   "cell_type": "code",
   "execution_count": null,
   "metadata": {
    "collapsed": true
   },
   "outputs": [],
   "source": [
    "from importlib import reload\n",
    "\n",
    "import numpy as np\n",
    "import matplotlib\n",
    "import matplotlib.pyplot as plt\n",
    "%matplotlib inline\n",
    "matplotlib.style.use('ggplot')\n",
    "\n",
    "import integrators"
   ]
  },
  {
   "cell_type": "code",
   "execution_count": null,
   "metadata": {
    "collapsed": false,
    "scrolled": true
   },
   "outputs": [],
   "source": [
    "reload(integrators)"
   ]
  },
  {
   "cell_type": "markdown",
   "metadata": {},
   "source": [
    "## Velocity Verlet"
   ]
  },
  {
   "cell_type": "markdown",
   "metadata": {},
   "source": [
    "Use expansion *forward* and *backward* (!) in time (Hamiltons (i.e. Newton without friction) equations are time symmetric)"
   ]
  },
  {
   "cell_type": "markdown",
   "metadata": {},
   "source": [
    "\\begin{align}\n",
    "r(t + \\Delta r) &\\approx r(t) + \\Delta t\\, v(t) + \\frac{1}{2m} \\Delta t^2 F(t)\\\\\n",
    "r(t) &\\approx r(t + \\Delta t) - \\Delta t\\, v(t + \\Delta t) + \\frac{1}{2m} \\Delta t^2 F(t+\\Delta t)\n",
    "\\end{align}"
   ]
  },
  {
   "cell_type": "markdown",
   "metadata": {},
   "source": [
    "Solve for $v$:\n",
    "\\begin{align}\n",
    "v(t+\\Delta t) &\\approx v(t) + \\frac{1}{2m} \\Delta t \\big(F(t) + F(t+\\Delta t)\\big)\n",
    "\\end{align}"
   ]
  },
  {
   "cell_type": "markdown",
   "metadata": {},
   "source": [
    "Complete **Velocity Verlet** integrator consists of the first and third equation."
   ]
  },
  {
   "cell_type": "markdown",
   "metadata": {},
   "source": [
    "In practice, split into three steps (calculate the velocity at the half time step):\n",
    "\\begin{align}\n",
    "v(t+\\frac{\\Delta t}{2}) &= v(t) + \\frac{\\Delta t}{2} \\frac{F(t)}{m} \\\\\n",
    "r(t + \\Delta r) &= r(t) + \\Delta t\\, v(t+\\frac{\\Delta t}{2})\\\\\n",
    "v(t+\\Delta t) &= v(t+\\frac{\\Delta t}{2}) + \\frac{\\Delta t}{2} \\frac{F(t+\\Delta t)}{m}\n",
    "\\end{align}"
   ]
  },
  {
   "cell_type": "markdown",
   "metadata": {},
   "source": [
    "When writing production-level code, remember to re-use $F(t+\\Delta t)$ als the \"new\" starting $F(t)$ in the next iteration (and don't recompute)."
   ]
  },
  {
   "cell_type": "markdown",
   "metadata": {},
   "source": [
    "### Integration of planetary motion \n",
    "Gravitational potential energy:\n",
    "$$\n",
    "U(r) = -\\frac{GMm}{r}\n",
    "$$\n",
    "with $r$ the distance between the two masses $m$ and $M$."
   ]
  },
  {
   "cell_type": "markdown",
   "metadata": {},
   "source": [
    "#### Central forces\n",
    "$$\n",
    "U(\\mathbf{r}) = f(r) = f(\\sqrt{\\mathbf{r}\\cdot\\mathbf{r}})\\\\\n",
    "\\mathbf{F} = -\\nabla U(\\mathbf{r}) = -\\frac{\\partial f(r)}{\\partial r} \\, \\frac{\\mathbf{r}}{r} \n",
    "$$"
   ]
  },
  {
   "cell_type": "markdown",
   "metadata": {},
   "source": [
    "#### Force of gravity\n",
    "\\begin{align}\n",
    "\\mathbf{F} &= -\\frac{G m M}{r^2} \\hat{\\mathbf{r}}\\\\\n",
    "\\hat{\\mathbf{r}} &= \\frac{1}{\\sqrt{x^2 + y^2}} \\left(\\begin{array}{c} x \\\\ y \\end{array}\\right)\n",
    "\\end{align}"
   ]
  },
  {
   "cell_type": "markdown",
   "metadata": {},
   "source": [
    "#### Integrate simple planetary orbits \n",
    "Set $$GM = 1$$ and try initial conditions\n",
    "$$\n",
    "x(0) = 0.5, \\quad y(0)=0, \\quad v_x(0)=0, \\quad v_y(0)=1.63\n",
    "$$"
   ]
  },
  {
   "cell_type": "code",
   "execution_count": null,
   "metadata": {
    "collapsed": true
   },
   "outputs": [],
   "source": [
    "def F_gravity(r, m=1, G=1, M=1):\n",
    "    #\n",
    "\n",
    "def U_gravity(r, m=1, G=1, M=1):\n",
    "    return -G*m*M/np.sqrt(np.sum(r*r))"
   ]
  },
  {
   "cell_type": "code",
   "execution_count": null,
   "metadata": {
    "collapsed": false
   },
   "outputs": [],
   "source": [
    "# 2D planetary motion with velocity verlet\n"
   ]
  },
  {
   "cell_type": "code",
   "execution_count": null,
   "metadata": {
    "collapsed": false,
    "scrolled": true
   },
   "outputs": [],
   "source": [
    "# plot orbit"
   ]
  },
  {
   "cell_type": "markdown",
   "metadata": {},
   "source": [
    "## Velocity Verlet vs RK4: Energy conservation\n",
    "\n",
    "### Implement gravity force in `integrators2.py`\n",
    "Add `F_gravity` to the `integrators2.py` module. Use the new function `unitvector()`."
   ]
  },
  {
   "cell_type": "markdown",
   "metadata": {},
   "source": [
    "### Planetary orbits with `integrators2.py` "
   ]
  },
  {
   "cell_type": "code",
   "execution_count": null,
   "metadata": {
    "collapsed": true
   },
   "outputs": [],
   "source": [
    "r0 = np.array([0.5, 0])\n",
    "v0 = np.array([0, 1.63])"
   ]
  },
  {
   "cell_type": "code",
   "execution_count": null,
   "metadata": {
    "collapsed": false
   },
   "outputs": [],
   "source": [
    "import integrators2\n",
    "from importlib import reload\n",
    "reload(integrators2)"
   ]
  },
  {
   "cell_type": "markdown",
   "metadata": {},
   "source": [
    "Use the new function `integrators2.integrate_newton_2d()` to integrate 2d coordinates."
   ]
  },
  {
   "cell_type": "markdown",
   "metadata": {},
   "source": [
    "#### RK4"
   ]
  },
  {
   "cell_type": "code",
   "execution_count": null,
   "metadata": {
    "collapsed": false
   },
   "outputs": [],
   "source": [
    "trk4, yrk4 = integrators2.integrate_newton_2d(x0=r0, v0=v0, t_max=100, mass=1,\n",
    "                                       h=0.01,\n",
    "                                       force=integrators2.F_gravity, \n",
    "                                       integrator=integrators2.rk4)"
   ]
  },
  {
   "cell_type": "code",
   "execution_count": null,
   "metadata": {
    "collapsed": false,
    "scrolled": true
   },
   "outputs": [],
   "source": [
    "rxrk4, ryrk4 = yrk4[:, 0, 0], yrk4[:, 0, 1]\n",
    "ax = plt.subplot(1,1,1)\n",
    "ax.set_aspect(1)\n",
    "ax.plot(rxrk4, ryrk4)"
   ]
  },
  {
   "cell_type": "code",
   "execution_count": null,
   "metadata": {
    "collapsed": false,
    "scrolled": false
   },
   "outputs": [],
   "source": [
    "integrators2.analyze_energies(trk4, yrk4, integrators2.U_gravity)"
   ]
  },
  {
   "cell_type": "code",
   "execution_count": null,
   "metadata": {
    "collapsed": false
   },
   "outputs": [],
   "source": [
    "print(\"Energy conservation RK4 for {} steps: {}\".format(\n",
    "        len(trk4),\n",
    "        integrators2.energy_conservation(trk4, yrk4, integrators2.U_gravity)))"
   ]
  },
  {
   "cell_type": "markdown",
   "metadata": {},
   "source": [
    "#### Euler "
   ]
  },
  {
   "cell_type": "code",
   "execution_count": null,
   "metadata": {
    "collapsed": true
   },
   "outputs": [],
   "source": [
    "te, ye = integrators2.integrate_newton_2d(x0=r0, v0=v0, t_max=100, mass=1,\n",
    "                                         h=0.01,\n",
    "                            force=F_gravity, \n",
    "                            integrator=integrators2.euler)\n",
    "rex, rey = ye[:, 0].T"
   ]
  },
  {
   "cell_type": "code",
   "execution_count": null,
   "metadata": {
    "collapsed": false
   },
   "outputs": [],
   "source": [
    "ax = plt.subplot(1,1,1)\n",
    "ax.plot(rx, ry, label=\"RK4\")\n",
    "ax.plot(rex, rey, label=\"Euler\")\n",
    "ax.legend(loc=\"best\")"
   ]
  },
  {
   "cell_type": "code",
   "execution_count": null,
   "metadata": {
    "collapsed": false
   },
   "outputs": [],
   "source": [
    "integrators2.analyze_energies(te, ye, integrators2.U_gravity)"
   ]
  },
  {
   "cell_type": "code",
   "execution_count": null,
   "metadata": {
    "collapsed": false
   },
   "outputs": [],
   "source": [
    "print(\"Energy conservation Euler for {} steps: {}\".format(\n",
    "        len(te),\n",
    "        integrators2.energy_conservation(te, ye, integrators2.U_gravity)))"
   ]
  },
  {
   "cell_type": "markdown",
   "metadata": {},
   "source": [
    "#### Velocity Verlet"
   ]
  },
  {
   "cell_type": "code",
   "execution_count": null,
   "metadata": {
    "collapsed": true
   },
   "outputs": [],
   "source": [
    "tv, yv = integrators2.integrate_newton_2d(x0=r0, v0=v0, t_max=100, mass=1,\n",
    "                                       h=0.01,\n",
    "                                       force=F_gravity, \n",
    "                                       integrator=integrators2.velocity_verlet)"
   ]
  },
  {
   "cell_type": "code",
   "execution_count": null,
   "metadata": {
    "collapsed": false
   },
   "outputs": [],
   "source": [
    "rxv, ryv = yv[:, 0].T\n",
    "ax = plt.subplot(1,1,1)\n",
    "ax.set_aspect(1)\n",
    "ax.plot(rxv, ryv, label=\"velocity Verlet\")\n",
    "ax.plot(rxrk4, ryrk4, label=\"RK4\")\n",
    "ax.legend(loc=\"best\")"
   ]
  },
  {
   "cell_type": "code",
   "execution_count": null,
   "metadata": {
    "collapsed": false,
    "scrolled": true
   },
   "outputs": [],
   "source": [
    "integrators2.analyze_energies(tv, yv, integrators2.U_gravity)"
   ]
  },
  {
   "cell_type": "code",
   "execution_count": null,
   "metadata": {
    "collapsed": false
   },
   "outputs": [],
   "source": [
    "print(\"Energy conservation Velocity Verlet for {} steps: {}\".format(\n",
    "        len(tv),\n",
    "        integrators2.energy_conservation(tv, yv, integrators2.U_gravity)))"
   ]
  },
  {
   "cell_type": "markdown",
   "metadata": {},
   "source": [
    "#### Longer time scale stability\n",
    "Run RK4 and Velocity Verlet for longer.\n",
    "\n",
    "**NOTE: Runs *much* longer**"
   ]
  },
  {
   "cell_type": "code",
   "execution_count": null,
   "metadata": {
    "collapsed": true
   },
   "outputs": [],
   "source": [
    "tv2, yv2 = integrators2.integrate_newton_2d(x0=r0, v0=v0, t_max=10000, mass=1,\n",
    "                                       h=0.01,\n",
    "                                       force=F_gravity, \n",
    "                                       integrator=integrators2.velocity_verlet)"
   ]
  },
  {
   "cell_type": "code",
   "execution_count": null,
   "metadata": {
    "collapsed": false
   },
   "outputs": [],
   "source": [
    "print(\"Energy conservation Velocity Verlet for {} steps: {}\".format(\n",
    "        len(tv2),\n",
    "        integrators2.energy_conservation(tv2, yv2, integrators2.U_gravity)))"
   ]
  },
  {
   "cell_type": "code",
   "execution_count": null,
   "metadata": {
    "collapsed": true
   },
   "outputs": [],
   "source": [
    "t4, y4 = integrators2.integrate_newton_2d(x0=r0, v0=v0, t_max=10000, mass=1,\n",
    "                                       h=0.01,\n",
    "                                       force=F_gravity, \n",
    "                                       integrator=integrators2.rk4)"
   ]
  },
  {
   "cell_type": "code",
   "execution_count": null,
   "metadata": {
    "collapsed": false
   },
   "outputs": [],
   "source": [
    "print(\"Energy conservation RK4 for {} steps: {}\".format(\n",
    "        len(t4),\n",
    "        integrators2.energy_conservation(t4, y4, integrators2.U_gravity)))"
   ]
  }
 ],
 "metadata": {
  "anaconda-cloud": {},
  "kernelspec": {
   "display_name": "Python [default]",
   "language": "python",
   "name": "python3"
  },
  "language_info": {
   "codemirror_mode": {
    "name": "ipython",
    "version": 3
   },
   "file_extension": ".py",
   "mimetype": "text/x-python",
   "name": "python",
   "nbconvert_exporter": "python",
   "pygments_lexer": "ipython3",
   "version": "3.5.2"
  }
 },
 "nbformat": 4,
 "nbformat_minor": 0
}
