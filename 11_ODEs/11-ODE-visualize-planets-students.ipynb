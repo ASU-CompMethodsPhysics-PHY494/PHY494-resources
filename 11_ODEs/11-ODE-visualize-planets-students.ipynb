{
 "cells": [
  {
   "cell_type": "markdown",
   "metadata": {},
   "source": [
    "# 11 ODE: Visualization of planetary motion (Students)"
   ]
  },
  {
   "cell_type": "markdown",
   "metadata": {},
   "source": [
    "Visualize the motion of the earth using vpython (based on *Computational Modelling*, Jay Wang 2016, Ch 4, program 4.1 and updated for vpython-jupyter 2.x)"
   ]
  },
  {
   "cell_type": "markdown",
   "metadata": {},
   "source": [
    "*Complete the notebook.* (Full solutions will be posted after class.)"
   ]
  },
  {
   "cell_type": "code",
   "execution_count": null,
   "metadata": {
    "collapsed": false
   },
   "outputs": [
    {
     "data": {
      "application/javascript": [
       "require.undef(\"nbextensions/vpython_libraries/glow.min\");"
      ],
      "text/plain": [
       "<IPython.core.display.Javascript object>"
      ]
     },
     "metadata": {},
     "output_type": "display_data"
    },
    {
     "data": {
      "application/javascript": [
       "require.undef(\"nbextensions/vpython_libraries/glowcomm\");"
      ],
      "text/plain": [
       "<IPython.core.display.Javascript object>"
      ]
     },
     "metadata": {},
     "output_type": "display_data"
    },
    {
     "data": {
      "application/javascript": [
       "require.undef(\"nbextensions/vpython_libraries/jquery-ui.custom.min\");"
      ],
      "text/plain": [
       "<IPython.core.display.Javascript object>"
      ]
     },
     "metadata": {},
     "output_type": "display_data"
    },
    {
     "data": {
      "application/javascript": [
       "require([\"nbextensions/vpython_libraries/glow.min\"], function(){console.log(\"GLOW LOADED\");})"
      ],
      "text/plain": [
       "<IPython.core.display.Javascript object>"
      ]
     },
     "metadata": {},
     "output_type": "display_data"
    },
    {
     "data": {
      "application/javascript": [
       "require([\"nbextensions/vpython_libraries/glowcomm\"], function(){console.log(\"GLOWCOMM LOADED\");})"
      ],
      "text/plain": [
       "<IPython.core.display.Javascript object>"
      ]
     },
     "metadata": {},
     "output_type": "display_data"
    },
    {
     "data": {
      "application/javascript": [
       "require([\"nbextensions/vpython_libraries/jquery-ui.custom.min\"], function(){console.log(\"JQUERY LOADED\");})"
      ],
      "text/plain": [
       "<IPython.core.display.Javascript object>"
      ]
     },
     "metadata": {},
     "output_type": "display_data"
    },
    {
     "data": {
      "text/html": [
       "<div id=\"glowscript\" class=\"glowscript\"></div>"
      ],
      "text/plain": [
       "<IPython.core.display.HTML object>"
      ]
     },
     "metadata": {},
     "output_type": "display_data"
    },
    {
     "data": {
      "application/javascript": [
       "window.__context = { glowscript_container: $(\"#glowscript\").removeAttr(\"id\")}"
      ],
      "text/plain": [
       "<IPython.core.display.Javascript object>"
      ]
     },
     "metadata": {},
     "output_type": "display_data"
    }
   ],
   "source": [
    "import numpy as np\n",
    "import vpython as vp\n",
    "\n",
    "M_earth = 3.003467e-6\n",
    "M_sun = 1.0\n",
    "\n",
    "G_grav = 4*np.pi**2\n",
    "\n",
    "def F_gravity(r, m=M_earth, M=M_sun):\n",
    "    rr = np.sum(r*r)\n",
    "    rhat = r/np.sqrt(rr)\n",
    "    return -G_grav*m*M/rr * rhat\n",
    "\n",
    "def vp_planet_orbit(r0=np.array([1.017, 0, 0]), v0=np.array([0, 6.179, 0]), mass=M_earth, dt=0.001):\n",
    "    \"\"\"Visualize 2D planetary motion with velocity verlet\"\"\"\n",
    "    dim = len(r0)\n",
    "    assert len(v0) == dim\n",
    "\n",
    "    r = np.array(r0, copy=True)\n",
    "    v = np.array(v0, copy=True)\n",
    "\n",
    "    \n",
    "    scene = vp.display(title=\"Earth around Sun\", background=vp.color.black,\n",
    "                      forward=vp.vec(0, 2, -1))\n",
    "    planet = vp.sphere(pos=vp.vec(*r), radius=0.1, make_trail=True,\n",
    "                      texture=vp.textures.earth,\n",
    "                      up=vp.vec(0, 0, 1))\n",
    "    sun = vp.sphere(pos=vp.vec(0, 0, 0), radius=0.2, color=vp.color.yellow,\n",
    "                    emissive=True)\n",
    "    sunlight = vp.local_light(pos=vp.vec(0, 0, 0), color=vp.color.yellow)\n",
    "                       \n",
    "    # start force evaluation for first step\n",
    "    Ft = F_gravity(r, m=mass)\n",
    "    while True:\n",
    "        # IMPLEMENT Velocity Verlet integrator\n",
    "        \n",
    "        vp.rate(200)\n",
    "        planet.pos = vp.vec(*r)\n",
    "            \n",
    "\n",
    "vp_planet_orbit()"
   ]
  },
  {
   "cell_type": "code",
   "execution_count": null,
   "metadata": {
    "collapsed": true
   },
   "outputs": [],
   "source": []
  }
 ],
 "metadata": {
  "anaconda-cloud": {},
  "kernelspec": {
   "display_name": "VPython",
   "language": "python",
   "name": "vpython"
  },
  "language_info": {
   "codemirror_mode": {
    "name": "ipython",
    "version": 3
   },
   "file_extension": ".py",
   "mimetype": "text/x-python",
   "name": "python",
   "nbconvert_exporter": "python",
   "pygments_lexer": "ipython3",
   "version": "3.5.2"
  }
 },
 "nbformat": 4,
 "nbformat_minor": 1
}
