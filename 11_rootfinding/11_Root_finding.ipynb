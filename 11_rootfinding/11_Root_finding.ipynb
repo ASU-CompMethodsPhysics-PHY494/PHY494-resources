{
 "cells": [
  {
   "cell_type": "markdown",
   "metadata": {},
   "source": [
    "# 11 Root finding and Trial-and-Error search "
   ]
  },
  {
   "cell_type": "markdown",
   "metadata": {},
   "source": [
    "We want to find the roots $x_0$of\n",
    "\n",
    "$$\n",
    "f(x_0) = 0\n",
    "$$"
   ]
  },
  {
   "cell_type": "code",
   "execution_count": 2,
   "metadata": {
    "collapsed": true
   },
   "outputs": [],
   "source": [
    "import numpy as np\n",
    "import matplotlib\n",
    "import matplotlib.pyplot as plt\n",
    "%matplotlib inline\n",
    "matplotlib.style.use('ggplot')"
   ]
  },
  {
   "cell_type": "markdown",
   "metadata": {},
   "source": [
    "## Bisection\n",
    "(Demonstrate algorithm on board).\n",
    "\n"
   ]
  },
  {
   "cell_type": "code",
   "execution_count": 3,
   "metadata": {
    "collapsed": true
   },
   "outputs": [],
   "source": [
    "import numpy as np"
   ]
  },
  {
   "cell_type": "markdown",
   "metadata": {},
   "source": [
    "### Trial functions "
   ]
  },
  {
   "cell_type": "markdown",
   "metadata": {},
   "source": [
    "Define two functions to work with; finding the roots amounts to solving a transcendental equation:\n",
    "\n",
    "\\begin{gather}\n",
    "f(x) = 2\\cos x - x = 0\n",
    "\\end{gather}\n",
    "\n",
    "The following solution comes up for the energy eigenvalues of the bound particle states in the finite square well in quantum mechanics I:\n",
    "\n",
    "\\begin{gather}\n",
    "f(E) = \\sqrt{V_0 - E} \\tan\\sqrt{V_0 - E} - \\sqrt{E} = 0\n",
    "\\end{gather}\n",
    "\n",
    "($V_0$ is the depth of the well potential. This solution is for even states.)\n"
   ]
  },
  {
   "cell_type": "code",
   "execution_count": 93,
   "metadata": {
    "collapsed": true
   },
   "outputs": [],
   "source": [
    "def f(x):\n",
    "    return 2*np.cos(x) - x\n",
    "\n",
    "def well(E, V0=10):\n",
    "    return np.sqrt(V0 - E)*np.tan(np.sqrt(V0 - E)) - np.sqrt(E)"
   ]
  },
  {
   "cell_type": "markdown",
   "metadata": {},
   "source": [
    "### Implementation of the bisection algorithm "
   ]
  },
  {
   "cell_type": "code",
   "execution_count": 114,
   "metadata": {
    "collapsed": true
   },
   "outputs": [],
   "source": [
    "def bisection(f, xminus, xplus, Nmax=100, eps=1e-14):\n",
    "    for iteration in range(Nmax):\n",
    "        x = (xplus + xminus)/2\n",
    "        fx = f(x)\n",
    "        if f(xplus) * fx > 0:\n",
    "            # root is not between xplus and x\n",
    "            xplus = x\n",
    "        else:\n",
    "            xminus = x\n",
    "        if np.abs(fx) < eps:\n",
    "            break\n",
    "    else:\n",
    "        print(\"bisect: no root found after {0} iterations (eps={1}); \"\n",
    "              \"best guess is {2} with error {3}\".format(Nmax, eps, x, fx))\n",
    "        x = None\n",
    "    return x"
   ]
  },
  {
   "cell_type": "markdown",
   "metadata": {},
   "source": [
    "### Testing with $f(x)$ "
   ]
  },
  {
   "cell_type": "code",
   "execution_count": 21,
   "metadata": {
    "collapsed": false
   },
   "outputs": [
    {
     "name": "stdout",
     "output_type": "stream",
     "text": [
      "1.029866529322259\n"
     ]
    }
   ],
   "source": [
    "x0 = bisection(f, 0, 7)\n",
    "print(x0)"
   ]
  },
  {
   "cell_type": "code",
   "execution_count": 18,
   "metadata": {
    "collapsed": false,
    "scrolled": true
   },
   "outputs": [
    {
     "data": {
      "text/plain": [
       "-6.6613381477509392e-16"
      ]
     },
     "execution_count": 18,
     "metadata": {},
     "output_type": "execute_result"
    }
   ],
   "source": [
    "f(x0)"
   ]
  },
  {
   "cell_type": "code",
   "execution_count": 20,
   "metadata": {
    "collapsed": false
   },
   "outputs": [
    {
     "data": {
      "text/plain": [
       "[<matplotlib.lines.Line2D at 0x11734bf60>]"
      ]
     },
     "execution_count": 20,
     "metadata": {},
     "output_type": "execute_result"
    },
    {
     "data": {
      "image/png": "[encoded data removed]",
      "text/plain": [
       "<matplotlib.figure.Figure at 0x106dfd128>"
      ]
     },
     "metadata": {},
     "output_type": "display_data"
    }
   ],
   "source": [
    "X = np.linspace(0, 7, 30)\n",
    "plt.plot(X, np.zeros_like(X), 'k--')\n",
    "plt.plot(X, f(X))"
   ]
  },
  {
   "cell_type": "markdown",
   "metadata": {},
   "source": [
    "### Activity\n",
    "\n",
    "1. Find solutions for the square well for $V_0 = 10$\n",
    "2. Plot `well(E, V_0=10)` for $0 < E < 11$ and check your solution graphically.\n",
    "3. Vary the bracketing range to find all roots."
   ]
  },
  {
   "cell_type": "code",
   "execution_count": 94,
   "metadata": {
    "collapsed": false
   },
   "outputs": [
    {
     "name": "stdout",
     "output_type": "stream",
     "text": [
      "0.004019262453329175\n"
     ]
    }
   ],
   "source": [
    "E1 = bisection(well, 0, 10)\n",
    "print(E1)"
   ]
  },
  {
   "cell_type": "code",
   "execution_count": 95,
   "metadata": {
    "collapsed": false
   },
   "outputs": [
    {
     "data": {
      "text/plain": [
       "5.6898930012039273e-16"
      ]
     },
     "execution_count": 95,
     "metadata": {},
     "output_type": "execute_result"
    }
   ],
   "source": [
    "well(E1)"
   ]
  },
  {
   "cell_type": "code",
   "execution_count": 96,
   "metadata": {
    "collapsed": true
   },
   "outputs": [],
   "source": [
    "E_values = np.linspace(0, 11, 100)"
   ]
  },
  {
   "cell_type": "code",
   "execution_count": 97,
   "metadata": {
    "collapsed": false,
    "scrolled": true
   },
   "outputs": [
    {
     "name": "stderr",
     "output_type": "stream",
     "text": [
      "/opt/local/Library/Frameworks/Python.framework/Versions/3.5/lib/python3.5/site-packages/ipykernel/__main__.py:5: RuntimeWarning: invalid value encountered in sqrt\n"
     ]
    },
    {
     "data": {
      "text/plain": [
       "(-10, 10)"
      ]
     },
     "execution_count": 97,
     "metadata": {},
     "output_type": "execute_result"
    },
    {
     "data": {
      "image/png": "[encoded data removed]",
      "text/plain": [
       "<matplotlib.figure.Figure at 0x117f7cd30>"
      ]
     },
     "metadata": {},
     "output_type": "display_data"
    }
   ],
   "source": [
    "plt.plot(E_values, well(E_values, V0=10))\n",
    "plt.plot(E_values, np.zeros_like(E_values), 'k--')\n",
    "plt.ylim(-10,10)"
   ]
  },
  {
   "cell_type": "code",
   "execution_count": 115,
   "metadata": {
    "collapsed": false,
    "scrolled": true
   },
   "outputs": [
    {
     "name": "stdout",
     "output_type": "stream",
     "text": [
      "8.59278527522984\n",
      "-3.5527136788e-15\n"
     ]
    }
   ],
   "source": [
    "E2 = bisection(well, 8.5, 10)\n",
    "print(E2)\n",
    "print(well(E2))"
   ]
  },
  {
   "cell_type": "markdown",
   "metadata": {},
   "source": [
    "#### Alternative form of the well "
   ]
  },
  {
   "cell_type": "markdown",
   "metadata": {},
   "source": [
    "Alternative form of the equation for the well:\n",
    "$$\n",
    "f(E) = \\sqrt{E} \\cot\\sqrt{V_0 - E} - \\sqrt{V_0 - E} = 0\n",
    "$$"
   ]
  },
  {
   "cell_type": "code",
   "execution_count": 74,
   "metadata": {
    "collapsed": true
   },
   "outputs": [],
   "source": [
    "def well2(E, V0=10):\n",
    "    return np.sqrt(E) / np.tan(np.sqrt(V0 - E)) - np.sqrt(V0 - E)"
   ]
  },
  {
   "cell_type": "code",
   "execution_count": 76,
   "metadata": {
    "collapsed": false
   },
   "outputs": [
    {
     "name": "stderr",
     "output_type": "stream",
     "text": [
      "/opt/local/Library/Frameworks/Python.framework/Versions/3.5/lib/python3.5/site-packages/ipykernel/__main__.py:2: RuntimeWarning: invalid value encountered in sqrt\n",
      "  from ipykernel import kernelapp as app\n",
      "/opt/local/Library/Frameworks/Python.framework/Versions/3.5/lib/python3.5/site-packages/ipykernel/__main__.py:2: RuntimeWarning: divide by zero encountered in true_divide\n",
      "  from ipykernel import kernelapp as app\n"
     ]
    },
    {
     "data": {
      "text/plain": [
       "(-10, 10)"
      ]
     },
     "execution_count": 76,
     "metadata": {},
     "output_type": "execute_result"
    },
    {
     "data": {
      "image/png": "[encoded data removed]",
      "text/plain": [
       "<matplotlib.figure.Figure at 0x117d03cc0>"
      ]
     },
     "metadata": {},
     "output_type": "display_data"
    }
   ],
   "source": [
    "E_values = np.linspace(0, 11, 100)\n",
    "plt.plot(E_values, well2(E_values, V0=10))\n",
    "plt.plot(E_values, np.zeros_like(E_values), 'k--')\n",
    "plt.ylim(-10,10)"
   ]
  },
  {
   "cell_type": "code",
   "execution_count": 79,
   "metadata": {
    "collapsed": false
   },
   "outputs": [
    {
     "name": "stdout",
     "output_type": "stream",
     "text": [
      "0.0040192624533292465\n",
      "-4.4408920985e-16\n",
      "-0.137137438953\n"
     ]
    }
   ],
   "source": [
    "E0 = bisection(well2, 0, 0.1)\n",
    "print(E0)\n",
    "print(well2(E0))\n",
    "print(well(E0))"
   ]
  },
  {
   "cell_type": "code",
   "execution_count": 116,
   "metadata": {
    "collapsed": false
   },
   "outputs": [
    {
     "name": "stdout",
     "output_type": "stream",
     "text": [
      "8.592785275229836\n",
      "-4.4408920985e-15\n",
      "1.11022302463e-14\n"
     ]
    }
   ],
   "source": [
    "E1 = bisection(well2, 8, 9.9)\n",
    "print(E1)\n",
    "print(well2(E1))\n",
    "print(well(E1))"
   ]
  },
  {
   "cell_type": "markdown",
   "metadata": {},
   "source": [
    "### Additional activity: deeper well\n",
    "Find bound states for a well with $V_0 = 20$"
   ]
  },
  {
   "cell_type": "markdown",
   "metadata": {},
   "source": [
    "Use [lambda functions](https://docs.python.org/3/tutorial/controlflow.html#lambda-expressions) (anonymous or \"on-the-fly\" functions) or define a new function `well20()`:"
   ]
  },
  {
   "cell_type": "code",
   "execution_count": 117,
   "metadata": {
    "collapsed": true
   },
   "outputs": [],
   "source": [
    "def well20(E):\n",
    "    return well(E, V0=20)"
   ]
  },
  {
   "cell_type": "code",
   "execution_count": 118,
   "metadata": {
    "collapsed": false
   },
   "outputs": [
    {
     "name": "stdout",
     "output_type": "stream",
     "text": [
      "bisect: no root found after 10 iterations (eps=1e-14); best guess is 0.0048828125 with error 18.139614720247465\n"
     ]
    }
   ],
   "source": [
    "bisection(well20, 0, 5, Nmax=10)"
   ]
  },
  {
   "cell_type": "markdown",
   "metadata": {},
   "source": [
    "For experts: using anonynmous functions (same thing as above but saves typing... possibly at the cost of lack of clarity):"
   ]
  },
  {
   "cell_type": "code",
   "execution_count": 120,
   "metadata": {
    "collapsed": false
   },
   "outputs": [
    {
     "name": "stdout",
     "output_type": "stream",
     "text": [
      "bisect: no root found after 10 iterations (eps=1e-14); best guess is 0.0048828125 with error 18.139614720247465\n"
     ]
    }
   ],
   "source": [
    "bisection(lambda E: well(E, V0=20), 0, 5, Nmax=10)"
   ]
  },
  {
   "cell_type": "markdown",
   "metadata": {},
   "source": [
    "plot to get a better idea"
   ]
  },
  {
   "cell_type": "code",
   "execution_count": 121,
   "metadata": {
    "collapsed": false
   },
   "outputs": [
    {
     "name": "stderr",
     "output_type": "stream",
     "text": [
      "/opt/local/Library/Frameworks/Python.framework/Versions/3.5/lib/python3.5/site-packages/ipykernel/__main__.py:5: RuntimeWarning: invalid value encountered in sqrt\n"
     ]
    },
    {
     "data": {
      "text/plain": [
       "(-10, 10)"
      ]
     },
     "execution_count": 121,
     "metadata": {},
     "output_type": "execute_result"
    },
    {
     "data": {
      "image/png": "[encoded data removed]",
      "text/plain": [
       "<matplotlib.figure.Figure at 0x117e489b0>"
      ]
     },
     "metadata": {},
     "output_type": "display_data"
    }
   ],
   "source": [
    "E_values = np.linspace(0, 21, 200)\n",
    "plt.plot(E_values, well20(E_values))\n",
    "plt.plot(E_values, np.zeros_like(E_values), 'k--')\n",
    "plt.ylim(-10,10)"
   ]
  },
  {
   "cell_type": "code",
   "execution_count": 123,
   "metadata": {
    "collapsed": false
   },
   "outputs": [
    {
     "data": {
      "text/plain": [
       "6.108467017547632"
      ]
     },
     "execution_count": 123,
     "metadata": {},
     "output_type": "execute_result"
    }
   ],
   "source": [
    "bisection(well20, 0, 10)"
   ]
  },
  {
   "cell_type": "code",
   "execution_count": 127,
   "metadata": {
    "collapsed": false
   },
   "outputs": [
    {
     "data": {
      "text/plain": [
       "18.360519852466737"
      ]
     },
     "execution_count": 127,
     "metadata": {},
     "output_type": "execute_result"
    }
   ],
   "source": [
    "bisection(well20, 17, 20, eps=1e-13)"
   ]
  },
  {
   "cell_type": "markdown",
   "metadata": {},
   "source": [
    "## Newton-Raphson\n",
    "(Demonstrate algorithm on board)"
   ]
  },
  {
   "cell_type": "markdown",
   "metadata": {},
   "source": [
    "### Activity: Implement Newton-Raphson\n",
    "1. Implement the Newton-Raphson algorithm\n",
    "2. Test with $f(x)$ and the well for $V_0 = 10$.\n",
    "3. Bonus: test performance of `newton_raphson()` against `bisection()`."
   ]
  },
  {
   "cell_type": "code",
   "execution_count": 113,
   "metadata": {
    "collapsed": true
   },
   "outputs": [],
   "source": [
    "def newton_raphson(f, x, h=3e-1, Nmax=100, eps=1e-14):\n",
    "    for iteration in range(Nmax):\n",
    "        fx = f(x)\n",
    "        if np.abs(fx) < eps:\n",
    "            break\n",
    "        df = (f(x + h/2) - f(x - h/2))/h\n",
    "        Delta_x = -fx/df\n",
    "        x += Delta_x\n",
    "    else:\n",
    "        print(\"Newton-Raphson: no root found after {0} iterations (eps={1}); \"\n",
    "              \"best guess is {2} with error {3}\".format(Nmax, eps, x, fx))\n",
    "        x = None\n",
    "    return x"
   ]
  },
  {
   "cell_type": "code",
   "execution_count": 72,
   "metadata": {
    "collapsed": false
   },
   "outputs": [
    {
     "data": {
      "text/plain": [
       "1.0298665293222589"
      ]
     },
     "execution_count": 72,
     "metadata": {},
     "output_type": "execute_result"
    }
   ],
   "source": [
    "newton_raphson(f, 0)"
   ]
  },
  {
   "cell_type": "code",
   "execution_count": 137,
   "metadata": {
    "collapsed": false,
    "scrolled": true
   },
   "outputs": [
    {
     "name": "stdout",
     "output_type": "stream",
     "text": [
      "Newton-Raphson: no root found after 100 iterations (eps=1e-14); best guess is nan with error nan\n"
     ]
    },
    {
     "name": "stderr",
     "output_type": "stream",
     "text": [
      "/opt/local/Library/Frameworks/Python.framework/Versions/3.5/lib/python3.5/site-packages/ipykernel/__main__.py:5: RuntimeWarning: invalid value encountered in sqrt\n",
      "/opt/local/Library/Frameworks/Python.framework/Versions/3.5/lib/python3.5/site-packages/ipykernel/__main__.py:4: RuntimeWarning: invalid value encountered in absolute\n"
     ]
    }
   ],
   "source": [
    "newton_raphson(well, 0.3, eps=1e-14)"
   ]
  },
  {
   "cell_type": "markdown",
   "metadata": {},
   "source": [
    "Can't get it to converge for the first root. Second root works:"
   ]
  },
  {
   "cell_type": "code",
   "execution_count": 138,
   "metadata": {
    "collapsed": false
   },
   "outputs": [
    {
     "data": {
      "text/plain": [
       "8.5927852752298381"
      ]
     },
     "execution_count": 138,
     "metadata": {},
     "output_type": "execute_result"
    }
   ],
   "source": [
    "newton_raphson(well, 9, eps=1e-14)"
   ]
  },
  {
   "cell_type": "markdown",
   "metadata": {},
   "source": [
    "Note that bisection is more robust and finds the first root:"
   ]
  },
  {
   "cell_type": "code",
   "execution_count": 139,
   "metadata": {
    "collapsed": false
   },
   "outputs": [
    {
     "data": {
      "text/plain": [
       "0.0040192624533297305"
      ]
     },
     "execution_count": 139,
     "metadata": {},
     "output_type": "execute_result"
    }
   ],
   "source": [
    "bisection(well, 0, 1)"
   ]
  },
  {
   "cell_type": "code",
   "execution_count": 140,
   "metadata": {
    "collapsed": false
   },
   "outputs": [
    {
     "name": "stdout",
     "output_type": "stream",
     "text": [
      "1000 loops, best of 3: 302 µs per loop\n"
     ]
    }
   ],
   "source": [
    "%timeit newton_raphson(well, 9)"
   ]
  },
  {
   "cell_type": "code",
   "execution_count": 141,
   "metadata": {
    "collapsed": false
   },
   "outputs": [
    {
     "name": "stdout",
     "output_type": "stream",
     "text": [
      "1000 loops, best of 3: 984 µs per loop\n"
     ]
    }
   ],
   "source": [
    "%timeit bisection(well, 8, 9)"
   ]
  },
  {
   "cell_type": "code",
   "execution_count": null,
   "metadata": {
    "collapsed": true
   },
   "outputs": [],
   "source": []
  }
 ],
 "metadata": {
  "kernelspec": {
   "display_name": "Python 3",
   "language": "python",
   "name": "python3"
  },
  "language_info": {
   "codemirror_mode": {
    "name": "ipython",
    "version": 3
   },
   "file_extension": ".py",
   "mimetype": "text/x-python",
   "name": "python",
   "nbconvert_exporter": "python",
   "pygments_lexer": "ipython3",
   "version": "3.5.1"
  }
 },
 "nbformat": 4,
 "nbformat_minor": 0
}
