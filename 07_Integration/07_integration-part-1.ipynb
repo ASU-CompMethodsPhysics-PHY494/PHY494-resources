{
 "cells": [
  {
   "cell_type": "markdown",
   "metadata": {
    "slideshow": {
     "slide_type": "slide"
    }
   },
   "source": [
    "# 07 Integration\n",
    "See *Computational Physics* (Landau, Páez, Bordeianu), Chapter 5.7 - 5.22\n",
    "\n",
    "These slides include material from  *Computational Physics. eTextBook Python 3rd Edition.* Copyright © 2012 Landau, Rubin, Páez. Used under the Creative-Commons Attribution-NonCommerical-ShareAlike 3.0 Unported License.\n"
   ]
  },
  {
   "cell_type": "markdown",
   "metadata": {
    "slideshow": {
     "slide_type": "slide"
    }
   },
   "source": [
    "## Integral as a Riemann sum\n",
    "Numerical integration (also called *quadrature*) is based on the [Riemann definition of an integral](http://mathworld.wolfram.com/RiemannIntegral.html)\n",
    "\n",
    "$$\n",
    "\\int_a^b \\!\\!\\!f(x)\\, dx :=\n",
    "   \\lim_{h\\rightarrow 0} \\left( h \\sum_{i=1}^{(b-a)/h} f(x_i) \\right)\n",
    "$$\n",
    "\n",
    "![Riemann sum. (Based on a figure © 2012 Landau, Páez, Bordeianu, used under CC-BY-NC-SA 3.0 license and licensed under the same](./images/CompPhys2012_Riemann.png)"
   ]
  },
  {
   "cell_type": "markdown",
   "metadata": {
    "slideshow": {
     "slide_type": "subslide"
    }
   },
   "source": [
    "## Basic integration algorithm\n",
    "\n",
    "$$\n",
    "I_h = h \\sum_{i=1}^{(b-a)/h} f(x_i) \\approx \\int_a^b f(x)\\, dx\n",
    "$$\n",
    "\n",
    "* sum rectangles of width $h$ and height $f(x_i)$\n",
    "* more advanced methods just refine this approach (except Monte Carlo... see later)\n",
    "* *remove singularities* before numerical integration!"
   ]
  },
  {
   "cell_type": "markdown",
   "metadata": {
    "slideshow": {
     "slide_type": "subslide"
    }
   },
   "source": [
    "##  Thinking about errors\n",
    "\n",
    "What factors will influence the total error?"
   ]
  },
  {
   "cell_type": "markdown",
   "metadata": {
    "slideshow": {
     "slide_type": "fragment"
    }
   },
   "source": [
    "* width $h$ of intervals determines number $M = (b - a)/h$ of summation steps\n",
    "* smaller $h$ will increase accuracy\n",
    "* larger $M$ will increase round-off error"
   ]
  },
  {
   "cell_type": "markdown",
   "metadata": {
    "slideshow": {
     "slide_type": "slide"
    }
   },
   "source": [
    "## Problem: Integrate $\\cos x$ over $-\\pi/2 \\leq x \\leq \\pi/2$\n",
    "\n",
    "**Write a function** `integrate_simple(f, a, b, N)` that computes the integral $\\int_a^b f(x) dx$ using the simple Riemann sum \n",
    "\n",
    "$$\n",
    "I_h = h \\sum_{i=1}^{(b-a)/h} f(x_i) \\quad\\text{with}\\quad h = \\frac{b-a}{N-1}.\n",
    "$$\n",
    "\n",
    "with $N$ points across the integration region $[a, b]$. Note: Each endpoint should only enter the sum with half its weight.\n",
    "\n",
    "**Apply your function** to $\\int_{-\\pi/2}^{\\pi/2} \\cos x dx$.\n",
    "\n",
    "**Compare to your analytical solution** for a range of $h$ values."
   ]
  },
  {
   "cell_type": "code",
   "execution_count": 3,
   "metadata": {
    "collapsed": false,
    "slideshow": {
     "slide_type": "subslide"
    }
   },
   "outputs": [],
   "source": [
    "def integrate_simple(f, a, b, N):\n",
    "    \"\"\"Integrate function `f` from `a` to `b` with `N` points.\"\"\"\n",
    "    # implement\n",
    "    \n",
    "# test: answer should be close to the analytical value ___\n",
    "integrate_simple(np.cos, -np.pi/2, np.pi/2, 100)"
   ]
  },
  {
   "cell_type": "markdown",
   "metadata": {
    "slideshow": {
     "slide_type": "fragment"
    }
   },
   "source": [
    "Additional Challenges\n",
    "1. Write the integration function without a single `for` loop but only use numpy array operations.\n",
    "2. Benchmark your implementations (pure Python vs numpy using `%timeit` in the notebook). Who is faster?\n",
    "3. Plot the integral $\\int_0^x \\cos t\\, dt$"
   ]
  },
  {
   "cell_type": "markdown",
   "metadata": {
    "slideshow": {
     "slide_type": "subslide"
    }
   },
   "source": [
    "### Pair Programming \n",
    "\n",
    "We will try a software engineering technique called [pair programming](http://guide.agilealliance.org/guide/pairing.html) (borrowed from agile/[extreme programming](http://www.extremeprogramming.org/))\n",
    "1. Split into teams of 2. (Be nice. Introduce yourselves.) \n",
    "2. Sit next to each other at one desk.\n",
    "3. Decide whose laptop you are going to use.\n",
    "4. [Flip a coin](https://www.random.org/coins/?num=1&cur=60-usd.0100c-washington) to decide who will start out as the *navigator* and who will be the *driver*.\n",
    "5. Roles:\n",
    "   - *driver*: keyboard & types\n",
    "   - *navigator* reads code, provides directions, catches bugs\n",
    "   - *Both* constantly talk to each other: comment on what you're typing, comment on what is being typed\n",
    "6. Switch roles every ~5 minutes"
   ]
  }
 ],
 "metadata": {
  "celltoolbar": "Slideshow",
  "kernelspec": {
   "display_name": "Python 3",
   "language": "python",
   "name": "python3"
  },
  "language_info": {
   "codemirror_mode": {
    "name": "ipython",
    "version": 3
   },
   "file_extension": ".py",
   "mimetype": "text/x-python",
   "name": "python",
   "nbconvert_exporter": "python",
   "pygments_lexer": "ipython3",
   "version": "3.5.1"
  }
 },
 "nbformat": 4,
 "nbformat_minor": 0
}
